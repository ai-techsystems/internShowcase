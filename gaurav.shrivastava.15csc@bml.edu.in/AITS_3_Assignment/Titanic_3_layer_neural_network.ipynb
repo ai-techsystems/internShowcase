{
 "cells": [
  {
   "cell_type": "code",
   "execution_count": 1,
   "metadata": {},
   "outputs": [],
   "source": [
    "# First we import the libraries \n",
    "import numpy as np\n",
    "import pandas as pd\n",
    "import matplotlib.pyplot as plt\n",
    "import warnings\n",
    "warnings.filterwarnings(\"ignore\")\n"
   ]
  },
  {
   "cell_type": "code",
   "execution_count": 2,
   "metadata": {},
   "outputs": [],
   "source": [
    "# Import the data\n",
    "train_data = pd.read_csv(r\"C:\\Users\\Gaurav\\Downloads\\TitanicDataset\\train.csv\")\n",
    "test_data = pd.read_csv(r\"C:\\Users\\Gaurav\\Downloads\\TitanicDataset\\test.csv\")\n",
    "result_data = pd.read_csv(r\"C:/Users/Gaurav/Downloads/TitanicDataset/test_result.csv\")"
   ]
  },
  {
   "cell_type": "code",
   "execution_count": 3,
   "metadata": {},
   "outputs": [
    {
     "data": {
      "text/html": [
       "<div>\n",
       "<style scoped>\n",
       "    .dataframe tbody tr th:only-of-type {\n",
       "        vertical-align: middle;\n",
       "    }\n",
       "\n",
       "    .dataframe tbody tr th {\n",
       "        vertical-align: top;\n",
       "    }\n",
       "\n",
       "    .dataframe thead th {\n",
       "        text-align: right;\n",
       "    }\n",
       "</style>\n",
       "<table border=\"1\" class=\"dataframe\">\n",
       "  <thead>\n",
       "    <tr style=\"text-align: right;\">\n",
       "      <th></th>\n",
       "      <th>PassengerId</th>\n",
       "      <th>Survived</th>\n",
       "      <th>Pclass</th>\n",
       "      <th>Name</th>\n",
       "      <th>Sex</th>\n",
       "      <th>Age</th>\n",
       "      <th>SibSp</th>\n",
       "      <th>Parch</th>\n",
       "      <th>Ticket</th>\n",
       "      <th>Fare</th>\n",
       "      <th>Cabin</th>\n",
       "      <th>Embarked</th>\n",
       "    </tr>\n",
       "  </thead>\n",
       "  <tbody>\n",
       "    <tr>\n",
       "      <th>0</th>\n",
       "      <td>1</td>\n",
       "      <td>0</td>\n",
       "      <td>3</td>\n",
       "      <td>Braund, Mr. Owen Harris</td>\n",
       "      <td>male</td>\n",
       "      <td>22.0</td>\n",
       "      <td>1</td>\n",
       "      <td>0</td>\n",
       "      <td>A/5 21171</td>\n",
       "      <td>7.2500</td>\n",
       "      <td>NaN</td>\n",
       "      <td>S</td>\n",
       "    </tr>\n",
       "    <tr>\n",
       "      <th>1</th>\n",
       "      <td>2</td>\n",
       "      <td>1</td>\n",
       "      <td>1</td>\n",
       "      <td>Cumings, Mrs. John Bradley (Florence Briggs Th...</td>\n",
       "      <td>female</td>\n",
       "      <td>38.0</td>\n",
       "      <td>1</td>\n",
       "      <td>0</td>\n",
       "      <td>PC 17599</td>\n",
       "      <td>71.2833</td>\n",
       "      <td>C85</td>\n",
       "      <td>C</td>\n",
       "    </tr>\n",
       "    <tr>\n",
       "      <th>2</th>\n",
       "      <td>3</td>\n",
       "      <td>1</td>\n",
       "      <td>3</td>\n",
       "      <td>Heikkinen, Miss. Laina</td>\n",
       "      <td>female</td>\n",
       "      <td>26.0</td>\n",
       "      <td>0</td>\n",
       "      <td>0</td>\n",
       "      <td>STON/O2. 3101282</td>\n",
       "      <td>7.9250</td>\n",
       "      <td>NaN</td>\n",
       "      <td>S</td>\n",
       "    </tr>\n",
       "    <tr>\n",
       "      <th>3</th>\n",
       "      <td>4</td>\n",
       "      <td>1</td>\n",
       "      <td>1</td>\n",
       "      <td>Futrelle, Mrs. Jacques Heath (Lily May Peel)</td>\n",
       "      <td>female</td>\n",
       "      <td>35.0</td>\n",
       "      <td>1</td>\n",
       "      <td>0</td>\n",
       "      <td>113803</td>\n",
       "      <td>53.1000</td>\n",
       "      <td>C123</td>\n",
       "      <td>S</td>\n",
       "    </tr>\n",
       "    <tr>\n",
       "      <th>4</th>\n",
       "      <td>5</td>\n",
       "      <td>0</td>\n",
       "      <td>3</td>\n",
       "      <td>Allen, Mr. William Henry</td>\n",
       "      <td>male</td>\n",
       "      <td>35.0</td>\n",
       "      <td>0</td>\n",
       "      <td>0</td>\n",
       "      <td>373450</td>\n",
       "      <td>8.0500</td>\n",
       "      <td>NaN</td>\n",
       "      <td>S</td>\n",
       "    </tr>\n",
       "  </tbody>\n",
       "</table>\n",
       "</div>"
      ],
      "text/plain": [
       "   PassengerId  Survived  Pclass  \\\n",
       "0            1         0       3   \n",
       "1            2         1       1   \n",
       "2            3         1       3   \n",
       "3            4         1       1   \n",
       "4            5         0       3   \n",
       "\n",
       "                                                Name     Sex   Age  SibSp  \\\n",
       "0                            Braund, Mr. Owen Harris    male  22.0      1   \n",
       "1  Cumings, Mrs. John Bradley (Florence Briggs Th...  female  38.0      1   \n",
       "2                             Heikkinen, Miss. Laina  female  26.0      0   \n",
       "3       Futrelle, Mrs. Jacques Heath (Lily May Peel)  female  35.0      1   \n",
       "4                           Allen, Mr. William Henry    male  35.0      0   \n",
       "\n",
       "   Parch            Ticket     Fare Cabin Embarked  \n",
       "0      0         A/5 21171   7.2500   NaN        S  \n",
       "1      0          PC 17599  71.2833   C85        C  \n",
       "2      0  STON/O2. 3101282   7.9250   NaN        S  \n",
       "3      0            113803  53.1000  C123        S  \n",
       "4      0            373450   8.0500   NaN        S  "
      ]
     },
     "execution_count": 3,
     "metadata": {},
     "output_type": "execute_result"
    }
   ],
   "source": [
    "train_data.head()"
   ]
  },
  {
   "cell_type": "code",
   "execution_count": 4,
   "metadata": {},
   "outputs": [],
   "source": [
    "Y= train_data[\"Survived\"]"
   ]
  },
  {
   "cell_type": "markdown",
   "metadata": {},
   "source": [
    "# Data Preprocssing"
   ]
  },
  {
   "cell_type": "code",
   "execution_count": 5,
   "metadata": {},
   "outputs": [],
   "source": [
    "# What information do we need to find who will survive\n",
    "x_train = train_data[[\"Pclass\",\"Sex\",\"Age\",\"Fare\",\"Embarked\"]]"
   ]
  },
  {
   "cell_type": "code",
   "execution_count": 6,
   "metadata": {},
   "outputs": [
    {
     "data": {
      "text/html": [
       "<div>\n",
       "<style scoped>\n",
       "    .dataframe tbody tr th:only-of-type {\n",
       "        vertical-align: middle;\n",
       "    }\n",
       "\n",
       "    .dataframe tbody tr th {\n",
       "        vertical-align: top;\n",
       "    }\n",
       "\n",
       "    .dataframe thead th {\n",
       "        text-align: right;\n",
       "    }\n",
       "</style>\n",
       "<table border=\"1\" class=\"dataframe\">\n",
       "  <thead>\n",
       "    <tr style=\"text-align: right;\">\n",
       "      <th></th>\n",
       "      <th>Pclass</th>\n",
       "      <th>Sex</th>\n",
       "      <th>Age</th>\n",
       "      <th>Fare</th>\n",
       "      <th>Embarked</th>\n",
       "    </tr>\n",
       "  </thead>\n",
       "  <tbody>\n",
       "    <tr>\n",
       "      <th>0</th>\n",
       "      <td>3</td>\n",
       "      <td>male</td>\n",
       "      <td>34.5</td>\n",
       "      <td>7.8292</td>\n",
       "      <td>Q</td>\n",
       "    </tr>\n",
       "    <tr>\n",
       "      <th>1</th>\n",
       "      <td>3</td>\n",
       "      <td>female</td>\n",
       "      <td>47.0</td>\n",
       "      <td>7.0000</td>\n",
       "      <td>S</td>\n",
       "    </tr>\n",
       "    <tr>\n",
       "      <th>2</th>\n",
       "      <td>2</td>\n",
       "      <td>male</td>\n",
       "      <td>62.0</td>\n",
       "      <td>9.6875</td>\n",
       "      <td>Q</td>\n",
       "    </tr>\n",
       "    <tr>\n",
       "      <th>3</th>\n",
       "      <td>3</td>\n",
       "      <td>male</td>\n",
       "      <td>27.0</td>\n",
       "      <td>8.6625</td>\n",
       "      <td>S</td>\n",
       "    </tr>\n",
       "    <tr>\n",
       "      <th>4</th>\n",
       "      <td>3</td>\n",
       "      <td>female</td>\n",
       "      <td>22.0</td>\n",
       "      <td>12.2875</td>\n",
       "      <td>S</td>\n",
       "    </tr>\n",
       "  </tbody>\n",
       "</table>\n",
       "</div>"
      ],
      "text/plain": [
       "   Pclass     Sex   Age     Fare Embarked\n",
       "0       3    male  34.5   7.8292        Q\n",
       "1       3  female  47.0   7.0000        S\n",
       "2       2    male  62.0   9.6875        Q\n",
       "3       3    male  27.0   8.6625        S\n",
       "4       3  female  22.0  12.2875        S"
      ]
     },
     "execution_count": 6,
     "metadata": {},
     "output_type": "execute_result"
    }
   ],
   "source": [
    "x_test = test_data[[\"Pclass\",\"Sex\",\"Age\",\"Fare\",\"Embarked\"]]\n",
    "x_test.head()"
   ]
  },
  {
   "cell_type": "code",
   "execution_count": 7,
   "metadata": {},
   "outputs": [
    {
     "data": {
      "text/html": [
       "<div>\n",
       "<style scoped>\n",
       "    .dataframe tbody tr th:only-of-type {\n",
       "        vertical-align: middle;\n",
       "    }\n",
       "\n",
       "    .dataframe tbody tr th {\n",
       "        vertical-align: top;\n",
       "    }\n",
       "\n",
       "    .dataframe thead th {\n",
       "        text-align: right;\n",
       "    }\n",
       "</style>\n",
       "<table border=\"1\" class=\"dataframe\">\n",
       "  <thead>\n",
       "    <tr style=\"text-align: right;\">\n",
       "      <th></th>\n",
       "      <th>Pclass</th>\n",
       "      <th>Sex</th>\n",
       "      <th>Age</th>\n",
       "      <th>Fare</th>\n",
       "      <th>Embarked</th>\n",
       "    </tr>\n",
       "  </thead>\n",
       "  <tbody>\n",
       "    <tr>\n",
       "      <th>0</th>\n",
       "      <td>3</td>\n",
       "      <td>male</td>\n",
       "      <td>22.0</td>\n",
       "      <td>7.2500</td>\n",
       "      <td>S</td>\n",
       "    </tr>\n",
       "    <tr>\n",
       "      <th>1</th>\n",
       "      <td>1</td>\n",
       "      <td>female</td>\n",
       "      <td>38.0</td>\n",
       "      <td>71.2833</td>\n",
       "      <td>C</td>\n",
       "    </tr>\n",
       "    <tr>\n",
       "      <th>2</th>\n",
       "      <td>3</td>\n",
       "      <td>female</td>\n",
       "      <td>26.0</td>\n",
       "      <td>7.9250</td>\n",
       "      <td>S</td>\n",
       "    </tr>\n",
       "    <tr>\n",
       "      <th>3</th>\n",
       "      <td>1</td>\n",
       "      <td>female</td>\n",
       "      <td>35.0</td>\n",
       "      <td>53.1000</td>\n",
       "      <td>S</td>\n",
       "    </tr>\n",
       "    <tr>\n",
       "      <th>4</th>\n",
       "      <td>3</td>\n",
       "      <td>male</td>\n",
       "      <td>35.0</td>\n",
       "      <td>8.0500</td>\n",
       "      <td>S</td>\n",
       "    </tr>\n",
       "  </tbody>\n",
       "</table>\n",
       "</div>"
      ],
      "text/plain": [
       "   Pclass     Sex   Age     Fare Embarked\n",
       "0       3    male  22.0   7.2500        S\n",
       "1       1  female  38.0  71.2833        C\n",
       "2       3  female  26.0   7.9250        S\n",
       "3       1  female  35.0  53.1000        S\n",
       "4       3    male  35.0   8.0500        S"
      ]
     },
     "execution_count": 7,
     "metadata": {},
     "output_type": "execute_result"
    }
   ],
   "source": [
    "x_train.head()"
   ]
  },
  {
   "cell_type": "code",
   "execution_count": 8,
   "metadata": {},
   "outputs": [
    {
     "data": {
      "text/plain": [
       "0"
      ]
     },
     "execution_count": 8,
     "metadata": {},
     "output_type": "execute_result"
    }
   ],
   "source": [
    "x_train[\"Sex\"].isnull().sum()"
   ]
  },
  {
   "cell_type": "code",
   "execution_count": 9,
   "metadata": {},
   "outputs": [
    {
     "data": {
      "text/plain": [
       "0"
      ]
     },
     "execution_count": 9,
     "metadata": {},
     "output_type": "execute_result"
    }
   ],
   "source": [
    "x_test[\"Sex\"].isnull().sum()"
   ]
  },
  {
   "cell_type": "code",
   "execution_count": 10,
   "metadata": {},
   "outputs": [
    {
     "data": {
      "text/plain": [
       "177"
      ]
     },
     "execution_count": 10,
     "metadata": {},
     "output_type": "execute_result"
    }
   ],
   "source": [
    "x_train[\"Age\"].isnull().sum() # Now we have missing so inorder to fill the place we just need to take averagevalue"
   ]
  },
  {
   "cell_type": "code",
   "execution_count": 11,
   "metadata": {},
   "outputs": [
    {
     "data": {
      "text/plain": [
       "86"
      ]
     },
     "execution_count": 11,
     "metadata": {},
     "output_type": "execute_result"
    }
   ],
   "source": [
    "x_test[\"Age\"].isnull().sum()"
   ]
  },
  {
   "cell_type": "code",
   "execution_count": 12,
   "metadata": {},
   "outputs": [],
   "source": [
    "x_train['Age'] = x_train['Age'].fillna(x_train.Age.median())\n",
    "x_test[\"Age\"]= x_test[\"Age\"].fillna(x_test[\"Age\"].median())"
   ]
  },
  {
   "cell_type": "code",
   "execution_count": 13,
   "metadata": {},
   "outputs": [
    {
     "data": {
      "text/plain": [
       "0"
      ]
     },
     "execution_count": 13,
     "metadata": {},
     "output_type": "execute_result"
    }
   ],
   "source": [
    "x_test[\"Age\"].isnull().sum()"
   ]
  },
  {
   "cell_type": "code",
   "execution_count": 14,
   "metadata": {},
   "outputs": [
    {
     "data": {
      "text/plain": [
       "0"
      ]
     },
     "execution_count": 14,
     "metadata": {},
     "output_type": "execute_result"
    }
   ],
   "source": [
    "x_train[\"Age\"].isnull().sum()"
   ]
  },
  {
   "cell_type": "code",
   "execution_count": 15,
   "metadata": {},
   "outputs": [
    {
     "data": {
      "text/plain": [
       "0"
      ]
     },
     "execution_count": 15,
     "metadata": {},
     "output_type": "execute_result"
    }
   ],
   "source": [
    "x_train[\"Fare\"].isnull().sum()"
   ]
  },
  {
   "cell_type": "code",
   "execution_count": 16,
   "metadata": {},
   "outputs": [
    {
     "data": {
      "text/plain": [
       "1"
      ]
     },
     "execution_count": 16,
     "metadata": {},
     "output_type": "execute_result"
    }
   ],
   "source": [
    "x_test[\"Fare\"].isnull().sum()"
   ]
  },
  {
   "cell_type": "code",
   "execution_count": 17,
   "metadata": {},
   "outputs": [],
   "source": [
    "x_test['Fare'] = x_test['Fare'].fillna(x_test.Fare.median())"
   ]
  },
  {
   "cell_type": "code",
   "execution_count": 18,
   "metadata": {},
   "outputs": [
    {
     "data": {
      "text/plain": [
       "0"
      ]
     },
     "execution_count": 18,
     "metadata": {},
     "output_type": "execute_result"
    }
   ],
   "source": [
    "x_test[\"Fare\"].isnull().sum()"
   ]
  },
  {
   "cell_type": "code",
   "execution_count": 19,
   "metadata": {},
   "outputs": [
    {
     "data": {
      "text/plain": [
       "0"
      ]
     },
     "execution_count": 19,
     "metadata": {},
     "output_type": "execute_result"
    }
   ],
   "source": [
    "x_train[\"Pclass\"].isnull().sum()"
   ]
  },
  {
   "cell_type": "code",
   "execution_count": 20,
   "metadata": {},
   "outputs": [
    {
     "data": {
      "text/plain": [
       "0"
      ]
     },
     "execution_count": 20,
     "metadata": {},
     "output_type": "execute_result"
    }
   ],
   "source": [
    "x_test[\"Pclass\"].isnull().sum()"
   ]
  },
  {
   "cell_type": "code",
   "execution_count": 21,
   "metadata": {},
   "outputs": [
    {
     "data": {
      "text/plain": [
       "0"
      ]
     },
     "execution_count": 21,
     "metadata": {},
     "output_type": "execute_result"
    }
   ],
   "source": [
    "x_test[\"Embarked\"].isnull().sum()"
   ]
  },
  {
   "cell_type": "code",
   "execution_count": 22,
   "metadata": {},
   "outputs": [
    {
     "data": {
      "text/plain": [
       "2"
      ]
     },
     "execution_count": 22,
     "metadata": {},
     "output_type": "execute_result"
    }
   ],
   "source": [
    "x_train[\"Embarked\"].isnull().sum()"
   ]
  },
  {
   "cell_type": "code",
   "execution_count": 23,
   "metadata": {},
   "outputs": [],
   "source": [
    "x_train['Embarked'] = x_train['Embarked'].fillna('S') # Because s is comman values"
   ]
  },
  {
   "cell_type": "code",
   "execution_count": 24,
   "metadata": {},
   "outputs": [
    {
     "data": {
      "text/html": [
       "<div>\n",
       "<style scoped>\n",
       "    .dataframe tbody tr th:only-of-type {\n",
       "        vertical-align: middle;\n",
       "    }\n",
       "\n",
       "    .dataframe tbody tr th {\n",
       "        vertical-align: top;\n",
       "    }\n",
       "\n",
       "    .dataframe thead th {\n",
       "        text-align: right;\n",
       "    }\n",
       "</style>\n",
       "<table border=\"1\" class=\"dataframe\">\n",
       "  <thead>\n",
       "    <tr style=\"text-align: right;\">\n",
       "      <th></th>\n",
       "      <th>Pclass</th>\n",
       "      <th>Sex</th>\n",
       "      <th>Age</th>\n",
       "      <th>Fare</th>\n",
       "      <th>Embarked</th>\n",
       "    </tr>\n",
       "  </thead>\n",
       "  <tbody>\n",
       "    <tr>\n",
       "      <th>0</th>\n",
       "      <td>3</td>\n",
       "      <td>male</td>\n",
       "      <td>34.5</td>\n",
       "      <td>7.8292</td>\n",
       "      <td>Q</td>\n",
       "    </tr>\n",
       "    <tr>\n",
       "      <th>1</th>\n",
       "      <td>3</td>\n",
       "      <td>female</td>\n",
       "      <td>47.0</td>\n",
       "      <td>7.0000</td>\n",
       "      <td>S</td>\n",
       "    </tr>\n",
       "    <tr>\n",
       "      <th>2</th>\n",
       "      <td>2</td>\n",
       "      <td>male</td>\n",
       "      <td>62.0</td>\n",
       "      <td>9.6875</td>\n",
       "      <td>Q</td>\n",
       "    </tr>\n",
       "    <tr>\n",
       "      <th>3</th>\n",
       "      <td>3</td>\n",
       "      <td>male</td>\n",
       "      <td>27.0</td>\n",
       "      <td>8.6625</td>\n",
       "      <td>S</td>\n",
       "    </tr>\n",
       "    <tr>\n",
       "      <th>4</th>\n",
       "      <td>3</td>\n",
       "      <td>female</td>\n",
       "      <td>22.0</td>\n",
       "      <td>12.2875</td>\n",
       "      <td>S</td>\n",
       "    </tr>\n",
       "  </tbody>\n",
       "</table>\n",
       "</div>"
      ],
      "text/plain": [
       "   Pclass     Sex   Age     Fare Embarked\n",
       "0       3    male  34.5   7.8292        Q\n",
       "1       3  female  47.0   7.0000        S\n",
       "2       2    male  62.0   9.6875        Q\n",
       "3       3    male  27.0   8.6625        S\n",
       "4       3  female  22.0  12.2875        S"
      ]
     },
     "execution_count": 24,
     "metadata": {},
     "output_type": "execute_result"
    }
   ],
   "source": [
    "x_test.head()"
   ]
  },
  {
   "cell_type": "code",
   "execution_count": 25,
   "metadata": {},
   "outputs": [
    {
     "data": {
      "text/html": [
       "<div>\n",
       "<style scoped>\n",
       "    .dataframe tbody tr th:only-of-type {\n",
       "        vertical-align: middle;\n",
       "    }\n",
       "\n",
       "    .dataframe tbody tr th {\n",
       "        vertical-align: top;\n",
       "    }\n",
       "\n",
       "    .dataframe thead th {\n",
       "        text-align: right;\n",
       "    }\n",
       "</style>\n",
       "<table border=\"1\" class=\"dataframe\">\n",
       "  <thead>\n",
       "    <tr style=\"text-align: right;\">\n",
       "      <th></th>\n",
       "      <th>Pclass</th>\n",
       "      <th>Sex</th>\n",
       "      <th>Age</th>\n",
       "      <th>Fare</th>\n",
       "      <th>Embarked</th>\n",
       "    </tr>\n",
       "  </thead>\n",
       "  <tbody>\n",
       "    <tr>\n",
       "      <th>0</th>\n",
       "      <td>3</td>\n",
       "      <td>male</td>\n",
       "      <td>22.0</td>\n",
       "      <td>7.2500</td>\n",
       "      <td>S</td>\n",
       "    </tr>\n",
       "    <tr>\n",
       "      <th>1</th>\n",
       "      <td>1</td>\n",
       "      <td>female</td>\n",
       "      <td>38.0</td>\n",
       "      <td>71.2833</td>\n",
       "      <td>C</td>\n",
       "    </tr>\n",
       "    <tr>\n",
       "      <th>2</th>\n",
       "      <td>3</td>\n",
       "      <td>female</td>\n",
       "      <td>26.0</td>\n",
       "      <td>7.9250</td>\n",
       "      <td>S</td>\n",
       "    </tr>\n",
       "    <tr>\n",
       "      <th>3</th>\n",
       "      <td>1</td>\n",
       "      <td>female</td>\n",
       "      <td>35.0</td>\n",
       "      <td>53.1000</td>\n",
       "      <td>S</td>\n",
       "    </tr>\n",
       "    <tr>\n",
       "      <th>4</th>\n",
       "      <td>3</td>\n",
       "      <td>male</td>\n",
       "      <td>35.0</td>\n",
       "      <td>8.0500</td>\n",
       "      <td>S</td>\n",
       "    </tr>\n",
       "  </tbody>\n",
       "</table>\n",
       "</div>"
      ],
      "text/plain": [
       "   Pclass     Sex   Age     Fare Embarked\n",
       "0       3    male  22.0   7.2500        S\n",
       "1       1  female  38.0  71.2833        C\n",
       "2       3  female  26.0   7.9250        S\n",
       "3       1  female  35.0  53.1000        S\n",
       "4       3    male  35.0   8.0500        S"
      ]
     },
     "execution_count": 25,
     "metadata": {},
     "output_type": "execute_result"
    }
   ],
   "source": [
    "#So there is no remaining missing values.\n",
    "x_train.head()"
   ]
  },
  {
   "cell_type": "code",
   "execution_count": 26,
   "metadata": {},
   "outputs": [],
   "source": [
    "#Now we are seeing that there are categorial variable so in order to train we need to changethem into integer values.\n",
    "d = {'male':0,'female':1}\n",
    "x_train[\"Sex\"]= x_train[\"Sex\"].apply(lambda x:d[x])\n",
    "x_test[\"Sex\"]= x_test[\"Sex\"].apply(lambda x:d[x])\n"
   ]
  },
  {
   "cell_type": "code",
   "execution_count": 27,
   "metadata": {},
   "outputs": [],
   "source": [
    "d = {'S':0,'C':1,'Q':2}\n",
    "x_train[\"Embarked\"]= x_train[\"Embarked\"].apply(lambda x:d[x])\n",
    "x_test[\"Embarked\"]= x_test[\"Embarked\"].apply(lambda x:d[x])"
   ]
  },
  {
   "cell_type": "code",
   "execution_count": 43,
   "metadata": {},
   "outputs": [
    {
     "data": {
      "text/html": [
       "<div>\n",
       "<style scoped>\n",
       "    .dataframe tbody tr th:only-of-type {\n",
       "        vertical-align: middle;\n",
       "    }\n",
       "\n",
       "    .dataframe tbody tr th {\n",
       "        vertical-align: top;\n",
       "    }\n",
       "\n",
       "    .dataframe thead th {\n",
       "        text-align: right;\n",
       "    }\n",
       "</style>\n",
       "<table border=\"1\" class=\"dataframe\">\n",
       "  <thead>\n",
       "    <tr style=\"text-align: right;\">\n",
       "      <th></th>\n",
       "      <th>Pclass</th>\n",
       "      <th>Sex</th>\n",
       "      <th>Age</th>\n",
       "      <th>Fare</th>\n",
       "      <th>Embarked</th>\n",
       "    </tr>\n",
       "  </thead>\n",
       "  <tbody>\n",
       "    <tr>\n",
       "      <th>0</th>\n",
       "      <td>3</td>\n",
       "      <td>0</td>\n",
       "      <td>0</td>\n",
       "      <td>0</td>\n",
       "      <td>0</td>\n",
       "    </tr>\n",
       "    <tr>\n",
       "      <th>1</th>\n",
       "      <td>1</td>\n",
       "      <td>1</td>\n",
       "      <td>3</td>\n",
       "      <td>3</td>\n",
       "      <td>1</td>\n",
       "    </tr>\n",
       "    <tr>\n",
       "      <th>2</th>\n",
       "      <td>3</td>\n",
       "      <td>1</td>\n",
       "      <td>1</td>\n",
       "      <td>1</td>\n",
       "      <td>0</td>\n",
       "    </tr>\n",
       "    <tr>\n",
       "      <th>3</th>\n",
       "      <td>1</td>\n",
       "      <td>1</td>\n",
       "      <td>2</td>\n",
       "      <td>3</td>\n",
       "      <td>0</td>\n",
       "    </tr>\n",
       "    <tr>\n",
       "      <th>4</th>\n",
       "      <td>3</td>\n",
       "      <td>0</td>\n",
       "      <td>2</td>\n",
       "      <td>1</td>\n",
       "      <td>0</td>\n",
       "    </tr>\n",
       "  </tbody>\n",
       "</table>\n",
       "</div>"
      ],
      "text/plain": [
       "   Pclass  Sex  Age  Fare  Embarked\n",
       "0       3    0    0     0         0\n",
       "1       1    1    3     3         1\n",
       "2       3    1    1     1         0\n",
       "3       1    1    2     3         0\n",
       "4       3    0    2     1         0"
      ]
     },
     "execution_count": 43,
     "metadata": {},
     "output_type": "execute_result"
    }
   ],
   "source": [
    "# Binning numerical columns\n",
    "x_train['Age'] = pd.qcut(x_train.Age, q=4, labels=False )\n",
    "x_train['Fare']= pd.qcut(x_train.Fare, q=4, labels=False)\n",
    "x_train.head()"
   ]
  },
  {
   "cell_type": "code",
   "execution_count": 44,
   "metadata": {},
   "outputs": [
    {
     "data": {
      "text/html": [
       "<div>\n",
       "<style scoped>\n",
       "    .dataframe tbody tr th:only-of-type {\n",
       "        vertical-align: middle;\n",
       "    }\n",
       "\n",
       "    .dataframe tbody tr th {\n",
       "        vertical-align: top;\n",
       "    }\n",
       "\n",
       "    .dataframe thead th {\n",
       "        text-align: right;\n",
       "    }\n",
       "</style>\n",
       "<table border=\"1\" class=\"dataframe\">\n",
       "  <thead>\n",
       "    <tr style=\"text-align: right;\">\n",
       "      <th></th>\n",
       "      <th>Pclass</th>\n",
       "      <th>Sex</th>\n",
       "      <th>Age</th>\n",
       "      <th>Fare</th>\n",
       "      <th>Embarked</th>\n",
       "    </tr>\n",
       "  </thead>\n",
       "  <tbody>\n",
       "    <tr>\n",
       "      <th>0</th>\n",
       "      <td>3</td>\n",
       "      <td>0</td>\n",
       "      <td>0</td>\n",
       "      <td>0</td>\n",
       "      <td>0</td>\n",
       "    </tr>\n",
       "    <tr>\n",
       "      <th>1</th>\n",
       "      <td>1</td>\n",
       "      <td>1</td>\n",
       "      <td>3</td>\n",
       "      <td>3</td>\n",
       "      <td>1</td>\n",
       "    </tr>\n",
       "    <tr>\n",
       "      <th>2</th>\n",
       "      <td>3</td>\n",
       "      <td>1</td>\n",
       "      <td>1</td>\n",
       "      <td>1</td>\n",
       "      <td>0</td>\n",
       "    </tr>\n",
       "    <tr>\n",
       "      <th>3</th>\n",
       "      <td>1</td>\n",
       "      <td>1</td>\n",
       "      <td>2</td>\n",
       "      <td>3</td>\n",
       "      <td>0</td>\n",
       "    </tr>\n",
       "    <tr>\n",
       "      <th>4</th>\n",
       "      <td>3</td>\n",
       "      <td>0</td>\n",
       "      <td>2</td>\n",
       "      <td>1</td>\n",
       "      <td>0</td>\n",
       "    </tr>\n",
       "  </tbody>\n",
       "</table>\n",
       "</div>"
      ],
      "text/plain": [
       "   Pclass  Sex  Age  Fare  Embarked\n",
       "0       3    0    0     0         0\n",
       "1       1    1    3     3         1\n",
       "2       3    1    1     1         0\n",
       "3       1    1    2     3         0\n",
       "4       3    0    2     1         0"
      ]
     },
     "execution_count": 44,
     "metadata": {},
     "output_type": "execute_result"
    }
   ],
   "source": [
    "x_train.head()"
   ]
  },
  {
   "cell_type": "code",
   "execution_count": 45,
   "metadata": {},
   "outputs": [
    {
     "data": {
      "text/html": [
       "<div>\n",
       "<style scoped>\n",
       "    .dataframe tbody tr th:only-of-type {\n",
       "        vertical-align: middle;\n",
       "    }\n",
       "\n",
       "    .dataframe tbody tr th {\n",
       "        vertical-align: top;\n",
       "    }\n",
       "\n",
       "    .dataframe thead th {\n",
       "        text-align: right;\n",
       "    }\n",
       "</style>\n",
       "<table border=\"1\" class=\"dataframe\">\n",
       "  <thead>\n",
       "    <tr style=\"text-align: right;\">\n",
       "      <th></th>\n",
       "      <th>Pclass</th>\n",
       "      <th>Sex</th>\n",
       "      <th>Age</th>\n",
       "      <th>Fare</th>\n",
       "      <th>Embarked</th>\n",
       "    </tr>\n",
       "  </thead>\n",
       "  <tbody>\n",
       "    <tr>\n",
       "      <th>0</th>\n",
       "      <td>3</td>\n",
       "      <td>0</td>\n",
       "      <td>34.5</td>\n",
       "      <td>7.8292</td>\n",
       "      <td>2</td>\n",
       "    </tr>\n",
       "    <tr>\n",
       "      <th>1</th>\n",
       "      <td>3</td>\n",
       "      <td>1</td>\n",
       "      <td>47.0</td>\n",
       "      <td>7.0000</td>\n",
       "      <td>0</td>\n",
       "    </tr>\n",
       "    <tr>\n",
       "      <th>2</th>\n",
       "      <td>2</td>\n",
       "      <td>0</td>\n",
       "      <td>62.0</td>\n",
       "      <td>9.6875</td>\n",
       "      <td>2</td>\n",
       "    </tr>\n",
       "    <tr>\n",
       "      <th>3</th>\n",
       "      <td>3</td>\n",
       "      <td>0</td>\n",
       "      <td>27.0</td>\n",
       "      <td>8.6625</td>\n",
       "      <td>0</td>\n",
       "    </tr>\n",
       "    <tr>\n",
       "      <th>4</th>\n",
       "      <td>3</td>\n",
       "      <td>1</td>\n",
       "      <td>22.0</td>\n",
       "      <td>12.2875</td>\n",
       "      <td>0</td>\n",
       "    </tr>\n",
       "  </tbody>\n",
       "</table>\n",
       "</div>"
      ],
      "text/plain": [
       "   Pclass  Sex   Age     Fare  Embarked\n",
       "0       3    0  34.5   7.8292         2\n",
       "1       3    1  47.0   7.0000         0\n",
       "2       2    0  62.0   9.6875         2\n",
       "3       3    0  27.0   8.6625         0\n",
       "4       3    1  22.0  12.2875         0"
      ]
     },
     "execution_count": 45,
     "metadata": {},
     "output_type": "execute_result"
    }
   ],
   "source": [
    "x_test.head()"
   ]
  },
  {
   "cell_type": "markdown",
   "metadata": {},
   "source": [
    "# Building the model"
   ]
  },
  {
   "cell_type": "code",
   "execution_count": 46,
   "metadata": {},
   "outputs": [],
   "source": [
    "# Now we need to train this model\n",
    "#our model is 3 neural network\n",
    "import keras\n",
    "from keras.models import Sequential\n",
    "from keras.layers import Dense"
   ]
  },
  {
   "cell_type": "code",
   "execution_count": 47,
   "metadata": {},
   "outputs": [],
   "source": [
    "classifier = Sequential()"
   ]
  },
  {
   "cell_type": "code",
   "execution_count": 48,
   "metadata": {},
   "outputs": [],
   "source": [
    "classifier.add(Dense(output_dim = 3, init = 'uniform', activation = 'relu', input_dim = 5))\n",
    "#Hidden layer\n",
    "classifier.add(Dense(output_dim = 2, init = 'uniform', activation = 'relu'))\n",
    "#output layer with 1 output neuron which will predict 1 or 0\n",
    "classifier.add(Dense(output_dim = 1, init = 'uniform', activation = 'sigmoid'))"
   ]
  },
  {
   "cell_type": "code",
   "execution_count": 49,
   "metadata": {},
   "outputs": [],
   "source": [
    "classifier.compile(optimizer = 'adam', loss = 'binary_crossentropy', metrics = ['accuracy'])"
   ]
  },
  {
   "cell_type": "code",
   "execution_count": 50,
   "metadata": {},
   "outputs": [
    {
     "name": "stdout",
     "output_type": "stream",
     "text": [
      "Epoch 1/100\n",
      "891/891 [==============================] - 0s 265us/step - loss: 0.6905 - acc: 0.6117\n",
      "Epoch 2/100\n",
      "891/891 [==============================] - 0s 66us/step - loss: 0.6857 - acc: 0.6162\n",
      "Epoch 3/100\n",
      "891/891 [==============================] - 0s 67us/step - loss: 0.6808 - acc: 0.6162\n",
      "Epoch 4/100\n",
      "891/891 [==============================] - 0s 64us/step - loss: 0.6652 - acc: 0.6790\n",
      "Epoch 5/100\n",
      "891/891 [==============================] - 0s 68us/step - loss: 0.6301 - acc: 0.7834\n",
      "Epoch 6/100\n",
      "891/891 [==============================] - 0s 64us/step - loss: 0.5968 - acc: 0.7823\n",
      "Epoch 7/100\n",
      "891/891 [==============================] - 0s 66us/step - loss: 0.5746 - acc: 0.7800\n",
      "Epoch 8/100\n",
      "891/891 [==============================] - 0s 64us/step - loss: 0.5589 - acc: 0.7845\n",
      "Epoch 9/100\n",
      "891/891 [==============================] - 0s 67us/step - loss: 0.5452 - acc: 0.7834\n",
      "Epoch 10/100\n",
      "891/891 [==============================] - 0s 63us/step - loss: 0.5337 - acc: 0.7823\n",
      "Epoch 11/100\n",
      "891/891 [==============================] - 0s 69us/step - loss: 0.5237 - acc: 0.7868\n",
      "Epoch 12/100\n",
      "891/891 [==============================] - ETA: 0s - loss: 0.5172 - acc: 0.783 - 0s 73us/step - loss: 0.5149 - acc: 0.7845\n",
      "Epoch 13/100\n",
      "891/891 [==============================] - 0s 74us/step - loss: 0.5064 - acc: 0.7856\n",
      "Epoch 14/100\n",
      "891/891 [==============================] - 0s 66us/step - loss: 0.4989 - acc: 0.7834\n",
      "Epoch 15/100\n",
      "891/891 [==============================] - 0s 66us/step - loss: 0.4922 - acc: 0.7879\n",
      "Epoch 16/100\n",
      "891/891 [==============================] - 0s 67us/step - loss: 0.4863 - acc: 0.7901\n",
      "Epoch 17/100\n",
      "891/891 [==============================] - 0s 64us/step - loss: 0.4810 - acc: 0.7935\n",
      "Epoch 18/100\n",
      "891/891 [==============================] - 0s 66us/step - loss: 0.4762 - acc: 0.7890\n",
      "Epoch 19/100\n",
      "891/891 [==============================] - 0s 66us/step - loss: 0.4716 - acc: 0.7924\n",
      "Epoch 20/100\n",
      "891/891 [==============================] - 0s 64us/step - loss: 0.4675 - acc: 0.7868\n",
      "Epoch 21/100\n",
      "891/891 [==============================] - 0s 64us/step - loss: 0.4638 - acc: 0.7924\n",
      "Epoch 22/100\n",
      "891/891 [==============================] - 0s 65us/step - loss: 0.4604 - acc: 0.7935\n",
      "Epoch 23/100\n",
      "891/891 [==============================] - 0s 64us/step - loss: 0.4579 - acc: 0.7946\n",
      "Epoch 24/100\n",
      "891/891 [==============================] - 0s 66us/step - loss: 0.4553 - acc: 0.7957\n",
      "Epoch 25/100\n",
      "891/891 [==============================] - 0s 64us/step - loss: 0.4527 - acc: 0.7946\n",
      "Epoch 26/100\n",
      "891/891 [==============================] - 0s 66us/step - loss: 0.4505 - acc: 0.7969\n",
      "Epoch 27/100\n",
      "891/891 [==============================] - 0s 65us/step - loss: 0.4485 - acc: 0.7924\n",
      "Epoch 28/100\n",
      "891/891 [==============================] - 0s 73us/step - loss: 0.4468 - acc: 0.7912\n",
      "Epoch 29/100\n",
      "891/891 [==============================] - 0s 67us/step - loss: 0.4450 - acc: 0.8002\n",
      "Epoch 30/100\n",
      "891/891 [==============================] - 0s 69us/step - loss: 0.4435 - acc: 0.7946\n",
      "Epoch 31/100\n",
      "891/891 [==============================] - 0s 71us/step - loss: 0.4425 - acc: 0.7980: 0s - loss: 0.4395 - acc: 0.804\n",
      "Epoch 32/100\n",
      "891/891 [==============================] - 0s 68us/step - loss: 0.4412 - acc: 0.7969\n",
      "Epoch 33/100\n",
      "891/891 [==============================] - 0s 71us/step - loss: 0.4403 - acc: 0.7946\n",
      "Epoch 34/100\n",
      "891/891 [==============================] - 0s 73us/step - loss: 0.4397 - acc: 0.7924\n",
      "Epoch 35/100\n",
      "891/891 [==============================] - 0s 65us/step - loss: 0.4384 - acc: 0.8036: 0s - loss: 0.4374 - acc: 0.801\n",
      "Epoch 36/100\n",
      "891/891 [==============================] - 0s 69us/step - loss: 0.4371 - acc: 0.7969\n",
      "Epoch 37/100\n",
      "891/891 [==============================] - 0s 67us/step - loss: 0.4364 - acc: 0.7924: 0s - loss: 0.4290 - acc: 0.797\n",
      "Epoch 38/100\n",
      "891/891 [==============================] - 0s 65us/step - loss: 0.4362 - acc: 0.7924\n",
      "Epoch 39/100\n",
      "891/891 [==============================] - 0s 68us/step - loss: 0.4360 - acc: 0.7935\n",
      "Epoch 40/100\n",
      "891/891 [==============================] - 0s 64us/step - loss: 0.4346 - acc: 0.7946\n",
      "Epoch 41/100\n",
      "891/891 [==============================] - 0s 66us/step - loss: 0.4340 - acc: 0.7980\n",
      "Epoch 42/100\n",
      "891/891 [==============================] - 0s 66us/step - loss: 0.4338 - acc: 0.7991\n",
      "Epoch 43/100\n",
      "891/891 [==============================] - 0s 68us/step - loss: 0.4338 - acc: 0.7991\n",
      "Epoch 44/100\n",
      "891/891 [==============================] - 0s 77us/step - loss: 0.4330 - acc: 0.7980\n",
      "Epoch 45/100\n",
      "891/891 [==============================] - 0s 83us/step - loss: 0.4325 - acc: 0.7991\n",
      "Epoch 46/100\n",
      "891/891 [==============================] - 0s 88us/step - loss: 0.4323 - acc: 0.8002\n",
      "Epoch 47/100\n",
      "891/891 [==============================] - 0s 74us/step - loss: 0.4319 - acc: 0.7969\n",
      "Epoch 48/100\n",
      "891/891 [==============================] - 0s 69us/step - loss: 0.4313 - acc: 0.7957\n",
      "Epoch 49/100\n",
      "891/891 [==============================] - 0s 68us/step - loss: 0.4314 - acc: 0.8013\n",
      "Epoch 50/100\n",
      "891/891 [==============================] - 0s 66us/step - loss: 0.4311 - acc: 0.8002\n",
      "Epoch 51/100\n",
      "891/891 [==============================] - 0s 64us/step - loss: 0.4314 - acc: 0.8002\n",
      "Epoch 52/100\n",
      "891/891 [==============================] - 0s 65us/step - loss: 0.4308 - acc: 0.7980\n",
      "Epoch 53/100\n",
      "891/891 [==============================] - 0s 65us/step - loss: 0.4302 - acc: 0.7991\n",
      "Epoch 54/100\n",
      "891/891 [==============================] - 0s 73us/step - loss: 0.4303 - acc: 0.7980\n",
      "Epoch 55/100\n",
      "891/891 [==============================] - 0s 86us/step - loss: 0.4304 - acc: 0.8047\n",
      "Epoch 56/100\n",
      "891/891 [==============================] - 0s 88us/step - loss: 0.4301 - acc: 0.8013\n",
      "Epoch 57/100\n",
      "891/891 [==============================] - 0s 74us/step - loss: 0.4295 - acc: 0.8047\n",
      "Epoch 58/100\n",
      "891/891 [==============================] - 0s 65us/step - loss: 0.4295 - acc: 0.7980\n",
      "Epoch 59/100\n",
      "891/891 [==============================] - 0s 68us/step - loss: 0.4293 - acc: 0.8058\n",
      "Epoch 60/100\n",
      "891/891 [==============================] - 0s 65us/step - loss: 0.4290 - acc: 0.8047\n",
      "Epoch 61/100\n",
      "891/891 [==============================] - 0s 64us/step - loss: 0.4291 - acc: 0.8047\n",
      "Epoch 62/100\n",
      "891/891 [==============================] - 0s 64us/step - loss: 0.4289 - acc: 0.8047\n",
      "Epoch 63/100\n",
      "891/891 [==============================] - ETA: 0s - loss: 0.4125 - acc: 0.807 - 0s 65us/step - loss: 0.4289 - acc: 0.7969\n",
      "Epoch 64/100\n",
      "891/891 [==============================] - 0s 64us/step - loss: 0.4284 - acc: 0.8058\n",
      "Epoch 65/100\n",
      "891/891 [==============================] - 0s 67us/step - loss: 0.4291 - acc: 0.8013\n",
      "Epoch 66/100\n",
      "891/891 [==============================] - 0s 65us/step - loss: 0.4287 - acc: 0.8092\n",
      "Epoch 67/100\n",
      "891/891 [==============================] - 0s 65us/step - loss: 0.4283 - acc: 0.8114\n",
      "Epoch 68/100\n",
      "891/891 [==============================] - 0s 65us/step - loss: 0.4280 - acc: 0.8103\n",
      "Epoch 69/100\n",
      "891/891 [==============================] - 0s 65us/step - loss: 0.4279 - acc: 0.8114\n",
      "Epoch 70/100\n",
      "891/891 [==============================] - 0s 63us/step - loss: 0.4278 - acc: 0.8047\n",
      "Epoch 71/100\n",
      "891/891 [==============================] - 0s 65us/step - loss: 0.4281 - acc: 0.7991\n",
      "Epoch 72/100\n",
      "891/891 [==============================] - 0s 65us/step - loss: 0.4278 - acc: 0.8025\n",
      "Epoch 73/100\n",
      "891/891 [==============================] - 0s 65us/step - loss: 0.4278 - acc: 0.8092\n",
      "Epoch 74/100\n",
      "891/891 [==============================] - 0s 71us/step - loss: 0.4285 - acc: 0.8070\n",
      "Epoch 75/100\n",
      "891/891 [==============================] - 0s 82us/step - loss: 0.4273 - acc: 0.8025\n",
      "Epoch 76/100\n",
      "891/891 [==============================] - 0s 91us/step - loss: 0.4274 - acc: 0.8025\n",
      "Epoch 77/100\n",
      "891/891 [==============================] - 0s 73us/step - loss: 0.4276 - acc: 0.8013\n",
      "Epoch 78/100\n",
      "891/891 [==============================] - 0s 67us/step - loss: 0.4275 - acc: 0.8013\n",
      "Epoch 79/100\n",
      "891/891 [==============================] - 0s 65us/step - loss: 0.4272 - acc: 0.8047\n",
      "Epoch 80/100\n",
      "891/891 [==============================] - 0s 63us/step - loss: 0.4270 - acc: 0.8070\n",
      "Epoch 81/100\n",
      "891/891 [==============================] - 0s 65us/step - loss: 0.4273 - acc: 0.8047\n",
      "Epoch 82/100\n"
     ]
    },
    {
     "name": "stdout",
     "output_type": "stream",
     "text": [
      "891/891 [==============================] - 0s 64us/step - loss: 0.4270 - acc: 0.8013\n",
      "Epoch 83/100\n",
      "891/891 [==============================] - 0s 66us/step - loss: 0.4271 - acc: 0.8103\n",
      "Epoch 84/100\n",
      "891/891 [==============================] - 0s 64us/step - loss: 0.4268 - acc: 0.8058\n",
      "Epoch 85/100\n",
      "891/891 [==============================] - 0s 66us/step - loss: 0.4273 - acc: 0.8036\n",
      "Epoch 86/100\n",
      "891/891 [==============================] - 0s 65us/step - loss: 0.4267 - acc: 0.8036\n",
      "Epoch 87/100\n",
      "891/891 [==============================] - 0s 67us/step - loss: 0.4266 - acc: 0.8013\n",
      "Epoch 88/100\n",
      "891/891 [==============================] - 0s 65us/step - loss: 0.4269 - acc: 0.8025\n",
      "Epoch 89/100\n",
      "891/891 [==============================] - 0s 67us/step - loss: 0.4268 - acc: 0.8013\n",
      "Epoch 90/100\n",
      "891/891 [==============================] - 0s 66us/step - loss: 0.4268 - acc: 0.8013\n",
      "Epoch 91/100\n",
      "891/891 [==============================] - 0s 64us/step - loss: 0.4264 - acc: 0.8070\n",
      "Epoch 92/100\n",
      "891/891 [==============================] - 0s 64us/step - loss: 0.4264 - acc: 0.8036\n",
      "Epoch 93/100\n",
      "891/891 [==============================] - 0s 72us/step - loss: 0.4264 - acc: 0.7991\n",
      "Epoch 94/100\n",
      "891/891 [==============================] - 0s 71us/step - loss: 0.4261 - acc: 0.8070\n",
      "Epoch 95/100\n",
      "891/891 [==============================] - 0s 74us/step - loss: 0.4260 - acc: 0.8036\n",
      "Epoch 96/100\n",
      "891/891 [==============================] - 0s 78us/step - loss: 0.4263 - acc: 0.8036\n",
      "Epoch 97/100\n",
      "891/891 [==============================] - 0s 77us/step - loss: 0.4261 - acc: 0.8013\n",
      "Epoch 98/100\n",
      "891/891 [==============================] - 0s 73us/step - loss: 0.4265 - acc: 0.8036\n",
      "Epoch 99/100\n",
      "891/891 [==============================] - 0s 77us/step - loss: 0.4261 - acc: 0.8025\n",
      "Epoch 100/100\n",
      "891/891 [==============================] - 0s 72us/step - loss: 0.4262 - acc: 0.8013\n"
     ]
    },
    {
     "data": {
      "text/plain": [
       "<keras.callbacks.History at 0x22c68cb2a90>"
      ]
     },
     "execution_count": 50,
     "metadata": {},
     "output_type": "execute_result"
    }
   ],
   "source": [
    "classifier.fit(X_train, Y, batch_size = 10, nb_epoch = 100)"
   ]
  },
  {
   "cell_type": "code",
   "execution_count": 54,
   "metadata": {},
   "outputs": [
    {
     "name": "stdout",
     "output_type": "stream",
     "text": [
      "891/891 [==============================] - 0s 60us/step\n"
     ]
    },
    {
     "data": {
      "text/plain": [
       "[0.4249792627480161, 0.8047138042455303]"
      ]
     },
     "execution_count": 54,
     "metadata": {},
     "output_type": "execute_result"
    }
   ],
   "source": [
    "classifier.evaluate(X_train, Y)"
   ]
  },
  {
   "cell_type": "code",
   "execution_count": 55,
   "metadata": {},
   "outputs": [],
   "source": [
    "#getting predictions of test data\n",
    "prediction = classifier.predict(X_test).tolist()\n",
    "# list to series\n",
    "se = pd.Series(prediction)\n"
   ]
  },
  {
   "cell_type": "code",
   "execution_count": 56,
   "metadata": {},
   "outputs": [],
   "source": [
    "result_data['check'] = se\n",
    "result_data['check'] = result_data['check'].str.get(0)"
   ]
  },
  {
   "cell_type": "code",
   "execution_count": 57,
   "metadata": {},
   "outputs": [
    {
     "data": {
      "text/html": [
       "<div>\n",
       "<style scoped>\n",
       "    .dataframe tbody tr th:only-of-type {\n",
       "        vertical-align: middle;\n",
       "    }\n",
       "\n",
       "    .dataframe tbody tr th {\n",
       "        vertical-align: top;\n",
       "    }\n",
       "\n",
       "    .dataframe thead th {\n",
       "        text-align: right;\n",
       "    }\n",
       "</style>\n",
       "<table border=\"1\" class=\"dataframe\">\n",
       "  <thead>\n",
       "    <tr style=\"text-align: right;\">\n",
       "      <th></th>\n",
       "      <th>PassengerId</th>\n",
       "      <th>Survived</th>\n",
       "      <th>check</th>\n",
       "      <th>final</th>\n",
       "    </tr>\n",
       "  </thead>\n",
       "  <tbody>\n",
       "    <tr>\n",
       "      <th>0</th>\n",
       "      <td>892</td>\n",
       "      <td>0</td>\n",
       "      <td>0.129600</td>\n",
       "      <td>0</td>\n",
       "    </tr>\n",
       "    <tr>\n",
       "      <th>1</th>\n",
       "      <td>893</td>\n",
       "      <td>1</td>\n",
       "      <td>0.283679</td>\n",
       "      <td>0</td>\n",
       "    </tr>\n",
       "    <tr>\n",
       "      <th>2</th>\n",
       "      <td>894</td>\n",
       "      <td>0</td>\n",
       "      <td>0.129600</td>\n",
       "      <td>0</td>\n",
       "    </tr>\n",
       "    <tr>\n",
       "      <th>3</th>\n",
       "      <td>895</td>\n",
       "      <td>0</td>\n",
       "      <td>0.129600</td>\n",
       "      <td>0</td>\n",
       "    </tr>\n",
       "    <tr>\n",
       "      <th>4</th>\n",
       "      <td>896</td>\n",
       "      <td>1</td>\n",
       "      <td>0.390178</td>\n",
       "      <td>1</td>\n",
       "    </tr>\n",
       "  </tbody>\n",
       "</table>\n",
       "</div>"
      ],
      "text/plain": [
       "   PassengerId  Survived     check  final\n",
       "0          892         0  0.129600      0\n",
       "1          893         1  0.283679      0\n",
       "2          894         0  0.129600      0\n",
       "3          895         0  0.129600      0\n",
       "4          896         1  0.390178      1"
      ]
     },
     "execution_count": 57,
     "metadata": {},
     "output_type": "execute_result"
    }
   ],
   "source": [
    "result_data.head()"
   ]
  },
  {
   "cell_type": "code",
   "execution_count": 58,
   "metadata": {},
   "outputs": [],
   "source": [
    "series = []\n",
    "for val in result_data.check:\n",
    "    if val >= 0.5:\n",
    "        series.append(1)\n",
    "    else:\n",
    "        series.append(0)\n",
    "result_data['final'] = series"
   ]
  },
  {
   "cell_type": "code",
   "execution_count": 59,
   "metadata": {},
   "outputs": [],
   "source": [
    "match = 0\n",
    "nomatch = 0\n",
    "no_of_values = 418\n",
    "for val in result_data.values:\n",
    "    if val[1] == val[3]:\n",
    "        match = match +1\n",
    "    else:\n",
    "        nomatch = nomatch +1"
   ]
  },
  {
   "cell_type": "code",
   "execution_count": 60,
   "metadata": {},
   "outputs": [],
   "source": [
    "accuracy = match/no_of_values #this is our testing accuracy"
   ]
  },
  {
   "cell_type": "code",
   "execution_count": 61,
   "metadata": {},
   "outputs": [
    {
     "data": {
      "text/plain": [
       "0.861244019138756"
      ]
     },
     "execution_count": 61,
     "metadata": {},
     "output_type": "execute_result"
    }
   ],
   "source": [
    "accuracy"
   ]
  },
  {
   "cell_type": "code",
   "execution_count": 66,
   "metadata": {},
   "outputs": [
    {
     "name": "stdout",
     "output_type": "stream",
     "text": [
      "418/418 [==============================] - 0s 14us/step\n"
     ]
    },
    {
     "data": {
      "text/plain": [
       "[0.2806053717028011, 0.861244019138756]"
      ]
     },
     "execution_count": 66,
     "metadata": {},
     "output_type": "execute_result"
    }
   ],
   "source": [
    "classifier.evaluate(X_test,result_data.Survived)"
   ]
  },
  {
   "cell_type": "code",
   "execution_count": 67,
   "metadata": {
    "scrolled": true
   },
   "outputs": [
    {
     "name": "stdout",
     "output_type": "stream",
     "text": [
      "Accuracy: 0.861244019138756\n"
     ]
    }
   ],
   "source": [
    "from sklearn.metrics import accuracy_score\n",
    "Accuracy = accuracy_score(result_data.Survived,result_data.final)\n",
    "print(\"Accuracy:\", Accuracy)"
   ]
  },
  {
   "cell_type": "markdown",
   "metadata": {},
   "source": [
    "# 3 layer Neural Network is getting more accuracy than SVM.It mean 3NN is Better."
   ]
  }
 ],
 "metadata": {
  "kernelspec": {
   "display_name": "Python 3",
   "language": "python",
   "name": "python3"
  },
  "language_info": {
   "codemirror_mode": {
    "name": "ipython",
    "version": 3
   },
   "file_extension": ".py",
   "mimetype": "text/x-python",
   "name": "python",
   "nbconvert_exporter": "python",
   "pygments_lexer": "ipython3",
   "version": "3.7.3"
  }
 },
 "nbformat": 4,
 "nbformat_minor": 2
}
