{
 "cells": [
  {
   "cell_type": "code",
   "execution_count": 38,
   "metadata": {
    "_cell_guid": "b1076dfc-b9ad-4769-8c92-a6c4dae69d19",
    "_uuid": "8f2839f25d086af736a60e9eeb907d3b93b6e0e5"
   },
   "outputs": [
    {
     "name": "stdout",
     "output_type": "stream",
     "text": [
      "['mnist-data-set', 'digit-recognizer']\n"
     ]
    }
   ],
   "source": [
    "# This Python 3 environment comes with many helpful analytics libraries installed\n",
    "# It is defined by the kaggle/python docker image: https://github.com/kaggle/docker-python\n",
    "# For example, here's several helpful packages to load in \n",
    "\n",
    "import numpy as np # linear algebra\n",
    "import pandas as pd # data processing, CSV file I/O (e.g. pd.read_csv)\n",
    "\n",
    "# Input data files are available in the \"../input/\" directory.\n",
    "# For example, running this (by clicking run or pressing Shift+Enter) will list the files in the input directory\n",
    "\n",
    "import os\n",
    "print(os.listdir(\"../input\"))\n",
    "\n",
    "# Any results you write to the current directory are saved as output.\n",
    "\n"
   ]
  },
  {
   "cell_type": "code",
   "execution_count": 39,
   "metadata": {},
   "outputs": [],
   "source": [
    "import pandas as pd\n",
    "import numpy as np\n",
    "import matplotlib.pyplot as plt\n",
    "import matplotlib.image as mpimg\n",
    "import seaborn as sns\n",
    "%matplotlib inline\n",
    "from sklearn.model_selection import train_test_split\n",
    "from sklearn.metrics import confusion_matrix\n",
    "import itertools\n",
    "from keras.utils.np_utils import to_categorical # convert to one-hot-encoding\n",
    "from keras.models import Sequential\n",
    "from keras.layers import Dense, Dropout, Flatten, Conv2D, MaxPool2D\n",
    "from keras.optimizers import RMSprop\n",
    "from keras.optimizers import SGD\n",
    "from keras.preprocessing.image import ImageDataGenerator\n",
    "from keras.callbacks import ReduceLROnPlateau\n"
   ]
  },
  {
   "cell_type": "code",
   "execution_count": 40,
   "metadata": {},
   "outputs": [],
   "source": [
    "# Load the data\n",
    "train = pd.read_csv(\"../input/mnist-data-set/train.csv\")\n",
    "test = pd.read_csv(\"../input/mnist-data-set/test.csv\")\n"
   ]
  },
  {
   "cell_type": "code",
   "execution_count": 41,
   "metadata": {},
   "outputs": [],
   "source": [
    "X_train = train.drop(labels = [\"label\"],axis = 1)\n",
    "Y_train = train[\"label\"]"
   ]
  },
  {
   "cell_type": "code",
   "execution_count": 42,
   "metadata": {},
   "outputs": [
    {
     "data": {
      "text/plain": [
       "1    4684\n",
       "7    4401\n",
       "3    4351\n",
       "9    4188\n",
       "2    4177\n",
       "6    4137\n",
       "0    4132\n",
       "4    4072\n",
       "8    4063\n",
       "5    3795\n",
       "Name: label, dtype: int64"
      ]
     },
     "execution_count": 42,
     "metadata": {},
     "output_type": "execute_result"
    }
   ],
   "source": [
    "Y_train.value_counts()"
   ]
  },
  {
   "cell_type": "code",
   "execution_count": 43,
   "metadata": {},
   "outputs": [
    {
     "data": {
      "text/plain": [
       "pixel0      False\n",
       "pixel1      False\n",
       "pixel2      False\n",
       "pixel3      False\n",
       "pixel4      False\n",
       "pixel5      False\n",
       "pixel6      False\n",
       "pixel7      False\n",
       "pixel8      False\n",
       "pixel9      False\n",
       "pixel10     False\n",
       "pixel11     False\n",
       "pixel12     False\n",
       "pixel13     False\n",
       "pixel14     False\n",
       "pixel15     False\n",
       "pixel16     False\n",
       "pixel17     False\n",
       "pixel18     False\n",
       "pixel19     False\n",
       "pixel20     False\n",
       "pixel21     False\n",
       "pixel22     False\n",
       "pixel23     False\n",
       "pixel24     False\n",
       "pixel25     False\n",
       "pixel26     False\n",
       "pixel27     False\n",
       "pixel28     False\n",
       "pixel29     False\n",
       "            ...  \n",
       "pixel754    False\n",
       "pixel755    False\n",
       "pixel756    False\n",
       "pixel757    False\n",
       "pixel758    False\n",
       "pixel759    False\n",
       "pixel760    False\n",
       "pixel761    False\n",
       "pixel762    False\n",
       "pixel763    False\n",
       "pixel764    False\n",
       "pixel765    False\n",
       "pixel766    False\n",
       "pixel767    False\n",
       "pixel768    False\n",
       "pixel769    False\n",
       "pixel770    False\n",
       "pixel771    False\n",
       "pixel772    False\n",
       "pixel773    False\n",
       "pixel774    False\n",
       "pixel775    False\n",
       "pixel776    False\n",
       "pixel777    False\n",
       "pixel778    False\n",
       "pixel779    False\n",
       "pixel780    False\n",
       "pixel781    False\n",
       "pixel782    False\n",
       "pixel783    False\n",
       "Length: 784, dtype: bool"
      ]
     },
     "execution_count": 43,
     "metadata": {},
     "output_type": "execute_result"
    }
   ],
   "source": [
    "X_train.isnull().any()"
   ]
  },
  {
   "cell_type": "code",
   "execution_count": 44,
   "metadata": {},
   "outputs": [],
   "source": [
    "X_train = X_train / 255.0\n",
    "test = test / 255.0\n",
    "X_train = X_train.values.reshape(-1,28,28,1)\n",
    "test = test.values.reshape(-1,28,28,1)"
   ]
  },
  {
   "cell_type": "code",
   "execution_count": 45,
   "metadata": {},
   "outputs": [],
   "source": [
    "Y_train = to_categorical(Y_train, num_classes = 10)"
   ]
  },
  {
   "cell_type": "code",
   "execution_count": 46,
   "metadata": {},
   "outputs": [],
   "source": [
    "\n",
    "X_train, X_val, Y_train, Y_val = train_test_split(X_train, Y_train, test_size = 0.2, random_state=10)"
   ]
  },
  {
   "cell_type": "code",
   "execution_count": 47,
   "metadata": {},
   "outputs": [],
   "source": [
    "model_1 = Sequential()\n",
    "\n",
    "model_1.add(Conv2D(filters = 32, kernel_size = (5,5),padding = 'Same', \n",
    "                 activation ='relu', input_shape = (28,28,1)))\n",
    "model_1.add(Conv2D(filters = 32, kernel_size = (5,5),padding = 'Same', \n",
    "                 activation ='relu'))\n",
    "model_1.add(MaxPool2D(pool_size=(2,2)))\n",
    "model_1.add(Dropout(0.25))\n",
    "\n",
    "\n",
    "model_1.add(Conv2D(filters = 64, kernel_size = (3,3),padding = 'Same', \n",
    "                 activation ='relu'))\n",
    "model_1.add(Conv2D(filters = 64, kernel_size = (3,3),padding = 'Same', \n",
    "                 activation ='relu'))\n",
    "model_1.add(MaxPool2D(pool_size=(2,2), strides=(2,2)))\n",
    "model_1.add(Dropout(0.25))\n",
    "\n",
    "\n",
    "model_1.add(Flatten())\n",
    "model_1.add(Dense(256, activation = \"relu\"))\n",
    "model_1.add(Dropout(0.5))\n",
    "model_1.add(Dense(10, activation = \"softmax\"))\n"
   ]
  },
  {
   "cell_type": "code",
   "execution_count": 48,
   "metadata": {},
   "outputs": [],
   "source": [
    "optimizer = RMSprop(lr=0.001, rho=0.9, epsilon=1e-08, decay=0.0)"
   ]
  },
  {
   "cell_type": "code",
   "execution_count": 49,
   "metadata": {},
   "outputs": [],
   "source": [
    "model_1.compile(optimizer = optimizer , loss = \"categorical_crossentropy\", metrics=[\"accuracy\"])"
   ]
  },
  {
   "cell_type": "code",
   "execution_count": 50,
   "metadata": {},
   "outputs": [],
   "source": [
    "learning_rate_reduction = ReduceLROnPlateau(monitor='val_acc', \n",
    "                                            patience=3, \n",
    "                                            verbose=1, \n",
    "                                            factor=0.5, \n",
    "                                            min_lr=0.00001)"
   ]
  },
  {
   "cell_type": "code",
   "execution_count": 51,
   "metadata": {},
   "outputs": [
    {
     "name": "stdout",
     "output_type": "stream",
     "text": [
      "Train on 33600 samples, validate on 8400 samples\n",
      "Epoch 1/5\n",
      " - 3s - loss: 0.3055 - acc: 0.9009 - val_loss: 0.0915 - val_acc: 0.9701\n",
      "Epoch 2/5\n",
      " - 2s - loss: 0.0801 - acc: 0.9759 - val_loss: 0.0416 - val_acc: 0.9856\n",
      "Epoch 3/5\n",
      " - 2s - loss: 0.0594 - acc: 0.9830 - val_loss: 0.0334 - val_acc: 0.9887\n",
      "Epoch 4/5\n",
      " - 2s - loss: 0.0494 - acc: 0.9857 - val_loss: 0.0280 - val_acc: 0.9921\n",
      "Epoch 5/5\n",
      " - 2s - loss: 0.0416 - acc: 0.9876 - val_loss: 0.0301 - val_acc: 0.9906\n"
     ]
    }
   ],
   "source": [
    "history_RMSProp = model_1.fit(X_train, Y_train, batch_size = 128, epochs = 5,\n",
    "         validation_data = (X_val, Y_val), verbose = 2)\n"
   ]
  },
  {
   "cell_type": "code",
   "execution_count": 52,
   "metadata": {},
   "outputs": [],
   "source": [
    "model_2 = Sequential()\n",
    "\n",
    "model_2.add(Conv2D(filters = 32, kernel_size = (3,3),padding = 'Same', \n",
    "                 activation ='relu', input_shape = (28,28,1)))\n",
    "model_2.add(Conv2D(filters = 32, kernel_size = (3,3),padding = 'Same', \n",
    "                 activation ='relu'))\n",
    "model_2.add(MaxPool2D(pool_size=(2,2)))\n",
    "model_2.add(Dropout(0.5))\n",
    "\n",
    "\n",
    "model_2.add(Conv2D(filters = 64, kernel_size = (3,3),padding = 'Same', \n",
    "                 activation ='relu'))\n",
    "model_2.add(Conv2D(filters = 64, kernel_size = (3,3),padding = 'Same', \n",
    "                 activation ='relu'))\n",
    "model_2.add(MaxPool2D(pool_size=(2,2), strides=(2,2)))\n",
    "model_2.add(Dropout(0.5))\n",
    "\n",
    "\n",
    "model_2.add(Flatten())\n",
    "model_2.add(Dense(512, activation = \"relu\"))\n",
    "model_2.add(Dropout(0.5))\n",
    "model_2.add(Dense(10, activation = \"softmax\"))"
   ]
  },
  {
   "cell_type": "code",
   "execution_count": 53,
   "metadata": {},
   "outputs": [],
   "source": [
    "optimizer = SGD(lr=2e-3, momentum=0.0, decay=1e-5, nesterov=False)"
   ]
  },
  {
   "cell_type": "code",
   "execution_count": 54,
   "metadata": {},
   "outputs": [],
   "source": [
    "model_2.compile(optimizer = optimizer , loss = \"categorical_crossentropy\", metrics=[\"accuracy\"])"
   ]
  },
  {
   "cell_type": "code",
   "execution_count": 55,
   "metadata": {},
   "outputs": [
    {
     "name": "stdout",
     "output_type": "stream",
     "text": [
      "Train on 33600 samples, validate on 8400 samples\n",
      "Epoch 1/5\n",
      " - 3s - loss: 2.3002 - acc: 0.1129 - val_loss: 2.2904 - val_acc: 0.3052\n",
      "Epoch 2/5\n",
      " - 2s - loss: 2.2850 - acc: 0.1404 - val_loss: 2.2738 - val_acc: 0.4179\n",
      "Epoch 3/5\n",
      " - 2s - loss: 2.2624 - acc: 0.1790 - val_loss: 2.2410 - val_acc: 0.4488\n",
      "Epoch 4/5\n",
      " - 2s - loss: 2.2109 - acc: 0.2259 - val_loss: 2.1424 - val_acc: 0.5281\n",
      "Epoch 5/5\n",
      " - 2s - loss: 2.0554 - acc: 0.3000 - val_loss: 1.7454 - val_acc: 0.6311\n"
     ]
    }
   ],
   "source": [
    "history_SGD = model_2.fit(X_train, Y_train, batch_size = 128, epochs = 5,\n",
    "         validation_data = (X_val, Y_val), verbose = 2)"
   ]
  },
  {
   "cell_type": "code",
   "execution_count": 56,
   "metadata": {},
   "outputs": [],
   "source": [
    "from keras.optimizers import Adagrad\n",
    "optimizer = Adagrad(lr=2e-3, epsilon=None, decay=1e-5)"
   ]
  },
  {
   "cell_type": "code",
   "execution_count": 57,
   "metadata": {},
   "outputs": [],
   "source": [
    "model_2.compile(optimizer = optimizer , loss = \"categorical_crossentropy\", metrics=[\"accuracy\"])"
   ]
  },
  {
   "cell_type": "code",
   "execution_count": 58,
   "metadata": {},
   "outputs": [
    {
     "name": "stdout",
     "output_type": "stream",
     "text": [
      "Train on 33600 samples, validate on 8400 samples\n",
      "Epoch 1/5\n",
      " - 3s - loss: 0.4443 - acc: 0.8590 - val_loss: 0.1387 - val_acc: 0.9577\n",
      "Epoch 2/5\n",
      " - 2s - loss: 0.2045 - acc: 0.9370 - val_loss: 0.0989 - val_acc: 0.9699\n",
      "Epoch 3/5\n",
      " - 2s - loss: 0.1652 - acc: 0.9495 - val_loss: 0.0849 - val_acc: 0.9714\n",
      "Epoch 4/5\n",
      " - 2s - loss: 0.1445 - acc: 0.9567 - val_loss: 0.0781 - val_acc: 0.9742\n",
      "Epoch 5/5\n",
      " - 2s - loss: 0.1304 - acc: 0.9597 - val_loss: 0.0674 - val_acc: 0.9776\n"
     ]
    }
   ],
   "source": [
    "history_Adagrad = model_2.fit(X_train, Y_train, batch_size = 128, epochs = 5,\n",
    "         validation_data = (X_val, Y_val), verbose = 2)"
   ]
  },
  {
   "cell_type": "code",
   "execution_count": 59,
   "metadata": {},
   "outputs": [],
   "source": [
    "from keras.optimizers import Adadelta\n",
    "optimizer = Adadelta(lr=2e-3, rho=0.95, epsilon=None, decay=1e-5)"
   ]
  },
  {
   "cell_type": "code",
   "execution_count": 60,
   "metadata": {},
   "outputs": [],
   "source": [
    "model_2.compile(optimizer = optimizer , loss = \"categorical_crossentropy\", metrics=[\"accuracy\"])"
   ]
  },
  {
   "cell_type": "code",
   "execution_count": 61,
   "metadata": {},
   "outputs": [
    {
     "name": "stdout",
     "output_type": "stream",
     "text": [
      "Train on 33600 samples, validate on 8400 samples\n",
      "Epoch 1/5\n",
      " - 4s - loss: 0.1218 - acc: 0.9618 - val_loss: 0.0666 - val_acc: 0.9780\n",
      "Epoch 2/5\n",
      " - 3s - loss: 0.1192 - acc: 0.9626 - val_loss: 0.0665 - val_acc: 0.9781\n",
      "Epoch 3/5\n",
      " - 3s - loss: 0.1217 - acc: 0.9618 - val_loss: 0.0664 - val_acc: 0.9782\n",
      "Epoch 4/5\n",
      " - 3s - loss: 0.1205 - acc: 0.9613 - val_loss: 0.0663 - val_acc: 0.9783\n",
      "Epoch 5/5\n",
      " - 2s - loss: 0.1219 - acc: 0.9615 - val_loss: 0.0661 - val_acc: 0.9785\n"
     ]
    }
   ],
   "source": [
    "history_Adadelta = model_2.fit(X_train, Y_train, batch_size = 128, epochs = 5,\n",
    "         validation_data = (X_val, Y_val), verbose = 2)"
   ]
  },
  {
   "cell_type": "code",
   "execution_count": 80,
   "metadata": {},
   "outputs": [
    {
     "data": {
      "image/png": "[encoded data removed]",
      "text/plain": [
       "<Figure size 432x288 with 2 Axes>"
      ]
     },
     "metadata": {
      "needs_background": "light"
     },
     "output_type": "display_data"
    }
   ],
   "source": [
    "\n",
    "fig, ax = plt.subplots(2,1)\n",
    "\n",
    "ax[0].plot(history_RMSProp.history['loss'], color='b', label=\"Training loss\")\n",
    "ax[0].plot(history_RMSProp.history['val_loss'], color='r', label=\"validation loss\",axes =ax[0])\n",
    "legend = ax[0].legend(loc='best', shadow=True)\n",
    "\n",
    "ax[1].plot(history_RMSProp.history['acc'], color='b', label=\"Training accuracy\")\n",
    "ax[1].plot(history_RMSProp.history['val_acc'], color='r',label=\"Validation accuracy\")\n",
    "legend = ax[1].legend(loc='best', shadow=True)\n"
   ]
  },
  {
   "cell_type": "code",
   "execution_count": 82,
   "metadata": {},
   "outputs": [
    {
     "data": {
      "image/png": "[encoded data removed]",
      "text/plain": [
       "<Figure size 432x288 with 2 Axes>"
      ]
     },
     "metadata": {
      "needs_background": "light"
     },
     "output_type": "display_data"
    }
   ],
   "source": [
    "fig, ax = plt.subplots(2,1)\n",
    "ax[0].plot(history_SGD.history['loss'], color='b', label=\"Training loss\")\n",
    "ax[0].plot(history_SGD.history['val_loss'], color='r', label=\"validation loss\",axes =ax[0])\n",
    "legend = ax[0].legend(loc='best', shadow=True)\n",
    "\n",
    "ax[1].plot(history_SGD.history['acc'], color='b', label=\"Training accuracy\")\n",
    "ax[1].plot(history_SGD.history['val_acc'], color='r',label=\"Validation accuracy\")\n",
    "legend = ax[1].legend(loc='best', shadow=True)\n",
    "\n"
   ]
  },
  {
   "cell_type": "code",
   "execution_count": 83,
   "metadata": {},
   "outputs": [
    {
     "data": {
      "image/png": "[encoded data removed]",
      "text/plain": [
       "<Figure size 432x288 with 2 Axes>"
      ]
     },
     "metadata": {
      "needs_background": "light"
     },
     "output_type": "display_data"
    }
   ],
   "source": [
    "fig, ax = plt.subplots(2,1)\n",
    "ax[0].plot(history_Adagrad.history['loss'], color='b', label=\"Training loss\")\n",
    "ax[0].plot(history_Adagrad.history['val_loss'], color='r', label=\"validation loss\",axes =ax[0])\n",
    "legend = ax[0].legend(loc='best', shadow=True)\n",
    "\n",
    "ax[1].plot(history_Adagrad.history['acc'], color='b', label=\"Training accuracy\")\n",
    "ax[1].plot(history_Adagrad.history['val_acc'], color='r',label=\"Validation accuracy\")\n",
    "legend = ax[1].legend(loc='best', shadow=True)"
   ]
  },
  {
   "cell_type": "code",
   "execution_count": 84,
   "metadata": {},
   "outputs": [
    {
     "data": {
      "image/png": "[encoded data removed]",
      "text/plain": [
       "<Figure size 432x288 with 2 Axes>"
      ]
     },
     "metadata": {
      "needs_background": "light"
     },
     "output_type": "display_data"
    }
   ],
   "source": [
    "fig, ax = plt.subplots(2,1)\n",
    "ax[0].plot(history_Adadelta.history['loss'], color='b', label=\"Training loss\")\n",
    "ax[0].plot(history_Adadelta.history['val_loss'], color='r', label=\"validation loss\",axes =ax[0])\n",
    "legend = ax[0].legend(loc='best', shadow=True)\n",
    "\n",
    "ax[1].plot(history_Adadelta.history['acc'], color='b', label=\"Training accuracy\")\n",
    "ax[1].plot(history_Adadelta.history['val_acc'], color='r',label=\"Validation accuracy\")\n",
    "legend = ax[1].legend(loc='best', shadow=True)"
   ]
  },
  {
   "cell_type": "code",
   "execution_count": null,
   "metadata": {},
   "outputs": [],
   "source": [
    "\n",
    "\n",
    "\n",
    "\n",
    "\n",
    "\n"
   ]
  },
  {
   "cell_type": "code",
   "execution_count": null,
   "metadata": {},
   "outputs": [],
   "source": []
  }
 ],
 "metadata": {
  "kernelspec": {
   "display_name": "Python 3",
   "language": "python",
   "name": "python3"
  },
  "language_info": {
   "codemirror_mode": {
    "name": "ipython",
    "version": 3
   },
   "file_extension": ".py",
   "mimetype": "text/x-python",
   "name": "python",
   "nbconvert_exporter": "python",
   "pygments_lexer": "ipython3",
   "version": "3.7.1"
  }
 },
 "nbformat": 4,
 "nbformat_minor": 1
}
