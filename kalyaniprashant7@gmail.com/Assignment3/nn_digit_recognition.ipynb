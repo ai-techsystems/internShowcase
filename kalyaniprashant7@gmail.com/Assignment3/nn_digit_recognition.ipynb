{
 "cells": [
  {
   "cell_type": "code",
   "execution_count": 2,
   "metadata": {},
   "outputs": [],
   "source": [
    "import numpy as np\n",
    "from scipy.io import loadmat\n",
    "import matplotlib.pyplot as plt\n",
    "from sklearn.utils import shuffle\n",
    "from sklearn import svm\n",
    "from sklearn import tree\n",
    "from sklearn.ensemble import RandomForestClassifier,AdaBoostClassifier\n",
    "from sklearn.metrics import confusion_matrix"
   ]
  },
  {
   "cell_type": "code",
   "execution_count": 3,
   "metadata": {},
   "outputs": [],
   "source": [
    "mat = loadmat(r'C:\\Users\\architect shraddha.k\\Desktop\\ml\\machine-learning-ex4\\ex4\\ex4data1')\n",
    "mat1 = loadmat(r'C:\\Users\\architect shraddha.k\\Desktop\\ml\\machine-learning-ex4\\ex4\\ex4weights')\n",
    "X =  mat['X']\n",
    "X = X.reshape((5000,400))\n",
    "Y = mat['y']\n",
    "X, Y = shuffle(X, Y)\n",
    "train_target = np.zeros((3000,10),dtype=int)\n",
    "train = X[0:3000,:]\n",
    "cross_validation = X[3000:4000,:]\n",
    "test = X[3000:4000,:]\n",
    "for i in range(0,train_target.shape[0]):\n",
    "    value = Y[i]\n",
    "    if value==10:\n",
    "        train_target[i][0]=1\n",
    "    else:\n",
    "         train_target[i][value]=1       "
   ]
  },
  {
   "cell_type": "code",
   "execution_count": 4,
   "metadata": {},
   "outputs": [],
   "source": [
    "def parameters(dim):\n",
    "    w1 = np.random.randn(25,dim) * 0.01\n",
    "    b1 = np.zeros((25,1),dtype=int)\n",
    "    w2 = np.random.randn(10,25) * 0.01\n",
    "    b2 = np.zeros((10,1),dtype=int)\n",
    "    params = {'w1':w1,'b1':b1,'w2':w2,'b2':b2}\n",
    "    return params"
   ]
  },
  {
   "cell_type": "code",
   "execution_count": 5,
   "metadata": {},
   "outputs": [],
   "source": [
    "def sigmoid(data):\n",
    "    value = (np.exp(data))/(1+(np.exp(data)))\n",
    "    return value"
   ]
  },
  {
   "cell_type": "code",
   "execution_count": 6,
   "metadata": {},
   "outputs": [],
   "source": [
    "def relu(Z1):\n",
    "    value = np.maximum(Z1,0)\n",
    "    return value"
   ]
  },
  {
   "cell_type": "code",
   "execution_count": 7,
   "metadata": {},
   "outputs": [],
   "source": [
    "def forward(X,Y,params,lambd):\n",
    "    m = X.shape[0]\n",
    "    w1 = params['w1']\n",
    "    w2 = params['w2']\n",
    "    b1 = params['b1']\n",
    "    b2 = params['b2']\n",
    "    z1 = np.dot(X,w1.T) + b1.T\n",
    "    A1 = relu(z1)\n",
    "    z2 = np.dot(A1,w2.T) + b2.T\n",
    "    A2 = sigmoid(z2)\n",
    "    J = (1/m)*(np.sum(((np.sum((-np.multiply(Y,np.log(A2)) - np.multiply((1-Y),np.log(1-A2))),axis=1))),keepdims=True))\n",
    "    regularized = (lambd/(2*m)) * (np.sum(np.square(w1)) + np.sum(np.square(w2)))\n",
    "    J = J + regularized\n",
    "    dz2 = A2 - Y\n",
    "    dw2 = (1/m) * (np.dot(dz2.T,A1)) + ((lambd/m) * (w2))\n",
    "    db2 = (1/m) * (np.sum(dz2.T,axis=1,keepdims=True))\n",
    "    dz1 = np.multiply(np.dot(dz2,w2),  (A1 > 0).astype(int))\n",
    "    dw1 = (1/m) * np.dot(dz1.T,X)    + ((lambd/m) * (w1))\n",
    "    db1 = (1/m) * np.sum(dz1.T,axis=1,keepdims=True)\n",
    "    derivative = {'dw2':dw2,'dw1':dw1,'db2':db2,'db1':db1} \n",
    "    return derivative,J"
   ]
  },
  {
   "cell_type": "code",
   "execution_count": 8,
   "metadata": {},
   "outputs": [],
   "source": [
    "def backward(X,Y,iterations,alphs,lambd):\n",
    "    m,n=np.shape(X)\n",
    "    params = parameters(n)\n",
    "    costs=[]\n",
    "    for i in range(0,iterations):\n",
    "        derivative,value = forward(X,Y,params,lambd)\n",
    "        w1 = params['w1']\n",
    "        w2 = params['w2']\n",
    "        b1 = params['b1']\n",
    "        b2 = params['b2']\n",
    "        dw1 = derivative['dw1']\n",
    "        dw2 = derivative['dw2']\n",
    "        db1 = derivative['db1']\n",
    "        db2 = derivative['db2']\n",
    "        w1 = w1 - (alphs*dw1)\n",
    "        w2 = w2 - (alphs*dw2)\n",
    "        b1 = b1 - (alphs*db1)\n",
    "        b2 = b2 - (alphs*db2)\n",
    "        params = {'w1':w1,'b1':b1,'w2':w2,'b2':b2}\n",
    "        costs.append(value)\n",
    "    return params,costs\n",
    "    "
   ]
  },
  {
   "cell_type": "code",
   "execution_count": 9,
   "metadata": {
    "scrolled": true
   },
   "outputs": [
    {
     "data": {
      "text/plain": [
       "[<matplotlib.lines.Line2D at 0x291cf01ba58>]"
      ]
     },
     "execution_count": 9,
     "metadata": {},
     "output_type": "execute_result"
    },
    {
     "data": {
      "image/png": "[encoded data removed]",
      "text/plain": [
       "<Figure size 432x288 with 1 Axes>"
      ]
     },
     "metadata": {
      "needs_background": "light"
     },
     "output_type": "display_data"
    }
   ],
   "source": [
    "iterations = 1000\n",
    "alpha = 0.3\n",
    "lambd = 1\n",
    "params,costs = backward(train,train_target,iterations,alpha,lambd)\n",
    "plt.plot(range(0,iterations),costs)"
   ]
  },
  {
   "cell_type": "code",
   "execution_count": 10,
   "metadata": {},
   "outputs": [
    {
     "name": "stdout",
     "output_type": "stream",
     "text": [
      "[91.7]\n"
     ]
    }
   ],
   "source": [
    "w1 = params['w1']\n",
    "w2 = params['w2']\n",
    "b1 = params['b1']\n",
    "b2 = params['b2']\n",
    "z1 = np.dot(cross_validation,w1.T) + b1.T\n",
    "A1 = relu(z1)\n",
    "z2 = np.dot(A1,w2.T) + b2.T\n",
    "A2 = sigmoid(z2)\n",
    "maxInRows = A2.argmax(axis=1)\n",
    "predict = maxInRows.reshape(cross_validation.shape[0],1)\n",
    "predict[predict==0]=10\n",
    "accuracy = np.mean((predict == Y[3000:4000]),axis=0)*100\n",
    "print(accuracy)"
   ]
  },
  {
   "cell_type": "code",
   "execution_count": 15,
   "metadata": {},
   "outputs": [
    {
     "name": "stdout",
     "output_type": "stream",
     "text": [
      "0.9853333333333333\n"
     ]
    }
   ],
   "source": [
    "clf = svm.SVC(gamma=0.001,C=100)\n",
    "train_svm = X[0:3000,:]\n",
    "temporary = Y.ravel()\n",
    "train_svm_target = temporary[0:3000]\n",
    "clf.fit(train_svm,train_svm_target)\n",
    "print(clf.score(train_svm,train_svm_target))"
   ]
  },
  {
   "cell_type": "code",
   "execution_count": 16,
   "metadata": {},
   "outputs": [
    {
     "name": "stdout",
     "output_type": "stream",
     "text": [
      "91.3\n"
     ]
    }
   ],
   "source": [
    "cross_validation_svm = X[3000:4000,:]\n",
    "accuracy_svm = np.mean((clf.predict(cross_validation_svm) == temporary[3000:4000]),axis=0)*100\n",
    "print(accuracy_svm)"
   ]
  },
  {
   "cell_type": "code",
   "execution_count": 17,
   "metadata": {},
   "outputs": [
    {
     "data": {
      "text/plain": [
       "1.0"
      ]
     },
     "execution_count": 17,
     "metadata": {},
     "output_type": "execute_result"
    }
   ],
   "source": [
    "model = tree.DecisionTreeClassifier()\n",
    "train_tree = X[0:3000,:]\n",
    "train_tree_target = temporary[0:3000]\n",
    "model.fit(train_tree,train_tree_target)\n",
    "model.score(train_tree,train_tree_target)"
   ]
  },
  {
   "cell_type": "code",
   "execution_count": 35,
   "metadata": {},
   "outputs": [
    {
     "name": "stdout",
     "output_type": "stream",
     "text": [
      "74.8\n"
     ]
    }
   ],
   "source": [
    "cross_validation_tree = X[3000:4000,:]\n",
    "accuracy_tree = np.mean((model.predict(cross_validation_tree) == temporary[3000:4000]),axis=0)*100\n",
    "print(accuracy_tree)"
   ]
  },
  {
   "cell_type": "code",
   "execution_count": 40,
   "metadata": {},
   "outputs": [
    {
     "data": {
      "text/plain": [
       "0.9996666666666667"
      ]
     },
     "execution_count": 40,
     "metadata": {},
     "output_type": "execute_result"
    }
   ],
   "source": [
    "model_random_forest =   RandomForestClassifier(n_estimators=10)\n",
    "train_random_forest = X[0:3000,:]\n",
    "train_random_forest_target = temporary[0:3000]\n",
    "model_random_forest.fit(train_random_forest,train_random_forest_target)\n",
    "model_random_forest.score(train_random_forest,train_random_forest_target)"
   ]
  },
  {
   "cell_type": "code",
   "execution_count": 41,
   "metadata": {},
   "outputs": [
    {
     "name": "stdout",
     "output_type": "stream",
     "text": [
      "87.3\n"
     ]
    }
   ],
   "source": [
    "cross_validation_randomForest = X[3000:4000,:]\n",
    "accuracy_randomForest = np.mean((model_random_forest.predict(cross_validation_randomForest) == temporary[3000:4000]),axis=0)*100\n",
    "print(accuracy_randomForest)"
   ]
  },
  {
   "cell_type": "code",
   "execution_count": 25,
   "metadata": {},
   "outputs": [
    {
     "data": {
      "text/plain": [
       "1.0"
      ]
     },
     "execution_count": 25,
     "metadata": {},
     "output_type": "execute_result"
    }
   ],
   "source": [
    "adb = AdaBoostClassifier(tree.DecisionTreeClassifier(),n_estimators=10,learning_rate=0.01)\n",
    "train_boost = X[0:3000,:]\n",
    "train_boost_target = temporary[0:3000]\n",
    "adb.fit(train_boost,train_boost_target)\n",
    "adb.score(train_boost,train_boost_target)"
   ]
  },
  {
   "cell_type": "code",
   "execution_count": 26,
   "metadata": {},
   "outputs": [
    {
     "name": "stdout",
     "output_type": "stream",
     "text": [
      "0.743\n"
     ]
    }
   ],
   "source": [
    "cross_validation_boost = X[3000:4000,:]\n",
    "print(adb.score(cross_validation_boost,temporary[3000:4000]))"
   ]
  },
  {
   "cell_type": "code",
   "execution_count": 37,
   "metadata": {},
   "outputs": [
    {
     "name": "stdout",
     "output_type": "stream",
     "text": [
      "93.10000000000001\n"
     ]
    }
   ],
   "source": [
    "test_svm = X[4000:5000]\n",
    "accuracy_svm_test = np.mean((clf.predict(test_svm) == temporary[4000:5000]),axis=0)*100\n",
    "print(accuracy_svm_test)\n",
    "cm = confusion_matrix(temporary[4000:5000],clf.predict(test_svm))"
   ]
  },
  {
   "cell_type": "code",
   "execution_count": 32,
   "metadata": {
    "scrolled": true
   },
   "outputs": [
    {
     "data": {
      "text/plain": [
       "Text(69.0, 0.5, 'Truth')"
      ]
     },
     "execution_count": 32,
     "metadata": {},
     "output_type": "execute_result"
    },
    {
     "data": {
      "image/png": "[encoded data removed]",
      "text/plain": [
       "<Figure size 720x504 with 2 Axes>"
      ]
     },
     "metadata": {
      "needs_background": "light"
     },
     "output_type": "display_data"
    }
   ],
   "source": [
    "%matplotlib inline\n",
    "import seaborn as sn\n",
    "plt.figure(figsize=(10,7))\n",
    "sn.heatmap(cm,annot=True)\n",
    "plt.xlabel('Predicted')\n",
    "plt.ylabel('Truth')"
   ]
  },
  {
   "cell_type": "code",
   "execution_count": 33,
   "metadata": {},
   "outputs": [
    {
     "name": "stdout",
     "output_type": "stream",
     "text": [
      "93.10000000000001\n"
     ]
    }
   ],
   "source": [
    "test_randomForest = X[4000:5000]\n",
    "accuracy_randomForest_test = np.mean((clf.predict(test_randomForest) == temporary[4000:5000]),axis=0)*100\n",
    "print(accuracy_randomForest_test)\n",
    "cm = confusion_matrix(temporary[4000:5000],clf.predict(test_svm))"
   ]
  },
  {
   "cell_type": "code",
   "execution_count": 34,
   "metadata": {},
   "outputs": [
    {
     "data": {
      "text/plain": [
       "Text(69.0, 0.5, 'Truth')"
      ]
     },
     "execution_count": 34,
     "metadata": {},
     "output_type": "execute_result"
    },
    {
     "data": {
      "image/png": "[encoded data removed]",
      "text/plain": [
       "<Figure size 720x504 with 2 Axes>"
      ]
     },
     "metadata": {
      "needs_background": "light"
     },
     "output_type": "display_data"
    }
   ],
   "source": [
    "%matplotlib inline\n",
    "import seaborn as sn\n",
    "plt.figure(figsize=(10,7))\n",
    "sn.heatmap(cm,annot=True)\n",
    "plt.xlabel('Predicted')\n",
    "plt.ylabel('Truth')"
   ]
  },
  {
   "cell_type": "code",
   "execution_count": null,
   "metadata": {},
   "outputs": [],
   "source": []
  }
 ],
 "metadata": {
  "kernelspec": {
   "display_name": "Python 3",
   "language": "python",
   "name": "python3"
  },
  "language_info": {
   "codemirror_mode": {
    "name": "ipython",
    "version": 3
   },
   "file_extension": ".py",
   "mimetype": "text/x-python",
   "name": "python",
   "nbconvert_exporter": "python",
   "pygments_lexer": "ipython3",
   "version": "3.7.0"
  }
 },
 "nbformat": 4,
 "nbformat_minor": 2
}
