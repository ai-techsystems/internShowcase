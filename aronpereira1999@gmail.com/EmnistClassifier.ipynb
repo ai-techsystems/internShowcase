{
 "cells": [
  {
   "cell_type": "code",
   "execution_count": 9,
   "metadata": {},
   "outputs": [],
   "source": [
    "import numpy as np\n",
    "import pandas as pd\n",
    "import matplotlib.pyplot as plt\n",
    "import os"
   ]
  },
  {
   "cell_type": "code",
   "execution_count": 10,
   "metadata": {},
   "outputs": [],
   "source": [
    "from mnist import MNIST\n",
    "mndata = MNIST()"
   ]
  },
  {
   "cell_type": "code",
   "execution_count": 11,
   "metadata": {},
   "outputs": [],
   "source": [
    "#Load the data\n",
    "X_train, y_train = mndata.load('emnist/emnist_source_files/emnist-byclass-train-images-idx3-ubyte',\n",
    "                               'emnist/emnist_source_files/emnist-byclass-train-labels-idx1-ubyte')\n",
    "X_test, y_test = mndata.load('emnist/emnist_source_files/emnist-byclass-test-images-idx3-ubyte',\n",
    "                             'emnist/emnist_source_files/emnist-byclass-test-labels-idx1-ubyte')"
   ]
  },
  {
   "cell_type": "code",
   "execution_count": 12,
   "metadata": {},
   "outputs": [],
   "source": [
    "# Convert data to numpy arrays and normalize images to the interval [0, 1]\n",
    "X_train = np.array(X_train) / 255.0\n",
    "y_train = np.array(y_train)\n",
    "X_test = np.array(X_test) / 255.0\n",
    "y_test = np.array(y_test)"
   ]
  },
  {
   "cell_type": "code",
   "execution_count": 13,
   "metadata": {},
   "outputs": [
    {
     "data": {
      "text/plain": [
       "(697932, 784)"
      ]
     },
     "execution_count": 13,
     "metadata": {},
     "output_type": "execute_result"
    }
   ],
   "source": [
    "X_train.shape"
   ]
  },
  {
   "cell_type": "code",
   "execution_count": 14,
   "metadata": {},
   "outputs": [
    {
     "data": {
      "text/plain": [
       "(697932,)"
      ]
     },
     "execution_count": 14,
     "metadata": {},
     "output_type": "execute_result"
    }
   ],
   "source": [
    "y_train.shape"
   ]
  },
  {
   "cell_type": "code",
   "execution_count": 15,
   "metadata": {},
   "outputs": [],
   "source": [
    "#Reshaping all images into 28*28 for pre-processing\n",
    "X_train = X_train.reshape(X_train.shape[0], 28, 28)\n",
    "X_test = X_test.reshape(X_test.shape[0], 28, 28)"
   ]
  },
  {
   "cell_type": "code",
   "execution_count": 16,
   "metadata": {},
   "outputs": [
    {
     "data": {
      "text/plain": [
       "<function matplotlib.pyplot.show(*args, **kw)>"
      ]
     },
     "execution_count": 16,
     "metadata": {},
     "output_type": "execute_result"
    },
    {
     "data": {
      "image/png": "[encoded data removed]",
      "text/plain": [
       "<Figure size 432x288 with 1 Axes>"
      ]
     },
     "metadata": {
      "needs_background": "light"
     },
     "output_type": "display_data"
    }
   ],
   "source": [
    "#Display a random image\n",
    "plt.imshow(X_train[20])\n",
    "plt.show"
   ]
  },
  {
   "cell_type": "code",
   "execution_count": 17,
   "metadata": {},
   "outputs": [
    {
     "data": {
      "text/plain": [
       "array([[0.        , 0.        , 0.        , 0.        , 0.        ,\n",
       "        0.        , 0.        , 0.        , 0.        , 0.        ,\n",
       "        0.        , 0.        , 0.        , 0.        , 0.        ,\n",
       "        0.        , 0.        , 0.        , 0.        , 0.        ,\n",
       "        0.        , 0.        , 0.        , 0.        , 0.        ,\n",
       "        0.        , 0.        , 0.        ],\n",
       "       [0.        , 0.        , 0.        , 0.        , 0.        ,\n",
       "        0.        , 0.        , 0.        , 0.        , 0.        ,\n",
       "        0.        , 0.        , 0.        , 0.        , 0.        ,\n",
       "        0.        , 0.        , 0.        , 0.        , 0.        ,\n",
       "        0.        , 0.        , 0.        , 0.        , 0.        ,\n",
       "        0.        , 0.        , 0.        ],\n",
       "       [0.        , 0.        , 0.        , 0.        , 0.        ,\n",
       "        0.        , 0.        , 0.        , 0.        , 0.        ,\n",
       "        0.        , 0.        , 0.        , 0.        , 0.        ,\n",
       "        0.        , 0.        , 0.        , 0.        , 0.        ,\n",
       "        0.        , 0.        , 0.        , 0.        , 0.        ,\n",
       "        0.        , 0.        , 0.        ],\n",
       "       [0.        , 0.        , 0.        , 0.        , 0.        ,\n",
       "        0.        , 0.        , 0.        , 0.        , 0.        ,\n",
       "        0.        , 0.        , 0.        , 0.        , 0.        ,\n",
       "        0.        , 0.        , 0.03137255, 0.1254902 , 0.14509804,\n",
       "        0.1254902 , 0.03529412, 0.00784314, 0.        , 0.        ,\n",
       "        0.        , 0.        , 0.        ],\n",
       "       [0.        , 0.        , 0.        , 0.        , 0.        ,\n",
       "        0.        , 0.        , 0.        , 0.        , 0.        ,\n",
       "        0.        , 0.        , 0.        , 0.        , 0.        ,\n",
       "        0.        , 0.0745098 , 0.4745098 , 0.79607843, 0.85098039,\n",
       "        0.8       , 0.54509804, 0.30196078, 0.03137255, 0.        ,\n",
       "        0.        , 0.        , 0.        ],\n",
       "       [0.        , 0.        , 0.        , 0.        , 0.        ,\n",
       "        0.        , 0.        , 0.        , 0.        , 0.        ,\n",
       "        0.        , 0.        , 0.        , 0.        , 0.        ,\n",
       "        0.        , 0.19607843, 0.85490196, 0.99215686, 0.99607843,\n",
       "        0.99607843, 0.98039216, 0.85490196, 0.35294118, 0.02745098,\n",
       "        0.        , 0.        , 0.        ],\n",
       "       [0.        , 0.        , 0.        , 0.        , 0.        ,\n",
       "        0.        , 0.        , 0.        , 0.        , 0.        ,\n",
       "        0.        , 0.        , 0.        , 0.        , 0.        ,\n",
       "        0.01568627, 0.44705882, 0.93333333, 0.87058824, 0.87058824,\n",
       "        0.96078431, 0.98823529, 0.99215686, 0.81176471, 0.18431373,\n",
       "        0.00392157, 0.        , 0.        ],\n",
       "       [0.        , 0.        , 0.        , 0.        , 0.        ,\n",
       "        0.        , 0.        , 0.        , 0.        , 0.        ,\n",
       "        0.        , 0.        , 0.        , 0.        , 0.        ,\n",
       "        0.03529412, 0.5372549 , 0.6745098 , 0.20784314, 0.2       ,\n",
       "        0.45098039, 0.69411765, 0.96862745, 0.96862745, 0.62352941,\n",
       "        0.07843137, 0.        , 0.        ],\n",
       "       [0.        , 0.        , 0.        , 0.        , 0.        ,\n",
       "        0.        , 0.        , 0.        , 0.        , 0.        ,\n",
       "        0.        , 0.        , 0.        , 0.        , 0.        ,\n",
       "        0.10588235, 0.61176471, 0.30196078, 0.01176471, 0.        ,\n",
       "        0.01568627, 0.18823529, 0.81960784, 0.99215686, 0.8627451 ,\n",
       "        0.19607843, 0.        , 0.        ],\n",
       "       [0.        , 0.        , 0.        , 0.        , 0.        ,\n",
       "        0.        , 0.        , 0.        , 0.00392157, 0.        ,\n",
       "        0.        , 0.        , 0.        , 0.        , 0.        ,\n",
       "        0.01960784, 0.10588235, 0.02745098, 0.        , 0.        ,\n",
       "        0.        , 0.03921569, 0.55686275, 0.98431373, 0.96078431,\n",
       "        0.44705882, 0.01568627, 0.        ],\n",
       "       [0.        , 0.        , 0.        , 0.        , 0.        ,\n",
       "        0.        , 0.        , 0.03137255, 0.24705882, 0.1254902 ,\n",
       "        0.00392157, 0.        , 0.        , 0.        , 0.01176471,\n",
       "        0.        , 0.        , 0.        , 0.        , 0.        ,\n",
       "        0.        , 0.08235294, 0.6745098 , 0.98823529, 0.97647059,\n",
       "        0.49019608, 0.01568627, 0.        ],\n",
       "       [0.        , 0.        , 0.        , 0.        , 0.        ,\n",
       "        0.00392157, 0.08627451, 0.37254902, 0.83137255, 0.61568627,\n",
       "        0.07843137, 0.        , 0.01960784, 0.17647059, 0.39215686,\n",
       "        0.17647059, 0.01960784, 0.        , 0.        , 0.        ,\n",
       "        0.        , 0.14901961, 0.84705882, 0.99607843, 0.91372549,\n",
       "        0.32156863, 0.00784314, 0.        ],\n",
       "       [0.        , 0.        , 0.        , 0.        , 0.        ,\n",
       "        0.08627451, 0.60392157, 0.90980392, 0.99215686, 0.83529412,\n",
       "        0.14117647, 0.        , 0.12941176, 0.74509804, 0.94117647,\n",
       "        0.74509804, 0.1254902 , 0.        , 0.        , 0.        ,\n",
       "        0.01176471, 0.32941176, 0.91372549, 0.99607843, 0.8       ,\n",
       "        0.13333333, 0.        , 0.        ],\n",
       "       [0.        , 0.        , 0.        , 0.        , 0.01176471,\n",
       "        0.3254902 , 0.90980392, 0.99607843, 0.98431373, 0.66666667,\n",
       "        0.08235294, 0.02745098, 0.37254902, 0.91764706, 0.99607843,\n",
       "        0.85098039, 0.14509804, 0.        , 0.        , 0.        ,\n",
       "        0.08627451, 0.67058824, 0.98431373, 0.96470588, 0.49803922,\n",
       "        0.03137255, 0.        , 0.        ],\n",
       "       [0.        , 0.        , 0.        , 0.00392157, 0.14117647,\n",
       "        0.68627451, 0.98823529, 0.99607843, 0.8627451 , 0.30980392,\n",
       "        0.01176471, 0.1254902 , 0.79215686, 0.99215686, 0.99607843,\n",
       "        0.8       , 0.1254902 , 0.        , 0.        , 0.00784314,\n",
       "        0.32156863, 0.90980392, 0.99215686, 0.81568627, 0.18039216,\n",
       "        0.        , 0.        , 0.        ],\n",
       "       [0.        , 0.        , 0.00392157, 0.1372549 , 0.63921569,\n",
       "        0.96470588, 0.99607843, 0.95686275, 0.49803922, 0.03921569,\n",
       "        0.        , 0.19215686, 0.86666667, 0.99607843, 0.98431373,\n",
       "        0.54901961, 0.03529412, 0.        , 0.        , 0.04313725,\n",
       "        0.54509804, 0.98039216, 0.95686275, 0.49411765, 0.03137255,\n",
       "        0.        , 0.        , 0.        ],\n",
       "       [0.        , 0.        , 0.08627451, 0.62352941, 0.96078431,\n",
       "        0.99607843, 0.96470588, 0.63921569, 0.12941176, 0.        ,\n",
       "        0.00784314, 0.32156863, 0.91372549, 0.99607843, 0.97647059,\n",
       "        0.49019608, 0.01568627, 0.        , 0.01176471, 0.30980392,\n",
       "        0.8627451 , 0.98431373, 0.68627451, 0.13333333, 0.        ,\n",
       "        0.        , 0.        , 0.        ],\n",
       "       [0.        , 0.00392157, 0.26666667, 0.89019608, 0.99607843,\n",
       "        0.98823529, 0.69411765, 0.14117647, 0.00392157, 0.        ,\n",
       "        0.03529412, 0.50588235, 0.96470588, 0.99607843, 0.8627451 ,\n",
       "        0.30196078, 0.00784314, 0.        , 0.08627451, 0.67058824,\n",
       "        0.98431373, 0.90980392, 0.3254902 , 0.01176471, 0.        ,\n",
       "        0.        , 0.        , 0.        ],\n",
       "       [0.        , 0.        , 0.17254902, 0.81568627, 0.99607843,\n",
       "        0.96078431, 0.45098039, 0.01568627, 0.        , 0.01568627,\n",
       "        0.18823529, 0.81568627, 0.99607843, 0.98431373, 0.55294118,\n",
       "        0.04313725, 0.00784314, 0.04313725, 0.37254902, 0.90980392,\n",
       "        0.98431373, 0.67058824, 0.08627451, 0.        , 0.        ,\n",
       "        0.        , 0.        , 0.        ],\n",
       "       [0.        , 0.        , 0.03529412, 0.54901961, 0.98039216,\n",
       "        0.87058824, 0.20392157, 0.01568627, 0.13333333, 0.45098039,\n",
       "        0.69411765, 0.96862745, 1.        , 0.98431373, 0.57254902,\n",
       "        0.16862745, 0.32156863, 0.54509804, 0.86666667, 0.99215686,\n",
       "        0.90980392, 0.3254902 , 0.01176471, 0.        , 0.        ,\n",
       "        0.        , 0.        , 0.        ],\n",
       "       [0.        , 0.        , 0.01568627, 0.44705882, 0.96078431,\n",
       "        0.91764706, 0.40392157, 0.3372549 , 0.68627451, 0.95294118,\n",
       "        0.98823529, 0.99607843, 0.99607843, 0.99607843, 0.9254902 ,\n",
       "        0.85490196, 0.91372549, 0.98039216, 0.99607843, 0.96078431,\n",
       "        0.62352941, 0.08627451, 0.        , 0.        , 0.        ,\n",
       "        0.        , 0.        , 0.        ],\n",
       "       [0.        , 0.        , 0.        , 0.19607843, 0.87058824,\n",
       "        0.99215686, 0.92156863, 0.91764706, 0.98431373, 0.98823529,\n",
       "        0.96078431, 0.87058824, 0.91372549, 0.97647059, 0.98823529,\n",
       "        0.99607843, 0.98823529, 0.98039216, 0.95294118, 0.63921569,\n",
       "        0.1372549 , 0.00392157, 0.        , 0.        , 0.        ,\n",
       "        0.        , 0.        , 0.        ],\n",
       "       [0.        , 0.        , 0.        , 0.1254902 , 0.79607843,\n",
       "        0.99215686, 0.99607843, 0.99607843, 0.95686275, 0.69411765,\n",
       "        0.45098039, 0.20392157, 0.32156863, 0.49803922, 0.6745098 ,\n",
       "        0.83921569, 0.6745098 , 0.50588235, 0.44313725, 0.12941176,\n",
       "        0.00392157, 0.        , 0.        , 0.        , 0.        ,\n",
       "        0.        , 0.        , 0.        ],\n",
       "       [0.        , 0.        , 0.        , 0.03137255, 0.4745098 ,\n",
       "        0.83529412, 0.85098039, 0.79607843, 0.49411765, 0.13333333,\n",
       "        0.01568627, 0.        , 0.00784314, 0.01960784, 0.08235294,\n",
       "        0.14117647, 0.08235294, 0.01960784, 0.01568627, 0.        ,\n",
       "        0.        , 0.        , 0.        , 0.        , 0.        ,\n",
       "        0.        , 0.        , 0.        ],\n",
       "       [0.        , 0.        , 0.        , 0.        , 0.07058824,\n",
       "        0.14509804, 0.14509804, 0.1254902 , 0.03137255, 0.        ,\n",
       "        0.        , 0.        , 0.        , 0.        , 0.        ,\n",
       "        0.        , 0.        , 0.        , 0.        , 0.        ,\n",
       "        0.        , 0.        , 0.        , 0.        , 0.        ,\n",
       "        0.        , 0.        , 0.        ],\n",
       "       [0.        , 0.        , 0.        , 0.        , 0.        ,\n",
       "        0.        , 0.        , 0.        , 0.        , 0.        ,\n",
       "        0.        , 0.        , 0.        , 0.        , 0.        ,\n",
       "        0.        , 0.        , 0.        , 0.        , 0.        ,\n",
       "        0.        , 0.        , 0.        , 0.        , 0.        ,\n",
       "        0.        , 0.        , 0.        ],\n",
       "       [0.        , 0.        , 0.        , 0.        , 0.        ,\n",
       "        0.        , 0.        , 0.        , 0.        , 0.        ,\n",
       "        0.        , 0.        , 0.        , 0.        , 0.        ,\n",
       "        0.        , 0.        , 0.        , 0.        , 0.        ,\n",
       "        0.        , 0.        , 0.        , 0.        , 0.        ,\n",
       "        0.        , 0.        , 0.        ],\n",
       "       [0.        , 0.        , 0.        , 0.        , 0.        ,\n",
       "        0.        , 0.        , 0.        , 0.        , 0.        ,\n",
       "        0.        , 0.        , 0.        , 0.        , 0.        ,\n",
       "        0.        , 0.        , 0.        , 0.        , 0.        ,\n",
       "        0.        , 0.        , 0.        , 0.        , 0.        ,\n",
       "        0.        , 0.        , 0.        ]])"
      ]
     },
     "execution_count": 17,
     "metadata": {},
     "output_type": "execute_result"
    }
   ],
   "source": [
    "#Image array\n",
    "X_train[20]"
   ]
  },
  {
   "cell_type": "code",
   "execution_count": 18,
   "metadata": {},
   "outputs": [
    {
     "name": "stdout",
     "output_type": "stream",
     "text": [
      "Process Complete: Rotated and reversed train images!\n"
     ]
    },
    {
     "data": {
      "image/png": "[encoded data removed]",
      "text/plain": [
       "<Figure size 432x288 with 1 Axes>"
      ]
     },
     "metadata": {
      "needs_background": "light"
     },
     "output_type": "display_data"
    }
   ],
   "source": [
    "#Since the images are not in right shape process the images\n",
    "#for train data\n",
    "for t in range(697932):\n",
    "    X_train[t]=np.transpose(X_train[t])\n",
    "    \n",
    "#checking\n",
    "plt.imshow(X_train[20])\n",
    "plt.show\n",
    "print('Process Complete: Rotated and reversed train images!')"
   ]
  },
  {
   "cell_type": "code",
   "execution_count": 19,
   "metadata": {},
   "outputs": [
    {
     "name": "stdout",
     "output_type": "stream",
     "text": [
      "Process Complete: Rotated and reversed train images!\n"
     ]
    },
    {
     "data": {
      "image/png": "[encoded data removed]",
      "text/plain": [
       "<Figure size 432x288 with 1 Axes>"
      ]
     },
     "metadata": {
      "needs_background": "light"
     },
     "output_type": "display_data"
    }
   ],
   "source": [
    "#for test data  \n",
    "for t in range(116323):\n",
    "    X_test[t]=np.transpose(X_test[t])\n",
    "\n",
    "#checking\n",
    "plt.imshow(X_test[2])\n",
    "plt.show\n",
    "print('Process Complete: Rotated and reversed train images!')"
   ]
  },
  {
   "cell_type": "code",
   "execution_count": 20,
   "metadata": {},
   "outputs": [],
   "source": [
    "X_train = X_train.reshape(X_train.shape[0], 784,1)\n",
    "X_test = X_test.reshape(X_test.shape[0], 784,1)"
   ]
  },
  {
   "cell_type": "code",
   "execution_count": 21,
   "metadata": {},
   "outputs": [],
   "source": [
    "import keras\n",
    "from keras.models import Sequential\n",
    "from keras import optimizers\n",
    "from keras.utils import np_utils\n",
    "from keras.layers import Convolution2D, MaxPooling2D, Dropout, Flatten, Dense,Reshape"
   ]
  },
  {
   "cell_type": "code",
   "execution_count": 22,
   "metadata": {},
   "outputs": [],
   "source": [
    "def resh(ipar):\n",
    "    opar = []\n",
    "    for image in ipar:\n",
    "        opar.append(image.reshape(-1))\n",
    "    return np.asarray(opar)"
   ]
  },
  {
   "cell_type": "code",
   "execution_count": 23,
   "metadata": {},
   "outputs": [],
   "source": [
    "train_images = X_train.astype('float32')\n",
    "test_images = X_test.astype('float32')\n",
    "\n",
    "train_images = resh(train_images)\n",
    "test_images = resh(test_images)\n",
    "\n",
    "\n",
    "train_labels = np_utils.to_categorical(y_train, 62)\n",
    "test_labels = np_utils.to_categorical(y_test, 62)"
   ]
  },
  {
   "cell_type": "code",
   "execution_count": 24,
   "metadata": {},
   "outputs": [],
   "source": [
    "classifier = Sequential()\n",
    "classifier.add(Reshape((28,28,1), input_shape=(784,)))\n",
    "classifier.add(Convolution2D(32,(3,3),activation='relu'))\n",
    "classifier.add(MaxPooling2D(pool_size=(2, 2)))\n",
    "classifier.add(Flatten())\n",
    "#Hidden Layer\n",
    "classifier.add(Dense(units = 512 ,activation = 'relu'))\n",
    "classifier.add(Dropout(0.5))\n",
    "#Output Layer\n",
    "classifier.add(Dense(62, activation='softmax'))"
   ]
  },
  {
   "cell_type": "code",
   "execution_count": 25,
   "metadata": {},
   "outputs": [],
   "source": [
    "classifier.compile(loss='categorical_crossentropy', optimizer='adam', metrics=['accuracy'])"
   ]
  },
  {
   "cell_type": "code",
   "execution_count": 26,
   "metadata": {},
   "outputs": [
    {
     "name": "stdout",
     "output_type": "stream",
     "text": [
      "_________________________________________________________________\n",
      "Layer (type)                 Output Shape              Param #   \n",
      "=================================================================\n",
      "reshape_1 (Reshape)          (None, 28, 28, 1)         0         \n",
      "_________________________________________________________________\n",
      "conv2d_1 (Conv2D)            (None, 26, 26, 32)        320       \n",
      "_________________________________________________________________\n",
      "max_pooling2d_1 (MaxPooling2 (None, 13, 13, 32)        0         \n",
      "_________________________________________________________________\n",
      "flatten_1 (Flatten)          (None, 5408)              0         \n",
      "_________________________________________________________________\n",
      "dense_1 (Dense)              (None, 512)               2769408   \n",
      "_________________________________________________________________\n",
      "dropout_1 (Dropout)          (None, 512)               0         \n",
      "_________________________________________________________________\n",
      "dense_2 (Dense)              (None, 62)                31806     \n",
      "=================================================================\n",
      "Total params: 2,801,534\n",
      "Trainable params: 2,801,534\n",
      "Non-trainable params: 0\n",
      "_________________________________________________________________\n",
      "None\n"
     ]
    }
   ],
   "source": [
    "print(classifier.summary())"
   ]
  },
  {
   "cell_type": "code",
   "execution_count": 27,
   "metadata": {
    "scrolled": true
   },
   "outputs": [
    {
     "name": "stdout",
     "output_type": "stream",
     "text": [
      "Train on 697932 samples, validate on 116323 samples\n",
      "Epoch 1/30\n",
      "697932/697932 [==============================] - 973s 1ms/step - loss: 0.6573 - acc: 0.7912 - val_loss: 0.4325 - val_acc: 0.8471\n",
      "Epoch 2/30\n",
      "697932/697932 [==============================] - 1118s 2ms/step - loss: 0.4754 - acc: 0.8358 - val_loss: 0.4021 - val_acc: 0.8555\n",
      "Epoch 3/30\n",
      "697932/697932 [==============================] - 1190s 2ms/step - loss: 0.4427 - acc: 0.8442 - val_loss: 0.3890 - val_acc: 0.8586\n",
      "Epoch 4/30\n",
      "697932/697932 [==============================] - 1041s 1ms/step - loss: 0.4220 - acc: 0.8497 - val_loss: 0.3801 - val_acc: 0.8613\n",
      "Epoch 5/30\n",
      "697932/697932 [==============================] - 918s 1ms/step - loss: 0.4070 - acc: 0.8536 - val_loss: 0.3728 - val_acc: 0.8635\n",
      "Epoch 6/30\n",
      "697932/697932 [==============================] - 1034s 1ms/step - loss: 0.3939 - acc: 0.8570 - val_loss: 0.3711 - val_acc: 0.8639\n",
      "Epoch 7/30\n",
      "697932/697932 [==============================] - 1113s 2ms/step - loss: 0.3825 - acc: 0.8602 - val_loss: 0.3683 - val_acc: 0.8653\n",
      "Epoch 8/30\n",
      "697932/697932 [==============================] - 886s 1ms/step - loss: 0.3728 - acc: 0.8627 - val_loss: 0.3692 - val_acc: 0.8655\n",
      "Epoch 9/30\n",
      "697932/697932 [==============================] - 949s 1ms/step - loss: 0.3639 - acc: 0.8650 - val_loss: 0.3664 - val_acc: 0.8653\n",
      "Epoch 10/30\n",
      "697932/697932 [==============================] - 951s 1ms/step - loss: 0.3559 - acc: 0.8673 - val_loss: 0.3672 - val_acc: 0.8669\n",
      "Epoch 11/30\n",
      "697932/697932 [==============================] - 968s 1ms/step - loss: 0.3489 - acc: 0.8696 - val_loss: 0.3659 - val_acc: 0.8671\n",
      "Epoch 12/30\n",
      "697932/697932 [==============================] - 958s 1ms/step - loss: 0.3416 - acc: 0.8715 - val_loss: 0.3740 - val_acc: 0.8646\n",
      "Epoch 13/30\n",
      "697932/697932 [==============================] - 907s 1ms/step - loss: 0.3350 - acc: 0.8737 - val_loss: 0.3710 - val_acc: 0.8663\n",
      "Epoch 14/30\n",
      "697932/697932 [==============================] - 947s 1ms/step - loss: 0.3282 - acc: 0.8753 - val_loss: 0.3743 - val_acc: 0.8658\n",
      "Epoch 15/30\n",
      "697932/697932 [==============================] - 962s 1ms/step - loss: 0.3232 - acc: 0.8771 - val_loss: 0.3749 - val_acc: 0.8674\n",
      "Epoch 16/30\n",
      "697932/697932 [==============================] - 937s 1ms/step - loss: 0.3170 - acc: 0.8792 - val_loss: 0.3777 - val_acc: 0.8658\n",
      "Epoch 17/30\n",
      "697932/697932 [==============================] - 965s 1ms/step - loss: 0.3113 - acc: 0.8807 - val_loss: 0.3785 - val_acc: 0.8656\n",
      "Epoch 18/30\n",
      "697932/697932 [==============================] - 962s 1ms/step - loss: 0.3066 - acc: 0.8823 - val_loss: 0.3846 - val_acc: 0.8659\n",
      "Epoch 19/30\n",
      "697932/697932 [==============================] - 940s 1ms/step - loss: 0.3018 - acc: 0.8841 - val_loss: 0.3871 - val_acc: 0.8640\n",
      "Epoch 20/30\n",
      "697932/697932 [==============================] - 937s 1ms/step - loss: 0.2969 - acc: 0.8859 - val_loss: 0.3923 - val_acc: 0.8656\n",
      "Epoch 21/30\n",
      "697932/697932 [==============================] - 953s 1ms/step - loss: 0.2924 - acc: 0.8870 - val_loss: 0.3951 - val_acc: 0.8664\n",
      "Epoch 22/30\n",
      "697932/697932 [==============================] - 928s 1ms/step - loss: 0.2873 - acc: 0.8891 - val_loss: 0.4042 - val_acc: 0.8663\n",
      "Epoch 23/30\n",
      "697932/697932 [==============================] - 949s 1ms/step - loss: 0.2838 - acc: 0.8903 - val_loss: 0.4017 - val_acc: 0.8651\n",
      "Epoch 24/30\n",
      "697932/697932 [==============================] - 921s 1ms/step - loss: 0.2797 - acc: 0.8917 - val_loss: 0.4092 - val_acc: 0.8639\n",
      "Epoch 25/30\n",
      "697932/697932 [==============================] - 941s 1ms/step - loss: 0.2761 - acc: 0.8930 - val_loss: 0.4092 - val_acc: 0.8644\n",
      "Epoch 26/30\n",
      "697932/697932 [==============================] - 940s 1ms/step - loss: 0.2714 - acc: 0.8948 - val_loss: 0.4132 - val_acc: 0.8638\n",
      "Epoch 27/30\n",
      "697932/697932 [==============================] - 962s 1ms/step - loss: 0.2679 - acc: 0.8961 - val_loss: 0.4133 - val_acc: 0.8643\n",
      "Epoch 28/30\n",
      "697932/697932 [==============================] - 923s 1ms/step - loss: 0.2644 - acc: 0.8974 - val_loss: 0.4221 - val_acc: 0.8644\n",
      "Epoch 29/30\n",
      "697932/697932 [==============================] - 962s 1ms/step - loss: 0.2607 - acc: 0.8989 - val_loss: 0.4263 - val_acc: 0.8628\n",
      "Epoch 30/30\n",
      "697932/697932 [==============================] - 933s 1ms/step - loss: 0.2578 - acc: 0.8995 - val_loss: 0.4357 - val_acc: 0.8624\n"
     ]
    }
   ],
   "source": [
    "history = classifier.fit(train_images,train_labels,validation_data=(test_images, test_labels), batch_size=256, epochs=30)"
   ]
  },
  {
   "cell_type": "code",
   "execution_count": 43,
   "metadata": {},
   "outputs": [
    {
     "name": "stdout",
     "output_type": "stream",
     "text": [
      "116323/116323 [==============================] - 71s 609us/step\n"
     ]
    },
    {
     "data": {
      "text/plain": [
       "0.8624175786387903"
      ]
     },
     "execution_count": 43,
     "metadata": {},
     "output_type": "execute_result"
    }
   ],
   "source": [
    "_, test_acc = classifier.evaluate(test_images, test_labels)\n",
    "test_acc"
   ]
  },
  {
   "cell_type": "markdown",
   "metadata": {},
   "source": [
    "# Evaluation of Dataset Size Vs Accuracy"
   ]
  },
  {
   "cell_type": "code",
   "execution_count": 60,
   "metadata": {},
   "outputs": [
    {
     "data": {
      "text/plain": [
       "(697932, 784)"
      ]
     },
     "execution_count": 60,
     "metadata": {},
     "output_type": "execute_result"
    }
   ],
   "source": [
    "train_images.shape"
   ]
  },
  {
   "cell_type": "markdown",
   "metadata": {},
   "source": [
    "For 9k"
   ]
  },
  {
   "cell_type": "code",
   "execution_count": 70,
   "metadata": {},
   "outputs": [
    {
     "name": "stdout",
     "output_type": "stream",
     "text": [
      "(9000, 784)\n",
      "(9000, 62)\n"
     ]
    }
   ],
   "source": [
    "train_images1 = train_images[:9000,:]\n",
    "print(train_images1.shape)\n",
    "train_labels1 = train_labels[:9000,:]\n",
    "print(train_labels1.shape)"
   ]
  },
  {
   "cell_type": "markdown",
   "metadata": {},
   "source": [
    "For 27k"
   ]
  },
  {
   "cell_type": "code",
   "execution_count": 72,
   "metadata": {},
   "outputs": [
    {
     "name": "stdout",
     "output_type": "stream",
     "text": [
      "(27000, 784)\n",
      "(27000, 62)\n"
     ]
    }
   ],
   "source": [
    "train_images2 = train_images[:27000,:]\n",
    "print(train_images2.shape)\n",
    "train_labels2 = train_labels[:27000,:]\n",
    "print(train_labels2.shape)"
   ]
  },
  {
   "cell_type": "markdown",
   "metadata": {},
   "source": [
    "For 80k"
   ]
  },
  {
   "cell_type": "code",
   "execution_count": 76,
   "metadata": {},
   "outputs": [
    {
     "name": "stdout",
     "output_type": "stream",
     "text": [
      "(80000, 784)\n",
      "(80000, 62)\n"
     ]
    }
   ],
   "source": [
    "train_images3 = train_images[:80000,:]\n",
    "print(train_images3.shape)\n",
    "train_labels3 = train_labels[:80000,:]\n",
    "print(train_labels3.shape)"
   ]
  },
  {
   "cell_type": "markdown",
   "metadata": {},
   "source": [
    "For 240k"
   ]
  },
  {
   "cell_type": "code",
   "execution_count": 78,
   "metadata": {},
   "outputs": [
    {
     "name": "stdout",
     "output_type": "stream",
     "text": [
      "(240000, 784)\n",
      "(240000, 62)\n"
     ]
    }
   ],
   "source": [
    "train_images4 = train_images[:240000,:]\n",
    "print(train_images4.shape)\n",
    "train_labels4 = train_labels[:240000,:]\n",
    "print(train_labels4.shape)"
   ]
  },
  {
   "cell_type": "markdown",
   "metadata": {},
   "source": [
    "# Model Evaluation"
   ]
  },
  {
   "cell_type": "code",
   "execution_count": 79,
   "metadata": {},
   "outputs": [],
   "source": [
    "classifier1 = Sequential()\n",
    "classifier1.add(Reshape((28,28,1), input_shape=(784,)))\n",
    "classifier1.add(Convolution2D(32,(3,3),activation='relu'))\n",
    "classifier1.add(MaxPooling2D(pool_size=(2, 2)))\n",
    "classifier1.add(Flatten())\n",
    "#Hidden Layer\n",
    "classifier1.add(Dense(units = 512 ,activation = 'relu'))\n",
    "classifier1.add(Dropout(0.5))\n",
    "#Output Layer\n",
    "classifier1.add(Dense(62, activation='softmax'))"
   ]
  },
  {
   "cell_type": "code",
   "execution_count": 80,
   "metadata": {},
   "outputs": [],
   "source": [
    "classifier1.compile(loss='categorical_crossentropy', optimizer='adam', metrics=['accuracy'])"
   ]
  },
  {
   "cell_type": "code",
   "execution_count": 81,
   "metadata": {},
   "outputs": [
    {
     "name": "stdout",
     "output_type": "stream",
     "text": [
      "Train on 9000 samples, validate on 116323 samples\n",
      "Epoch 1/30\n",
      "9000/9000 [==============================] - 74s 8ms/step - loss: 2.5015 - acc: 0.3982 - val_loss: 1.5095 - val_acc: 0.6103\n",
      "Epoch 2/30\n",
      "9000/9000 [==============================] - 50s 6ms/step - loss: 1.4702 - acc: 0.6031 - val_loss: 1.1757 - val_acc: 0.6619\n",
      "Epoch 3/30\n",
      "9000/9000 [==============================] - 49s 5ms/step - loss: 1.1971 - acc: 0.6517 - val_loss: 1.0371 - val_acc: 0.6987\n",
      "Epoch 4/30\n",
      "9000/9000 [==============================] - 49s 5ms/step - loss: 1.0256 - acc: 0.6953 - val_loss: 0.9266 - val_acc: 0.7252\n",
      "Epoch 5/30\n",
      "9000/9000 [==============================] - 50s 6ms/step - loss: 0.8959 - acc: 0.7274 - val_loss: 0.8599 - val_acc: 0.7394\n",
      "Epoch 6/30\n",
      "9000/9000 [==============================] - 49s 5ms/step - loss: 0.8049 - acc: 0.7467 - val_loss: 0.8076 - val_acc: 0.7525\n",
      "Epoch 7/30\n",
      "9000/9000 [==============================] - 49s 5ms/step - loss: 0.7172 - acc: 0.7681 - val_loss: 0.7811 - val_acc: 0.7595\n",
      "Epoch 8/30\n",
      "9000/9000 [==============================] - 49s 5ms/step - loss: 0.6444 - acc: 0.7907 - val_loss: 0.7451 - val_acc: 0.7693\n",
      "Epoch 9/30\n",
      "9000/9000 [==============================] - 49s 5ms/step - loss: 0.5935 - acc: 0.8003 - val_loss: 0.7312 - val_acc: 0.7725\n",
      "Epoch 10/30\n",
      "9000/9000 [==============================] - 49s 5ms/step - loss: 0.5595 - acc: 0.8104 - val_loss: 0.7218 - val_acc: 0.7720\n",
      "Epoch 11/30\n",
      "9000/9000 [==============================] - 49s 5ms/step - loss: 0.5304 - acc: 0.8223 - val_loss: 0.7158 - val_acc: 0.7716\n",
      "Epoch 12/30\n",
      "9000/9000 [==============================] - 49s 5ms/step - loss: 0.4830 - acc: 0.8363 - val_loss: 0.7113 - val_acc: 0.7791\n",
      "Epoch 13/30\n",
      "9000/9000 [==============================] - 49s 5ms/step - loss: 0.4609 - acc: 0.8392 - val_loss: 0.6979 - val_acc: 0.7803\n",
      "Epoch 14/30\n",
      "9000/9000 [==============================] - 49s 5ms/step - loss: 0.4189 - acc: 0.8540 - val_loss: 0.7093 - val_acc: 0.7758\n",
      "Epoch 15/30\n",
      "9000/9000 [==============================] - 49s 5ms/step - loss: 0.3991 - acc: 0.8589 - val_loss: 0.6986 - val_acc: 0.7828\n",
      "Epoch 16/30\n",
      "9000/9000 [==============================] - 49s 5ms/step - loss: 0.3800 - acc: 0.8642 - val_loss: 0.6893 - val_acc: 0.7820\n",
      "Epoch 17/30\n",
      "9000/9000 [==============================] - 49s 5ms/step - loss: 0.3659 - acc: 0.8670 - val_loss: 0.6808 - val_acc: 0.7890\n",
      "Epoch 18/30\n",
      "9000/9000 [==============================] - 49s 5ms/step - loss: 0.3406 - acc: 0.8788 - val_loss: 0.6968 - val_acc: 0.7881\n",
      "Epoch 19/30\n",
      "9000/9000 [==============================] - 48s 5ms/step - loss: 0.3152 - acc: 0.8841 - val_loss: 0.6945 - val_acc: 0.7888\n",
      "Epoch 20/30\n",
      "9000/9000 [==============================] - 49s 5ms/step - loss: 0.3092 - acc: 0.8882 - val_loss: 0.7078 - val_acc: 0.7886\n",
      "Epoch 21/30\n",
      "9000/9000 [==============================] - 49s 5ms/step - loss: 0.2950 - acc: 0.8881 - val_loss: 0.7126 - val_acc: 0.7859\n",
      "Epoch 22/30\n",
      "9000/9000 [==============================] - 49s 5ms/step - loss: 0.2833 - acc: 0.8956 - val_loss: 0.7046 - val_acc: 0.7910\n",
      "Epoch 23/30\n",
      "9000/9000 [==============================] - 49s 5ms/step - loss: 0.2699 - acc: 0.8986 - val_loss: 0.7058 - val_acc: 0.7894\n",
      "Epoch 24/30\n",
      "9000/9000 [==============================] - 48s 5ms/step - loss: 0.2590 - acc: 0.9081 - val_loss: 0.7230 - val_acc: 0.7894\n",
      "Epoch 25/30\n",
      "9000/9000 [==============================] - 49s 5ms/step - loss: 0.2520 - acc: 0.9039 - val_loss: 0.7302 - val_acc: 0.7882\n",
      "Epoch 26/30\n",
      "9000/9000 [==============================] - 49s 5ms/step - loss: 0.2471 - acc: 0.9111 - val_loss: 0.7191 - val_acc: 0.7913\n",
      "Epoch 27/30\n",
      "9000/9000 [==============================] - 49s 5ms/step - loss: 0.2356 - acc: 0.9151 - val_loss: 0.7449 - val_acc: 0.7914\n",
      "Epoch 28/30\n",
      "9000/9000 [==============================] - 49s 5ms/step - loss: 0.2291 - acc: 0.9144 - val_loss: 0.7304 - val_acc: 0.7911\n",
      "Epoch 29/30\n",
      "9000/9000 [==============================] - 49s 5ms/step - loss: 0.2198 - acc: 0.9182 - val_loss: 0.7549 - val_acc: 0.7879\n",
      "Epoch 30/30\n",
      "9000/9000 [==============================] - 49s 5ms/step - loss: 0.2218 - acc: 0.9162 - val_loss: 0.7555 - val_acc: 0.7861\n"
     ]
    }
   ],
   "source": [
    "history1 = classifier1.fit(train_images1,train_labels1,validation_data=(test_images, test_labels), batch_size=256, epochs=30)"
   ]
  },
  {
   "cell_type": "code",
   "execution_count": 82,
   "metadata": {},
   "outputs": [
    {
     "name": "stdout",
     "output_type": "stream",
     "text": [
      "116323/116323 [==============================] - 53s 453us/step\n"
     ]
    },
    {
     "data": {
      "text/plain": [
       "0.7860526293171566"
      ]
     },
     "execution_count": 82,
     "metadata": {},
     "output_type": "execute_result"
    }
   ],
   "source": [
    "_, test_acc1 = classifier1.evaluate(test_images, test_labels)\n",
    "test_acc1"
   ]
  },
  {
   "cell_type": "code",
   "execution_count": 83,
   "metadata": {},
   "outputs": [],
   "source": [
    "classifier2 = Sequential()\n",
    "classifier2.add(Reshape((28,28,1), input_shape=(784,)))\n",
    "classifier2.add(Convolution2D(32,(3,3),activation='relu'))\n",
    "classifier2.add(MaxPooling2D(pool_size=(2, 2)))\n",
    "classifier2.add(Flatten())\n",
    "#Hidden Layer\n",
    "classifier2.add(Dense(units = 512 ,activation = 'relu'))\n",
    "classifier2.add(Dropout(0.5))\n",
    "#Output Layer\n",
    "classifier2.add(Dense(62, activation='softmax'))"
   ]
  },
  {
   "cell_type": "code",
   "execution_count": 84,
   "metadata": {},
   "outputs": [],
   "source": [
    "classifier2.compile(loss='categorical_crossentropy', optimizer='adam', metrics=['accuracy'])"
   ]
  },
  {
   "cell_type": "code",
   "execution_count": 85,
   "metadata": {},
   "outputs": [
    {
     "name": "stdout",
     "output_type": "stream",
     "text": [
      "Train on 27000 samples, validate on 116323 samples\n",
      "Epoch 1/30\n",
      "27000/27000 [==============================] - 71s 3ms/step - loss: 1.8154 - acc: 0.5344 - val_loss: 1.0308 - val_acc: 0.7059\n",
      "Epoch 2/30\n",
      "27000/27000 [==============================] - 70s 3ms/step - loss: 1.0337 - acc: 0.6964 - val_loss: 0.7876 - val_acc: 0.7591\n",
      "Epoch 3/30\n",
      "27000/27000 [==============================] - 69s 3ms/step - loss: 0.8142 - acc: 0.7460 - val_loss: 0.6817 - val_acc: 0.7854\n",
      "Epoch 4/30\n",
      "27000/27000 [==============================] - 69s 3ms/step - loss: 0.6937 - acc: 0.7799 - val_loss: 0.6203 - val_acc: 0.8005\n",
      "Epoch 5/30\n",
      "27000/27000 [==============================] - 70s 3ms/step - loss: 0.6207 - acc: 0.7960 - val_loss: 0.5898 - val_acc: 0.8081\n",
      "Epoch 6/30\n",
      "27000/27000 [==============================] - 70s 3ms/step - loss: 0.5666 - acc: 0.8114 - val_loss: 0.5688 - val_acc: 0.8124\n",
      "Epoch 7/30\n",
      "27000/27000 [==============================] - 69s 3ms/step - loss: 0.5298 - acc: 0.8190 - val_loss: 0.5579 - val_acc: 0.8153\n",
      "Epoch 8/30\n",
      "27000/27000 [==============================] - 69s 3ms/step - loss: 0.4953 - acc: 0.8293 - val_loss: 0.5472 - val_acc: 0.8187\n",
      "Epoch 9/30\n",
      "27000/27000 [==============================] - 69s 3ms/step - loss: 0.4679 - acc: 0.8351 - val_loss: 0.5372 - val_acc: 0.8215\n",
      "Epoch 10/30\n",
      "27000/27000 [==============================] - 70s 3ms/step - loss: 0.4406 - acc: 0.8444 - val_loss: 0.5402 - val_acc: 0.8217\n",
      "Epoch 11/30\n",
      "27000/27000 [==============================] - 69s 3ms/step - loss: 0.4221 - acc: 0.8487 - val_loss: 0.5384 - val_acc: 0.8197\n",
      "Epoch 12/30\n",
      "27000/27000 [==============================] - 69s 3ms/step - loss: 0.4034 - acc: 0.8546 - val_loss: 0.5311 - val_acc: 0.8244\n",
      "Epoch 13/30\n",
      "27000/27000 [==============================] - 69s 3ms/step - loss: 0.3872 - acc: 0.8578 - val_loss: 0.5383 - val_acc: 0.8220\n",
      "Epoch 14/30\n",
      "27000/27000 [==============================] - 70s 3ms/step - loss: 0.3701 - acc: 0.8648 - val_loss: 0.5301 - val_acc: 0.8232\n",
      "Epoch 15/30\n",
      "27000/27000 [==============================] - 70s 3ms/step - loss: 0.3551 - acc: 0.8699 - val_loss: 0.5364 - val_acc: 0.8206\n",
      "Epoch 16/30\n",
      "27000/27000 [==============================] - 69s 3ms/step - loss: 0.3420 - acc: 0.8717 - val_loss: 0.5424 - val_acc: 0.8250\n",
      "Epoch 17/30\n",
      "27000/27000 [==============================] - 69s 3ms/step - loss: 0.3315 - acc: 0.8760 - val_loss: 0.5498 - val_acc: 0.8225\n",
      "Epoch 18/30\n",
      "27000/27000 [==============================] - 70s 3ms/step - loss: 0.3176 - acc: 0.8811 - val_loss: 0.5434 - val_acc: 0.8241\n",
      "Epoch 19/30\n",
      "27000/27000 [==============================] - 70s 3ms/step - loss: 0.3049 - acc: 0.8847 - val_loss: 0.5530 - val_acc: 0.8249\n",
      "Epoch 20/30\n",
      "27000/27000 [==============================] - 70s 3ms/step - loss: 0.2984 - acc: 0.8870 - val_loss: 0.5558 - val_acc: 0.8264\n",
      "Epoch 21/30\n",
      "27000/27000 [==============================] - 69s 3ms/step - loss: 0.2900 - acc: 0.8910 - val_loss: 0.5573 - val_acc: 0.8237\n",
      "Epoch 22/30\n",
      "27000/27000 [==============================] - 70s 3ms/step - loss: 0.2812 - acc: 0.8934 - val_loss: 0.5613 - val_acc: 0.8246\n",
      "Epoch 23/30\n",
      "27000/27000 [==============================] - 69s 3ms/step - loss: 0.2736 - acc: 0.8960 - val_loss: 0.5657 - val_acc: 0.8242\n",
      "Epoch 24/30\n",
      "27000/27000 [==============================] - 69s 3ms/step - loss: 0.2660 - acc: 0.8999 - val_loss: 0.5746 - val_acc: 0.8233\n",
      "Epoch 25/30\n",
      "27000/27000 [==============================] - 69s 3ms/step - loss: 0.2532 - acc: 0.9024 - val_loss: 0.5768 - val_acc: 0.8232\n",
      "Epoch 26/30\n",
      "27000/27000 [==============================] - 69s 3ms/step - loss: 0.2496 - acc: 0.9016 - val_loss: 0.5886 - val_acc: 0.8229\n",
      "Epoch 27/30\n",
      "27000/27000 [==============================] - 69s 3ms/step - loss: 0.2408 - acc: 0.9093 - val_loss: 0.5955 - val_acc: 0.8226\n",
      "Epoch 28/30\n",
      "27000/27000 [==============================] - 69s 3ms/step - loss: 0.2375 - acc: 0.9094 - val_loss: 0.5967 - val_acc: 0.8257\n",
      "Epoch 29/30\n",
      "27000/27000 [==============================] - 70s 3ms/step - loss: 0.2293 - acc: 0.9101 - val_loss: 0.6036 - val_acc: 0.8239\n",
      "Epoch 30/30\n",
      "27000/27000 [==============================] - 69s 3ms/step - loss: 0.2265 - acc: 0.9112 - val_loss: 0.6190 - val_acc: 0.8219\n"
     ]
    }
   ],
   "source": [
    "history2 = classifier2.fit(train_images2,train_labels2,validation_data=(test_images, test_labels), batch_size=256, epochs=30)"
   ]
  },
  {
   "cell_type": "code",
   "execution_count": 86,
   "metadata": {},
   "outputs": [
    {
     "name": "stdout",
     "output_type": "stream",
     "text": [
      "116323/116323 [==============================] - 52s 451us/step\n"
     ]
    },
    {
     "data": {
      "text/plain": [
       "0.8218666987617205"
      ]
     },
     "execution_count": 86,
     "metadata": {},
     "output_type": "execute_result"
    }
   ],
   "source": [
    "_, test_acc2 = classifier2.evaluate(test_images, test_labels)\n",
    "test_acc2"
   ]
  },
  {
   "cell_type": "code",
   "execution_count": 87,
   "metadata": {},
   "outputs": [],
   "source": [
    "classifier3 = Sequential()\n",
    "classifier3.add(Reshape((28,28,1), input_shape=(784,)))\n",
    "classifier3.add(Convolution2D(32,(3,3),activation='relu'))\n",
    "classifier3.add(MaxPooling2D(pool_size=(2, 2)))\n",
    "classifier3.add(Flatten())\n",
    "#Hidden Layer\n",
    "classifier3.add(Dense(units = 512 ,activation = 'relu'))\n",
    "classifier3.add(Dropout(0.5))\n",
    "#Output Layer\n",
    "classifier3.add(Dense(62, activation='softmax'))"
   ]
  },
  {
   "cell_type": "code",
   "execution_count": 88,
   "metadata": {},
   "outputs": [],
   "source": [
    "classifier3.compile(loss='categorical_crossentropy', optimizer='adam', metrics=['accuracy'])"
   ]
  },
  {
   "cell_type": "code",
   "execution_count": 89,
   "metadata": {},
   "outputs": [
    {
     "name": "stdout",
     "output_type": "stream",
     "text": [
      "Train on 80000 samples, validate on 116323 samples\n",
      "Epoch 1/30\n",
      "80000/80000 [==============================] - 132s 2ms/step - loss: 1.2414 - acc: 0.6577 - val_loss: 0.6973 - val_acc: 0.7820\n",
      "Epoch 2/30\n",
      "80000/80000 [==============================] - 131s 2ms/step - loss: 0.7157 - acc: 0.7760 - val_loss: 0.5623 - val_acc: 0.8158\n",
      "Epoch 3/30\n",
      "80000/80000 [==============================] - 130s 2ms/step - loss: 0.6010 - acc: 0.8027 - val_loss: 0.5112 - val_acc: 0.8290\n",
      "Epoch 4/30\n",
      "80000/80000 [==============================] - 130s 2ms/step - loss: 0.5415 - acc: 0.8183 - val_loss: 0.4947 - val_acc: 0.8301\n",
      "Epoch 5/30\n",
      "80000/80000 [==============================] - 130s 2ms/step - loss: 0.5073 - acc: 0.8265 - val_loss: 0.4755 - val_acc: 0.8380\n",
      "Epoch 6/30\n",
      "80000/80000 [==============================] - 130s 2ms/step - loss: 0.4806 - acc: 0.8334 - val_loss: 0.4723 - val_acc: 0.8370\n",
      "Epoch 7/30\n",
      "80000/80000 [==============================] - 130s 2ms/step - loss: 0.4573 - acc: 0.8401 - val_loss: 0.4604 - val_acc: 0.8416\n",
      "Epoch 8/30\n",
      "80000/80000 [==============================] - 131s 2ms/step - loss: 0.4399 - acc: 0.8428 - val_loss: 0.4587 - val_acc: 0.8408\n",
      "Epoch 9/30\n",
      "80000/80000 [==============================] - 130s 2ms/step - loss: 0.4249 - acc: 0.8477 - val_loss: 0.4541 - val_acc: 0.8436\n",
      "Epoch 10/30\n",
      "80000/80000 [==============================] - 131s 2ms/step - loss: 0.4112 - acc: 0.8507 - val_loss: 0.4569 - val_acc: 0.8420\n",
      "Epoch 11/30\n",
      "80000/80000 [==============================] - 129s 2ms/step - loss: 0.3974 - acc: 0.8543 - val_loss: 0.4499 - val_acc: 0.8457\n",
      "Epoch 12/30\n",
      "80000/80000 [==============================] - 130s 2ms/step - loss: 0.3842 - acc: 0.8583 - val_loss: 0.4551 - val_acc: 0.8451\n",
      "Epoch 13/30\n",
      "80000/80000 [==============================] - 130s 2ms/step - loss: 0.3754 - acc: 0.8612 - val_loss: 0.4545 - val_acc: 0.8438\n",
      "Epoch 14/30\n",
      "80000/80000 [==============================] - 130s 2ms/step - loss: 0.3621 - acc: 0.8665 - val_loss: 0.4519 - val_acc: 0.8449\n",
      "Epoch 15/30\n",
      "80000/80000 [==============================] - 130s 2ms/step - loss: 0.3510 - acc: 0.8677 - val_loss: 0.4576 - val_acc: 0.8459\n",
      "Epoch 16/30\n",
      "80000/80000 [==============================] - 130s 2ms/step - loss: 0.3415 - acc: 0.8716 - val_loss: 0.4614 - val_acc: 0.8446\n",
      "Epoch 17/30\n",
      "80000/80000 [==============================] - 130s 2ms/step - loss: 0.3320 - acc: 0.8748 - val_loss: 0.4613 - val_acc: 0.8435\n",
      "Epoch 18/30\n",
      "80000/80000 [==============================] - 130s 2ms/step - loss: 0.3236 - acc: 0.8772 - val_loss: 0.4601 - val_acc: 0.8449\n",
      "Epoch 19/30\n",
      "80000/80000 [==============================] - 130s 2ms/step - loss: 0.3155 - acc: 0.8796 - val_loss: 0.4693 - val_acc: 0.8460\n",
      "Epoch 20/30\n",
      "80000/80000 [==============================] - 130s 2ms/step - loss: 0.3071 - acc: 0.8827 - val_loss: 0.4700 - val_acc: 0.8454\n",
      "Epoch 21/30\n",
      "80000/80000 [==============================] - 130s 2ms/step - loss: 0.2964 - acc: 0.8869 - val_loss: 0.4756 - val_acc: 0.8447\n",
      "Epoch 22/30\n",
      "80000/80000 [==============================] - 130s 2ms/step - loss: 0.2903 - acc: 0.8880 - val_loss: 0.4766 - val_acc: 0.8435\n",
      "Epoch 23/30\n",
      "80000/80000 [==============================] - 131s 2ms/step - loss: 0.2834 - acc: 0.8901 - val_loss: 0.4833 - val_acc: 0.8439\n",
      "Epoch 24/30\n",
      "80000/80000 [==============================] - 130s 2ms/step - loss: 0.2767 - acc: 0.8928 - val_loss: 0.4850 - val_acc: 0.8448\n",
      "Epoch 25/30\n",
      "80000/80000 [==============================] - 130s 2ms/step - loss: 0.2682 - acc: 0.8950 - val_loss: 0.4916 - val_acc: 0.8448\n",
      "Epoch 26/30\n",
      "80000/80000 [==============================] - 135s 2ms/step - loss: 0.2621 - acc: 0.8986 - val_loss: 0.4984 - val_acc: 0.8449\n",
      "Epoch 27/30\n",
      "80000/80000 [==============================] - 130s 2ms/step - loss: 0.2576 - acc: 0.9008 - val_loss: 0.5081 - val_acc: 0.8436\n",
      "Epoch 28/30\n",
      "80000/80000 [==============================] - 130s 2ms/step - loss: 0.2475 - acc: 0.9034 - val_loss: 0.5074 - val_acc: 0.8428\n",
      "Epoch 29/30\n",
      "80000/80000 [==============================] - 130s 2ms/step - loss: 0.2413 - acc: 0.9064 - val_loss: 0.5251 - val_acc: 0.8417\n",
      "Epoch 30/30\n",
      "80000/80000 [==============================] - 129s 2ms/step - loss: 0.2373 - acc: 0.9069 - val_loss: 0.5232 - val_acc: 0.8432\n"
     ]
    }
   ],
   "source": [
    "history3 = classifier3.fit(train_images3,train_labels3,validation_data=(test_images, test_labels), batch_size=256, epochs=30)"
   ]
  },
  {
   "cell_type": "code",
   "execution_count": 90,
   "metadata": {},
   "outputs": [
    {
     "name": "stdout",
     "output_type": "stream",
     "text": [
      "116323/116323 [==============================] - 54s 467us/step\n"
     ]
    },
    {
     "data": {
      "text/plain": [
       "0.8432038375901585"
      ]
     },
     "execution_count": 90,
     "metadata": {},
     "output_type": "execute_result"
    }
   ],
   "source": [
    "_, test_acc3 = classifier3.evaluate(test_images, test_labels)\n",
    "test_acc3"
   ]
  },
  {
   "cell_type": "code",
   "execution_count": 91,
   "metadata": {},
   "outputs": [],
   "source": [
    "classifier4 = Sequential()\n",
    "classifier4.add(Reshape((28,28,1), input_shape=(784,)))\n",
    "classifier4.add(Convolution2D(32,(3,3),activation='relu'))\n",
    "classifier4.add(MaxPooling2D(pool_size=(2, 2)))\n",
    "classifier4.add(Flatten())\n",
    "#Hidden Layer\n",
    "classifier4.add(Dense(units = 512 ,activation = 'relu'))\n",
    "classifier4.add(Dropout(0.5))\n",
    "#Output Layer\n",
    "classifier4.add(Dense(62, activation='softmax'))"
   ]
  },
  {
   "cell_type": "code",
   "execution_count": 92,
   "metadata": {},
   "outputs": [],
   "source": [
    "classifier4.compile(loss='categorical_crossentropy', optimizer='adam', metrics=['accuracy'])"
   ]
  },
  {
   "cell_type": "code",
   "execution_count": 93,
   "metadata": {},
   "outputs": [
    {
     "name": "stdout",
     "output_type": "stream",
     "text": [
      "Train on 240000 samples, validate on 116323 samples\n",
      "Epoch 1/30\n",
      "240000/240000 [==============================] - 325s 1ms/step - loss: 0.8783 - acc: 0.7393 - val_loss: 0.5121 - val_acc: 0.8275\n",
      "Epoch 2/30\n",
      "240000/240000 [==============================] - 313s 1ms/step - loss: 0.5544 - acc: 0.8153 - val_loss: 0.4667 - val_acc: 0.8387\n",
      "Epoch 3/30\n",
      "240000/240000 [==============================] - 314s 1ms/step - loss: 0.5010 - acc: 0.8282 - val_loss: 0.4390 - val_acc: 0.8454\n",
      "Epoch 4/30\n",
      "240000/240000 [==============================] - 314s 1ms/step - loss: 0.4713 - acc: 0.8367 - val_loss: 0.4242 - val_acc: 0.8495\n",
      "Epoch 5/30\n",
      "240000/240000 [==============================] - 314s 1ms/step - loss: 0.4507 - acc: 0.8419 - val_loss: 0.4142 - val_acc: 0.8524\n",
      "Epoch 6/30\n",
      "240000/240000 [==============================] - 312s 1ms/step - loss: 0.4338 - acc: 0.8452 - val_loss: 0.4106 - val_acc: 0.8534\n",
      "Epoch 7/30\n",
      "240000/240000 [==============================] - 313s 1ms/step - loss: 0.4200 - acc: 0.8495 - val_loss: 0.4085 - val_acc: 0.8548\n",
      "Epoch 8/30\n",
      "240000/240000 [==============================] - 313s 1ms/step - loss: 0.4060 - acc: 0.8527 - val_loss: 0.4021 - val_acc: 0.8563\n",
      "Epoch 9/30\n",
      "240000/240000 [==============================] - 314s 1ms/step - loss: 0.3939 - acc: 0.8572 - val_loss: 0.4035 - val_acc: 0.8547\n",
      "Epoch 10/30\n",
      "240000/240000 [==============================] - 315s 1ms/step - loss: 0.3840 - acc: 0.8590 - val_loss: 0.4014 - val_acc: 0.8565\n",
      "Epoch 11/30\n",
      "240000/240000 [==============================] - 318s 1ms/step - loss: 0.3716 - acc: 0.8622 - val_loss: 0.4027 - val_acc: 0.8573\n",
      "Epoch 12/30\n",
      "240000/240000 [==============================] - 318s 1ms/step - loss: 0.3612 - acc: 0.8658 - val_loss: 0.4043 - val_acc: 0.8574\n",
      "Epoch 13/30\n",
      "240000/240000 [==============================] - 317s 1ms/step - loss: 0.3520 - acc: 0.8681 - val_loss: 0.4022 - val_acc: 0.8571\n",
      "Epoch 14/30\n",
      "240000/240000 [==============================] - 315s 1ms/step - loss: 0.3430 - acc: 0.8710 - val_loss: 0.4014 - val_acc: 0.8577\n",
      "Epoch 15/30\n",
      "240000/240000 [==============================] - 314s 1ms/step - loss: 0.3339 - acc: 0.8733 - val_loss: 0.4068 - val_acc: 0.8584\n",
      "Epoch 16/30\n",
      "240000/240000 [==============================] - 313s 1ms/step - loss: 0.3248 - acc: 0.8769 - val_loss: 0.4079 - val_acc: 0.8568\n",
      "Epoch 17/30\n",
      "240000/240000 [==============================] - 313s 1ms/step - loss: 0.3178 - acc: 0.8788 - val_loss: 0.4118 - val_acc: 0.8586\n",
      "Epoch 18/30\n",
      "240000/240000 [==============================] - 314s 1ms/step - loss: 0.3096 - acc: 0.8816 - val_loss: 0.4178 - val_acc: 0.8581\n",
      "Epoch 19/30\n",
      "240000/240000 [==============================] - 313s 1ms/step - loss: 0.3028 - acc: 0.8841 - val_loss: 0.4156 - val_acc: 0.8568\n",
      "Epoch 20/30\n",
      "240000/240000 [==============================] - 313s 1ms/step - loss: 0.2938 - acc: 0.8864 - val_loss: 0.4204 - val_acc: 0.8565\n",
      "Epoch 21/30\n",
      "240000/240000 [==============================] - 313s 1ms/step - loss: 0.2869 - acc: 0.8892 - val_loss: 0.4243 - val_acc: 0.8570\n",
      "Epoch 22/30\n",
      "240000/240000 [==============================] - 312s 1ms/step - loss: 0.2808 - acc: 0.8912 - val_loss: 0.4288 - val_acc: 0.8572\n",
      "Epoch 23/30\n",
      "240000/240000 [==============================] - 313s 1ms/step - loss: 0.2753 - acc: 0.8931 - val_loss: 0.4357 - val_acc: 0.8565\n",
      "Epoch 24/30\n",
      "240000/240000 [==============================] - 313s 1ms/step - loss: 0.2682 - acc: 0.8955 - val_loss: 0.4406 - val_acc: 0.8556\n",
      "Epoch 25/30\n",
      "240000/240000 [==============================] - 312s 1ms/step - loss: 0.2613 - acc: 0.8986 - val_loss: 0.4464 - val_acc: 0.8570\n",
      "Epoch 26/30\n",
      "240000/240000 [==============================] - 314s 1ms/step - loss: 0.2556 - acc: 0.9006 - val_loss: 0.4514 - val_acc: 0.8554\n",
      "Epoch 27/30\n",
      "240000/240000 [==============================] - 313s 1ms/step - loss: 0.2498 - acc: 0.9023 - val_loss: 0.4551 - val_acc: 0.8555\n",
      "Epoch 28/30\n",
      "240000/240000 [==============================] - 313s 1ms/step - loss: 0.2438 - acc: 0.9044 - val_loss: 0.4614 - val_acc: 0.8559\n",
      "Epoch 29/30\n",
      "240000/240000 [==============================] - 313s 1ms/step - loss: 0.2395 - acc: 0.9061 - val_loss: 0.4683 - val_acc: 0.8555\n",
      "Epoch 30/30\n",
      "240000/240000 [==============================] - 314s 1ms/step - loss: 0.2337 - acc: 0.9084 - val_loss: 0.4744 - val_acc: 0.8545\n"
     ]
    }
   ],
   "source": [
    "history4 = classifier4.fit(train_images4,train_labels4,validation_data=(test_images, test_labels), batch_size=256, epochs=30)"
   ]
  },
  {
   "cell_type": "code",
   "execution_count": 94,
   "metadata": {},
   "outputs": [
    {
     "name": "stdout",
     "output_type": "stream",
     "text": [
      "116323/116323 [==============================] - 53s 454us/step\n"
     ]
    },
    {
     "data": {
      "text/plain": [
       "0.8544913731597329"
      ]
     },
     "execution_count": 94,
     "metadata": {},
     "output_type": "execute_result"
    }
   ],
   "source": [
    "_, test_acc4 = classifier4.evaluate(test_images, test_labels)\n",
    "test_acc4"
   ]
  },
  {
   "cell_type": "markdown",
   "metadata": {},
   "source": [
    "# Accuracy Vs Dataset Size"
   ]
  },
  {
   "cell_type": "code",
   "execution_count": 98,
   "metadata": {},
   "outputs": [],
   "source": [
    "sizes = [9,27,80,240,627]"
   ]
  },
  {
   "cell_type": "code",
   "execution_count": 108,
   "metadata": {},
   "outputs": [
    {
     "data": {
      "text/plain": [
       "[78.60526293171566,\n",
       " 82.18666987617205,\n",
       " 84.32038375901585,\n",
       " 85.44913731597329,\n",
       " 86.24175786387903]"
      ]
     },
     "execution_count": 108,
     "metadata": {},
     "output_type": "execute_result"
    }
   ],
   "source": [
    "acc =[test_acc1*100,test_acc2*100,test_acc3*100,test_acc4*100,test_acc*100,]\n",
    "acc"
   ]
  },
  {
   "cell_type": "code",
   "execution_count": 117,
   "metadata": {},
   "outputs": [
    {
     "data": {
      "text/plain": [
       "<function matplotlib.pyplot.show(*args, **kw)>"
      ]
     },
     "execution_count": 117,
     "metadata": {},
     "output_type": "execute_result"
    },
    {
     "data": {
      "image/png": "[encoded data removed]",
      "text/plain": [
       "<Figure size 720x720 with 1 Axes>"
      ]
     },
     "metadata": {
      "needs_background": "light"
     },
     "output_type": "display_data"
    }
   ],
   "source": [
    "plt.figure(figsize=(10,10))\n",
    "plt.title(\"Accuracy Vs Dataset Size\")\n",
    "plt.xlabel('Dataset Size(k)')\n",
    "plt.ylabel('Test accuracy')\n",
    "plt.plot(sizes,acc ,marker='o')\n",
    "plt.show"
   ]
  },
  {
   "cell_type": "code",
   "execution_count": 119,
   "metadata": {},
   "outputs": [
    {
     "data": {
      "text/plain": [
       "['model_classifier']"
      ]
     },
     "execution_count": 119,
     "metadata": {},
     "output_type": "execute_result"
    }
   ],
   "source": [
    "from sklearn.externals import joblib \n",
    "joblib.dump(classifier, 'model_classifier') \n"
   ]
  },
  {
   "cell_type": "code",
   "execution_count": null,
   "metadata": {},
   "outputs": [],
   "source": []
  }
 ],
 "metadata": {
  "kernelspec": {
   "display_name": "Python 3",
   "language": "python",
   "name": "python3"
  },
  "language_info": {
   "codemirror_mode": {
    "name": "ipython",
    "version": 3
   },
   "file_extension": ".py",
   "mimetype": "text/x-python",
   "name": "python",
   "nbconvert_exporter": "python",
   "pygments_lexer": "ipython3",
   "version": "3.6.9"
  }
 },
 "nbformat": 4,
 "nbformat_minor": 2
}
