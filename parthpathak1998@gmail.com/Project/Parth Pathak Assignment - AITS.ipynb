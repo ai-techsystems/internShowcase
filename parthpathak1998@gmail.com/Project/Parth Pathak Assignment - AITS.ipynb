{
 "cells": [
  {
   "cell_type": "markdown",
   "metadata": {},
   "source": [
    "## Internship Assignment -  Write a report comparing 5 classification algorithims."
   ]
  },
  {
   "cell_type": "markdown",
   "metadata": {},
   "source": [
    "## AI.Tech Systems https://ai-techsystems.com/"
   ]
  },
  {
   "cell_type": "code",
   "execution_count": 1,
   "metadata": {},
   "outputs": [],
   "source": [
    "import numpy as np \n",
    "import pandas as pd "
   ]
  },
  {
   "cell_type": "code",
   "execution_count": 2,
   "metadata": {},
   "outputs": [],
   "source": [
    "data = pd.read_csv(\"MM.csv\")"
   ]
  },
  {
   "cell_type": "code",
   "execution_count": 3,
   "metadata": {},
   "outputs": [
    {
     "data": {
      "text/plain": [
       "(830, 6)"
      ]
     },
     "execution_count": 3,
     "metadata": {},
     "output_type": "execute_result"
    }
   ],
   "source": [
    "data.shape"
   ]
  },
  {
   "cell_type": "code",
   "execution_count": 4,
   "metadata": {},
   "outputs": [
    {
     "data": {
      "text/html": [
       "<div>\n",
       "<style scoped>\n",
       "    .dataframe tbody tr th:only-of-type {\n",
       "        vertical-align: middle;\n",
       "    }\n",
       "\n",
       "    .dataframe tbody tr th {\n",
       "        vertical-align: top;\n",
       "    }\n",
       "\n",
       "    .dataframe thead th {\n",
       "        text-align: right;\n",
       "    }\n",
       "</style>\n",
       "<table border=\"1\" class=\"dataframe\">\n",
       "  <thead>\n",
       "    <tr style=\"text-align: right;\">\n",
       "      <th></th>\n",
       "      <th>BI-RADS</th>\n",
       "      <th>Age</th>\n",
       "      <th>Shape</th>\n",
       "      <th>Margin</th>\n",
       "      <th>Density</th>\n",
       "      <th>Severity</th>\n",
       "    </tr>\n",
       "  </thead>\n",
       "  <tbody>\n",
       "    <tr>\n",
       "      <th>0</th>\n",
       "      <td>5</td>\n",
       "      <td>67</td>\n",
       "      <td>3</td>\n",
       "      <td>5</td>\n",
       "      <td>3</td>\n",
       "      <td>1</td>\n",
       "    </tr>\n",
       "    <tr>\n",
       "      <th>1</th>\n",
       "      <td>5</td>\n",
       "      <td>58</td>\n",
       "      <td>4</td>\n",
       "      <td>5</td>\n",
       "      <td>3</td>\n",
       "      <td>1</td>\n",
       "    </tr>\n",
       "    <tr>\n",
       "      <th>2</th>\n",
       "      <td>4</td>\n",
       "      <td>28</td>\n",
       "      <td>1</td>\n",
       "      <td>1</td>\n",
       "      <td>3</td>\n",
       "      <td>0</td>\n",
       "    </tr>\n",
       "    <tr>\n",
       "      <th>3</th>\n",
       "      <td>5</td>\n",
       "      <td>57</td>\n",
       "      <td>1</td>\n",
       "      <td>5</td>\n",
       "      <td>3</td>\n",
       "      <td>1</td>\n",
       "    </tr>\n",
       "    <tr>\n",
       "      <th>4</th>\n",
       "      <td>5</td>\n",
       "      <td>76</td>\n",
       "      <td>1</td>\n",
       "      <td>4</td>\n",
       "      <td>3</td>\n",
       "      <td>1</td>\n",
       "    </tr>\n",
       "  </tbody>\n",
       "</table>\n",
       "</div>"
      ],
      "text/plain": [
       "   BI-RADS  Age  Shape  Margin  Density  Severity\n",
       "0        5   67      3       5        3         1\n",
       "1        5   58      4       5        3         1\n",
       "2        4   28      1       1        3         0\n",
       "3        5   57      1       5        3         1\n",
       "4        5   76      1       4        3         1"
      ]
     },
     "execution_count": 4,
     "metadata": {},
     "output_type": "execute_result"
    }
   ],
   "source": [
    "data.head()"
   ]
  },
  {
   "cell_type": "code",
   "execution_count": 5,
   "metadata": {},
   "outputs": [
    {
     "data": {
      "text/plain": [
       "BI-RADS     int64\n",
       "Age         int64\n",
       "Shape       int64\n",
       "Margin      int64\n",
       "Density     int64\n",
       "Severity    int64\n",
       "dtype: object"
      ]
     },
     "execution_count": 5,
     "metadata": {},
     "output_type": "execute_result"
    }
   ],
   "source": [
    "data.dtypes"
   ]
  },
  {
   "cell_type": "code",
   "execution_count": 6,
   "metadata": {},
   "outputs": [],
   "source": [
    "import matplotlib.pyplot as plt "
   ]
  },
  {
   "cell_type": "code",
   "execution_count": 7,
   "metadata": {},
   "outputs": [
    {
     "name": "stdout",
     "output_type": "stream",
     "text": [
      "427 403\n"
     ]
    }
   ],
   "source": [
    "x0 =data.Severity.value_counts()[0]\n",
    "x1 = data.Severity.value_counts()[1]\n",
    "print(x0 , x1)"
   ]
  },
  {
   "cell_type": "code",
   "execution_count": 8,
   "metadata": {},
   "outputs": [
    {
     "data": {
      "image/png": "[encoded data removed]",
      "text/plain": [
       "<matplotlib.figure.Figure at 0x26a45c6fe48>"
      ]
     },
     "metadata": {},
     "output_type": "display_data"
    }
   ],
   "source": [
    "labels = \"Benign\" , \"Malingant\"\n",
    "sizes = [x0 , x1]\n",
    "explode = [0,0.3]\n",
    "plt.pie(sizes , explode=explode , labels=labels , shadow=True , startangle=90 , autopct='%1.1f%%')\n",
    "plt.axis(\"equal\")\n",
    "plt.title(\"Freq of Diagnosis\")\n",
    "plt.show()"
   ]
  },
  {
   "cell_type": "code",
   "execution_count": 10,
   "metadata": {},
   "outputs": [],
   "source": [
    "data1 = data.loc[data[\"Severity\"]== 0]\n",
    "y_Val1 = data1.Age.values.reshape(-1,1)"
   ]
  },
  {
   "cell_type": "code",
   "execution_count": 11,
   "metadata": {},
   "outputs": [],
   "source": [
    "data2 = data.loc[data[\"Severity\"]== 1]\n",
    "y_Val2 = data1.Age.values.reshape(-1,1)"
   ]
  },
  {
   "cell_type": "code",
   "execution_count": 13,
   "metadata": {},
   "outputs": [],
   "source": [
    "x = data.iloc[:,0:5]\n",
    "y = data.iloc[:,5]"
   ]
  },
  {
   "cell_type": "code",
   "execution_count": 14,
   "metadata": {},
   "outputs": [],
   "source": [
    "from sklearn.model_selection import train_test_split\n",
    "X_TRAIN , X_TEST , Y_TRAIN , Y_TEST = train_test_split(x, y, test_size=0.2)"
   ]
  },
  {
   "cell_type": "code",
   "execution_count": 15,
   "metadata": {},
   "outputs": [
    {
     "data": {
      "text/plain": [
       "(664, 5)"
      ]
     },
     "execution_count": 15,
     "metadata": {},
     "output_type": "execute_result"
    }
   ],
   "source": [
    "X_TRAIN.shape"
   ]
  },
  {
   "cell_type": "code",
   "execution_count": 16,
   "metadata": {},
   "outputs": [
    {
     "data": {
      "text/plain": [
       "(166, 5)"
      ]
     },
     "execution_count": 16,
     "metadata": {},
     "output_type": "execute_result"
    }
   ],
   "source": [
    "X_TEST.shape"
   ]
  },
  {
   "cell_type": "markdown",
   "metadata": {},
   "source": [
    "## PRE PROCESSING OF DATA"
   ]
  },
  {
   "cell_type": "code",
   "execution_count": 17,
   "metadata": {},
   "outputs": [],
   "source": [
    "from sklearn import preprocessing\n",
    "scaler = preprocessing.StandardScaler()"
   ]
  },
  {
   "cell_type": "code",
   "execution_count": 18,
   "metadata": {},
   "outputs": [
    {
     "name": "stderr",
     "output_type": "stream",
     "text": [
      "F:\\Anaconda\\lib\\site-packages\\sklearn\\preprocessing\\data.py:645: DataConversionWarning: Data with input dtype int64 were all converted to float64 by StandardScaler.\n",
      "  return self.partial_fit(X, y)\n",
      "F:\\Anaconda\\lib\\site-packages\\sklearn\\base.py:464: DataConversionWarning: Data with input dtype int64 were all converted to float64 by StandardScaler.\n",
      "  return self.fit(X, **fit_params).transform(X)\n",
      "F:\\Anaconda\\lib\\site-packages\\ipykernel_launcher.py:2: DataConversionWarning: Data with input dtype int64 were all converted to float64 by StandardScaler.\n",
      "  \n"
     ]
    }
   ],
   "source": [
    "x_train = scaler.fit_transform(X_TRAIN)\n",
    "x_test = scaler.transform(X_TEST)"
   ]
  },
  {
   "cell_type": "code",
   "execution_count": 19,
   "metadata": {},
   "outputs": [],
   "source": [
    "from sklearn.decomposition import PCA"
   ]
  },
  {
   "cell_type": "code",
   "execution_count": 20,
   "metadata": {},
   "outputs": [],
   "source": [
    "pca = PCA()"
   ]
  },
  {
   "cell_type": "code",
   "execution_count": 22,
   "metadata": {},
   "outputs": [],
   "source": [
    "X_train = pca.fit_transform(x_train)"
   ]
  },
  {
   "cell_type": "code",
   "execution_count": 23,
   "metadata": {},
   "outputs": [],
   "source": [
    "X_test = pca.transform(x_test)"
   ]
  },
  {
   "cell_type": "code",
   "execution_count": 24,
   "metadata": {},
   "outputs": [
    {
     "data": {
      "text/plain": [
       "5"
      ]
     },
     "execution_count": 24,
     "metadata": {},
     "output_type": "execute_result"
    }
   ],
   "source": [
    "total = sum(pca.explained_variance_)\n",
    "k = 0\n",
    "cur_var = 0 \n",
    "while cur_var / total < 0.999:\n",
    "    cur_var += pca.explained_variance_[k]\n",
    "    k = k+1\n",
    "k"
   ]
  },
  {
   "cell_type": "code",
   "execution_count": 25,
   "metadata": {},
   "outputs": [],
   "source": [
    "pca = PCA(n_components=k)"
   ]
  },
  {
   "cell_type": "code",
   "execution_count": 26,
   "metadata": {},
   "outputs": [],
   "source": [
    "x_train_pca = pca.fit_transform(x_train)\n",
    "x_test_pca = pca.transform(x_test)"
   ]
  },
  {
   "cell_type": "markdown",
   "metadata": {},
   "source": [
    "## SVM"
   ]
  },
  {
   "cell_type": "code",
   "execution_count": 33,
   "metadata": {},
   "outputs": [],
   "source": [
    "from sklearn.metrics import confusion_matrix"
   ]
  },
  {
   "cell_type": "code",
   "execution_count": 27,
   "metadata": {},
   "outputs": [],
   "source": [
    "from sklearn import svm"
   ]
  },
  {
   "cell_type": "code",
   "execution_count": 28,
   "metadata": {},
   "outputs": [],
   "source": [
    "clf1 = svm.SVC(kernel='rbf')"
   ]
  },
  {
   "cell_type": "code",
   "execution_count": 29,
   "metadata": {},
   "outputs": [
    {
     "data": {
      "text/plain": [
       "SVC(C=1.0, cache_size=200, class_weight=None, coef0=0.0,\n",
       "  decision_function_shape='ovr', degree=3, gamma='auto_deprecated',\n",
       "  kernel='rbf', max_iter=-1, probability=False, random_state=None,\n",
       "  shrinking=True, tol=0.001, verbose=False)"
      ]
     },
     "execution_count": 29,
     "metadata": {},
     "output_type": "execute_result"
    }
   ],
   "source": [
    "clf1.fit(x_train_pca,Y_TRAIN)"
   ]
  },
  {
   "cell_type": "code",
   "execution_count": 30,
   "metadata": {},
   "outputs": [],
   "source": [
    "pred2 = clf1.predict(x_test_pca)"
   ]
  },
  {
   "cell_type": "code",
   "execution_count": 31,
   "metadata": {},
   "outputs": [
    {
     "name": "stdout",
     "output_type": "stream",
     "text": [
      "0.7951807228915663\n"
     ]
    }
   ],
   "source": [
    "print(clf1.score(x_test_pca,Y_TEST))"
   ]
  },
  {
   "cell_type": "code",
   "execution_count": 34,
   "metadata": {},
   "outputs": [
    {
     "data": {
      "text/plain": [
       "array([[65, 14],\n",
       "       [20, 67]], dtype=int64)"
      ]
     },
     "execution_count": 34,
     "metadata": {},
     "output_type": "execute_result"
    }
   ],
   "source": [
    "confusion_matrix(Y_TEST, pred2)"
   ]
  },
  {
   "cell_type": "markdown",
   "metadata": {},
   "source": [
    "## DEC TREE"
   ]
  },
  {
   "cell_type": "code",
   "execution_count": 35,
   "metadata": {},
   "outputs": [],
   "source": [
    "from sklearn.tree import DecisionTreeClassifier"
   ]
  },
  {
   "cell_type": "code",
   "execution_count": 36,
   "metadata": {},
   "outputs": [],
   "source": [
    "clf = DecisionTreeClassifier()"
   ]
  },
  {
   "cell_type": "code",
   "execution_count": 37,
   "metadata": {},
   "outputs": [
    {
     "data": {
      "text/plain": [
       "DecisionTreeClassifier(class_weight=None, criterion='gini', max_depth=None,\n",
       "            max_features=None, max_leaf_nodes=None,\n",
       "            min_impurity_decrease=0.0, min_impurity_split=None,\n",
       "            min_samples_leaf=1, min_samples_split=2,\n",
       "            min_weight_fraction_leaf=0.0, presort=False, random_state=None,\n",
       "            splitter='best')"
      ]
     },
     "execution_count": 37,
     "metadata": {},
     "output_type": "execute_result"
    }
   ],
   "source": [
    "clf.fit(x_train_pca,Y_TRAIN)"
   ]
  },
  {
   "cell_type": "code",
   "execution_count": 38,
   "metadata": {},
   "outputs": [],
   "source": [
    "pred3 = clf.predict(x_test_pca)"
   ]
  },
  {
   "cell_type": "code",
   "execution_count": 39,
   "metadata": {},
   "outputs": [
    {
     "name": "stdout",
     "output_type": "stream",
     "text": [
      "0.9518072289156626\n",
      "0.7469879518072289\n"
     ]
    }
   ],
   "source": [
    "print(clf.score(x_train_pca,Y_TRAIN))\n",
    "print(clf.score(x_test_pca,Y_TEST))"
   ]
  },
  {
   "cell_type": "code",
   "execution_count": 40,
   "metadata": {},
   "outputs": [
    {
     "data": {
      "text/plain": [
       "array([[63, 16],\n",
       "       [26, 61]], dtype=int64)"
      ]
     },
     "execution_count": 40,
     "metadata": {},
     "output_type": "execute_result"
    }
   ],
   "source": [
    "confusion_matrix(Y_TEST, pred3)"
   ]
  },
  {
   "cell_type": "markdown",
   "metadata": {},
   "source": [
    "## RANDOM FORR"
   ]
  },
  {
   "cell_type": "code",
   "execution_count": 41,
   "metadata": {},
   "outputs": [
    {
     "name": "stderr",
     "output_type": "stream",
     "text": [
      "F:\\Anaconda\\lib\\site-packages\\sklearn\\ensemble\\forest.py:246: FutureWarning: The default value of n_estimators will change from 10 in version 0.20 to 100 in 0.22.\n",
      "  \"10 in version 0.20 to 100 in 0.22.\", FutureWarning)\n"
     ]
    },
    {
     "data": {
      "text/plain": [
       "(0.9412650602409639, 0.7951807228915663)"
      ]
     },
     "execution_count": 41,
     "metadata": {},
     "output_type": "execute_result"
    }
   ],
   "source": [
    "from sklearn.ensemble import RandomForestClassifier\n",
    "clf = RandomForestClassifier()\n",
    "clf.fit(x_train_pca, Y_TRAIN)\n",
    "clf.score(x_train_pca,Y_TRAIN),clf.score(x_test_pca,Y_TEST)"
   ]
  },
  {
   "cell_type": "code",
   "execution_count": 42,
   "metadata": {},
   "outputs": [],
   "source": [
    "pred4 = clf.predict(x_test_pca)"
   ]
  },
  {
   "cell_type": "code",
   "execution_count": 44,
   "metadata": {},
   "outputs": [
    {
     "data": {
      "text/plain": [
       "array([[66, 13],\n",
       "       [21, 66]], dtype=int64)"
      ]
     },
     "execution_count": 44,
     "metadata": {},
     "output_type": "execute_result"
    }
   ],
   "source": [
    "confusion_matrix(Y_TEST , pred4)"
   ]
  },
  {
   "cell_type": "markdown",
   "metadata": {},
   "source": [
    "## Boosted  Trees"
   ]
  },
  {
   "cell_type": "code",
   "execution_count": 76,
   "metadata": {},
   "outputs": [],
   "source": [
    "from sklearn.ensemble import GradientBoostingClassifier"
   ]
  },
  {
   "cell_type": "code",
   "execution_count": 80,
   "metadata": {},
   "outputs": [
    {
     "name": "stdout",
     "output_type": "stream",
     "text": [
      "0.7831325301204819\n",
      "0.911144578313253\n"
     ]
    }
   ],
   "source": [
    "clf = GradientBoostingClassifier(n_estimators=100, learning_rate=1.0,max_depth=1, random_state=0).fit(x_train_pca, Y_TRAIN)\n",
    "print(clf.score(x_test_pca, Y_TEST)) \n",
    "print(clf.score(x_train_pca , Y_TRAIN))"
   ]
  },
  {
   "cell_type": "code",
   "execution_count": 81,
   "metadata": {},
   "outputs": [],
   "source": [
    "pred_6 = clf.predict(x_test_pca)"
   ]
  },
  {
   "cell_type": "code",
   "execution_count": 82,
   "metadata": {},
   "outputs": [
    {
     "data": {
      "text/plain": [
       "array([[65, 14],\n",
       "       [22, 65]], dtype=int64)"
      ]
     },
     "execution_count": 82,
     "metadata": {},
     "output_type": "execute_result"
    }
   ],
   "source": [
    "confusion_matrix(Y_TEST , pred_6)"
   ]
  },
  {
   "cell_type": "markdown",
   "metadata": {},
   "source": [
    "# Artificial Neural Network"
   ]
  },
  {
   "cell_type": "code",
   "execution_count": 47,
   "metadata": {},
   "outputs": [],
   "source": [
    "X = data.iloc[:, 0:5].values"
   ]
  },
  {
   "cell_type": "code",
   "execution_count": 48,
   "metadata": {},
   "outputs": [],
   "source": [
    "y = data.iloc[:, 5].values"
   ]
  },
  {
   "cell_type": "code",
   "execution_count": 49,
   "metadata": {},
   "outputs": [
    {
     "data": {
      "text/plain": [
       "array([[ 5, 67,  3,  5,  3],\n",
       "       [ 5, 58,  4,  5,  3],\n",
       "       [ 4, 28,  1,  1,  3],\n",
       "       ...,\n",
       "       [ 4, 64,  4,  5,  3],\n",
       "       [ 5, 66,  4,  5,  3],\n",
       "       [ 4, 62,  3,  3,  3]], dtype=int64)"
      ]
     },
     "execution_count": 49,
     "metadata": {},
     "output_type": "execute_result"
    }
   ],
   "source": [
    "X"
   ]
  },
  {
   "cell_type": "code",
   "execution_count": 50,
   "metadata": {},
   "outputs": [
    {
     "data": {
      "text/plain": [
       "array([1, 1, 0, 1, 1, 1, 0, 0, 0, 0, 1, 1, 1, 1, 1, 1, 1, 0, 0, 1, 1, 0,\n",
       "       0, 0, 1, 0, 0, 0, 1, 1, 1, 0, 1, 0, 1, 1, 0, 1, 0, 0, 0, 0, 1, 0,\n",
       "       1, 0, 1, 0, 1, 0, 0, 1, 1, 1, 1, 1, 1, 1, 1, 0, 0, 0, 0, 1, 0, 0,\n",
       "       0, 1, 0, 1, 0, 0, 0, 0, 1, 1, 1, 0, 1, 1, 1, 1, 0, 1, 1, 0, 0, 1,\n",
       "       1, 1, 0, 1, 1, 0, 0, 0, 0, 1, 0, 0, 0, 1, 1, 0, 1, 1, 0, 0, 0, 0,\n",
       "       1, 0, 0, 1, 0, 0, 0, 0, 1, 1, 1, 1, 0, 1, 0, 1, 0, 1, 0, 1, 0, 0,\n",
       "       0, 0, 1, 0, 0, 1, 0, 1, 0, 0, 1, 1, 0, 0, 0, 0, 0, 0, 1, 1, 1, 0,\n",
       "       1, 0, 0, 0, 1, 1, 0, 1, 0, 0, 1, 0, 1, 0, 0, 0, 1, 0, 0, 1, 0, 0,\n",
       "       0, 1, 0, 1, 1, 1, 1, 1, 1, 1, 0, 0, 1, 0, 1, 0, 1, 1, 1, 1, 1, 0,\n",
       "       1, 0, 1, 0, 1, 0, 0, 1, 1, 0, 0, 1, 0, 1, 0, 1, 1, 0, 1, 0, 1, 1,\n",
       "       1, 0, 0, 0, 0, 0, 0, 0, 0, 1, 1, 1, 1, 0, 0, 0, 0, 1, 1, 1, 0, 1,\n",
       "       0, 0, 0, 0, 1, 1, 1, 0, 1, 1, 0, 1, 1, 1, 1, 1, 1, 0, 0, 0, 1, 0,\n",
       "       1, 0, 0, 1, 0, 0, 1, 0, 0, 1, 1, 1, 1, 0, 1, 0, 0, 0, 1, 1, 1, 1,\n",
       "       0, 1, 0, 1, 0, 1, 0, 1, 1, 0, 0, 1, 0, 1, 1, 0, 0, 1, 1, 0, 0, 1,\n",
       "       0, 1, 0, 1, 1, 1, 1, 0, 0, 1, 0, 1, 0, 1, 1, 1, 0, 1, 1, 1, 1, 0,\n",
       "       0, 1, 0, 1, 0, 1, 1, 0, 1, 0, 1, 1, 1, 1, 1, 0, 1, 1, 1, 0, 1, 1,\n",
       "       0, 0, 1, 1, 1, 0, 0, 0, 1, 1, 1, 0, 1, 0, 0, 1, 1, 0, 1, 0, 1, 0,\n",
       "       0, 0, 0, 0, 1, 0, 1, 0, 0, 0, 0, 0, 0, 1, 1, 0, 1, 1, 1, 1, 1, 0,\n",
       "       0, 1, 0, 0, 0, 0, 0, 1, 1, 1, 1, 0, 0, 1, 1, 1, 0, 0, 1, 0, 1, 0,\n",
       "       0, 1, 1, 1, 0, 1, 0, 0, 0, 0, 1, 0, 1, 0, 0, 0, 1, 1, 0, 0, 1, 1,\n",
       "       1, 1, 0, 0, 0, 0, 0, 1, 0, 1, 1, 0, 0, 1, 1, 0, 0, 0, 0, 0, 0, 0,\n",
       "       1, 0, 0, 1, 0, 0, 0, 1, 0, 0, 0, 0, 1, 1, 0, 1, 1, 0, 0, 0, 1, 0,\n",
       "       1, 1, 0, 1, 1, 1, 0, 1, 1, 0, 0, 1, 1, 1, 0, 1, 0, 1, 0, 1, 0, 0,\n",
       "       0, 0, 1, 1, 0, 1, 0, 0, 0, 0, 0, 1, 0, 1, 0, 0, 0, 1, 1, 0, 1, 0,\n",
       "       0, 0, 1, 0, 0, 1, 0, 1, 0, 1, 0, 1, 1, 0, 0, 1, 1, 1, 0, 0, 1, 0,\n",
       "       1, 1, 1, 1, 1, 1, 1, 1, 0, 0, 0, 0, 1, 1, 1, 1, 1, 1, 0, 1, 1, 0,\n",
       "       0, 0, 1, 0, 1, 1, 1, 0, 1, 0, 1, 0, 0, 1, 0, 0, 0, 1, 1, 0, 0, 0,\n",
       "       1, 1, 0, 0, 0, 1, 1, 0, 1, 1, 0, 0, 1, 1, 0, 0, 0, 0, 0, 1, 0, 0,\n",
       "       0, 0, 0, 0, 0, 1, 0, 1, 0, 0, 0, 1, 0, 0, 1, 1, 1, 1, 0, 1, 1, 1,\n",
       "       0, 1, 1, 0, 0, 1, 0, 0, 1, 0, 1, 0, 0, 0, 0, 0, 0, 1, 1, 0, 1, 0,\n",
       "       1, 1, 0, 0, 1, 1, 0, 0, 1, 1, 1, 0, 1, 1, 1, 0, 0, 0, 1, 1, 0, 1,\n",
       "       0, 1, 1, 1, 0, 1, 0, 0, 0, 0, 1, 0, 0, 1, 0, 1, 1, 0, 1, 1, 0, 1,\n",
       "       1, 0, 1, 0, 1, 0, 0, 0, 0, 1, 0, 0, 0, 0, 0, 1, 0, 0, 1, 0, 0, 1,\n",
       "       0, 1, 0, 1, 1, 1, 1, 1, 1, 1, 0, 1, 0, 0, 0, 1, 0, 1, 1, 0, 0, 0,\n",
       "       0, 1, 0, 1, 1, 0, 1, 1, 0, 1, 1, 1, 1, 1, 1, 0, 0, 1, 0, 1, 0, 1,\n",
       "       1, 1, 0, 1, 1, 0, 0, 1, 1, 0, 1, 0, 1, 0, 1, 0, 0, 1, 0, 0, 0, 1,\n",
       "       0, 1, 0, 1, 0, 1, 0, 0, 1, 0, 0, 0, 1, 0, 0, 0, 0, 1, 0, 1, 0, 1,\n",
       "       0, 0, 0, 1, 0, 1, 1, 1, 0, 0, 1, 0, 1, 0, 1, 0], dtype=int64)"
      ]
     },
     "execution_count": 50,
     "metadata": {},
     "output_type": "execute_result"
    }
   ],
   "source": [
    "y\n"
   ]
  },
  {
   "cell_type": "code",
   "execution_count": 51,
   "metadata": {},
   "outputs": [],
   "source": [
    "from sklearn.model_selection import train_test_split"
   ]
  },
  {
   "cell_type": "code",
   "execution_count": 52,
   "metadata": {},
   "outputs": [],
   "source": [
    "X_train, X_test, y_train, y_test = train_test_split(X, y, test_size=0.2)"
   ]
  },
  {
   "cell_type": "code",
   "execution_count": 53,
   "metadata": {},
   "outputs": [],
   "source": [
    "from sklearn.preprocessing import StandardScaler"
   ]
  },
  {
   "cell_type": "code",
   "execution_count": 54,
   "metadata": {},
   "outputs": [],
   "source": [
    "sc = StandardScaler()"
   ]
  },
  {
   "cell_type": "code",
   "execution_count": 55,
   "metadata": {},
   "outputs": [
    {
     "name": "stderr",
     "output_type": "stream",
     "text": [
      "F:\\Anaconda\\lib\\site-packages\\sklearn\\utils\\validation.py:595: DataConversionWarning: Data with input dtype int64 was converted to float64 by StandardScaler.\n",
      "  warnings.warn(msg, DataConversionWarning)\n",
      "F:\\Anaconda\\lib\\site-packages\\sklearn\\utils\\validation.py:595: DataConversionWarning: Data with input dtype int64 was converted to float64 by StandardScaler.\n",
      "  warnings.warn(msg, DataConversionWarning)\n"
     ]
    }
   ],
   "source": [
    "X_train = sc.fit_transform(X_train)"
   ]
  },
  {
   "cell_type": "code",
   "execution_count": 56,
   "metadata": {},
   "outputs": [
    {
     "name": "stderr",
     "output_type": "stream",
     "text": [
      "F:\\Anaconda\\lib\\site-packages\\sklearn\\utils\\validation.py:595: DataConversionWarning: Data with input dtype int64 was converted to float64 by StandardScaler.\n",
      "  warnings.warn(msg, DataConversionWarning)\n"
     ]
    }
   ],
   "source": [
    "X_test = sc.transform(X_test)"
   ]
  },
  {
   "cell_type": "code",
   "execution_count": 57,
   "metadata": {},
   "outputs": [
    {
     "name": "stderr",
     "output_type": "stream",
     "text": [
      "F:\\Anaconda\\lib\\site-packages\\h5py\\__init__.py:36: FutureWarning: Conversion of the second argument of issubdtype from `float` to `np.floating` is deprecated. In future, it will be treated as `np.float64 == np.dtype(float).type`.\n",
      "  from ._conv import register_converters as _register_converters\n",
      "Using TensorFlow backend.\n"
     ]
    }
   ],
   "source": [
    "import keras"
   ]
  },
  {
   "cell_type": "code",
   "execution_count": 58,
   "metadata": {},
   "outputs": [],
   "source": [
    "from keras.models import Sequential"
   ]
  },
  {
   "cell_type": "code",
   "execution_count": 59,
   "metadata": {},
   "outputs": [],
   "source": [
    "from keras.layers import Dense"
   ]
  },
  {
   "cell_type": "code",
   "execution_count": 60,
   "metadata": {},
   "outputs": [],
   "source": [
    "classifier = Sequential()"
   ]
  },
  {
   "cell_type": "code",
   "execution_count": 61,
   "metadata": {},
   "outputs": [],
   "source": [
    "classifier.add?"
   ]
  },
  {
   "cell_type": "code",
   "execution_count": 71,
   "metadata": {},
   "outputs": [],
   "source": [
    "Dense?"
   ]
  },
  {
   "cell_type": "code",
   "execution_count": 62,
   "metadata": {},
   "outputs": [],
   "source": [
    "classifier.add(Dense(units = 3, kernel_initializer='glorot_uniform', activation='relu', input_dim=5))"
   ]
  },
  {
   "cell_type": "code",
   "execution_count": 63,
   "metadata": {},
   "outputs": [],
   "source": [
    "classifier.add(Dense(units = 3, kernel_initializer='glorot_uniform', activation='relu'))"
   ]
  },
  {
   "cell_type": "code",
   "execution_count": 64,
   "metadata": {},
   "outputs": [],
   "source": [
    "classifier.add(Dense(units = 1, kernel_initializer='glorot_uniform', activation='sigmoid'))"
   ]
  },
  {
   "cell_type": "code",
   "execution_count": 65,
   "metadata": {},
   "outputs": [],
   "source": [
    "classifier.compile?"
   ]
  },
  {
   "cell_type": "code",
   "execution_count": 66,
   "metadata": {},
   "outputs": [],
   "source": [
    "classifier.compile(optimizer='adam', loss='binary_crossentropy', metrics=['accuracy'])"
   ]
  },
  {
   "cell_type": "code",
   "execution_count": 67,
   "metadata": {},
   "outputs": [
    {
     "name": "stderr",
     "output_type": "stream",
     "text": [
      "F:\\Anaconda\\lib\\site-packages\\ipykernel_launcher.py:1: UserWarning: The `nb_epoch` argument in `fit` has been renamed `epochs`.\n",
      "  \"\"\"Entry point for launching an IPython kernel.\n"
     ]
    },
    {
     "name": "stdout",
     "output_type": "stream",
     "text": [
      "Epoch 1/100\n",
      "664/664 [==============================] - 1s 2ms/step - loss: 0.6831 - acc: 0.5873\n",
      "Epoch 2/100\n",
      "664/664 [==============================] - 0s 209us/step - loss: 0.6425 - acc: 0.6883\n",
      "Epoch 3/100\n",
      "664/664 [==============================] - 0s 207us/step - loss: 0.6059 - acc: 0.7410\n",
      "Epoch 4/100\n",
      "664/664 [==============================] - 0s 206us/step - loss: 0.5807 - acc: 0.7651\n",
      "Epoch 5/100\n",
      "664/664 [==============================] - 0s 207us/step - loss: 0.5608 - acc: 0.7816\n",
      "Epoch 6/100\n",
      "664/664 [==============================] - 0s 209us/step - loss: 0.5455 - acc: 0.7816\n",
      "Epoch 7/100\n",
      "664/664 [==============================] - 0s 212us/step - loss: 0.5325 - acc: 0.7877\n",
      "Epoch 8/100\n",
      "664/664 [==============================] - 0s 225us/step - loss: 0.5186 - acc: 0.7937\n",
      "Epoch 9/100\n",
      "664/664 [==============================] - 0s 207us/step - loss: 0.5045 - acc: 0.7967\n",
      "Epoch 10/100\n",
      "664/664 [==============================] - 0s 216us/step - loss: 0.4912 - acc: 0.8117\n",
      "Epoch 11/100\n",
      "664/664 [==============================] - 0s 227us/step - loss: 0.4789 - acc: 0.8163\n",
      "Epoch 12/100\n",
      "664/664 [==============================] - 0s 221us/step - loss: 0.4680 - acc: 0.8133\n",
      "Epoch 13/100\n",
      "664/664 [==============================] - 0s 219us/step - loss: 0.4572 - acc: 0.8148\n",
      "Epoch 14/100\n",
      "664/664 [==============================] - 0s 228us/step - loss: 0.4489 - acc: 0.8178\n",
      "Epoch 15/100\n",
      "664/664 [==============================] - 0s 231us/step - loss: 0.4409 - acc: 0.8193\n",
      "Epoch 16/100\n",
      "664/664 [==============================] - 0s 224us/step - loss: 0.4333 - acc: 0.8193\n",
      "Epoch 17/100\n",
      "664/664 [==============================] - 0s 218us/step - loss: 0.4273 - acc: 0.8208\n",
      "Epoch 18/100\n",
      "664/664 [==============================] - 0s 216us/step - loss: 0.4230 - acc: 0.8163\n",
      "Epoch 19/100\n",
      "664/664 [==============================] - 0s 233us/step - loss: 0.4191 - acc: 0.8223\n",
      "Epoch 20/100\n",
      "664/664 [==============================] - 0s 279us/step - loss: 0.4157 - acc: 0.8193\n",
      "Epoch 21/100\n",
      "664/664 [==============================] - 0s 270us/step - loss: 0.4127 - acc: 0.8238\n",
      "Epoch 22/100\n",
      "664/664 [==============================] - 0s 284us/step - loss: 0.4100 - acc: 0.8223\n",
      "Epoch 23/100\n",
      "664/664 [==============================] - 0s 218us/step - loss: 0.4077 - acc: 0.8268\n",
      "Epoch 24/100\n",
      "664/664 [==============================] - 0s 224us/step - loss: 0.4054 - acc: 0.8283\n",
      "Epoch 25/100\n",
      "664/664 [==============================] - 0s 225us/step - loss: 0.4031 - acc: 0.8298\n",
      "Epoch 26/100\n",
      "664/664 [==============================] - 0s 225us/step - loss: 0.4010 - acc: 0.8298\n",
      "Epoch 27/100\n",
      "664/664 [==============================] - 0s 231us/step - loss: 0.3991 - acc: 0.8313\n",
      "Epoch 28/100\n",
      "664/664 [==============================] - 0s 216us/step - loss: 0.3971 - acc: 0.8313\n",
      "Epoch 29/100\n",
      "664/664 [==============================] - 0s 233us/step - loss: 0.3951 - acc: 0.8313\n",
      "Epoch 30/100\n",
      "664/664 [==============================] - 0s 218us/step - loss: 0.3942 - acc: 0.8328\n",
      "Epoch 31/100\n",
      "664/664 [==============================] - 0s 287us/step - loss: 0.3920 - acc: 0.8343\n",
      "Epoch 32/100\n",
      "664/664 [==============================] - 0s 270us/step - loss: 0.3904 - acc: 0.8389\n",
      "Epoch 33/100\n",
      "664/664 [==============================] - 0s 257us/step - loss: 0.3896 - acc: 0.8389\n",
      "Epoch 34/100\n",
      "664/664 [==============================] - 0s 261us/step - loss: 0.3877 - acc: 0.8404\n",
      "Epoch 35/100\n",
      "664/664 [==============================] - 0s 264us/step - loss: 0.3860 - acc: 0.8358\n",
      "Epoch 36/100\n",
      "664/664 [==============================] - 0s 251us/step - loss: 0.3835 - acc: 0.8328\n",
      "Epoch 37/100\n",
      "664/664 [==============================] - 0s 242us/step - loss: 0.3821 - acc: 0.8343\n",
      "Epoch 38/100\n",
      "664/664 [==============================] - 0s 216us/step - loss: 0.3801 - acc: 0.8404\n",
      "Epoch 39/100\n",
      "664/664 [==============================] - 0s 225us/step - loss: 0.3796 - acc: 0.8389\n",
      "Epoch 40/100\n",
      "664/664 [==============================] - 0s 215us/step - loss: 0.3776 - acc: 0.8389\n",
      "Epoch 41/100\n",
      "664/664 [==============================] - 0s 221us/step - loss: 0.3768 - acc: 0.8373\n",
      "Epoch 42/100\n",
      "664/664 [==============================] - 0s 221us/step - loss: 0.3756 - acc: 0.8328\n",
      "Epoch 43/100\n",
      "664/664 [==============================] - 0s 215us/step - loss: 0.3744 - acc: 0.8389\n",
      "Epoch 44/100\n",
      "664/664 [==============================] - 0s 218us/step - loss: 0.3740 - acc: 0.8373\n",
      "Epoch 45/100\n",
      "664/664 [==============================] - 0s 221us/step - loss: 0.3730 - acc: 0.8373\n",
      "Epoch 46/100\n",
      "664/664 [==============================] - 0s 224us/step - loss: 0.3726 - acc: 0.8373\n",
      "Epoch 47/100\n",
      "664/664 [==============================] - 0s 221us/step - loss: 0.3724 - acc: 0.8373\n",
      "Epoch 48/100\n",
      "664/664 [==============================] - 0s 215us/step - loss: 0.3714 - acc: 0.8373\n",
      "Epoch 49/100\n",
      "664/664 [==============================] - 0s 222us/step - loss: 0.3712 - acc: 0.8343\n",
      "Epoch 50/100\n",
      "664/664 [==============================] - 0s 224us/step - loss: 0.3710 - acc: 0.8373\n",
      "Epoch 51/100\n",
      "664/664 [==============================] - 0s 228us/step - loss: 0.3705 - acc: 0.8373\n",
      "Epoch 52/100\n",
      "664/664 [==============================] - 0s 213us/step - loss: 0.3705 - acc: 0.8404\n",
      "Epoch 53/100\n",
      "664/664 [==============================] - 0s 212us/step - loss: 0.3699 - acc: 0.8358\n",
      "Epoch 54/100\n",
      "664/664 [==============================] - 0s 218us/step - loss: 0.3697 - acc: 0.8373\n",
      "Epoch 55/100\n",
      "664/664 [==============================] - 0s 216us/step - loss: 0.3690 - acc: 0.8373\n",
      "Epoch 56/100\n",
      "664/664 [==============================] - 0s 204us/step - loss: 0.3689 - acc: 0.8389\n",
      "Epoch 57/100\n",
      "664/664 [==============================] - 0s 216us/step - loss: 0.3683 - acc: 0.8389\n",
      "Epoch 58/100\n",
      "664/664 [==============================] - 0s 213us/step - loss: 0.3686 - acc: 0.8434\n",
      "Epoch 59/100\n",
      "664/664 [==============================] - 0s 206us/step - loss: 0.3680 - acc: 0.8419\n",
      "Epoch 60/100\n",
      "664/664 [==============================] - 0s 227us/step - loss: 0.3688 - acc: 0.8389\n",
      "Epoch 61/100\n",
      "664/664 [==============================] - 0s 219us/step - loss: 0.3675 - acc: 0.8419\n",
      "Epoch 62/100\n",
      "664/664 [==============================] - 0s 228us/step - loss: 0.3678 - acc: 0.8449\n",
      "Epoch 63/100\n",
      "664/664 [==============================] - 0s 239us/step - loss: 0.3672 - acc: 0.8419\n",
      "Epoch 64/100\n",
      "664/664 [==============================] - 0s 219us/step - loss: 0.3678 - acc: 0.8404\n",
      "Epoch 65/100\n",
      "664/664 [==============================] - 0s 278us/step - loss: 0.3672 - acc: 0.8509\n",
      "Epoch 66/100\n",
      "664/664 [==============================] - 0s 278us/step - loss: 0.3673 - acc: 0.8464\n",
      "Epoch 67/100\n",
      "664/664 [==============================] - 0s 249us/step - loss: 0.3669 - acc: 0.8464\n",
      "Epoch 68/100\n",
      "664/664 [==============================] - 0s 249us/step - loss: 0.3670 - acc: 0.8419\n",
      "Epoch 69/100\n",
      "664/664 [==============================] - 0s 249us/step - loss: 0.3664 - acc: 0.8479\n",
      "Epoch 70/100\n",
      "664/664 [==============================] - 0s 269us/step - loss: 0.3669 - acc: 0.8464\n",
      "Epoch 71/100\n",
      "664/664 [==============================] - 0s 243us/step - loss: 0.3661 - acc: 0.8464\n",
      "Epoch 72/100\n",
      "664/664 [==============================] - 0s 231us/step - loss: 0.3662 - acc: 0.8449\n",
      "Epoch 73/100\n",
      "664/664 [==============================] - 0s 218us/step - loss: 0.3663 - acc: 0.8434\n",
      "Epoch 74/100\n",
      "664/664 [==============================] - 0s 227us/step - loss: 0.3666 - acc: 0.8464\n",
      "Epoch 75/100\n",
      "664/664 [==============================] - 0s 221us/step - loss: 0.3659 - acc: 0.8464 0s - loss: 0.3574 - acc: 0.846\n",
      "Epoch 76/100\n",
      "664/664 [==============================] - 0s 242us/step - loss: 0.3655 - acc: 0.8464\n",
      "Epoch 77/100\n",
      "664/664 [==============================] - 0s 228us/step - loss: 0.3658 - acc: 0.8479\n",
      "Epoch 78/100\n",
      "664/664 [==============================] - 0s 224us/step - loss: 0.3652 - acc: 0.8464\n",
      "Epoch 79/100\n",
      "664/664 [==============================] - 0s 221us/step - loss: 0.3651 - acc: 0.8509\n",
      "Epoch 80/100\n",
      "664/664 [==============================] - 0s 218us/step - loss: 0.3652 - acc: 0.8524\n",
      "Epoch 81/100\n",
      "664/664 [==============================] - 0s 245us/step - loss: 0.3648 - acc: 0.8464\n",
      "Epoch 82/100\n",
      "664/664 [==============================] - 0s 243us/step - loss: 0.3648 - acc: 0.8539\n",
      "Epoch 83/100\n"
     ]
    },
    {
     "name": "stdout",
     "output_type": "stream",
     "text": [
      "664/664 [==============================] - 0s 218us/step - loss: 0.3646 - acc: 0.8494\n",
      "Epoch 84/100\n",
      "664/664 [==============================] - 0s 228us/step - loss: 0.3644 - acc: 0.8494\n",
      "Epoch 85/100\n",
      "664/664 [==============================] - 0s 207us/step - loss: 0.3641 - acc: 0.8464\n",
      "Epoch 86/100\n",
      "664/664 [==============================] - 0s 206us/step - loss: 0.3642 - acc: 0.8524\n",
      "Epoch 87/100\n",
      "664/664 [==============================] - 0s 201us/step - loss: 0.3637 - acc: 0.8509\n",
      "Epoch 88/100\n",
      "664/664 [==============================] - 0s 228us/step - loss: 0.3637 - acc: 0.8524\n",
      "Epoch 89/100\n",
      "664/664 [==============================] - 0s 218us/step - loss: 0.3639 - acc: 0.8554\n",
      "Epoch 90/100\n",
      "664/664 [==============================] - 0s 227us/step - loss: 0.3637 - acc: 0.8539\n",
      "Epoch 91/100\n",
      "664/664 [==============================] - 0s 212us/step - loss: 0.3636 - acc: 0.8449\n",
      "Epoch 92/100\n",
      "664/664 [==============================] - 0s 201us/step - loss: 0.3639 - acc: 0.8524\n",
      "Epoch 93/100\n",
      "664/664 [==============================] - 0s 204us/step - loss: 0.3636 - acc: 0.8464\n",
      "Epoch 94/100\n",
      "664/664 [==============================] - 0s 206us/step - loss: 0.3637 - acc: 0.8479\n",
      "Epoch 95/100\n",
      "664/664 [==============================] - 0s 201us/step - loss: 0.3629 - acc: 0.8494\n",
      "Epoch 96/100\n",
      "664/664 [==============================] - 0s 200us/step - loss: 0.3631 - acc: 0.8479\n",
      "Epoch 97/100\n",
      "664/664 [==============================] - 0s 204us/step - loss: 0.3634 - acc: 0.8524\n",
      "Epoch 98/100\n",
      "664/664 [==============================] - 0s 203us/step - loss: 0.3633 - acc: 0.8524\n",
      "Epoch 99/100\n",
      "664/664 [==============================] - 0s 204us/step - loss: 0.3629 - acc: 0.8509\n",
      "Epoch 100/100\n",
      "664/664 [==============================] - 0s 204us/step - loss: 0.3631 - acc: 0.8494\n"
     ]
    },
    {
     "data": {
      "text/plain": [
       "<keras.callbacks.History at 0x26a4d2327b8>"
      ]
     },
     "execution_count": 67,
     "metadata": {},
     "output_type": "execute_result"
    }
   ],
   "source": [
    "classifier.fit(X_train, y_train, batch_size=5, nb_epoch=100)"
   ]
  },
  {
   "cell_type": "code",
   "execution_count": 68,
   "metadata": {},
   "outputs": [],
   "source": [
    "y_pred = classifier.predict(X_test)"
   ]
  },
  {
   "cell_type": "code",
   "execution_count": 69,
   "metadata": {},
   "outputs": [],
   "source": [
    "y_pred = (y_pred > 0.5)"
   ]
  },
  {
   "cell_type": "code",
   "execution_count": 70,
   "metadata": {},
   "outputs": [],
   "source": [
    "from sklearn.metrics import confusion_matrix"
   ]
  },
  {
   "cell_type": "code",
   "execution_count": 71,
   "metadata": {},
   "outputs": [],
   "source": [
    "cm = confusion_matrix(y_test, y_pred)"
   ]
  },
  {
   "cell_type": "code",
   "execution_count": 72,
   "metadata": {},
   "outputs": [
    {
     "data": {
      "text/plain": [
       "array([[75, 15],\n",
       "       [13, 63]], dtype=int64)"
      ]
     },
     "execution_count": 72,
     "metadata": {},
     "output_type": "execute_result"
    }
   ],
   "source": [
    "cm"
   ]
  },
  {
   "cell_type": "code",
   "execution_count": 73,
   "metadata": {},
   "outputs": [
    {
     "data": {
      "text/plain": [
       "0.8132530120481928"
      ]
     },
     "execution_count": 73,
     "metadata": {},
     "output_type": "execute_result"
    }
   ],
   "source": [
    "(63+72) / (63+16+15+72)"
   ]
  },
  {
   "cell_type": "code",
   "execution_count": 85,
   "metadata": {},
   "outputs": [
    {
     "name": "stdout",
     "output_type": "stream",
     "text": [
      "              precision    recall  f1-score   support\n",
      "\n",
      "           0       0.76      0.82      0.79        79\n",
      "           1       0.83      0.77      0.80        87\n",
      "\n",
      "   micro avg       0.80      0.80      0.80       166\n",
      "   macro avg       0.80      0.80      0.80       166\n",
      "weighted avg       0.80      0.80      0.80       166\n",
      "\n",
      "              precision    recall  f1-score   support\n",
      "\n",
      "           0       0.71      0.80      0.75        79\n",
      "           1       0.79      0.70      0.74        87\n",
      "\n",
      "   micro avg       0.75      0.75      0.75       166\n",
      "   macro avg       0.75      0.75      0.75       166\n",
      "weighted avg       0.75      0.75      0.75       166\n",
      "\n",
      "              precision    recall  f1-score   support\n",
      "\n",
      "           0       0.76      0.84      0.80        79\n",
      "           1       0.84      0.76      0.80        87\n",
      "\n",
      "   micro avg       0.80      0.80      0.80       166\n",
      "   macro avg       0.80      0.80      0.80       166\n",
      "weighted avg       0.80      0.80      0.80       166\n",
      "\n",
      "              precision    recall  f1-score   support\n",
      "\n",
      "           0       0.75      0.82      0.78        79\n",
      "           1       0.82      0.75      0.78        87\n",
      "\n",
      "   micro avg       0.78      0.78      0.78       166\n",
      "   macro avg       0.78      0.78      0.78       166\n",
      "weighted avg       0.79      0.78      0.78       166\n",
      "\n",
      "              precision    recall  f1-score   support\n",
      "\n",
      "           0       0.52      0.58      0.55        79\n",
      "           1       0.58      0.52      0.55        87\n",
      "\n",
      "   micro avg       0.55      0.55      0.55       166\n",
      "   macro avg       0.55      0.55      0.55       166\n",
      "weighted avg       0.55      0.55      0.55       166\n",
      "\n"
     ]
    }
   ],
   "source": [
    "from sklearn.metrics import classification_report\n",
    "print(classification_report(Y_TEST,pred2))\n",
    "print(classification_report(Y_TEST,pred3))\n",
    "print(classification_report(Y_TEST,pred4))\n",
    "print(classification_report(Y_TEST,pred_6))\n",
    "print(classification_report(Y_TEST,y_pred))"
   ]
  }
 ],
 "metadata": {
  "kernelspec": {
   "display_name": "Python 3",
   "language": "python",
   "name": "python3"
  },
  "language_info": {
   "codemirror_mode": {
    "name": "ipython",
    "version": 3
   },
   "file_extension": ".py",
   "mimetype": "text/x-python",
   "name": "python",
   "nbconvert_exporter": "python",
   "pygments_lexer": "ipython3",
   "version": "3.6.4"
  }
 },
 "nbformat": 4,
 "nbformat_minor": 2
}
