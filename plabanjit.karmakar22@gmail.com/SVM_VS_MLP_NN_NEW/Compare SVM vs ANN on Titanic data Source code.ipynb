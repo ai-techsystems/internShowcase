{
 "cells": [
  {
   "cell_type": "code",
   "execution_count": 22,
   "metadata": {},
   "outputs": [
    {
     "data": {
      "text/html": [
       "<table>\n",
       "<thead><tr><th scope=col>PassengerId</th><th scope=col>Survived</th><th scope=col>Pclass</th><th scope=col>Name</th><th scope=col>Sex</th><th scope=col>Age</th><th scope=col>SibSp</th><th scope=col>Parch</th><th scope=col>Ticket</th><th scope=col>Fare</th><th scope=col>Cabin</th><th scope=col>Embarked</th></tr></thead>\n",
       "<tbody>\n",
       "\t<tr><td>1                                                  </td><td>0                                                  </td><td>3                                                  </td><td>Braund, Mr. Owen Harris                            </td><td>male                                               </td><td>22                                                 </td><td>1                                                  </td><td>0                                                  </td><td>A/5 21171                                          </td><td> 7.2500                                            </td><td>                                                   </td><td>S                                                  </td></tr>\n",
       "\t<tr><td>2                                                  </td><td>1                                                  </td><td>1                                                  </td><td>Cumings, Mrs. John Bradley (Florence Briggs Thayer)</td><td>female                                             </td><td>38                                                 </td><td>1                                                  </td><td>0                                                  </td><td>PC 17599                                           </td><td>71.2833                                            </td><td>C85                                                </td><td>C                                                  </td></tr>\n",
       "\t<tr><td>3                                                  </td><td>1                                                  </td><td>3                                                  </td><td>Heikkinen, Miss. Laina                             </td><td>female                                             </td><td>26                                                 </td><td>0                                                  </td><td>0                                                  </td><td>STON/O2. 3101282                                   </td><td> 7.9250                                            </td><td>                                                   </td><td>S                                                  </td></tr>\n",
       "\t<tr><td>4                                                  </td><td>1                                                  </td><td>1                                                  </td><td>Futrelle, Mrs. Jacques Heath (Lily May Peel)       </td><td>female                                             </td><td>35                                                 </td><td>1                                                  </td><td>0                                                  </td><td>113803                                             </td><td>53.1000                                            </td><td>C123                                               </td><td>S                                                  </td></tr>\n",
       "\t<tr><td>5                                                  </td><td>0                                                  </td><td>3                                                  </td><td>Allen, Mr. William Henry                           </td><td>male                                               </td><td>35                                                 </td><td>0                                                  </td><td>0                                                  </td><td>373450                                             </td><td> 8.0500                                            </td><td>                                                   </td><td>S                                                  </td></tr>\n",
       "\t<tr><td>6                                                  </td><td>0                                                  </td><td>3                                                  </td><td>Moran, Mr. James                                   </td><td>male                                               </td><td>NA                                                 </td><td>0                                                  </td><td>0                                                  </td><td>330877                                             </td><td> 8.4583                                            </td><td>                                                   </td><td>Q                                                  </td></tr>\n",
       "</tbody>\n",
       "</table>\n"
      ],
      "text/latex": [
       "\\begin{tabular}{r|llllllllllll}\n",
       " PassengerId & Survived & Pclass & Name & Sex & Age & SibSp & Parch & Ticket & Fare & Cabin & Embarked\\\\\n",
       "\\hline\n",
       "\t 1                                                   & 0                                                   & 3                                                   & Braund, Mr. Owen Harris                             & male                                                & 22                                                  & 1                                                   & 0                                                   & A/5 21171                                           &  7.2500                                             &                                                     & S                                                  \\\\\n",
       "\t 2                                                   & 1                                                   & 1                                                   & Cumings, Mrs. John Bradley (Florence Briggs Thayer) & female                                              & 38                                                  & 1                                                   & 0                                                   & PC 17599                                            & 71.2833                                             & C85                                                 & C                                                  \\\\\n",
       "\t 3                                                   & 1                                                   & 3                                                   & Heikkinen, Miss. Laina                              & female                                              & 26                                                  & 0                                                   & 0                                                   & STON/O2. 3101282                                    &  7.9250                                             &                                                     & S                                                  \\\\\n",
       "\t 4                                                   & 1                                                   & 1                                                   & Futrelle, Mrs. Jacques Heath (Lily May Peel)        & female                                              & 35                                                  & 1                                                   & 0                                                   & 113803                                              & 53.1000                                             & C123                                                & S                                                  \\\\\n",
       "\t 5                                                   & 0                                                   & 3                                                   & Allen, Mr. William Henry                            & male                                                & 35                                                  & 0                                                   & 0                                                   & 373450                                              &  8.0500                                             &                                                     & S                                                  \\\\\n",
       "\t 6                                                   & 0                                                   & 3                                                   & Moran, Mr. James                                    & male                                                & NA                                                  & 0                                                   & 0                                                   & 330877                                              &  8.4583                                             &                                                     & Q                                                  \\\\\n",
       "\\end{tabular}\n"
      ],
      "text/markdown": [
       "\n",
       "| PassengerId | Survived | Pclass | Name | Sex | Age | SibSp | Parch | Ticket | Fare | Cabin | Embarked |\n",
       "|---|---|---|---|---|---|---|---|---|---|---|---|\n",
       "| 1                                                   | 0                                                   | 3                                                   | Braund, Mr. Owen Harris                             | male                                                | 22                                                  | 1                                                   | 0                                                   | A/5 21171                                           |  7.2500                                             |                                                     | S                                                   |\n",
       "| 2                                                   | 1                                                   | 1                                                   | Cumings, Mrs. John Bradley (Florence Briggs Thayer) | female                                              | 38                                                  | 1                                                   | 0                                                   | PC 17599                                            | 71.2833                                             | C85                                                 | C                                                   |\n",
       "| 3                                                   | 1                                                   | 3                                                   | Heikkinen, Miss. Laina                              | female                                              | 26                                                  | 0                                                   | 0                                                   | STON/O2. 3101282                                    |  7.9250                                             |                                                     | S                                                   |\n",
       "| 4                                                   | 1                                                   | 1                                                   | Futrelle, Mrs. Jacques Heath (Lily May Peel)        | female                                              | 35                                                  | 1                                                   | 0                                                   | 113803                                              | 53.1000                                             | C123                                                | S                                                   |\n",
       "| 5                                                   | 0                                                   | 3                                                   | Allen, Mr. William Henry                            | male                                                | 35                                                  | 0                                                   | 0                                                   | 373450                                              |  8.0500                                             |                                                     | S                                                   |\n",
       "| 6                                                   | 0                                                   | 3                                                   | Moran, Mr. James                                    | male                                                | NA                                                  | 0                                                   | 0                                                   | 330877                                              |  8.4583                                             |                                                     | Q                                                   |\n",
       "\n"
      ],
      "text/plain": [
       "  PassengerId Survived Pclass\n",
       "1 1           0        3     \n",
       "2 2           1        1     \n",
       "3 3           1        3     \n",
       "4 4           1        1     \n",
       "5 5           0        3     \n",
       "6 6           0        3     \n",
       "  Name                                                Sex    Age SibSp Parch\n",
       "1 Braund, Mr. Owen Harris                             male   22  1     0    \n",
       "2 Cumings, Mrs. John Bradley (Florence Briggs Thayer) female 38  1     0    \n",
       "3 Heikkinen, Miss. Laina                              female 26  0     0    \n",
       "4 Futrelle, Mrs. Jacques Heath (Lily May Peel)        female 35  1     0    \n",
       "5 Allen, Mr. William Henry                            male   35  0     0    \n",
       "6 Moran, Mr. James                                    male   NA  0     0    \n",
       "  Ticket           Fare    Cabin Embarked\n",
       "1 A/5 21171         7.2500       S       \n",
       "2 PC 17599         71.2833 C85   C       \n",
       "3 STON/O2. 3101282  7.9250       S       \n",
       "4 113803           53.1000 C123  S       \n",
       "5 373450            8.0500       S       \n",
       "6 330877            8.4583       Q       "
      ]
     },
     "metadata": {},
     "output_type": "display_data"
    },
    {
     "data": {
      "text/html": [
       "<table>\n",
       "<thead><tr><th scope=col>PassengerId</th><th scope=col>Survived</th><th scope=col>Pclass</th><th scope=col>Name</th><th scope=col>Sex</th><th scope=col>Age</th><th scope=col>SibSp</th><th scope=col>Parch</th><th scope=col>Ticket</th><th scope=col>Fare</th><th scope=col>Cabin</th><th scope=col>Embarked</th></tr></thead>\n",
       "<tbody>\n",
       "\t<tr><td>892                                         </td><td>0                                           </td><td>3                                           </td><td>Kelly, Mr. James                            </td><td>male                                        </td><td>34.5                                        </td><td>0                                           </td><td>0                                           </td><td>330911                                      </td><td> 7.8292                                     </td><td>                                            </td><td>Q                                           </td></tr>\n",
       "\t<tr><td>893                                         </td><td>1                                           </td><td>3                                           </td><td>Wilkes, Mrs. James (Ellen Needs)            </td><td>female                                      </td><td>47.0                                        </td><td>1                                           </td><td>0                                           </td><td>363272                                      </td><td> 7.0000                                     </td><td>                                            </td><td>S                                           </td></tr>\n",
       "\t<tr><td>894                                         </td><td>0                                           </td><td>2                                           </td><td>Myles, Mr. Thomas Francis                   </td><td>male                                        </td><td>62.0                                        </td><td>0                                           </td><td>0                                           </td><td>240276                                      </td><td> 9.6875                                     </td><td>                                            </td><td>Q                                           </td></tr>\n",
       "\t<tr><td>895                                         </td><td>0                                           </td><td>3                                           </td><td>Wirz, Mr. Albert                            </td><td>male                                        </td><td>27.0                                        </td><td>0                                           </td><td>0                                           </td><td>315154                                      </td><td> 8.6625                                     </td><td>                                            </td><td>S                                           </td></tr>\n",
       "\t<tr><td>896                                         </td><td>1                                           </td><td>3                                           </td><td>Hirvonen, Mrs. Alexander (Helga E Lindqvist)</td><td>female                                      </td><td>22.0                                        </td><td>1                                           </td><td>1                                           </td><td>3101298                                     </td><td>12.2875                                     </td><td>                                            </td><td>S                                           </td></tr>\n",
       "\t<tr><td>897                                         </td><td>0                                           </td><td>3                                           </td><td>Svensson, Mr. Johan Cervin                  </td><td>male                                        </td><td>14.0                                        </td><td>0                                           </td><td>0                                           </td><td>7538                                        </td><td> 9.2250                                     </td><td>                                            </td><td>S                                           </td></tr>\n",
       "</tbody>\n",
       "</table>\n"
      ],
      "text/latex": [
       "\\begin{tabular}{r|llllllllllll}\n",
       " PassengerId & Survived & Pclass & Name & Sex & Age & SibSp & Parch & Ticket & Fare & Cabin & Embarked\\\\\n",
       "\\hline\n",
       "\t 892                                          & 0                                            & 3                                            & Kelly, Mr. James                             & male                                         & 34.5                                         & 0                                            & 0                                            & 330911                                       &  7.8292                                      &                                              & Q                                           \\\\\n",
       "\t 893                                          & 1                                            & 3                                            & Wilkes, Mrs. James (Ellen Needs)             & female                                       & 47.0                                         & 1                                            & 0                                            & 363272                                       &  7.0000                                      &                                              & S                                           \\\\\n",
       "\t 894                                          & 0                                            & 2                                            & Myles, Mr. Thomas Francis                    & male                                         & 62.0                                         & 0                                            & 0                                            & 240276                                       &  9.6875                                      &                                              & Q                                           \\\\\n",
       "\t 895                                          & 0                                            & 3                                            & Wirz, Mr. Albert                             & male                                         & 27.0                                         & 0                                            & 0                                            & 315154                                       &  8.6625                                      &                                              & S                                           \\\\\n",
       "\t 896                                          & 1                                            & 3                                            & Hirvonen, Mrs. Alexander (Helga E Lindqvist) & female                                       & 22.0                                         & 1                                            & 1                                            & 3101298                                      & 12.2875                                      &                                              & S                                           \\\\\n",
       "\t 897                                          & 0                                            & 3                                            & Svensson, Mr. Johan Cervin                   & male                                         & 14.0                                         & 0                                            & 0                                            & 7538                                         &  9.2250                                      &                                              & S                                           \\\\\n",
       "\\end{tabular}\n"
      ],
      "text/markdown": [
       "\n",
       "| PassengerId | Survived | Pclass | Name | Sex | Age | SibSp | Parch | Ticket | Fare | Cabin | Embarked |\n",
       "|---|---|---|---|---|---|---|---|---|---|---|---|\n",
       "| 892                                          | 0                                            | 3                                            | Kelly, Mr. James                             | male                                         | 34.5                                         | 0                                            | 0                                            | 330911                                       |  7.8292                                      |                                              | Q                                            |\n",
       "| 893                                          | 1                                            | 3                                            | Wilkes, Mrs. James (Ellen Needs)             | female                                       | 47.0                                         | 1                                            | 0                                            | 363272                                       |  7.0000                                      |                                              | S                                            |\n",
       "| 894                                          | 0                                            | 2                                            | Myles, Mr. Thomas Francis                    | male                                         | 62.0                                         | 0                                            | 0                                            | 240276                                       |  9.6875                                      |                                              | Q                                            |\n",
       "| 895                                          | 0                                            | 3                                            | Wirz, Mr. Albert                             | male                                         | 27.0                                         | 0                                            | 0                                            | 315154                                       |  8.6625                                      |                                              | S                                            |\n",
       "| 896                                          | 1                                            | 3                                            | Hirvonen, Mrs. Alexander (Helga E Lindqvist) | female                                       | 22.0                                         | 1                                            | 1                                            | 3101298                                      | 12.2875                                      |                                              | S                                            |\n",
       "| 897                                          | 0                                            | 3                                            | Svensson, Mr. Johan Cervin                   | male                                         | 14.0                                         | 0                                            | 0                                            | 7538                                         |  9.2250                                      |                                              | S                                            |\n",
       "\n"
      ],
      "text/plain": [
       "  PassengerId Survived Pclass Name                                        \n",
       "1 892         0        3      Kelly, Mr. James                            \n",
       "2 893         1        3      Wilkes, Mrs. James (Ellen Needs)            \n",
       "3 894         0        2      Myles, Mr. Thomas Francis                   \n",
       "4 895         0        3      Wirz, Mr. Albert                            \n",
       "5 896         1        3      Hirvonen, Mrs. Alexander (Helga E Lindqvist)\n",
       "6 897         0        3      Svensson, Mr. Johan Cervin                  \n",
       "  Sex    Age  SibSp Parch Ticket  Fare    Cabin Embarked\n",
       "1 male   34.5 0     0     330911   7.8292       Q       \n",
       "2 female 47.0 1     0     363272   7.0000       S       \n",
       "3 male   62.0 0     0     240276   9.6875       Q       \n",
       "4 male   27.0 0     0     315154   8.6625       S       \n",
       "5 female 22.0 1     1     3101298 12.2875       S       \n",
       "6 male   14.0 0     0     7538     9.2250       S       "
      ]
     },
     "metadata": {},
     "output_type": "display_data"
    }
   ],
   "source": [
    "#importing the data\n",
    "\n",
    "setwd(\"C:\\\\Users\\\\user\\\\Desktop\")\n",
    "\n",
    "train <- read.csv(\"train.csv\")\n",
    "test <- read.csv(\"test.csv\")\n",
    "head(train)\n",
    "head(test)"
   ]
  },
  {
   "cell_type": "code",
   "execution_count": 23,
   "metadata": {},
   "outputs": [
    {
     "data": {
      "text/html": [
       "<table>\n",
       "<thead><tr><th scope=col>Survived</th><th scope=col>Pclass</th><th scope=col>Sex</th><th scope=col>Age</th><th scope=col>SibSp</th><th scope=col>Parch</th><th scope=col>Ticket</th><th scope=col>Fare</th><th scope=col>Embarked</th></tr></thead>\n",
       "<tbody>\n",
       "\t<tr><td>0               </td><td>3               </td><td>male            </td><td>22              </td><td>1               </td><td>0               </td><td>A/5 21171       </td><td> 7.2500         </td><td>S               </td></tr>\n",
       "\t<tr><td>1               </td><td>1               </td><td>female          </td><td>38              </td><td>1               </td><td>0               </td><td>PC 17599        </td><td>71.2833         </td><td>C               </td></tr>\n",
       "\t<tr><td>1               </td><td>3               </td><td>female          </td><td>26              </td><td>0               </td><td>0               </td><td>STON/O2. 3101282</td><td> 7.9250         </td><td>S               </td></tr>\n",
       "\t<tr><td>1               </td><td>1               </td><td>female          </td><td>35              </td><td>1               </td><td>0               </td><td>113803          </td><td>53.1000         </td><td>S               </td></tr>\n",
       "\t<tr><td>0               </td><td>3               </td><td>male            </td><td>35              </td><td>0               </td><td>0               </td><td>373450          </td><td> 8.0500         </td><td>S               </td></tr>\n",
       "\t<tr><td>0               </td><td>3               </td><td>male            </td><td>NA              </td><td>0               </td><td>0               </td><td>330877          </td><td> 8.4583         </td><td>Q               </td></tr>\n",
       "</tbody>\n",
       "</table>\n"
      ],
      "text/latex": [
       "\\begin{tabular}{r|lllllllll}\n",
       " Survived & Pclass & Sex & Age & SibSp & Parch & Ticket & Fare & Embarked\\\\\n",
       "\\hline\n",
       "\t 0                & 3                & male             & 22               & 1                & 0                & A/5 21171        &  7.2500          & S               \\\\\n",
       "\t 1                & 1                & female           & 38               & 1                & 0                & PC 17599         & 71.2833          & C               \\\\\n",
       "\t 1                & 3                & female           & 26               & 0                & 0                & STON/O2. 3101282 &  7.9250          & S               \\\\\n",
       "\t 1                & 1                & female           & 35               & 1                & 0                & 113803           & 53.1000          & S               \\\\\n",
       "\t 0                & 3                & male             & 35               & 0                & 0                & 373450           &  8.0500          & S               \\\\\n",
       "\t 0                & 3                & male             & NA               & 0                & 0                & 330877           &  8.4583          & Q               \\\\\n",
       "\\end{tabular}\n"
      ],
      "text/markdown": [
       "\n",
       "| Survived | Pclass | Sex | Age | SibSp | Parch | Ticket | Fare | Embarked |\n",
       "|---|---|---|---|---|---|---|---|---|\n",
       "| 0                | 3                | male             | 22               | 1                | 0                | A/5 21171        |  7.2500          | S                |\n",
       "| 1                | 1                | female           | 38               | 1                | 0                | PC 17599         | 71.2833          | C                |\n",
       "| 1                | 3                | female           | 26               | 0                | 0                | STON/O2. 3101282 |  7.9250          | S                |\n",
       "| 1                | 1                | female           | 35               | 1                | 0                | 113803           | 53.1000          | S                |\n",
       "| 0                | 3                | male             | 35               | 0                | 0                | 373450           |  8.0500          | S                |\n",
       "| 0                | 3                | male             | NA               | 0                | 0                | 330877           |  8.4583          | Q                |\n",
       "\n"
      ],
      "text/plain": [
       "  Survived Pclass Sex    Age SibSp Parch Ticket           Fare    Embarked\n",
       "1 0        3      male   22  1     0     A/5 21171         7.2500 S       \n",
       "2 1        1      female 38  1     0     PC 17599         71.2833 C       \n",
       "3 1        3      female 26  0     0     STON/O2. 3101282  7.9250 S       \n",
       "4 1        1      female 35  1     0     113803           53.1000 S       \n",
       "5 0        3      male   35  0     0     373450            8.0500 S       \n",
       "6 0        3      male   NA  0     0     330877            8.4583 Q       "
      ]
     },
     "metadata": {},
     "output_type": "display_data"
    },
    {
     "data": {
      "text/html": [
       "<table>\n",
       "<thead><tr><th scope=col>Survived</th><th scope=col>Pclass</th><th scope=col>Sex</th><th scope=col>Age</th><th scope=col>SibSp</th><th scope=col>Parch</th><th scope=col>Ticket</th><th scope=col>Fare</th><th scope=col>Embarked</th></tr></thead>\n",
       "<tbody>\n",
       "\t<tr><td>0      </td><td>3      </td><td>male   </td><td>34.5   </td><td>0      </td><td>0      </td><td>330911 </td><td> 7.8292</td><td>Q      </td></tr>\n",
       "\t<tr><td>1      </td><td>3      </td><td>female </td><td>47.0   </td><td>1      </td><td>0      </td><td>363272 </td><td> 7.0000</td><td>S      </td></tr>\n",
       "\t<tr><td>0      </td><td>2      </td><td>male   </td><td>62.0   </td><td>0      </td><td>0      </td><td>240276 </td><td> 9.6875</td><td>Q      </td></tr>\n",
       "\t<tr><td>0      </td><td>3      </td><td>male   </td><td>27.0   </td><td>0      </td><td>0      </td><td>315154 </td><td> 8.6625</td><td>S      </td></tr>\n",
       "\t<tr><td>1      </td><td>3      </td><td>female </td><td>22.0   </td><td>1      </td><td>1      </td><td>3101298</td><td>12.2875</td><td>S      </td></tr>\n",
       "\t<tr><td>0      </td><td>3      </td><td>male   </td><td>14.0   </td><td>0      </td><td>0      </td><td>7538   </td><td> 9.2250</td><td>S      </td></tr>\n",
       "</tbody>\n",
       "</table>\n"
      ],
      "text/latex": [
       "\\begin{tabular}{r|lllllllll}\n",
       " Survived & Pclass & Sex & Age & SibSp & Parch & Ticket & Fare & Embarked\\\\\n",
       "\\hline\n",
       "\t 0       & 3       & male    & 34.5    & 0       & 0       & 330911  &  7.8292 & Q      \\\\\n",
       "\t 1       & 3       & female  & 47.0    & 1       & 0       & 363272  &  7.0000 & S      \\\\\n",
       "\t 0       & 2       & male    & 62.0    & 0       & 0       & 240276  &  9.6875 & Q      \\\\\n",
       "\t 0       & 3       & male    & 27.0    & 0       & 0       & 315154  &  8.6625 & S      \\\\\n",
       "\t 1       & 3       & female  & 22.0    & 1       & 1       & 3101298 & 12.2875 & S      \\\\\n",
       "\t 0       & 3       & male    & 14.0    & 0       & 0       & 7538    &  9.2250 & S      \\\\\n",
       "\\end{tabular}\n"
      ],
      "text/markdown": [
       "\n",
       "| Survived | Pclass | Sex | Age | SibSp | Parch | Ticket | Fare | Embarked |\n",
       "|---|---|---|---|---|---|---|---|---|\n",
       "| 0       | 3       | male    | 34.5    | 0       | 0       | 330911  |  7.8292 | Q       |\n",
       "| 1       | 3       | female  | 47.0    | 1       | 0       | 363272  |  7.0000 | S       |\n",
       "| 0       | 2       | male    | 62.0    | 0       | 0       | 240276  |  9.6875 | Q       |\n",
       "| 0       | 3       | male    | 27.0    | 0       | 0       | 315154  |  8.6625 | S       |\n",
       "| 1       | 3       | female  | 22.0    | 1       | 1       | 3101298 | 12.2875 | S       |\n",
       "| 0       | 3       | male    | 14.0    | 0       | 0       | 7538    |  9.2250 | S       |\n",
       "\n"
      ],
      "text/plain": [
       "  Survived Pclass Sex    Age  SibSp Parch Ticket  Fare    Embarked\n",
       "1 0        3      male   34.5 0     0     330911   7.8292 Q       \n",
       "2 1        3      female 47.0 1     0     363272   7.0000 S       \n",
       "3 0        2      male   62.0 0     0     240276   9.6875 Q       \n",
       "4 0        3      male   27.0 0     0     315154   8.6625 S       \n",
       "5 1        3      female 22.0 1     1     3101298 12.2875 S       \n",
       "6 0        3      male   14.0 0     0     7538     9.2250 S       "
      ]
     },
     "metadata": {},
     "output_type": "display_data"
    }
   ],
   "source": [
    "# columns not required\n",
    "train$PassengerId <- NULL\n",
    "train$Name<- NULL\n",
    "train$Cabin<- NULL\n",
    "\n",
    "test$PassengerId <- NULL\n",
    "test$Name<- NULL\n",
    "test$Cabin<- NULL\n",
    "head(train)\n",
    "head(test)"
   ]
  },
  {
   "cell_type": "code",
   "execution_count": 24,
   "metadata": {},
   "outputs": [
    {
     "data": {
      "text/html": [
       "<dl class=dl-horizontal>\n",
       "\t<dt>Survived</dt>\n",
       "\t\t<dd>0</dd>\n",
       "\t<dt>Pclass</dt>\n",
       "\t\t<dd>0</dd>\n",
       "\t<dt>Sex</dt>\n",
       "\t\t<dd>0</dd>\n",
       "\t<dt>Age</dt>\n",
       "\t\t<dd>177</dd>\n",
       "\t<dt>SibSp</dt>\n",
       "\t\t<dd>0</dd>\n",
       "\t<dt>Parch</dt>\n",
       "\t\t<dd>0</dd>\n",
       "\t<dt>Ticket</dt>\n",
       "\t\t<dd>0</dd>\n",
       "\t<dt>Fare</dt>\n",
       "\t\t<dd>0</dd>\n",
       "\t<dt>Embarked</dt>\n",
       "\t\t<dd>0</dd>\n",
       "</dl>\n"
      ],
      "text/latex": [
       "\\begin{description*}\n",
       "\\item[Survived] 0\n",
       "\\item[Pclass] 0\n",
       "\\item[Sex] 0\n",
       "\\item[Age] 177\n",
       "\\item[SibSp] 0\n",
       "\\item[Parch] 0\n",
       "\\item[Ticket] 0\n",
       "\\item[Fare] 0\n",
       "\\item[Embarked] 0\n",
       "\\end{description*}\n"
      ],
      "text/markdown": [
       "Survived\n",
       ":   0Pclass\n",
       ":   0Sex\n",
       ":   0Age\n",
       ":   177SibSp\n",
       ":   0Parch\n",
       ":   0Ticket\n",
       ":   0Fare\n",
       ":   0Embarked\n",
       ":   0\n",
       "\n"
      ],
      "text/plain": [
       "Survived   Pclass      Sex      Age    SibSp    Parch   Ticket     Fare \n",
       "       0        0        0      177        0        0        0        0 \n",
       "Embarked \n",
       "       0 "
      ]
     },
     "metadata": {},
     "output_type": "display_data"
    },
    {
     "data": {
      "text/html": [
       "<dl class=dl-horizontal>\n",
       "\t<dt>Survived</dt>\n",
       "\t\t<dd>0</dd>\n",
       "\t<dt>Pclass</dt>\n",
       "\t\t<dd>0</dd>\n",
       "\t<dt>Sex</dt>\n",
       "\t\t<dd>0</dd>\n",
       "\t<dt>Age</dt>\n",
       "\t\t<dd>0.198653198653199</dd>\n",
       "\t<dt>SibSp</dt>\n",
       "\t\t<dd>0</dd>\n",
       "\t<dt>Parch</dt>\n",
       "\t\t<dd>0</dd>\n",
       "\t<dt>Ticket</dt>\n",
       "\t\t<dd>0</dd>\n",
       "\t<dt>Fare</dt>\n",
       "\t\t<dd>0</dd>\n",
       "\t<dt>Embarked</dt>\n",
       "\t\t<dd>0</dd>\n",
       "</dl>\n"
      ],
      "text/latex": [
       "\\begin{description*}\n",
       "\\item[Survived] 0\n",
       "\\item[Pclass] 0\n",
       "\\item[Sex] 0\n",
       "\\item[Age] 0.198653198653199\n",
       "\\item[SibSp] 0\n",
       "\\item[Parch] 0\n",
       "\\item[Ticket] 0\n",
       "\\item[Fare] 0\n",
       "\\item[Embarked] 0\n",
       "\\end{description*}\n"
      ],
      "text/markdown": [
       "Survived\n",
       ":   0Pclass\n",
       ":   0Sex\n",
       ":   0Age\n",
       ":   0.198653198653199SibSp\n",
       ":   0Parch\n",
       ":   0Ticket\n",
       ":   0Fare\n",
       ":   0Embarked\n",
       ":   0\n",
       "\n"
      ],
      "text/plain": [
       " Survived    Pclass       Sex       Age     SibSp     Parch    Ticket      Fare \n",
       "0.0000000 0.0000000 0.0000000 0.1986532 0.0000000 0.0000000 0.0000000 0.0000000 \n",
       " Embarked \n",
       "0.0000000 "
      ]
     },
     "metadata": {},
     "output_type": "display_data"
    },
    {
     "data": {
      "text/html": [
       "<dl class=dl-horizontal>\n",
       "\t<dt>Survived</dt>\n",
       "\t\t<dd>0</dd>\n",
       "\t<dt>Pclass</dt>\n",
       "\t\t<dd>0</dd>\n",
       "\t<dt>Sex</dt>\n",
       "\t\t<dd>0</dd>\n",
       "\t<dt>Age</dt>\n",
       "\t\t<dd>86</dd>\n",
       "\t<dt>SibSp</dt>\n",
       "\t\t<dd>0</dd>\n",
       "\t<dt>Parch</dt>\n",
       "\t\t<dd>0</dd>\n",
       "\t<dt>Ticket</dt>\n",
       "\t\t<dd>0</dd>\n",
       "\t<dt>Fare</dt>\n",
       "\t\t<dd>1</dd>\n",
       "\t<dt>Embarked</dt>\n",
       "\t\t<dd>0</dd>\n",
       "</dl>\n"
      ],
      "text/latex": [
       "\\begin{description*}\n",
       "\\item[Survived] 0\n",
       "\\item[Pclass] 0\n",
       "\\item[Sex] 0\n",
       "\\item[Age] 86\n",
       "\\item[SibSp] 0\n",
       "\\item[Parch] 0\n",
       "\\item[Ticket] 0\n",
       "\\item[Fare] 1\n",
       "\\item[Embarked] 0\n",
       "\\end{description*}\n"
      ],
      "text/markdown": [
       "Survived\n",
       ":   0Pclass\n",
       ":   0Sex\n",
       ":   0Age\n",
       ":   86SibSp\n",
       ":   0Parch\n",
       ":   0Ticket\n",
       ":   0Fare\n",
       ":   1Embarked\n",
       ":   0\n",
       "\n"
      ],
      "text/plain": [
       "Survived   Pclass      Sex      Age    SibSp    Parch   Ticket     Fare \n",
       "       0        0        0       86        0        0        0        1 \n",
       "Embarked \n",
       "       0 "
      ]
     },
     "metadata": {},
     "output_type": "display_data"
    },
    {
     "data": {
      "text/html": [
       "<dl class=dl-horizontal>\n",
       "\t<dt>Survived</dt>\n",
       "\t\t<dd>0</dd>\n",
       "\t<dt>Pclass</dt>\n",
       "\t\t<dd>0</dd>\n",
       "\t<dt>Sex</dt>\n",
       "\t\t<dd>0</dd>\n",
       "\t<dt>Age</dt>\n",
       "\t\t<dd>0.205741626794258</dd>\n",
       "\t<dt>SibSp</dt>\n",
       "\t\t<dd>0</dd>\n",
       "\t<dt>Parch</dt>\n",
       "\t\t<dd>0</dd>\n",
       "\t<dt>Ticket</dt>\n",
       "\t\t<dd>0</dd>\n",
       "\t<dt>Fare</dt>\n",
       "\t\t<dd>0.00239234449760766</dd>\n",
       "\t<dt>Embarked</dt>\n",
       "\t\t<dd>0</dd>\n",
       "</dl>\n"
      ],
      "text/latex": [
       "\\begin{description*}\n",
       "\\item[Survived] 0\n",
       "\\item[Pclass] 0\n",
       "\\item[Sex] 0\n",
       "\\item[Age] 0.205741626794258\n",
       "\\item[SibSp] 0\n",
       "\\item[Parch] 0\n",
       "\\item[Ticket] 0\n",
       "\\item[Fare] 0.00239234449760766\n",
       "\\item[Embarked] 0\n",
       "\\end{description*}\n"
      ],
      "text/markdown": [
       "Survived\n",
       ":   0Pclass\n",
       ":   0Sex\n",
       ":   0Age\n",
       ":   0.205741626794258SibSp\n",
       ":   0Parch\n",
       ":   0Ticket\n",
       ":   0Fare\n",
       ":   0.00239234449760766Embarked\n",
       ":   0\n",
       "\n"
      ],
      "text/plain": [
       "   Survived      Pclass         Sex         Age       SibSp       Parch \n",
       "0.000000000 0.000000000 0.000000000 0.205741627 0.000000000 0.000000000 \n",
       "     Ticket        Fare    Embarked \n",
       "0.000000000 0.002392344 0.000000000 "
      ]
     },
     "metadata": {},
     "output_type": "display_data"
    },
    {
     "data": {
      "text/html": [
       "<dl class=dl-horizontal>\n",
       "\t<dt>Survived</dt>\n",
       "\t\t<dd>2</dd>\n",
       "\t<dt>Pclass</dt>\n",
       "\t\t<dd>3</dd>\n",
       "\t<dt>Sex</dt>\n",
       "\t\t<dd>2</dd>\n",
       "\t<dt>Age</dt>\n",
       "\t\t<dd>89</dd>\n",
       "\t<dt>SibSp</dt>\n",
       "\t\t<dd>7</dd>\n",
       "\t<dt>Parch</dt>\n",
       "\t\t<dd>7</dd>\n",
       "\t<dt>Ticket</dt>\n",
       "\t\t<dd>681</dd>\n",
       "\t<dt>Fare</dt>\n",
       "\t\t<dd>248</dd>\n",
       "\t<dt>Embarked</dt>\n",
       "\t\t<dd>4</dd>\n",
       "</dl>\n"
      ],
      "text/latex": [
       "\\begin{description*}\n",
       "\\item[Survived] 2\n",
       "\\item[Pclass] 3\n",
       "\\item[Sex] 2\n",
       "\\item[Age] 89\n",
       "\\item[SibSp] 7\n",
       "\\item[Parch] 7\n",
       "\\item[Ticket] 681\n",
       "\\item[Fare] 248\n",
       "\\item[Embarked] 4\n",
       "\\end{description*}\n"
      ],
      "text/markdown": [
       "Survived\n",
       ":   2Pclass\n",
       ":   3Sex\n",
       ":   2Age\n",
       ":   89SibSp\n",
       ":   7Parch\n",
       ":   7Ticket\n",
       ":   681Fare\n",
       ":   248Embarked\n",
       ":   4\n",
       "\n"
      ],
      "text/plain": [
       "Survived   Pclass      Sex      Age    SibSp    Parch   Ticket     Fare \n",
       "       2        3        2       89        7        7      681      248 \n",
       "Embarked \n",
       "       4 "
      ]
     },
     "metadata": {},
     "output_type": "display_data"
    },
    {
     "data": {
      "text/html": [
       "<dl class=dl-horizontal>\n",
       "\t<dt>Survived</dt>\n",
       "\t\t<dd>2</dd>\n",
       "\t<dt>Pclass</dt>\n",
       "\t\t<dd>3</dd>\n",
       "\t<dt>Sex</dt>\n",
       "\t\t<dd>2</dd>\n",
       "\t<dt>Age</dt>\n",
       "\t\t<dd>80</dd>\n",
       "\t<dt>SibSp</dt>\n",
       "\t\t<dd>7</dd>\n",
       "\t<dt>Parch</dt>\n",
       "\t\t<dd>8</dd>\n",
       "\t<dt>Ticket</dt>\n",
       "\t\t<dd>363</dd>\n",
       "\t<dt>Fare</dt>\n",
       "\t\t<dd>170</dd>\n",
       "\t<dt>Embarked</dt>\n",
       "\t\t<dd>3</dd>\n",
       "</dl>\n"
      ],
      "text/latex": [
       "\\begin{description*}\n",
       "\\item[Survived] 2\n",
       "\\item[Pclass] 3\n",
       "\\item[Sex] 2\n",
       "\\item[Age] 80\n",
       "\\item[SibSp] 7\n",
       "\\item[Parch] 8\n",
       "\\item[Ticket] 363\n",
       "\\item[Fare] 170\n",
       "\\item[Embarked] 3\n",
       "\\end{description*}\n"
      ],
      "text/markdown": [
       "Survived\n",
       ":   2Pclass\n",
       ":   3Sex\n",
       ":   2Age\n",
       ":   80SibSp\n",
       ":   7Parch\n",
       ":   8Ticket\n",
       ":   363Fare\n",
       ":   170Embarked\n",
       ":   3\n",
       "\n"
      ],
      "text/plain": [
       "Survived   Pclass      Sex      Age    SibSp    Parch   Ticket     Fare \n",
       "       2        3        2       80        7        8      363      170 \n",
       "Embarked \n",
       "       3 "
      ]
     },
     "metadata": {},
     "output_type": "display_data"
    }
   ],
   "source": [
    "#checking missing values\n",
    "\n",
    "sapply(train, function(x) sum(is.na(x)))\n",
    "sapply(train, function(x) sum(is.na(x))/length(x))\n",
    "\n",
    "\n",
    "sapply(test, function(x) sum(is.na(x)))\n",
    "sapply(test, function(x) sum(is.na(x))/length(x))\n",
    "\n",
    "\n",
    "sapply(train, function(x) length(unique(x)))\n",
    "sapply(test, function(x) length(unique(x)))"
   ]
  },
  {
   "cell_type": "code",
   "execution_count": 25,
   "metadata": {},
   "outputs": [
    {
     "data": {
      "text/html": [
       "<table>\n",
       "<thead><tr><th scope=col>Survived</th><th scope=col>Pclass</th><th scope=col>Sex</th><th scope=col>Age</th><th scope=col>SibSp</th><th scope=col>Parch</th><th scope=col>Fare</th><th scope=col>Embarked</th></tr></thead>\n",
       "<tbody>\n",
       "\t<tr><td>0       </td><td>3       </td><td>male    </td><td>22.00000</td><td>1       </td><td>0       </td><td> 7.2500 </td><td>S       </td></tr>\n",
       "\t<tr><td>1       </td><td>1       </td><td>female  </td><td>38.00000</td><td>1       </td><td>0       </td><td>71.2833 </td><td>C       </td></tr>\n",
       "\t<tr><td>1       </td><td>3       </td><td>female  </td><td>26.00000</td><td>0       </td><td>0       </td><td> 7.9250 </td><td>S       </td></tr>\n",
       "\t<tr><td>1       </td><td>1       </td><td>female  </td><td>35.00000</td><td>1       </td><td>0       </td><td>53.1000 </td><td>S       </td></tr>\n",
       "\t<tr><td>0       </td><td>3       </td><td>male    </td><td>35.00000</td><td>0       </td><td>0       </td><td> 8.0500 </td><td>S       </td></tr>\n",
       "\t<tr><td>0       </td><td>3       </td><td>male    </td><td>29.69912</td><td>0       </td><td>0       </td><td> 8.4583 </td><td>Q       </td></tr>\n",
       "</tbody>\n",
       "</table>\n"
      ],
      "text/latex": [
       "\\begin{tabular}{r|llllllll}\n",
       " Survived & Pclass & Sex & Age & SibSp & Parch & Fare & Embarked\\\\\n",
       "\\hline\n",
       "\t 0        & 3        & male     & 22.00000 & 1        & 0        &  7.2500  & S       \\\\\n",
       "\t 1        & 1        & female   & 38.00000 & 1        & 0        & 71.2833  & C       \\\\\n",
       "\t 1        & 3        & female   & 26.00000 & 0        & 0        &  7.9250  & S       \\\\\n",
       "\t 1        & 1        & female   & 35.00000 & 1        & 0        & 53.1000  & S       \\\\\n",
       "\t 0        & 3        & male     & 35.00000 & 0        & 0        &  8.0500  & S       \\\\\n",
       "\t 0        & 3        & male     & 29.69912 & 0        & 0        &  8.4583  & Q       \\\\\n",
       "\\end{tabular}\n"
      ],
      "text/markdown": [
       "\n",
       "| Survived | Pclass | Sex | Age | SibSp | Parch | Fare | Embarked |\n",
       "|---|---|---|---|---|---|---|---|\n",
       "| 0        | 3        | male     | 22.00000 | 1        | 0        |  7.2500  | S        |\n",
       "| 1        | 1        | female   | 38.00000 | 1        | 0        | 71.2833  | C        |\n",
       "| 1        | 3        | female   | 26.00000 | 0        | 0        |  7.9250  | S        |\n",
       "| 1        | 1        | female   | 35.00000 | 1        | 0        | 53.1000  | S        |\n",
       "| 0        | 3        | male     | 35.00000 | 0        | 0        |  8.0500  | S        |\n",
       "| 0        | 3        | male     | 29.69912 | 0        | 0        |  8.4583  | Q        |\n",
       "\n"
      ],
      "text/plain": [
       "  Survived Pclass Sex    Age      SibSp Parch Fare    Embarked\n",
       "1 0        3      male   22.00000 1     0      7.2500 S       \n",
       "2 1        1      female 38.00000 1     0     71.2833 C       \n",
       "3 1        3      female 26.00000 0     0      7.9250 S       \n",
       "4 1        1      female 35.00000 1     0     53.1000 S       \n",
       "5 0        3      male   35.00000 0     0      8.0500 S       \n",
       "6 0        3      male   29.69912 0     0      8.4583 Q       "
      ]
     },
     "metadata": {},
     "output_type": "display_data"
    },
    {
     "data": {
      "text/html": [
       "<table>\n",
       "<thead><tr><th scope=col>Survived</th><th scope=col>Pclass</th><th scope=col>Sex</th><th scope=col>Age</th><th scope=col>SibSp</th><th scope=col>Parch</th><th scope=col>Fare</th><th scope=col>Embarked</th></tr></thead>\n",
       "<tbody>\n",
       "\t<tr><td>0      </td><td>3      </td><td>male   </td><td>34.5   </td><td>0      </td><td>0      </td><td> 7.8292</td><td>Q      </td></tr>\n",
       "\t<tr><td>1      </td><td>3      </td><td>female </td><td>47.0   </td><td>1      </td><td>0      </td><td> 7.0000</td><td>S      </td></tr>\n",
       "\t<tr><td>0      </td><td>2      </td><td>male   </td><td>62.0   </td><td>0      </td><td>0      </td><td> 9.6875</td><td>Q      </td></tr>\n",
       "\t<tr><td>0      </td><td>3      </td><td>male   </td><td>27.0   </td><td>0      </td><td>0      </td><td> 8.6625</td><td>S      </td></tr>\n",
       "\t<tr><td>1      </td><td>3      </td><td>female </td><td>22.0   </td><td>1      </td><td>1      </td><td>12.2875</td><td>S      </td></tr>\n",
       "\t<tr><td>0      </td><td>3      </td><td>male   </td><td>14.0   </td><td>0      </td><td>0      </td><td> 9.2250</td><td>S      </td></tr>\n",
       "</tbody>\n",
       "</table>\n"
      ],
      "text/latex": [
       "\\begin{tabular}{r|llllllll}\n",
       " Survived & Pclass & Sex & Age & SibSp & Parch & Fare & Embarked\\\\\n",
       "\\hline\n",
       "\t 0       & 3       & male    & 34.5    & 0       & 0       &  7.8292 & Q      \\\\\n",
       "\t 1       & 3       & female  & 47.0    & 1       & 0       &  7.0000 & S      \\\\\n",
       "\t 0       & 2       & male    & 62.0    & 0       & 0       &  9.6875 & Q      \\\\\n",
       "\t 0       & 3       & male    & 27.0    & 0       & 0       &  8.6625 & S      \\\\\n",
       "\t 1       & 3       & female  & 22.0    & 1       & 1       & 12.2875 & S      \\\\\n",
       "\t 0       & 3       & male    & 14.0    & 0       & 0       &  9.2250 & S      \\\\\n",
       "\\end{tabular}\n"
      ],
      "text/markdown": [
       "\n",
       "| Survived | Pclass | Sex | Age | SibSp | Parch | Fare | Embarked |\n",
       "|---|---|---|---|---|---|---|---|\n",
       "| 0       | 3       | male    | 34.5    | 0       | 0       |  7.8292 | Q       |\n",
       "| 1       | 3       | female  | 47.0    | 1       | 0       |  7.0000 | S       |\n",
       "| 0       | 2       | male    | 62.0    | 0       | 0       |  9.6875 | Q       |\n",
       "| 0       | 3       | male    | 27.0    | 0       | 0       |  8.6625 | S       |\n",
       "| 1       | 3       | female  | 22.0    | 1       | 1       | 12.2875 | S       |\n",
       "| 0       | 3       | male    | 14.0    | 0       | 0       |  9.2250 | S       |\n",
       "\n"
      ],
      "text/plain": [
       "  Survived Pclass Sex    Age  SibSp Parch Fare    Embarked\n",
       "1 0        3      male   34.5 0     0      7.8292 Q       \n",
       "2 1        3      female 47.0 1     0      7.0000 S       \n",
       "3 0        2      male   62.0 0     0      9.6875 Q       \n",
       "4 0        3      male   27.0 0     0      8.6625 S       \n",
       "5 1        3      female 22.0 1     1     12.2875 S       \n",
       "6 0        3      male   14.0 0     0      9.2250 S       "
      ]
     },
     "metadata": {},
     "output_type": "display_data"
    }
   ],
   "source": [
    "# taking only the required variables for SVM\n",
    "\n",
    "train = subset(train, select = c(1:6,8,9))\n",
    "test = subset(test, select = c(1:6,8,9))\n",
    "\n",
    "train[is.na(train$Age)==TRUE,\"Age\"] <- mean(train$Age,na.rm=TRUE)\n",
    "test[is.na(test$Age)==TRUE,\"Age\"] <- mean(test$Age,na.rm=TRUE)\n",
    "\n",
    "train <- na.omit(train)\n",
    "test <- na.omit(test)\n",
    "\n",
    "head(train)\n",
    "head(test)"
   ]
  },
  {
   "cell_type": "code",
   "execution_count": 9,
   "metadata": {},
   "outputs": [],
   "source": [
    "#Vriable modification for SVM \n",
    "train$SibSp <- as.factor(train$SibSp)\n",
    "train$Parch<- as.factor(train$Parch)\n",
    "train$Pclass<- as.factor(train$Pclass)\n",
    "train$Survived<- as.factor(train$Survived)\n",
    "\n",
    "\n",
    "test$SibSp <- as.factor(test$SibSp)\n",
    "test$Parch<- as.factor(test$Parch)\n",
    "test$Pclass<- as.factor(test$Pclass)\n",
    "test$Survived<- as.factor(test$Survived)"
   ]
  },
  {
   "cell_type": "code",
   "execution_count": 26,
   "metadata": {},
   "outputs": [
    {
     "data": {
      "text/html": [
       "<table>\n",
       "<thead><tr><th scope=col>Survived</th><th scope=col>Pclass</th><th scope=col>Sex</th><th scope=col>Age</th><th scope=col>SibSp</th><th scope=col>Parch</th><th scope=col>Fare</th><th scope=col>Embarked</th></tr></thead>\n",
       "<tbody>\n",
       "\t<tr><td>0         </td><td>1.0       </td><td>0         </td><td>0.4527232 </td><td>0.000     </td><td>0.0000000 </td><td>0.01528158</td><td>0.5       </td></tr>\n",
       "\t<tr><td>1         </td><td>1.0       </td><td>1         </td><td>0.6175656 </td><td>0.125     </td><td>0.0000000 </td><td>0.01366309</td><td>1.0       </td></tr>\n",
       "\t<tr><td>0         </td><td>0.5       </td><td>0         </td><td>0.8153765 </td><td>0.000     </td><td>0.0000000 </td><td>0.01890874</td><td>0.5       </td></tr>\n",
       "\t<tr><td>0         </td><td>1.0       </td><td>0         </td><td>0.3538178 </td><td>0.000     </td><td>0.0000000 </td><td>0.01690807</td><td>1.0       </td></tr>\n",
       "\t<tr><td>1         </td><td>1.0       </td><td>1         </td><td>0.2878808 </td><td>0.125     </td><td>0.1111111 </td><td>0.02398360</td><td>1.0       </td></tr>\n",
       "\t<tr><td>0         </td><td>1.0       </td><td>0         </td><td>0.1823816 </td><td>0.000     </td><td>0.0000000 </td><td>0.01800600</td><td>1.0       </td></tr>\n",
       "</tbody>\n",
       "</table>\n"
      ],
      "text/latex": [
       "\\begin{tabular}{r|llllllll}\n",
       " Survived & Pclass & Sex & Age & SibSp & Parch & Fare & Embarked\\\\\n",
       "\\hline\n",
       "\t 0          & 1.0        & 0          & 0.4527232  & 0.000      & 0.0000000  & 0.01528158 & 0.5       \\\\\n",
       "\t 1          & 1.0        & 1          & 0.6175656  & 0.125      & 0.0000000  & 0.01366309 & 1.0       \\\\\n",
       "\t 0          & 0.5        & 0          & 0.8153765  & 0.000      & 0.0000000  & 0.01890874 & 0.5       \\\\\n",
       "\t 0          & 1.0        & 0          & 0.3538178  & 0.000      & 0.0000000  & 0.01690807 & 1.0       \\\\\n",
       "\t 1          & 1.0        & 1          & 0.2878808  & 0.125      & 0.1111111  & 0.02398360 & 1.0       \\\\\n",
       "\t 0          & 1.0        & 0          & 0.1823816  & 0.000      & 0.0000000  & 0.01800600 & 1.0       \\\\\n",
       "\\end{tabular}\n"
      ],
      "text/markdown": [
       "\n",
       "| Survived | Pclass | Sex | Age | SibSp | Parch | Fare | Embarked |\n",
       "|---|---|---|---|---|---|---|---|\n",
       "| 0          | 1.0        | 0          | 0.4527232  | 0.000      | 0.0000000  | 0.01528158 | 0.5        |\n",
       "| 1          | 1.0        | 1          | 0.6175656  | 0.125      | 0.0000000  | 0.01366309 | 1.0        |\n",
       "| 0          | 0.5        | 0          | 0.8153765  | 0.000      | 0.0000000  | 0.01890874 | 0.5        |\n",
       "| 0          | 1.0        | 0          | 0.3538178  | 0.000      | 0.0000000  | 0.01690807 | 1.0        |\n",
       "| 1          | 1.0        | 1          | 0.2878808  | 0.125      | 0.1111111  | 0.02398360 | 1.0        |\n",
       "| 0          | 1.0        | 0          | 0.1823816  | 0.000      | 0.0000000  | 0.01800600 | 1.0        |\n",
       "\n"
      ],
      "text/plain": [
       "  Survived Pclass Sex Age       SibSp Parch     Fare       Embarked\n",
       "1 0        1.0    0   0.4527232 0.000 0.0000000 0.01528158 0.5     \n",
       "2 1        1.0    1   0.6175656 0.125 0.0000000 0.01366309 1.0     \n",
       "3 0        0.5    0   0.8153765 0.000 0.0000000 0.01890874 0.5     \n",
       "4 0        1.0    0   0.3538178 0.000 0.0000000 0.01690807 1.0     \n",
       "5 1        1.0    1   0.2878808 0.125 0.1111111 0.02398360 1.0     \n",
       "6 0        1.0    0   0.1823816 0.000 0.0000000 0.01800600 1.0     "
      ]
     },
     "metadata": {},
     "output_type": "display_data"
    },
    {
     "data": {
      "text/html": [
       "<table>\n",
       "<thead><tr><th scope=col>Survived</th><th scope=col>Pclass</th><th scope=col>Sex</th><th scope=col>Age</th><th scope=col>SibSp</th><th scope=col>Parch</th><th scope=col>Fare</th><th scope=col>Embarked</th></tr></thead>\n",
       "<tbody>\n",
       "\t<tr><td>0         </td><td>1         </td><td>0         </td><td>0.2711737 </td><td>0.125     </td><td>0         </td><td>0.01415106</td><td>1.0       </td></tr>\n",
       "\t<tr><td>1         </td><td>0         </td><td>1         </td><td>0.4722292 </td><td>0.125     </td><td>0         </td><td>0.13913574</td><td>0.0       </td></tr>\n",
       "\t<tr><td>1         </td><td>1         </td><td>1         </td><td>0.3214375 </td><td>0.000     </td><td>0         </td><td>0.01546857</td><td>1.0       </td></tr>\n",
       "\t<tr><td>1         </td><td>0         </td><td>1         </td><td>0.4345313 </td><td>0.125     </td><td>0         </td><td>0.10364430</td><td>1.0       </td></tr>\n",
       "\t<tr><td>0         </td><td>1         </td><td>0         </td><td>0.4345313 </td><td>0.000     </td><td>0         </td><td>0.01571255</td><td>1.0       </td></tr>\n",
       "\t<tr><td>0         </td><td>1         </td><td>0         </td><td>0.3679206 </td><td>0.000     </td><td>0         </td><td>0.01650950</td><td>0.5       </td></tr>\n",
       "</tbody>\n",
       "</table>\n"
      ],
      "text/latex": [
       "\\begin{tabular}{r|llllllll}\n",
       " Survived & Pclass & Sex & Age & SibSp & Parch & Fare & Embarked\\\\\n",
       "\\hline\n",
       "\t 0          & 1          & 0          & 0.2711737  & 0.125      & 0          & 0.01415106 & 1.0       \\\\\n",
       "\t 1          & 0          & 1          & 0.4722292  & 0.125      & 0          & 0.13913574 & 0.0       \\\\\n",
       "\t 1          & 1          & 1          & 0.3214375  & 0.000      & 0          & 0.01546857 & 1.0       \\\\\n",
       "\t 1          & 0          & 1          & 0.4345313  & 0.125      & 0          & 0.10364430 & 1.0       \\\\\n",
       "\t 0          & 1          & 0          & 0.4345313  & 0.000      & 0          & 0.01571255 & 1.0       \\\\\n",
       "\t 0          & 1          & 0          & 0.3679206  & 0.000      & 0          & 0.01650950 & 0.5       \\\\\n",
       "\\end{tabular}\n"
      ],
      "text/markdown": [
       "\n",
       "| Survived | Pclass | Sex | Age | SibSp | Parch | Fare | Embarked |\n",
       "|---|---|---|---|---|---|---|---|\n",
       "| 0          | 1          | 0          | 0.2711737  | 0.125      | 0          | 0.01415106 | 1.0        |\n",
       "| 1          | 0          | 1          | 0.4722292  | 0.125      | 0          | 0.13913574 | 0.0        |\n",
       "| 1          | 1          | 1          | 0.3214375  | 0.000      | 0          | 0.01546857 | 1.0        |\n",
       "| 1          | 0          | 1          | 0.4345313  | 0.125      | 0          | 0.10364430 | 1.0        |\n",
       "| 0          | 1          | 0          | 0.4345313  | 0.000      | 0          | 0.01571255 | 1.0        |\n",
       "| 0          | 1          | 0          | 0.3679206  | 0.000      | 0          | 0.01650950 | 0.5        |\n",
       "\n"
      ],
      "text/plain": [
       "  Survived Pclass Sex Age       SibSp Parch Fare       Embarked\n",
       "1 0        1      0   0.2711737 0.125 0     0.01415106 1.0     \n",
       "2 1        0      1   0.4722292 0.125 0     0.13913574 0.0     \n",
       "3 1        1      1   0.3214375 0.000 0     0.01546857 1.0     \n",
       "4 1        0      1   0.4345313 0.125 0     0.10364430 1.0     \n",
       "5 0        1      0   0.4345313 0.000 0     0.01571255 1.0     \n",
       "6 0        1      0   0.3679206 0.000 0     0.01650950 0.5     "
      ]
     },
     "metadata": {},
     "output_type": "display_data"
    }
   ],
   "source": [
    "#Vriable modification for ANN\n",
    "train$Sex <- ifelse(train$Sex == \"male\",0,1)\n",
    "train$Embarked <- ifelse(train$Embarked == \"C\",1,ifelse(train$Embarked == \"Q\",2,3))\n",
    "\n",
    "test$Sex <- ifelse(test$Sex == \"male\",0,1)\n",
    "test$Embarked <- ifelse(test$Embarked == \"C\",1,ifelse(test$Embarked == \"Q\",2,3))\n",
    "\n",
    "#Data Normalization for ANN\n",
    "\n",
    "train$SibSp <- (train$SibSp - min(train$SibSp))/(max(train$SibSp) - min(train$SibSp))\n",
    "train$Parch<- (train$Parch- min(train$Parch))/(max(train$Parch) - min(train$Parch))\n",
    "train$Pclass<- (train$Pclass- min(train$Pclass))/(max(train$Pclass) - min(train$Pclass))\n",
    "train$Sex<- (train$Sex- min(train$Sex))/(max(train$Sex) - min(train$Sex))\n",
    "train$Age <- (train$Age- min(train$Age))/(max(train$Age) - min(train$Age))\n",
    "train$Fare <- (train$Fare- min(train$Fare))/(max(train$Fare) - min(train$Fare))\n",
    "train$Embarked <- (train$Embarked - min(train$Embarked ))/(max(train$Embarked ) - min(train$Embarked ))\n",
    "\n",
    "\n",
    "\n",
    "test$SibSp <- (test$SibSp - min(test$SibSp))/(max(test$SibSp) - min(test$SibSp))\n",
    "test$Parch<- (test$Parch- min(test$Parch))/(max(test$Parch) - min(test$Parch))\n",
    "test$Pclass<- (test$Pclass- min(test$Pclass))/(max(test$Pclass) - min(test$Pclass))\n",
    "test$Sex<- (test$Sex- min(test$Sex))/(max(test$Sex) - min(test$Sex))\n",
    "test$Age <- (test$Age- min(test$Age))/(max(test$Age) - min(test$Age))\n",
    "test$Fare <- (test$Fare- min(test$Fare))/(max(test$Fare) - min(test$Fare))\n",
    "test$Embarked <- (test$Embarked - min(test$Embarked ))/(max(test$Embarked ) - min(test$Embarked ))\n",
    "\n",
    "head(test)\n",
    "head(train)"
   ]
  },
  {
   "cell_type": "code",
   "execution_count": 12,
   "metadata": {},
   "outputs": [
    {
     "name": "stderr",
     "output_type": "stream",
     "text": [
      "Warning message:\n",
      "\"package 'kernlab' is in use and will not be installed\""
     ]
    },
    {
     "name": "stdout",
     "output_type": "stream",
     "text": [
      " Setting default kernel parameters  \n"
     ]
    },
    {
     "data": {
      "text/plain": [
       "Support Vector Machine object of class \"ksvm\" \n",
       "\n",
       "SV type: C-svc  (classification) \n",
       " parameter : cost C = 1 \n",
       "\n",
       "Linear (vanilla) kernel function. \n",
       "\n",
       "Number of Support Vectors : 424 \n",
       "\n",
       "Objective Function Value : -368.5 \n",
       "Training error : 0.197531 "
      ]
     },
     "metadata": {},
     "output_type": "display_data"
    }
   ],
   "source": [
    "#Fitting the SVM algorithm and training the model\n",
    "install.packages(\"kernlab\")\n",
    "library(kernlab)\n",
    "svm.model <- ksvm(Survived ~ ., data = train, kernel = 'vanilladot')\n",
    "svm.model"
   ]
  },
  {
   "cell_type": "code",
   "execution_count": 13,
   "metadata": {},
   "outputs": [
    {
     "data": {
      "text/html": [
       "<ol class=list-inline>\n",
       "\t<li>0</li>\n",
       "\t<li>1</li>\n",
       "\t<li>0</li>\n",
       "\t<li>0</li>\n",
       "\t<li>1</li>\n",
       "\t<li>0</li>\n",
       "</ol>\n",
       "\n",
       "<details>\n",
       "\t<summary style=display:list-item;cursor:pointer>\n",
       "\t\t<strong>Levels</strong>:\n",
       "\t</summary>\n",
       "\t<ol class=list-inline>\n",
       "\t\t<li>'0'</li>\n",
       "\t\t<li>'1'</li>\n",
       "\t</ol>\n",
       "</details>"
      ],
      "text/latex": [
       "\\begin{enumerate*}\n",
       "\\item 0\n",
       "\\item 1\n",
       "\\item 0\n",
       "\\item 0\n",
       "\\item 1\n",
       "\\item 0\n",
       "\\end{enumerate*}\n",
       "\n",
       "\\emph{Levels}: \\begin{enumerate*}\n",
       "\\item '0'\n",
       "\\item '1'\n",
       "\\end{enumerate*}\n"
      ],
      "text/markdown": [
       "1. 0\n",
       "2. 1\n",
       "3. 0\n",
       "4. 0\n",
       "5. 1\n",
       "6. 0\n",
       "\n",
       "\n",
       "\n",
       "**Levels**: 1. '0'\n",
       "2. '1'\n",
       "\n",
       "\n"
      ],
      "text/plain": [
       "[1] 0 1 0 0 1 0\n",
       "Levels: 0 1"
      ]
     },
     "metadata": {},
     "output_type": "display_data"
    },
    {
     "data": {
      "text/html": [
       "<ol class=list-inline>\n",
       "\t<li>0</li>\n",
       "\t<li>1</li>\n",
       "\t<li>1</li>\n",
       "\t<li>1</li>\n",
       "\t<li>0</li>\n",
       "\t<li>0</li>\n",
       "</ol>\n",
       "\n",
       "<details>\n",
       "\t<summary style=display:list-item;cursor:pointer>\n",
       "\t\t<strong>Levels</strong>:\n",
       "\t</summary>\n",
       "\t<ol class=list-inline>\n",
       "\t\t<li>'0'</li>\n",
       "\t\t<li>'1'</li>\n",
       "\t</ol>\n",
       "</details>"
      ],
      "text/latex": [
       "\\begin{enumerate*}\n",
       "\\item 0\n",
       "\\item 1\n",
       "\\item 1\n",
       "\\item 1\n",
       "\\item 0\n",
       "\\item 0\n",
       "\\end{enumerate*}\n",
       "\n",
       "\\emph{Levels}: \\begin{enumerate*}\n",
       "\\item '0'\n",
       "\\item '1'\n",
       "\\end{enumerate*}\n"
      ],
      "text/markdown": [
       "1. 0\n",
       "2. 1\n",
       "3. 1\n",
       "4. 1\n",
       "5. 0\n",
       "6. 0\n",
       "\n",
       "\n",
       "\n",
       "**Levels**: 1. '0'\n",
       "2. '1'\n",
       "\n",
       "\n"
      ],
      "text/plain": [
       "[1] 0 1 1 1 0 0\n",
       "Levels: 0 1"
      ]
     },
     "metadata": {},
     "output_type": "display_data"
    }
   ],
   "source": [
    "#Predicting using SVM\n",
    "svm_test.predict <- predict(svm.model, test[,2:8])\n",
    "head(svm_test.predict)\n",
    "\n",
    "svm_train.predict <- predict(svm.model, train[,2:8])\n",
    "head(svm_train.predict)"
   ]
  },
  {
   "cell_type": "code",
   "execution_count": 15,
   "metadata": {},
   "outputs": [
    {
     "data": {
      "text/plain": [
       "                 \n",
       "svm_train.predict   0   1\n",
       "                0 489 116\n",
       "                1  60 226"
      ]
     },
     "metadata": {},
     "output_type": "display_data"
    },
    {
     "data": {
      "text/plain": [
       "                \n",
       "svm_test.predict   0   1\n",
       "               0 265   6\n",
       "               1   0 146"
      ]
     },
     "metadata": {},
     "output_type": "display_data"
    }
   ],
   "source": [
    "#Confusion Matrix of SVM MOdel\n",
    "\n",
    "data_train <- table(svm_train.predict,train$Survived)\n",
    "data_train\n",
    "data_test <- table(svm_test.predict,test$Survived)\n",
    "data_test"
   ]
  },
  {
   "cell_type": "code",
   "execution_count": 17,
   "metadata": {},
   "outputs": [
    {
     "data": {
      "text/html": [
       "0.802469135802469"
      ],
      "text/latex": [
       "0.802469135802469"
      ],
      "text/markdown": [
       "0.802469135802469"
      ],
      "text/plain": [
       "[1] 0.8024691"
      ]
     },
     "metadata": {},
     "output_type": "display_data"
    },
    {
     "data": {
      "text/html": [
       "0.985611510791367"
      ],
      "text/latex": [
       "0.985611510791367"
      ],
      "text/markdown": [
       "0.985611510791367"
      ],
      "text/plain": [
       "[1] 0.9856115"
      ]
     },
     "metadata": {},
     "output_type": "display_data"
    }
   ],
   "source": [
    "#Accuracy in SVM MOdel\n",
    "\n",
    "accuracy_train  <- sum(diag(data_train ))/sum(data_train )\n",
    "accuracy_train \n",
    "accuracy_test <- sum(diag(data_test))/sum(data_test)\n",
    "accuracy_test"
   ]
  },
  {
   "cell_type": "code",
   "execution_count": 31,
   "metadata": {},
   "outputs": [
    {
     "name": "stderr",
     "output_type": "stream",
     "text": [
      "Warning message:\n",
      "\"package 'neuralnet' is in use and will not be installed\""
     ]
    }
   ],
   "source": [
    "#Fitting Neural Network\n",
    "\n",
    "set.seed(123)\n",
    "install.packages(\"neuralnet\")\n",
    "library(neuralnet)\n",
    "\n",
    "nn <- neuralnet(Survived ~ Pclass + Sex + Age + SibSp + Parch + Fare + Embarked\n",
    ",data=train,hidden=4,act.fct = \"logistic\",linear.output=FALSE)\n"
   ]
  },
  {
   "cell_type": "code",
   "execution_count": 34,
   "metadata": {},
   "outputs": [],
   "source": [
    "plot(nn)"
   ]
  },
  {
   "cell_type": "code",
   "execution_count": 35,
   "metadata": {},
   "outputs": [],
   "source": [
    "#prediction on train data in ANN\n",
    "\n",
    "output_train <- compute(nn, train[,-1])\n",
    "predicted_train <- ifelse(output_train$net.result>0.5,1,0)\n",
    "\n",
    "#prediction on test data in ANN\n",
    "\n",
    "output_test <- compute(nn, test[,-1])\n",
    "predicted_test <- ifelse(output_test$net.result>0.5,1,0)"
   ]
  },
  {
   "cell_type": "code",
   "execution_count": 36,
   "metadata": {},
   "outputs": [
    {
     "data": {
      "text/plain": [
       "              \n",
       "predicted_test   0   1\n",
       "             0 246  25\n",
       "             1  19 127"
      ]
     },
     "metadata": {},
     "output_type": "display_data"
    },
    {
     "data": {
      "text/plain": [
       "               \n",
       "predicted_train   0   1\n",
       "              0 510  95\n",
       "              1  39 247"
      ]
     },
     "metadata": {},
     "output_type": "display_data"
    }
   ],
   "source": [
    "#Confusion Matrix of ANN MOdel\n",
    "\n",
    "cm_test_ann <- table(predicted_test,test$Survived)\n",
    "cm_test_ann\n",
    "\n",
    "cm_train_ann <- table(predicted_train,train$Survived)\n",
    "cm_train_ann"
   ]
  },
  {
   "cell_type": "code",
   "execution_count": 38,
   "metadata": {},
   "outputs": [
    {
     "data": {
      "text/html": [
       "0.849607182940516"
      ],
      "text/latex": [
       "0.849607182940516"
      ],
      "text/markdown": [
       "0.849607182940516"
      ],
      "text/plain": [
       "[1] 0.8496072"
      ]
     },
     "metadata": {},
     "output_type": "display_data"
    },
    {
     "data": {
      "text/html": [
       "0.894484412470024"
      ],
      "text/latex": [
       "0.894484412470024"
      ],
      "text/markdown": [
       "0.894484412470024"
      ],
      "text/plain": [
       "[1] 0.8944844"
      ]
     },
     "metadata": {},
     "output_type": "display_data"
    }
   ],
   "source": [
    "#Accuracy in ANN MOdel\n",
    "\n",
    "accuracy_train_ann <- sum(diag(cm_train_ann))/sum(cm_train_ann)\n",
    "accuracy_train_ann\n",
    "\n",
    "accuracy_test_ann <- sum(diag(cm_test_ann))/sum(cm_test_ann)\n",
    "accuracy_test_ann"
   ]
  }
 ],
 "metadata": {
  "kernelspec": {
   "display_name": "R",
   "language": "R",
   "name": "ir"
  },
  "language_info": {
   "codemirror_mode": "r",
   "file_extension": ".r",
   "mimetype": "text/x-r-source",
   "name": "R",
   "pygments_lexer": "r",
   "version": "3.6.1"
  }
 },
 "nbformat": 4,
 "nbformat_minor": 2
}
