{
 "cells": [
  {
   "cell_type": "markdown",
   "metadata": {},
   "source": [
    "# Titanic: Compare Support Vector Machine to a 3 layer Neural Network"
   ]
  },
  {
   "cell_type": "code",
   "execution_count": 234,
   "metadata": {},
   "outputs": [],
   "source": [
    "import pandas as pd\n",
    "import numpy as np\n",
    "import matplotlib.pyplot as plt\n",
    "%matplotlib inline\n",
    "import seaborn as sns"
   ]
  },
  {
   "cell_type": "code",
   "execution_count": 235,
   "metadata": {},
   "outputs": [],
   "source": [
    "train = pd.read_csv('train.csv')\n",
    "test = pd.read_csv('test.csv')"
   ]
  },
  {
   "cell_type": "code",
   "execution_count": 236,
   "metadata": {},
   "outputs": [
    {
     "data": {
      "text/plain": [
       "((891, 12), (418, 11))"
      ]
     },
     "execution_count": 236,
     "metadata": {},
     "output_type": "execute_result"
    }
   ],
   "source": [
    "train.shape, test.shape"
   ]
  },
  {
   "cell_type": "code",
   "execution_count": 237,
   "metadata": {},
   "outputs": [
    {
     "data": {
      "text/html": [
       "<div>\n",
       "<style scoped>\n",
       "    .dataframe tbody tr th:only-of-type {\n",
       "        vertical-align: middle;\n",
       "    }\n",
       "\n",
       "    .dataframe tbody tr th {\n",
       "        vertical-align: top;\n",
       "    }\n",
       "\n",
       "    .dataframe thead th {\n",
       "        text-align: right;\n",
       "    }\n",
       "</style>\n",
       "<table border=\"1\" class=\"dataframe\">\n",
       "  <thead>\n",
       "    <tr style=\"text-align: right;\">\n",
       "      <th></th>\n",
       "      <th>PassengerId</th>\n",
       "      <th>Survived</th>\n",
       "      <th>Pclass</th>\n",
       "      <th>Name</th>\n",
       "      <th>Sex</th>\n",
       "      <th>Age</th>\n",
       "      <th>SibSp</th>\n",
       "      <th>Parch</th>\n",
       "      <th>Ticket</th>\n",
       "      <th>Fare</th>\n",
       "      <th>Cabin</th>\n",
       "      <th>Embarked</th>\n",
       "    </tr>\n",
       "  </thead>\n",
       "  <tbody>\n",
       "    <tr>\n",
       "      <th>0</th>\n",
       "      <td>1</td>\n",
       "      <td>0</td>\n",
       "      <td>3</td>\n",
       "      <td>Braund, Mr. Owen Harris</td>\n",
       "      <td>male</td>\n",
       "      <td>22.0</td>\n",
       "      <td>1</td>\n",
       "      <td>0</td>\n",
       "      <td>A/5 21171</td>\n",
       "      <td>7.2500</td>\n",
       "      <td>NaN</td>\n",
       "      <td>S</td>\n",
       "    </tr>\n",
       "    <tr>\n",
       "      <th>1</th>\n",
       "      <td>2</td>\n",
       "      <td>1</td>\n",
       "      <td>1</td>\n",
       "      <td>Cumings, Mrs. John Bradley (Florence Briggs Th...</td>\n",
       "      <td>female</td>\n",
       "      <td>38.0</td>\n",
       "      <td>1</td>\n",
       "      <td>0</td>\n",
       "      <td>PC 17599</td>\n",
       "      <td>71.2833</td>\n",
       "      <td>C85</td>\n",
       "      <td>C</td>\n",
       "    </tr>\n",
       "    <tr>\n",
       "      <th>2</th>\n",
       "      <td>3</td>\n",
       "      <td>1</td>\n",
       "      <td>3</td>\n",
       "      <td>Heikkinen, Miss. Laina</td>\n",
       "      <td>female</td>\n",
       "      <td>26.0</td>\n",
       "      <td>0</td>\n",
       "      <td>0</td>\n",
       "      <td>STON/O2. 3101282</td>\n",
       "      <td>7.9250</td>\n",
       "      <td>NaN</td>\n",
       "      <td>S</td>\n",
       "    </tr>\n",
       "    <tr>\n",
       "      <th>3</th>\n",
       "      <td>4</td>\n",
       "      <td>1</td>\n",
       "      <td>1</td>\n",
       "      <td>Futrelle, Mrs. Jacques Heath (Lily May Peel)</td>\n",
       "      <td>female</td>\n",
       "      <td>35.0</td>\n",
       "      <td>1</td>\n",
       "      <td>0</td>\n",
       "      <td>113803</td>\n",
       "      <td>53.1000</td>\n",
       "      <td>C123</td>\n",
       "      <td>S</td>\n",
       "    </tr>\n",
       "    <tr>\n",
       "      <th>4</th>\n",
       "      <td>5</td>\n",
       "      <td>0</td>\n",
       "      <td>3</td>\n",
       "      <td>Allen, Mr. William Henry</td>\n",
       "      <td>male</td>\n",
       "      <td>35.0</td>\n",
       "      <td>0</td>\n",
       "      <td>0</td>\n",
       "      <td>373450</td>\n",
       "      <td>8.0500</td>\n",
       "      <td>NaN</td>\n",
       "      <td>S</td>\n",
       "    </tr>\n",
       "  </tbody>\n",
       "</table>\n",
       "</div>"
      ],
      "text/plain": [
       "   PassengerId  Survived  Pclass  \\\n",
       "0            1         0       3   \n",
       "1            2         1       1   \n",
       "2            3         1       3   \n",
       "3            4         1       1   \n",
       "4            5         0       3   \n",
       "\n",
       "                                                Name     Sex   Age  SibSp  \\\n",
       "0                            Braund, Mr. Owen Harris    male  22.0      1   \n",
       "1  Cumings, Mrs. John Bradley (Florence Briggs Th...  female  38.0      1   \n",
       "2                             Heikkinen, Miss. Laina  female  26.0      0   \n",
       "3       Futrelle, Mrs. Jacques Heath (Lily May Peel)  female  35.0      1   \n",
       "4                           Allen, Mr. William Henry    male  35.0      0   \n",
       "\n",
       "   Parch            Ticket     Fare Cabin Embarked  \n",
       "0      0         A/5 21171   7.2500   NaN        S  \n",
       "1      0          PC 17599  71.2833   C85        C  \n",
       "2      0  STON/O2. 3101282   7.9250   NaN        S  \n",
       "3      0            113803  53.1000  C123        S  \n",
       "4      0            373450   8.0500   NaN        S  "
      ]
     },
     "execution_count": 237,
     "metadata": {},
     "output_type": "execute_result"
    }
   ],
   "source": [
    "train.head()"
   ]
  },
  {
   "cell_type": "code",
   "execution_count": 238,
   "metadata": {},
   "outputs": [
    {
     "data": {
      "text/plain": [
       "PassengerId      int64\n",
       "Survived         int64\n",
       "Pclass           int64\n",
       "Name            object\n",
       "Sex             object\n",
       "Age            float64\n",
       "SibSp            int64\n",
       "Parch            int64\n",
       "Ticket          object\n",
       "Fare           float64\n",
       "Cabin           object\n",
       "Embarked        object\n",
       "dtype: object"
      ]
     },
     "execution_count": 238,
     "metadata": {},
     "output_type": "execute_result"
    }
   ],
   "source": [
    "train.dtypes"
   ]
  },
  {
   "cell_type": "markdown",
   "metadata": {},
   "source": [
    "****Data****\n",
    "\n",
    " * Survived: Survival (0 = No, 1 = Yes)\n",
    " * PassengerId: Id given to each traveler on the boat\n",
    " * Pclass: Ticket class. It has three possible values: 1,2,3 (first, second and third class)\n",
    " * Sex\n",
    " * Age\n",
    " * Sibsp : number of siblings and spouses traveling with the passenger\n",
    " * Parch : number of parents and children traveling with the passenger\n",
    " * Ticket: Ticket number\t\n",
    " * Fare  : Passenger fare\n",
    " * Fabin : Cabin number\n",
    " * Embarked: Port of Embarkation (C = Cherbourg, Q = Queenstown, S = Southampton)"
   ]
  },
  {
   "cell_type": "code",
   "execution_count": 239,
   "metadata": {},
   "outputs": [
    {
     "data": {
      "text/html": [
       "<div>\n",
       "<style scoped>\n",
       "    .dataframe tbody tr th:only-of-type {\n",
       "        vertical-align: middle;\n",
       "    }\n",
       "\n",
       "    .dataframe tbody tr th {\n",
       "        vertical-align: top;\n",
       "    }\n",
       "\n",
       "    .dataframe thead th {\n",
       "        text-align: right;\n",
       "    }\n",
       "</style>\n",
       "<table border=\"1\" class=\"dataframe\">\n",
       "  <thead>\n",
       "    <tr style=\"text-align: right;\">\n",
       "      <th></th>\n",
       "      <th>PassengerId</th>\n",
       "      <th>Survived</th>\n",
       "      <th>Pclass</th>\n",
       "      <th>Age</th>\n",
       "      <th>SibSp</th>\n",
       "      <th>Parch</th>\n",
       "      <th>Fare</th>\n",
       "    </tr>\n",
       "  </thead>\n",
       "  <tbody>\n",
       "    <tr>\n",
       "      <th>count</th>\n",
       "      <td>891.000000</td>\n",
       "      <td>891.000000</td>\n",
       "      <td>891.000000</td>\n",
       "      <td>714.000000</td>\n",
       "      <td>891.000000</td>\n",
       "      <td>891.000000</td>\n",
       "      <td>891.000000</td>\n",
       "    </tr>\n",
       "    <tr>\n",
       "      <th>mean</th>\n",
       "      <td>446.000000</td>\n",
       "      <td>0.383838</td>\n",
       "      <td>2.308642</td>\n",
       "      <td>29.699118</td>\n",
       "      <td>0.523008</td>\n",
       "      <td>0.381594</td>\n",
       "      <td>32.204208</td>\n",
       "    </tr>\n",
       "    <tr>\n",
       "      <th>std</th>\n",
       "      <td>257.353842</td>\n",
       "      <td>0.486592</td>\n",
       "      <td>0.836071</td>\n",
       "      <td>14.526497</td>\n",
       "      <td>1.102743</td>\n",
       "      <td>0.806057</td>\n",
       "      <td>49.693429</td>\n",
       "    </tr>\n",
       "    <tr>\n",
       "      <th>min</th>\n",
       "      <td>1.000000</td>\n",
       "      <td>0.000000</td>\n",
       "      <td>1.000000</td>\n",
       "      <td>0.420000</td>\n",
       "      <td>0.000000</td>\n",
       "      <td>0.000000</td>\n",
       "      <td>0.000000</td>\n",
       "    </tr>\n",
       "    <tr>\n",
       "      <th>25%</th>\n",
       "      <td>223.500000</td>\n",
       "      <td>0.000000</td>\n",
       "      <td>2.000000</td>\n",
       "      <td>20.125000</td>\n",
       "      <td>0.000000</td>\n",
       "      <td>0.000000</td>\n",
       "      <td>7.910400</td>\n",
       "    </tr>\n",
       "    <tr>\n",
       "      <th>50%</th>\n",
       "      <td>446.000000</td>\n",
       "      <td>0.000000</td>\n",
       "      <td>3.000000</td>\n",
       "      <td>28.000000</td>\n",
       "      <td>0.000000</td>\n",
       "      <td>0.000000</td>\n",
       "      <td>14.454200</td>\n",
       "    </tr>\n",
       "    <tr>\n",
       "      <th>75%</th>\n",
       "      <td>668.500000</td>\n",
       "      <td>1.000000</td>\n",
       "      <td>3.000000</td>\n",
       "      <td>38.000000</td>\n",
       "      <td>1.000000</td>\n",
       "      <td>0.000000</td>\n",
       "      <td>31.000000</td>\n",
       "    </tr>\n",
       "    <tr>\n",
       "      <th>max</th>\n",
       "      <td>891.000000</td>\n",
       "      <td>1.000000</td>\n",
       "      <td>3.000000</td>\n",
       "      <td>80.000000</td>\n",
       "      <td>8.000000</td>\n",
       "      <td>6.000000</td>\n",
       "      <td>512.329200</td>\n",
       "    </tr>\n",
       "  </tbody>\n",
       "</table>\n",
       "</div>"
      ],
      "text/plain": [
       "       PassengerId    Survived      Pclass         Age       SibSp  \\\n",
       "count   891.000000  891.000000  891.000000  714.000000  891.000000   \n",
       "mean    446.000000    0.383838    2.308642   29.699118    0.523008   \n",
       "std     257.353842    0.486592    0.836071   14.526497    1.102743   \n",
       "min       1.000000    0.000000    1.000000    0.420000    0.000000   \n",
       "25%     223.500000    0.000000    2.000000   20.125000    0.000000   \n",
       "50%     446.000000    0.000000    3.000000   28.000000    0.000000   \n",
       "75%     668.500000    1.000000    3.000000   38.000000    1.000000   \n",
       "max     891.000000    1.000000    3.000000   80.000000    8.000000   \n",
       "\n",
       "            Parch        Fare  \n",
       "count  891.000000  891.000000  \n",
       "mean     0.381594   32.204208  \n",
       "std      0.806057   49.693429  \n",
       "min      0.000000    0.000000  \n",
       "25%      0.000000    7.910400  \n",
       "50%      0.000000   14.454200  \n",
       "75%      0.000000   31.000000  \n",
       "max      6.000000  512.329200  "
      ]
     },
     "execution_count": 239,
     "metadata": {},
     "output_type": "execute_result"
    }
   ],
   "source": [
    "train.describe()"
   ]
  },
  {
   "cell_type": "code",
   "execution_count": 240,
   "metadata": {},
   "outputs": [
    {
     "data": {
      "text/html": [
       "<div>\n",
       "<style scoped>\n",
       "    .dataframe tbody tr th:only-of-type {\n",
       "        vertical-align: middle;\n",
       "    }\n",
       "\n",
       "    .dataframe tbody tr th {\n",
       "        vertical-align: top;\n",
       "    }\n",
       "\n",
       "    .dataframe thead th {\n",
       "        text-align: right;\n",
       "    }\n",
       "</style>\n",
       "<table border=\"1\" class=\"dataframe\">\n",
       "  <thead>\n",
       "    <tr style=\"text-align: right;\">\n",
       "      <th></th>\n",
       "      <th>Name</th>\n",
       "      <th>Sex</th>\n",
       "      <th>Ticket</th>\n",
       "      <th>Cabin</th>\n",
       "      <th>Embarked</th>\n",
       "    </tr>\n",
       "  </thead>\n",
       "  <tbody>\n",
       "    <tr>\n",
       "      <th>count</th>\n",
       "      <td>891</td>\n",
       "      <td>891</td>\n",
       "      <td>891</td>\n",
       "      <td>204</td>\n",
       "      <td>889</td>\n",
       "    </tr>\n",
       "    <tr>\n",
       "      <th>unique</th>\n",
       "      <td>891</td>\n",
       "      <td>2</td>\n",
       "      <td>681</td>\n",
       "      <td>147</td>\n",
       "      <td>3</td>\n",
       "    </tr>\n",
       "    <tr>\n",
       "      <th>top</th>\n",
       "      <td>Spedden, Mrs. Frederic Oakley (Margaretta Corn...</td>\n",
       "      <td>male</td>\n",
       "      <td>347082</td>\n",
       "      <td>B96 B98</td>\n",
       "      <td>S</td>\n",
       "    </tr>\n",
       "    <tr>\n",
       "      <th>freq</th>\n",
       "      <td>1</td>\n",
       "      <td>577</td>\n",
       "      <td>7</td>\n",
       "      <td>4</td>\n",
       "      <td>644</td>\n",
       "    </tr>\n",
       "  </tbody>\n",
       "</table>\n",
       "</div>"
      ],
      "text/plain": [
       "                                                     Name   Sex  Ticket  \\\n",
       "count                                                 891   891     891   \n",
       "unique                                                891     2     681   \n",
       "top     Spedden, Mrs. Frederic Oakley (Margaretta Corn...  male  347082   \n",
       "freq                                                    1   577       7   \n",
       "\n",
       "          Cabin Embarked  \n",
       "count       204      889  \n",
       "unique      147        3  \n",
       "top     B96 B98        S  \n",
       "freq          4      644  "
      ]
     },
     "execution_count": 240,
     "metadata": {},
     "output_type": "execute_result"
    }
   ],
   "source": [
    "train.describe(include =['O'])"
   ]
  },
  {
   "cell_type": "code",
   "execution_count": 241,
   "metadata": {},
   "outputs": [
    {
     "name": "stdout",
     "output_type": "stream",
     "text": [
      "<class 'pandas.core.frame.DataFrame'>\n",
      "RangeIndex: 891 entries, 0 to 890\n",
      "Data columns (total 12 columns):\n",
      "PassengerId    891 non-null int64\n",
      "Survived       891 non-null int64\n",
      "Pclass         891 non-null int64\n",
      "Name           891 non-null object\n",
      "Sex            891 non-null object\n",
      "Age            714 non-null float64\n",
      "SibSp          891 non-null int64\n",
      "Parch          891 non-null int64\n",
      "Ticket         891 non-null object\n",
      "Fare           891 non-null float64\n",
      "Cabin          204 non-null object\n",
      "Embarked       889 non-null object\n",
      "dtypes: float64(2), int64(5), object(5)\n",
      "memory usage: 83.6+ KB\n"
     ]
    }
   ],
   "source": [
    "train.info()"
   ]
  },
  {
   "cell_type": "markdown",
   "metadata": {},
   "source": [
    "Ticket feature may not be a correlation with survival. It contains 210 duplicates values. we may *drop ticket feature*<br>\n",
    "Cabin feature may be dropped as it is *highly incomplete* or contains many null values in training.<br>\n",
    "PassengerId may be dropped from training dataset *we need it during submission of project on kaggle*.<br>\n",
    "Name feature is relatively non-standard, *may not contribute directly to survival*, so maybe dropped.<br>\n",
    "Age of 177 people is not givenn"
   ]
  },
  {
   "cell_type": "code",
   "execution_count": 242,
   "metadata": {},
   "outputs": [
    {
     "data": {
      "text/plain": [
       "Index(['PassengerId', 'Survived', 'Pclass', 'Name', 'Sex', 'Age', 'SibSp',\n",
       "       'Parch', 'Ticket', 'Fare', 'Cabin', 'Embarked'],\n",
       "      dtype='object')"
      ]
     },
     "execution_count": 242,
     "metadata": {},
     "output_type": "execute_result"
    }
   ],
   "source": [
    "train.columns"
   ]
  },
  {
   "cell_type": "code",
   "execution_count": 243,
   "metadata": {},
   "outputs": [
    {
     "data": {
      "text/html": [
       "<div>\n",
       "<style scoped>\n",
       "    .dataframe tbody tr th:only-of-type {\n",
       "        vertical-align: middle;\n",
       "    }\n",
       "\n",
       "    .dataframe tbody tr th {\n",
       "        vertical-align: top;\n",
       "    }\n",
       "\n",
       "    .dataframe thead th {\n",
       "        text-align: right;\n",
       "    }\n",
       "</style>\n",
       "<table border=\"1\" class=\"dataframe\">\n",
       "  <thead>\n",
       "    <tr style=\"text-align: right;\">\n",
       "      <th></th>\n",
       "      <th>PassengerId</th>\n",
       "      <th>Pclass</th>\n",
       "      <th>Name</th>\n",
       "      <th>Sex</th>\n",
       "      <th>Age</th>\n",
       "      <th>SibSp</th>\n",
       "      <th>Parch</th>\n",
       "      <th>Ticket</th>\n",
       "      <th>Fare</th>\n",
       "      <th>Cabin</th>\n",
       "      <th>Embarked</th>\n",
       "    </tr>\n",
       "    <tr>\n",
       "      <th>Survived</th>\n",
       "      <th></th>\n",
       "      <th></th>\n",
       "      <th></th>\n",
       "      <th></th>\n",
       "      <th></th>\n",
       "      <th></th>\n",
       "      <th></th>\n",
       "      <th></th>\n",
       "      <th></th>\n",
       "      <th></th>\n",
       "      <th></th>\n",
       "    </tr>\n",
       "  </thead>\n",
       "  <tbody>\n",
       "    <tr>\n",
       "      <th>0</th>\n",
       "      <td>549</td>\n",
       "      <td>549</td>\n",
       "      <td>549</td>\n",
       "      <td>549</td>\n",
       "      <td>424</td>\n",
       "      <td>549</td>\n",
       "      <td>549</td>\n",
       "      <td>549</td>\n",
       "      <td>549</td>\n",
       "      <td>68</td>\n",
       "      <td>549</td>\n",
       "    </tr>\n",
       "    <tr>\n",
       "      <th>1</th>\n",
       "      <td>342</td>\n",
       "      <td>342</td>\n",
       "      <td>342</td>\n",
       "      <td>342</td>\n",
       "      <td>290</td>\n",
       "      <td>342</td>\n",
       "      <td>342</td>\n",
       "      <td>342</td>\n",
       "      <td>342</td>\n",
       "      <td>136</td>\n",
       "      <td>340</td>\n",
       "    </tr>\n",
       "  </tbody>\n",
       "</table>\n",
       "</div>"
      ],
      "text/plain": [
       "          PassengerId  Pclass  Name  Sex  Age  SibSp  Parch  Ticket  Fare  \\\n",
       "Survived                                                                    \n",
       "0                 549     549   549  549  424    549    549     549   549   \n",
       "1                 342     342   342  342  290    342    342     342   342   \n",
       "\n",
       "          Cabin  Embarked  \n",
       "Survived                   \n",
       "0            68       549  \n",
       "1           136       340  "
      ]
     },
     "execution_count": 243,
     "metadata": {},
     "output_type": "execute_result"
    }
   ],
   "source": [
    "train.groupby('Survived').count()"
   ]
  },
  {
   "cell_type": "markdown",
   "metadata": {},
   "source": [
    "## Relationship between feature and survival "
   ]
  },
  {
   "cell_type": "code",
   "execution_count": 244,
   "metadata": {},
   "outputs": [
    {
     "data": {
      "text/html": [
       "<div>\n",
       "<style scoped>\n",
       "    .dataframe tbody tr th:only-of-type {\n",
       "        vertical-align: middle;\n",
       "    }\n",
       "\n",
       "    .dataframe tbody tr th {\n",
       "        vertical-align: top;\n",
       "    }\n",
       "\n",
       "    .dataframe thead th {\n",
       "        text-align: right;\n",
       "    }\n",
       "</style>\n",
       "<table border=\"1\" class=\"dataframe\">\n",
       "  <thead>\n",
       "    <tr style=\"text-align: right;\">\n",
       "      <th></th>\n",
       "      <th>PassengerId</th>\n",
       "      <th>Survived</th>\n",
       "      <th>Pclass</th>\n",
       "      <th>Name</th>\n",
       "      <th>Sex</th>\n",
       "      <th>Age</th>\n",
       "      <th>SibSp</th>\n",
       "      <th>Parch</th>\n",
       "      <th>Ticket</th>\n",
       "      <th>Fare</th>\n",
       "      <th>Cabin</th>\n",
       "      <th>Embarked</th>\n",
       "    </tr>\n",
       "  </thead>\n",
       "  <tbody>\n",
       "    <tr>\n",
       "      <th>0</th>\n",
       "      <td>1</td>\n",
       "      <td>0</td>\n",
       "      <td>3</td>\n",
       "      <td>Braund, Mr. Owen Harris</td>\n",
       "      <td>male</td>\n",
       "      <td>22.0</td>\n",
       "      <td>1</td>\n",
       "      <td>0</td>\n",
       "      <td>A/5 21171</td>\n",
       "      <td>7.2500</td>\n",
       "      <td>NaN</td>\n",
       "      <td>S</td>\n",
       "    </tr>\n",
       "    <tr>\n",
       "      <th>1</th>\n",
       "      <td>2</td>\n",
       "      <td>1</td>\n",
       "      <td>1</td>\n",
       "      <td>Cumings, Mrs. John Bradley (Florence Briggs Th...</td>\n",
       "      <td>female</td>\n",
       "      <td>38.0</td>\n",
       "      <td>1</td>\n",
       "      <td>0</td>\n",
       "      <td>PC 17599</td>\n",
       "      <td>71.2833</td>\n",
       "      <td>C85</td>\n",
       "      <td>C</td>\n",
       "    </tr>\n",
       "    <tr>\n",
       "      <th>2</th>\n",
       "      <td>3</td>\n",
       "      <td>1</td>\n",
       "      <td>3</td>\n",
       "      <td>Heikkinen, Miss. Laina</td>\n",
       "      <td>female</td>\n",
       "      <td>26.0</td>\n",
       "      <td>0</td>\n",
       "      <td>0</td>\n",
       "      <td>STON/O2. 3101282</td>\n",
       "      <td>7.9250</td>\n",
       "      <td>NaN</td>\n",
       "      <td>S</td>\n",
       "    </tr>\n",
       "    <tr>\n",
       "      <th>3</th>\n",
       "      <td>4</td>\n",
       "      <td>1</td>\n",
       "      <td>1</td>\n",
       "      <td>Futrelle, Mrs. Jacques Heath (Lily May Peel)</td>\n",
       "      <td>female</td>\n",
       "      <td>35.0</td>\n",
       "      <td>1</td>\n",
       "      <td>0</td>\n",
       "      <td>113803</td>\n",
       "      <td>53.1000</td>\n",
       "      <td>C123</td>\n",
       "      <td>S</td>\n",
       "    </tr>\n",
       "    <tr>\n",
       "      <th>4</th>\n",
       "      <td>5</td>\n",
       "      <td>0</td>\n",
       "      <td>3</td>\n",
       "      <td>Allen, Mr. William Henry</td>\n",
       "      <td>male</td>\n",
       "      <td>35.0</td>\n",
       "      <td>0</td>\n",
       "      <td>0</td>\n",
       "      <td>373450</td>\n",
       "      <td>8.0500</td>\n",
       "      <td>NaN</td>\n",
       "      <td>S</td>\n",
       "    </tr>\n",
       "  </tbody>\n",
       "</table>\n",
       "</div>"
      ],
      "text/plain": [
       "   PassengerId  Survived  Pclass  \\\n",
       "0            1         0       3   \n",
       "1            2         1       1   \n",
       "2            3         1       3   \n",
       "3            4         1       1   \n",
       "4            5         0       3   \n",
       "\n",
       "                                                Name     Sex   Age  SibSp  \\\n",
       "0                            Braund, Mr. Owen Harris    male  22.0      1   \n",
       "1  Cumings, Mrs. John Bradley (Florence Briggs Th...  female  38.0      1   \n",
       "2                             Heikkinen, Miss. Laina  female  26.0      0   \n",
       "3       Futrelle, Mrs. Jacques Heath (Lily May Peel)  female  35.0      1   \n",
       "4                           Allen, Mr. William Henry    male  35.0      0   \n",
       "\n",
       "   Parch            Ticket     Fare Cabin Embarked  \n",
       "0      0         A/5 21171   7.2500   NaN        S  \n",
       "1      0          PC 17599  71.2833   C85        C  \n",
       "2      0  STON/O2. 3101282   7.9250   NaN        S  \n",
       "3      0            113803  53.1000  C123        S  \n",
       "4      0            373450   8.0500   NaN        S  "
      ]
     },
     "execution_count": 244,
     "metadata": {},
     "output_type": "execute_result"
    }
   ],
   "source": [
    "PassengerId_train = train['PassengerId']\n",
    "# train.drop('PassengerId', axis = 1, inplace = True)\n",
    "train.head()"
   ]
  },
  {
   "cell_type": "code",
   "execution_count": 245,
   "metadata": {},
   "outputs": [
    {
     "data": {
      "text/html": [
       "<div>\n",
       "<style scoped>\n",
       "    .dataframe tbody tr th:only-of-type {\n",
       "        vertical-align: middle;\n",
       "    }\n",
       "\n",
       "    .dataframe tbody tr th {\n",
       "        vertical-align: top;\n",
       "    }\n",
       "\n",
       "    .dataframe thead th {\n",
       "        text-align: right;\n",
       "    }\n",
       "</style>\n",
       "<table border=\"1\" class=\"dataframe\">\n",
       "  <thead>\n",
       "    <tr style=\"text-align: right;\">\n",
       "      <th></th>\n",
       "      <th>PassengerId</th>\n",
       "      <th>Survived</th>\n",
       "      <th>Pclass</th>\n",
       "      <th>Name</th>\n",
       "      <th>Sex</th>\n",
       "      <th>Age</th>\n",
       "      <th>SibSp</th>\n",
       "      <th>Parch</th>\n",
       "      <th>Ticket</th>\n",
       "      <th>Fare</th>\n",
       "      <th>Cabin</th>\n",
       "      <th>Embarked</th>\n",
       "      <th>non_survived</th>\n",
       "    </tr>\n",
       "  </thead>\n",
       "  <tbody>\n",
       "    <tr>\n",
       "      <th>0</th>\n",
       "      <td>1</td>\n",
       "      <td>0</td>\n",
       "      <td>3</td>\n",
       "      <td>Braund, Mr. Owen Harris</td>\n",
       "      <td>male</td>\n",
       "      <td>22.0</td>\n",
       "      <td>1</td>\n",
       "      <td>0</td>\n",
       "      <td>A/5 21171</td>\n",
       "      <td>7.2500</td>\n",
       "      <td>NaN</td>\n",
       "      <td>S</td>\n",
       "      <td>1</td>\n",
       "    </tr>\n",
       "    <tr>\n",
       "      <th>1</th>\n",
       "      <td>2</td>\n",
       "      <td>1</td>\n",
       "      <td>1</td>\n",
       "      <td>Cumings, Mrs. John Bradley (Florence Briggs Th...</td>\n",
       "      <td>female</td>\n",
       "      <td>38.0</td>\n",
       "      <td>1</td>\n",
       "      <td>0</td>\n",
       "      <td>PC 17599</td>\n",
       "      <td>71.2833</td>\n",
       "      <td>C85</td>\n",
       "      <td>C</td>\n",
       "      <td>0</td>\n",
       "    </tr>\n",
       "    <tr>\n",
       "      <th>2</th>\n",
       "      <td>3</td>\n",
       "      <td>1</td>\n",
       "      <td>3</td>\n",
       "      <td>Heikkinen, Miss. Laina</td>\n",
       "      <td>female</td>\n",
       "      <td>26.0</td>\n",
       "      <td>0</td>\n",
       "      <td>0</td>\n",
       "      <td>STON/O2. 3101282</td>\n",
       "      <td>7.9250</td>\n",
       "      <td>NaN</td>\n",
       "      <td>S</td>\n",
       "      <td>0</td>\n",
       "    </tr>\n",
       "    <tr>\n",
       "      <th>3</th>\n",
       "      <td>4</td>\n",
       "      <td>1</td>\n",
       "      <td>1</td>\n",
       "      <td>Futrelle, Mrs. Jacques Heath (Lily May Peel)</td>\n",
       "      <td>female</td>\n",
       "      <td>35.0</td>\n",
       "      <td>1</td>\n",
       "      <td>0</td>\n",
       "      <td>113803</td>\n",
       "      <td>53.1000</td>\n",
       "      <td>C123</td>\n",
       "      <td>S</td>\n",
       "      <td>0</td>\n",
       "    </tr>\n",
       "    <tr>\n",
       "      <th>4</th>\n",
       "      <td>5</td>\n",
       "      <td>0</td>\n",
       "      <td>3</td>\n",
       "      <td>Allen, Mr. William Henry</td>\n",
       "      <td>male</td>\n",
       "      <td>35.0</td>\n",
       "      <td>0</td>\n",
       "      <td>0</td>\n",
       "      <td>373450</td>\n",
       "      <td>8.0500</td>\n",
       "      <td>NaN</td>\n",
       "      <td>S</td>\n",
       "      <td>1</td>\n",
       "    </tr>\n",
       "  </tbody>\n",
       "</table>\n",
       "</div>"
      ],
      "text/plain": [
       "   PassengerId  Survived  Pclass  \\\n",
       "0            1         0       3   \n",
       "1            2         1       1   \n",
       "2            3         1       3   \n",
       "3            4         1       1   \n",
       "4            5         0       3   \n",
       "\n",
       "                                                Name     Sex   Age  SibSp  \\\n",
       "0                            Braund, Mr. Owen Harris    male  22.0      1   \n",
       "1  Cumings, Mrs. John Bradley (Florence Briggs Th...  female  38.0      1   \n",
       "2                             Heikkinen, Miss. Laina  female  26.0      0   \n",
       "3       Futrelle, Mrs. Jacques Heath (Lily May Peel)  female  35.0      1   \n",
       "4                           Allen, Mr. William Henry    male  35.0      0   \n",
       "\n",
       "   Parch            Ticket     Fare Cabin Embarked  non_survived  \n",
       "0      0         A/5 21171   7.2500   NaN        S             1  \n",
       "1      0          PC 17599  71.2833   C85        C             0  \n",
       "2      0  STON/O2. 3101282   7.9250   NaN        S             0  \n",
       "3      0            113803  53.1000  C123        S             0  \n",
       "4      0            373450   8.0500   NaN        S             1  "
      ]
     },
     "execution_count": 245,
     "metadata": {},
     "output_type": "execute_result"
    }
   ],
   "source": [
    "train['non_survived'] = 1-train['Survived']\n",
    "train.head()"
   ]
  },
  {
   "cell_type": "markdown",
   "metadata": {},
   "source": [
    "### Pclass Vs Survived"
   ]
  },
  {
   "cell_type": "code",
   "execution_count": 246,
   "metadata": {},
   "outputs": [
    {
     "data": {
      "text/html": [
       "<div>\n",
       "<style scoped>\n",
       "    .dataframe tbody tr th:only-of-type {\n",
       "        vertical-align: middle;\n",
       "    }\n",
       "\n",
       "    .dataframe tbody tr th {\n",
       "        vertical-align: top;\n",
       "    }\n",
       "\n",
       "    .dataframe thead th {\n",
       "        text-align: right;\n",
       "    }\n",
       "</style>\n",
       "<table border=\"1\" class=\"dataframe\">\n",
       "  <thead>\n",
       "    <tr style=\"text-align: right;\">\n",
       "      <th></th>\n",
       "      <th>Number of people</th>\n",
       "      <th>Survived</th>\n",
       "      <th>Mean</th>\n",
       "    </tr>\n",
       "    <tr>\n",
       "      <th>Pclass</th>\n",
       "      <th></th>\n",
       "      <th></th>\n",
       "      <th></th>\n",
       "    </tr>\n",
       "  </thead>\n",
       "  <tbody>\n",
       "    <tr>\n",
       "      <th>1</th>\n",
       "      <td>216</td>\n",
       "      <td>136</td>\n",
       "      <td>0.629630</td>\n",
       "    </tr>\n",
       "    <tr>\n",
       "      <th>2</th>\n",
       "      <td>184</td>\n",
       "      <td>87</td>\n",
       "      <td>0.472826</td>\n",
       "    </tr>\n",
       "    <tr>\n",
       "      <th>3</th>\n",
       "      <td>491</td>\n",
       "      <td>119</td>\n",
       "      <td>0.242363</td>\n",
       "    </tr>\n",
       "  </tbody>\n",
       "</table>\n",
       "</div>"
      ],
      "text/plain": [
       "        Number of people  Survived      Mean\n",
       "Pclass                                      \n",
       "1                    216       136  0.629630\n",
       "2                    184        87  0.472826\n",
       "3                    491       119  0.242363"
      ]
     },
     "execution_count": 246,
     "metadata": {},
     "output_type": "execute_result"
    }
   ],
   "source": [
    "pd.DataFrame({'Number of people':train.groupby('Pclass').Survived.count(), 'Survived':train.groupby('Pclass').Survived.sum(), \\\n",
    "              'Mean':train.groupby('Pclass').Survived.mean()})"
   ]
  },
  {
   "cell_type": "code",
   "execution_count": 247,
   "metadata": {},
   "outputs": [
    {
     "data": {
      "text/plain": [
       "Pclass\n",
       "1    84.154687\n",
       "2    20.662183\n",
       "3    13.675550\n",
       "Name: Fare, dtype: float64"
      ]
     },
     "execution_count": 247,
     "metadata": {},
     "output_type": "execute_result"
    }
   ],
   "source": [
    "train.groupby('Pclass').Fare.mean()"
   ]
  },
  {
   "cell_type": "code",
   "execution_count": 248,
   "metadata": {},
   "outputs": [
    {
     "name": "stdout",
     "output_type": "stream",
     "text": [
      "342\n",
      "0.3838383838383838\n"
     ]
    }
   ],
   "source": [
    "print(train.Survived.sum())\n",
    "print(train.Survived.mean())"
   ]
  },
  {
   "cell_type": "markdown",
   "metadata": {},
   "source": [
    "#### Almost 38.38% i.e 342 people survived out of 891 poeple"
   ]
  },
  {
   "cell_type": "code",
   "execution_count": 249,
   "metadata": {},
   "outputs": [
    {
     "data": {
      "text/plain": [
       "Survived\n",
       "0    549\n",
       "1    342\n",
       "dtype: int64"
      ]
     },
     "execution_count": 249,
     "metadata": {},
     "output_type": "execute_result"
    }
   ],
   "source": [
    "train.groupby('Survived').size()"
   ]
  },
  {
   "cell_type": "code",
   "execution_count": 250,
   "metadata": {},
   "outputs": [
    {
     "data": {
      "text/plain": [
       "<matplotlib.axes._subplots.AxesSubplot at 0x19fc2f0bdd8>"
      ]
     },
     "execution_count": 250,
     "metadata": {},
     "output_type": "execute_result"
    },
    {
     "data": {
      "image/png": "[encoded data removed]",
      "text/plain": [
       "<Figure size 432x288 with 1 Axes>"
      ]
     },
     "metadata": {
      "needs_background": "light"
     },
     "output_type": "display_data"
    }
   ],
   "source": [
    "sns.barplot(x='Pclass', y= 'Survived', data = train)"
   ]
  },
  {
   "cell_type": "code",
   "execution_count": 251,
   "metadata": {},
   "outputs": [
    {
     "data": {
      "text/plain": [
       "<matplotlib.axes._subplots.AxesSubplot at 0x19fc2f58780>"
      ]
     },
     "execution_count": 251,
     "metadata": {},
     "output_type": "execute_result"
    },
    {
     "data": {
      "image/png": "[encoded data removed]",
      "text/plain": [
       "<Figure size 432x288 with 1 Axes>"
      ]
     },
     "metadata": {
      "needs_background": "light"
     },
     "output_type": "display_data"
    }
   ],
   "source": [
    "sns.violinplot(x= 'Pclass', y= 'Fare' , hue = 'Survived', data = train, split = True,palette={0: \"r\", 1: \"g\"})"
   ]
  },
  {
   "cell_type": "markdown",
   "metadata": {},
   "source": [
    "Average fare of *Pclass 1* is high and also more people has survival chance from this class(136 people (63%)survived out of 216 people from Pclass 1 )<br>\n",
    "87 people (47%) survived out of 184 people from Pclass 2 <br>\n",
    "119 people (24%) survived out of 419 people from Pclass 3"
   ]
  },
  {
   "cell_type": "markdown",
   "metadata": {},
   "source": [
    "### Sex Vs Survived"
   ]
  },
  {
   "cell_type": "code",
   "execution_count": 252,
   "metadata": {},
   "outputs": [
    {
     "data": {
      "text/html": [
       "<div>\n",
       "<style scoped>\n",
       "    .dataframe tbody tr th:only-of-type {\n",
       "        vertical-align: middle;\n",
       "    }\n",
       "\n",
       "    .dataframe tbody tr th {\n",
       "        vertical-align: top;\n",
       "    }\n",
       "\n",
       "    .dataframe thead th {\n",
       "        text-align: right;\n",
       "    }\n",
       "</style>\n",
       "<table border=\"1\" class=\"dataframe\">\n",
       "  <thead>\n",
       "    <tr style=\"text-align: right;\">\n",
       "      <th></th>\n",
       "      <th>Number of people</th>\n",
       "      <th>Survived</th>\n",
       "      <th>Mean</th>\n",
       "    </tr>\n",
       "    <tr>\n",
       "      <th>Sex</th>\n",
       "      <th></th>\n",
       "      <th></th>\n",
       "      <th></th>\n",
       "    </tr>\n",
       "  </thead>\n",
       "  <tbody>\n",
       "    <tr>\n",
       "      <th>female</th>\n",
       "      <td>314</td>\n",
       "      <td>233</td>\n",
       "      <td>0.742038</td>\n",
       "    </tr>\n",
       "    <tr>\n",
       "      <th>male</th>\n",
       "      <td>577</td>\n",
       "      <td>109</td>\n",
       "      <td>0.188908</td>\n",
       "    </tr>\n",
       "  </tbody>\n",
       "</table>\n",
       "</div>"
      ],
      "text/plain": [
       "        Number of people  Survived      Mean\n",
       "Sex                                         \n",
       "female               314       233  0.742038\n",
       "male                 577       109  0.188908"
      ]
     },
     "execution_count": 252,
     "metadata": {},
     "output_type": "execute_result"
    }
   ],
   "source": [
    "pd.DataFrame({'Number of people':train.groupby('Sex').Survived.count(), 'Survived':train.groupby('Sex').Survived.sum(), \\\n",
    "              'Mean':train.groupby('Sex').Survived.mean()})"
   ]
  },
  {
   "cell_type": "code",
   "execution_count": 253,
   "metadata": {},
   "outputs": [
    {
     "data": {
      "text/plain": [
       "<matplotlib.axes._subplots.AxesSubplot at 0x19fc2fc8390>"
      ]
     },
     "execution_count": 253,
     "metadata": {},
     "output_type": "execute_result"
    },
    {
     "data": {
      "image/png": "[encoded data removed]",
      "text/plain": [
       "<Figure size 432x288 with 1 Axes>"
      ]
     },
     "metadata": {
      "needs_background": "light"
     },
     "output_type": "display_data"
    }
   ],
   "source": [
    "sns.barplot(x= 'Sex', y='Survived', data = train, order = ['female', 'male'])"
   ]
  },
  {
   "cell_type": "code",
   "execution_count": 254,
   "metadata": {},
   "outputs": [
    {
     "data": {
      "text/plain": [
       "<matplotlib.axes._subplots.AxesSubplot at 0x19fc2fbd6d8>"
      ]
     },
     "execution_count": 254,
     "metadata": {},
     "output_type": "execute_result"
    },
    {
     "data": {
      "image/png": "[encoded data removed]",
      "text/plain": [
       "<Figure size 1080x360 with 1 Axes>"
      ]
     },
     "metadata": {
      "needs_background": "light"
     },
     "output_type": "display_data"
    }
   ],
   "source": [
    "train.groupby('Sex').sum()[['Survived', 'non_survived']].plot(kind = 'bar', stacked = True, figsize = (15, 5),\\\n",
    "                                                              color = ['g', 'r'])"
   ]
  },
  {
   "cell_type": "markdown",
   "metadata": {},
   "source": [
    "###### 233 female (74.2%) survived out of 314 female while only 109 male (18.8%) survived out of 577"
   ]
  },
  {
   "cell_type": "markdown",
   "metadata": {},
   "source": [
    "### Sex and Pclass Vs Survived"
   ]
  },
  {
   "cell_type": "code",
   "execution_count": 255,
   "metadata": {},
   "outputs": [
    {
     "data": {
      "text/html": [
       "<div>\n",
       "<style scoped>\n",
       "    .dataframe tbody tr th:only-of-type {\n",
       "        vertical-align: middle;\n",
       "    }\n",
       "\n",
       "    .dataframe tbody tr th {\n",
       "        vertical-align: top;\n",
       "    }\n",
       "\n",
       "    .dataframe thead th {\n",
       "        text-align: right;\n",
       "    }\n",
       "</style>\n",
       "<table border=\"1\" class=\"dataframe\">\n",
       "  <thead>\n",
       "    <tr style=\"text-align: right;\">\n",
       "      <th>Sex</th>\n",
       "      <th>female</th>\n",
       "      <th>male</th>\n",
       "    </tr>\n",
       "    <tr>\n",
       "      <th>Pclass</th>\n",
       "      <th></th>\n",
       "      <th></th>\n",
       "    </tr>\n",
       "  </thead>\n",
       "  <tbody>\n",
       "    <tr>\n",
       "      <th>1</th>\n",
       "      <td>94</td>\n",
       "      <td>122</td>\n",
       "    </tr>\n",
       "    <tr>\n",
       "      <th>2</th>\n",
       "      <td>76</td>\n",
       "      <td>108</td>\n",
       "    </tr>\n",
       "    <tr>\n",
       "      <th>3</th>\n",
       "      <td>144</td>\n",
       "      <td>347</td>\n",
       "    </tr>\n",
       "  </tbody>\n",
       "</table>\n",
       "</div>"
      ],
      "text/plain": [
       "Sex     female  male\n",
       "Pclass              \n",
       "1           94   122\n",
       "2           76   108\n",
       "3          144   347"
      ]
     },
     "execution_count": 255,
     "metadata": {},
     "output_type": "execute_result"
    }
   ],
   "source": [
    "tab = pd.crosstab(train['Pclass'], train['Sex'])\n",
    "tab"
   ]
  },
  {
   "cell_type": "code",
   "execution_count": 256,
   "metadata": {},
   "outputs": [
    {
     "data": {
      "text/html": [
       "<div>\n",
       "<style scoped>\n",
       "    .dataframe tbody tr th:only-of-type {\n",
       "        vertical-align: middle;\n",
       "    }\n",
       "\n",
       "    .dataframe tbody tr th {\n",
       "        vertical-align: top;\n",
       "    }\n",
       "\n",
       "    .dataframe thead th {\n",
       "        text-align: right;\n",
       "    }\n",
       "</style>\n",
       "<table border=\"1\" class=\"dataframe\">\n",
       "  <thead>\n",
       "    <tr style=\"text-align: right;\">\n",
       "      <th></th>\n",
       "      <th></th>\n",
       "      <th>Number of people</th>\n",
       "      <th>Survived</th>\n",
       "      <th>Mean</th>\n",
       "    </tr>\n",
       "    <tr>\n",
       "      <th>Sex</th>\n",
       "      <th>Pclass</th>\n",
       "      <th></th>\n",
       "      <th></th>\n",
       "      <th></th>\n",
       "    </tr>\n",
       "  </thead>\n",
       "  <tbody>\n",
       "    <tr>\n",
       "      <th rowspan=\"3\" valign=\"top\">female</th>\n",
       "      <th>1</th>\n",
       "      <td>94</td>\n",
       "      <td>91</td>\n",
       "      <td>0.968085</td>\n",
       "    </tr>\n",
       "    <tr>\n",
       "      <th>2</th>\n",
       "      <td>76</td>\n",
       "      <td>70</td>\n",
       "      <td>0.921053</td>\n",
       "    </tr>\n",
       "    <tr>\n",
       "      <th>3</th>\n",
       "      <td>144</td>\n",
       "      <td>72</td>\n",
       "      <td>0.500000</td>\n",
       "    </tr>\n",
       "    <tr>\n",
       "      <th rowspan=\"3\" valign=\"top\">male</th>\n",
       "      <th>1</th>\n",
       "      <td>122</td>\n",
       "      <td>45</td>\n",
       "      <td>0.368852</td>\n",
       "    </tr>\n",
       "    <tr>\n",
       "      <th>2</th>\n",
       "      <td>108</td>\n",
       "      <td>17</td>\n",
       "      <td>0.157407</td>\n",
       "    </tr>\n",
       "    <tr>\n",
       "      <th>3</th>\n",
       "      <td>347</td>\n",
       "      <td>47</td>\n",
       "      <td>0.135447</td>\n",
       "    </tr>\n",
       "  </tbody>\n",
       "</table>\n",
       "</div>"
      ],
      "text/plain": [
       "               Number of people  Survived      Mean\n",
       "Sex    Pclass                                      \n",
       "female 1                     94        91  0.968085\n",
       "       2                     76        70  0.921053\n",
       "       3                    144        72  0.500000\n",
       "male   1                    122        45  0.368852\n",
       "       2                    108        17  0.157407\n",
       "       3                    347        47  0.135447"
      ]
     },
     "execution_count": 256,
     "metadata": {},
     "output_type": "execute_result"
    }
   ],
   "source": [
    "pd.DataFrame({'Number of people':train.groupby(by = ['Sex', 'Pclass']).Survived.count(), 'Survived':train.groupby(by = ['Sex', 'Pclass']).Survived.sum(), \\\n",
    "              'Mean':train.groupby(by = ['Sex', 'Pclass']).Survived.mean()})"
   ]
  },
  {
   "cell_type": "code",
   "execution_count": 257,
   "metadata": {},
   "outputs": [
    {
     "data": {
      "text/plain": [
       "<seaborn.axisgrid.FacetGrid at 0x19fc2fa0470>"
      ]
     },
     "execution_count": 257,
     "metadata": {},
     "output_type": "execute_result"
    },
    {
     "data": {
      "image/png": "[encoded data removed]",
      "text/plain": [
       "<Figure size 402.375x360 with 1 Axes>"
      ]
     },
     "metadata": {
      "needs_background": "light"
     },
     "output_type": "display_data"
    }
   ],
   "source": [
    "sns.catplot(kind= 'point', x='Sex',y='Survived', hue = 'Pclass', data = train)"
   ]
  },
  {
   "cell_type": "markdown",
   "metadata": {},
   "source": [
    "Women from 1st and 2nd Pclass has more than 90% survival chance<br>\n",
    "Men from Pclass 1 are more  survival chance and from class 2nd and 3rd have only around 10% survival chance"
   ]
  },
  {
   "cell_type": "markdown",
   "metadata": {},
   "source": [
    "### Age Vs Survival chance"
   ]
  },
  {
   "cell_type": "code",
   "execution_count": 258,
   "metadata": {},
   "outputs": [
    {
     "data": {
      "text/plain": [
       "<matplotlib.axes._subplots.AxesSubplot at 0x19fc31a67b8>"
      ]
     },
     "execution_count": 258,
     "metadata": {},
     "output_type": "execute_result"
    },
    {
     "data": {
      "image/png": "[encoded data removed]",
      "text/plain": [
       "<Figure size 1080x360 with 3 Axes>"
      ]
     },
     "metadata": {
      "needs_background": "light"
     },
     "output_type": "display_data"
    }
   ],
   "source": [
    "fig= plt.figure(figsize = (15,5))\n",
    "ax1 =fig.add_subplot(131)\n",
    "ax2 = fig.add_subplot(132)\n",
    "ax3= fig.add_subplot(133)\n",
    "sns.violinplot(x= 'Sex', y= 'Age' , hue = 'Survived', data = train, split = True, ax= ax1, palette={0: \"r\", 1: \"g\"})\n",
    "sns.violinplot(x= 'Pclass', y= 'Age' , hue = 'Survived', data = train, split = True, ax= ax2, palette={0: \"r\", 1: \"g\"})\n",
    "sns.violinplot(x= 'Embarked', y= 'Age' , hue = 'Survived', data = train, split = True, ax= ax3, palette={0: \"r\", 1: \"g\"})"
   ]
  },
  {
   "cell_type": "markdown",
   "metadata": {},
   "source": [
    "Younger male of age range 5year - 10year tend to survive as depicted by green histogram\n",
    "male of age range 20year-40year has more tend to die.\n",
    "Women survived more than men, as depicted by the larger female green histogram"
   ]
  },
  {
   "cell_type": "markdown",
   "metadata": {},
   "source": [
    "### Parch Vs Survival"
   ]
  },
  {
   "cell_type": "code",
   "execution_count": 259,
   "metadata": {},
   "outputs": [
    {
     "data": {
      "text/html": [
       "<div>\n",
       "<style scoped>\n",
       "    .dataframe tbody tr th:only-of-type {\n",
       "        vertical-align: middle;\n",
       "    }\n",
       "\n",
       "    .dataframe tbody tr th {\n",
       "        vertical-align: top;\n",
       "    }\n",
       "\n",
       "    .dataframe thead th {\n",
       "        text-align: right;\n",
       "    }\n",
       "</style>\n",
       "<table border=\"1\" class=\"dataframe\">\n",
       "  <thead>\n",
       "    <tr style=\"text-align: right;\">\n",
       "      <th></th>\n",
       "      <th>Number of people</th>\n",
       "      <th>Survived</th>\n",
       "      <th>Mean</th>\n",
       "    </tr>\n",
       "    <tr>\n",
       "      <th>Parch</th>\n",
       "      <th></th>\n",
       "      <th></th>\n",
       "      <th></th>\n",
       "    </tr>\n",
       "  </thead>\n",
       "  <tbody>\n",
       "    <tr>\n",
       "      <th>0</th>\n",
       "      <td>678</td>\n",
       "      <td>233</td>\n",
       "      <td>0.343658</td>\n",
       "    </tr>\n",
       "    <tr>\n",
       "      <th>1</th>\n",
       "      <td>118</td>\n",
       "      <td>65</td>\n",
       "      <td>0.550847</td>\n",
       "    </tr>\n",
       "    <tr>\n",
       "      <th>2</th>\n",
       "      <td>80</td>\n",
       "      <td>40</td>\n",
       "      <td>0.500000</td>\n",
       "    </tr>\n",
       "    <tr>\n",
       "      <th>3</th>\n",
       "      <td>5</td>\n",
       "      <td>3</td>\n",
       "      <td>0.600000</td>\n",
       "    </tr>\n",
       "    <tr>\n",
       "      <th>4</th>\n",
       "      <td>4</td>\n",
       "      <td>0</td>\n",
       "      <td>0.000000</td>\n",
       "    </tr>\n",
       "    <tr>\n",
       "      <th>5</th>\n",
       "      <td>5</td>\n",
       "      <td>1</td>\n",
       "      <td>0.200000</td>\n",
       "    </tr>\n",
       "    <tr>\n",
       "      <th>6</th>\n",
       "      <td>1</td>\n",
       "      <td>0</td>\n",
       "      <td>0.000000</td>\n",
       "    </tr>\n",
       "  </tbody>\n",
       "</table>\n",
       "</div>"
      ],
      "text/plain": [
       "       Number of people  Survived      Mean\n",
       "Parch                                      \n",
       "0                   678       233  0.343658\n",
       "1                   118        65  0.550847\n",
       "2                    80        40  0.500000\n",
       "3                     5         3  0.600000\n",
       "4                     4         0  0.000000\n",
       "5                     5         1  0.200000\n",
       "6                     1         0  0.000000"
      ]
     },
     "execution_count": 259,
     "metadata": {},
     "output_type": "execute_result"
    }
   ],
   "source": [
    "pd.DataFrame({'Number of people':train.groupby('Parch').Survived.count(), 'Survived':train.groupby('Parch').Survived.sum(), \\\n",
    "              'Mean':train.groupby('Parch').Survived.mean()})"
   ]
  },
  {
   "cell_type": "code",
   "execution_count": 260,
   "metadata": {},
   "outputs": [
    {
     "data": {
      "text/plain": [
       "<matplotlib.axes._subplots.AxesSubplot at 0x19fc33eec18>"
      ]
     },
     "execution_count": 260,
     "metadata": {},
     "output_type": "execute_result"
    },
    {
     "data": {
      "image/png": "[encoded data removed]",
      "text/plain": [
       "<Figure size 432x288 with 1 Axes>"
      ]
     },
     "metadata": {
      "needs_background": "light"
     },
     "output_type": "display_data"
    }
   ],
   "source": [
    "sns.barplot(x= 'Parch', y= 'Survived', data = train)"
   ]
  },
  {
   "cell_type": "code",
   "execution_count": 261,
   "metadata": {},
   "outputs": [
    {
     "data": {
      "text/plain": [
       "<matplotlib.axes._subplots.AxesSubplot at 0x19fc343f9e8>"
      ]
     },
     "execution_count": 261,
     "metadata": {},
     "output_type": "execute_result"
    },
    {
     "data": {
      "image/png": "[encoded data removed]",
      "text/plain": [
       "<Figure size 1080x360 with 1 Axes>"
      ]
     },
     "metadata": {
      "needs_background": "light"
     },
     "output_type": "display_data"
    }
   ],
   "source": [
    "train.groupby('Parch')[['Survived','non_survived']].mean().plot(kind= 'bar', stacked = True, color = ('g', 'r'), figsize = (15,5))"
   ]
  },
  {
   "cell_type": "markdown",
   "metadata": {},
   "source": [
    "Passenger with fmily member 1,2 and 3 has more survival chance. "
   ]
  },
  {
   "cell_type": "markdown",
   "metadata": {},
   "source": [
    "### Embarked Vs Survival"
   ]
  },
  {
   "cell_type": "code",
   "execution_count": 262,
   "metadata": {},
   "outputs": [
    {
     "data": {
      "text/plain": [
       "array(['S', 'C', 'Q', nan], dtype=object)"
      ]
     },
     "execution_count": 262,
     "metadata": {},
     "output_type": "execute_result"
    }
   ],
   "source": [
    "train.Embarked.unique()"
   ]
  },
  {
   "cell_type": "code",
   "execution_count": 263,
   "metadata": {},
   "outputs": [
    {
     "data": {
      "text/html": [
       "<div>\n",
       "<style scoped>\n",
       "    .dataframe tbody tr th:only-of-type {\n",
       "        vertical-align: middle;\n",
       "    }\n",
       "\n",
       "    .dataframe tbody tr th {\n",
       "        vertical-align: top;\n",
       "    }\n",
       "\n",
       "    .dataframe thead th {\n",
       "        text-align: right;\n",
       "    }\n",
       "</style>\n",
       "<table border=\"1\" class=\"dataframe\">\n",
       "  <thead>\n",
       "    <tr style=\"text-align: right;\">\n",
       "      <th></th>\n",
       "      <th>Number of people</th>\n",
       "      <th>Survived</th>\n",
       "      <th>Mean</th>\n",
       "    </tr>\n",
       "    <tr>\n",
       "      <th>Embarked</th>\n",
       "      <th></th>\n",
       "      <th></th>\n",
       "      <th></th>\n",
       "    </tr>\n",
       "  </thead>\n",
       "  <tbody>\n",
       "    <tr>\n",
       "      <th>C</th>\n",
       "      <td>168</td>\n",
       "      <td>93</td>\n",
       "      <td>0.553571</td>\n",
       "    </tr>\n",
       "    <tr>\n",
       "      <th>Q</th>\n",
       "      <td>77</td>\n",
       "      <td>30</td>\n",
       "      <td>0.389610</td>\n",
       "    </tr>\n",
       "    <tr>\n",
       "      <th>S</th>\n",
       "      <td>644</td>\n",
       "      <td>217</td>\n",
       "      <td>0.336957</td>\n",
       "    </tr>\n",
       "  </tbody>\n",
       "</table>\n",
       "</div>"
      ],
      "text/plain": [
       "          Number of people  Survived      Mean\n",
       "Embarked                                      \n",
       "C                      168        93  0.553571\n",
       "Q                       77        30  0.389610\n",
       "S                      644       217  0.336957"
      ]
     },
     "execution_count": 263,
     "metadata": {},
     "output_type": "execute_result"
    }
   ],
   "source": [
    "pd.DataFrame({'Number of people':train.groupby('Embarked').Survived.count(), 'Survived':train.groupby('Embarked').Survived.sum(),\\\n",
    "              'Mean':train.groupby('Embarked').Survived.mean()})"
   ]
  },
  {
   "cell_type": "code",
   "execution_count": 264,
   "metadata": {},
   "outputs": [
    {
     "data": {
      "text/plain": [
       "Text(0, 0.5, 'number of people')"
      ]
     },
     "execution_count": 264,
     "metadata": {},
     "output_type": "execute_result"
    },
    {
     "data": {
      "text/plain": [
       "<Figure size 432x288 with 0 Axes>"
      ]
     },
     "metadata": {},
     "output_type": "display_data"
    },
    {
     "data": {
      "image/png": "[encoded data removed]",
      "text/plain": [
       "<Figure size 432x288 with 1 Axes>"
      ]
     },
     "metadata": {
      "needs_background": "light"
     },
     "output_type": "display_data"
    }
   ],
   "source": [
    "fig = plt.figure()\n",
    "train.groupby('Embarked')['Survived', 'non_survived'].sum().plot(kind = 'bar', stacked = True, color = ('g','r'))\n",
    "plt.ylabel('number of people')"
   ]
  },
  {
   "cell_type": "markdown",
   "metadata": {},
   "source": [
    "More survival chance from Embarked C"
   ]
  },
  {
   "cell_type": "markdown",
   "metadata": {},
   "source": [
    "### SibSp Vs Survival"
   ]
  },
  {
   "cell_type": "code",
   "execution_count": 265,
   "metadata": {},
   "outputs": [
    {
     "data": {
      "text/html": [
       "<div>\n",
       "<style scoped>\n",
       "    .dataframe tbody tr th:only-of-type {\n",
       "        vertical-align: middle;\n",
       "    }\n",
       "\n",
       "    .dataframe tbody tr th {\n",
       "        vertical-align: top;\n",
       "    }\n",
       "\n",
       "    .dataframe thead th {\n",
       "        text-align: right;\n",
       "    }\n",
       "</style>\n",
       "<table border=\"1\" class=\"dataframe\">\n",
       "  <thead>\n",
       "    <tr style=\"text-align: right;\">\n",
       "      <th></th>\n",
       "      <th>Number of people</th>\n",
       "      <th>Survived</th>\n",
       "      <th>Mean</th>\n",
       "    </tr>\n",
       "    <tr>\n",
       "      <th>SibSp</th>\n",
       "      <th></th>\n",
       "      <th></th>\n",
       "      <th></th>\n",
       "    </tr>\n",
       "  </thead>\n",
       "  <tbody>\n",
       "    <tr>\n",
       "      <th>0</th>\n",
       "      <td>608</td>\n",
       "      <td>210</td>\n",
       "      <td>0.345395</td>\n",
       "    </tr>\n",
       "    <tr>\n",
       "      <th>1</th>\n",
       "      <td>209</td>\n",
       "      <td>112</td>\n",
       "      <td>0.535885</td>\n",
       "    </tr>\n",
       "    <tr>\n",
       "      <th>2</th>\n",
       "      <td>28</td>\n",
       "      <td>13</td>\n",
       "      <td>0.464286</td>\n",
       "    </tr>\n",
       "    <tr>\n",
       "      <th>3</th>\n",
       "      <td>16</td>\n",
       "      <td>4</td>\n",
       "      <td>0.250000</td>\n",
       "    </tr>\n",
       "    <tr>\n",
       "      <th>4</th>\n",
       "      <td>18</td>\n",
       "      <td>3</td>\n",
       "      <td>0.166667</td>\n",
       "    </tr>\n",
       "    <tr>\n",
       "      <th>5</th>\n",
       "      <td>5</td>\n",
       "      <td>0</td>\n",
       "      <td>0.000000</td>\n",
       "    </tr>\n",
       "    <tr>\n",
       "      <th>8</th>\n",
       "      <td>7</td>\n",
       "      <td>0</td>\n",
       "      <td>0.000000</td>\n",
       "    </tr>\n",
       "  </tbody>\n",
       "</table>\n",
       "</div>"
      ],
      "text/plain": [
       "       Number of people  Survived      Mean\n",
       "SibSp                                      \n",
       "0                   608       210  0.345395\n",
       "1                   209       112  0.535885\n",
       "2                    28        13  0.464286\n",
       "3                    16         4  0.250000\n",
       "4                    18         3  0.166667\n",
       "5                     5         0  0.000000\n",
       "8                     7         0  0.000000"
      ]
     },
     "execution_count": 265,
     "metadata": {},
     "output_type": "execute_result"
    }
   ],
   "source": [
    "pd.DataFrame({'Number of people':train.groupby('SibSp').Survived.count(), 'Survived':train.groupby('SibSp').Survived.sum(), \\\n",
    "              'Mean':train.groupby('SibSp').Survived.mean()})"
   ]
  },
  {
   "cell_type": "code",
   "execution_count": 266,
   "metadata": {},
   "outputs": [
    {
     "data": {
      "text/plain": [
       "<matplotlib.axes._subplots.AxesSubplot at 0x19fc3549780>"
      ]
     },
     "execution_count": 266,
     "metadata": {},
     "output_type": "execute_result"
    },
    {
     "data": {
      "image/png": "[encoded data removed]",
      "text/plain": [
       "<Figure size 1080x360 with 1 Axes>"
      ]
     },
     "metadata": {
      "needs_background": "light"
     },
     "output_type": "display_data"
    }
   ],
   "source": [
    "train.groupby('SibSp')['Survived', 'non_survived'].sum().plot(kind= 'bar', stacked = True, color = ('g','r'), figsize = (15,5))"
   ]
  },
  {
   "cell_type": "markdown",
   "metadata": {},
   "source": [
    "people with less siblings has more survival chance"
   ]
  },
  {
   "cell_type": "markdown",
   "metadata": {},
   "source": [
    "## Feature Extraction"
   ]
  },
  {
   "cell_type": "markdown",
   "metadata": {},
   "source": [
    "select the appropriate features to train our classifier."
   ]
  },
  {
   "cell_type": "markdown",
   "metadata": {},
   "source": [
    "Combine train and test data "
   ]
  },
  {
   "cell_type": "code",
   "execution_count": 267,
   "metadata": {},
   "outputs": [],
   "source": [
    "train_test=[train , test]\n",
    "data = pd.concat(train_test, sort = False)"
   ]
  },
  {
   "cell_type": "code",
   "execution_count": 268,
   "metadata": {},
   "outputs": [
    {
     "data": {
      "text/html": [
       "<div>\n",
       "<style scoped>\n",
       "    .dataframe tbody tr th:only-of-type {\n",
       "        vertical-align: middle;\n",
       "    }\n",
       "\n",
       "    .dataframe tbody tr th {\n",
       "        vertical-align: top;\n",
       "    }\n",
       "\n",
       "    .dataframe thead th {\n",
       "        text-align: right;\n",
       "    }\n",
       "</style>\n",
       "<table border=\"1\" class=\"dataframe\">\n",
       "  <thead>\n",
       "    <tr style=\"text-align: right;\">\n",
       "      <th></th>\n",
       "      <th>PassengerId</th>\n",
       "      <th>Survived</th>\n",
       "      <th>Pclass</th>\n",
       "      <th>Name</th>\n",
       "      <th>Sex</th>\n",
       "      <th>Age</th>\n",
       "      <th>SibSp</th>\n",
       "      <th>Parch</th>\n",
       "      <th>Ticket</th>\n",
       "      <th>Fare</th>\n",
       "      <th>Cabin</th>\n",
       "      <th>Embarked</th>\n",
       "      <th>non_survived</th>\n",
       "    </tr>\n",
       "  </thead>\n",
       "  <tbody>\n",
       "    <tr>\n",
       "      <th>0</th>\n",
       "      <td>1</td>\n",
       "      <td>0.0</td>\n",
       "      <td>3</td>\n",
       "      <td>Braund, Mr. Owen Harris</td>\n",
       "      <td>male</td>\n",
       "      <td>22.0</td>\n",
       "      <td>1</td>\n",
       "      <td>0</td>\n",
       "      <td>A/5 21171</td>\n",
       "      <td>7.2500</td>\n",
       "      <td>NaN</td>\n",
       "      <td>S</td>\n",
       "      <td>1.0</td>\n",
       "    </tr>\n",
       "    <tr>\n",
       "      <th>1</th>\n",
       "      <td>2</td>\n",
       "      <td>1.0</td>\n",
       "      <td>1</td>\n",
       "      <td>Cumings, Mrs. John Bradley (Florence Briggs Th...</td>\n",
       "      <td>female</td>\n",
       "      <td>38.0</td>\n",
       "      <td>1</td>\n",
       "      <td>0</td>\n",
       "      <td>PC 17599</td>\n",
       "      <td>71.2833</td>\n",
       "      <td>C85</td>\n",
       "      <td>C</td>\n",
       "      <td>0.0</td>\n",
       "    </tr>\n",
       "    <tr>\n",
       "      <th>2</th>\n",
       "      <td>3</td>\n",
       "      <td>1.0</td>\n",
       "      <td>3</td>\n",
       "      <td>Heikkinen, Miss. Laina</td>\n",
       "      <td>female</td>\n",
       "      <td>26.0</td>\n",
       "      <td>0</td>\n",
       "      <td>0</td>\n",
       "      <td>STON/O2. 3101282</td>\n",
       "      <td>7.9250</td>\n",
       "      <td>NaN</td>\n",
       "      <td>S</td>\n",
       "      <td>0.0</td>\n",
       "    </tr>\n",
       "    <tr>\n",
       "      <th>3</th>\n",
       "      <td>4</td>\n",
       "      <td>1.0</td>\n",
       "      <td>1</td>\n",
       "      <td>Futrelle, Mrs. Jacques Heath (Lily May Peel)</td>\n",
       "      <td>female</td>\n",
       "      <td>35.0</td>\n",
       "      <td>1</td>\n",
       "      <td>0</td>\n",
       "      <td>113803</td>\n",
       "      <td>53.1000</td>\n",
       "      <td>C123</td>\n",
       "      <td>S</td>\n",
       "      <td>0.0</td>\n",
       "    </tr>\n",
       "    <tr>\n",
       "      <th>4</th>\n",
       "      <td>5</td>\n",
       "      <td>0.0</td>\n",
       "      <td>3</td>\n",
       "      <td>Allen, Mr. William Henry</td>\n",
       "      <td>male</td>\n",
       "      <td>35.0</td>\n",
       "      <td>0</td>\n",
       "      <td>0</td>\n",
       "      <td>373450</td>\n",
       "      <td>8.0500</td>\n",
       "      <td>NaN</td>\n",
       "      <td>S</td>\n",
       "      <td>1.0</td>\n",
       "    </tr>\n",
       "  </tbody>\n",
       "</table>\n",
       "</div>"
      ],
      "text/plain": [
       "   PassengerId  Survived  Pclass  \\\n",
       "0            1       0.0       3   \n",
       "1            2       1.0       1   \n",
       "2            3       1.0       3   \n",
       "3            4       1.0       1   \n",
       "4            5       0.0       3   \n",
       "\n",
       "                                                Name     Sex   Age  SibSp  \\\n",
       "0                            Braund, Mr. Owen Harris    male  22.0      1   \n",
       "1  Cumings, Mrs. John Bradley (Florence Briggs Th...  female  38.0      1   \n",
       "2                             Heikkinen, Miss. Laina  female  26.0      0   \n",
       "3       Futrelle, Mrs. Jacques Heath (Lily May Peel)  female  35.0      1   \n",
       "4                           Allen, Mr. William Henry    male  35.0      0   \n",
       "\n",
       "   Parch            Ticket     Fare Cabin Embarked  non_survived  \n",
       "0      0         A/5 21171   7.2500   NaN        S           1.0  \n",
       "1      0          PC 17599  71.2833   C85        C           0.0  \n",
       "2      0  STON/O2. 3101282   7.9250   NaN        S           0.0  \n",
       "3      0            113803  53.1000  C123        S           0.0  \n",
       "4      0            373450   8.0500   NaN        S           1.0  "
      ]
     },
     "execution_count": 268,
     "metadata": {},
     "output_type": "execute_result"
    }
   ],
   "source": [
    "data.head()"
   ]
  },
  {
   "cell_type": "code",
   "execution_count": 269,
   "metadata": {},
   "outputs": [
    {
     "data": {
      "text/plain": [
       "(1309, 13)"
      ]
     },
     "execution_count": 269,
     "metadata": {},
     "output_type": "execute_result"
    }
   ],
   "source": [
    "data.shape # includes train and test dataset"
   ]
  },
  {
   "cell_type": "markdown",
   "metadata": {},
   "source": [
    "### Name "
   ]
  },
  {
   "cell_type": "markdown",
   "metadata": {},
   "source": [
    "Extract title from each name that can give additional information about the social status "
   ]
  },
  {
   "cell_type": "code",
   "execution_count": 270,
   "metadata": {},
   "outputs": [
    {
     "data": {
      "text/html": [
       "<div>\n",
       "<style scoped>\n",
       "    .dataframe tbody tr th:only-of-type {\n",
       "        vertical-align: middle;\n",
       "    }\n",
       "\n",
       "    .dataframe tbody tr th {\n",
       "        vertical-align: top;\n",
       "    }\n",
       "\n",
       "    .dataframe thead th {\n",
       "        text-align: right;\n",
       "    }\n",
       "</style>\n",
       "<table border=\"1\" class=\"dataframe\">\n",
       "  <thead>\n",
       "    <tr style=\"text-align: right;\">\n",
       "      <th></th>\n",
       "      <th>PassengerId</th>\n",
       "      <th>Survived</th>\n",
       "      <th>Pclass</th>\n",
       "      <th>Name</th>\n",
       "      <th>Sex</th>\n",
       "      <th>Age</th>\n",
       "      <th>SibSp</th>\n",
       "      <th>Parch</th>\n",
       "      <th>Ticket</th>\n",
       "      <th>Fare</th>\n",
       "      <th>Cabin</th>\n",
       "      <th>Embarked</th>\n",
       "      <th>non_survived</th>\n",
       "      <th>title</th>\n",
       "    </tr>\n",
       "  </thead>\n",
       "  <tbody>\n",
       "    <tr>\n",
       "      <th>0</th>\n",
       "      <td>1</td>\n",
       "      <td>0.0</td>\n",
       "      <td>3</td>\n",
       "      <td>Braund, Mr. Owen Harris</td>\n",
       "      <td>male</td>\n",
       "      <td>22.0</td>\n",
       "      <td>1</td>\n",
       "      <td>0</td>\n",
       "      <td>A/5 21171</td>\n",
       "      <td>7.2500</td>\n",
       "      <td>NaN</td>\n",
       "      <td>S</td>\n",
       "      <td>1.0</td>\n",
       "      <td>Mr</td>\n",
       "    </tr>\n",
       "    <tr>\n",
       "      <th>1</th>\n",
       "      <td>2</td>\n",
       "      <td>1.0</td>\n",
       "      <td>1</td>\n",
       "      <td>Cumings, Mrs. John Bradley (Florence Briggs Th...</td>\n",
       "      <td>female</td>\n",
       "      <td>38.0</td>\n",
       "      <td>1</td>\n",
       "      <td>0</td>\n",
       "      <td>PC 17599</td>\n",
       "      <td>71.2833</td>\n",
       "      <td>C85</td>\n",
       "      <td>C</td>\n",
       "      <td>0.0</td>\n",
       "      <td>Mrs</td>\n",
       "    </tr>\n",
       "    <tr>\n",
       "      <th>2</th>\n",
       "      <td>3</td>\n",
       "      <td>1.0</td>\n",
       "      <td>3</td>\n",
       "      <td>Heikkinen, Miss. Laina</td>\n",
       "      <td>female</td>\n",
       "      <td>26.0</td>\n",
       "      <td>0</td>\n",
       "      <td>0</td>\n",
       "      <td>STON/O2. 3101282</td>\n",
       "      <td>7.9250</td>\n",
       "      <td>NaN</td>\n",
       "      <td>S</td>\n",
       "      <td>0.0</td>\n",
       "      <td>Miss</td>\n",
       "    </tr>\n",
       "    <tr>\n",
       "      <th>3</th>\n",
       "      <td>4</td>\n",
       "      <td>1.0</td>\n",
       "      <td>1</td>\n",
       "      <td>Futrelle, Mrs. Jacques Heath (Lily May Peel)</td>\n",
       "      <td>female</td>\n",
       "      <td>35.0</td>\n",
       "      <td>1</td>\n",
       "      <td>0</td>\n",
       "      <td>113803</td>\n",
       "      <td>53.1000</td>\n",
       "      <td>C123</td>\n",
       "      <td>S</td>\n",
       "      <td>0.0</td>\n",
       "      <td>Mrs</td>\n",
       "    </tr>\n",
       "    <tr>\n",
       "      <th>4</th>\n",
       "      <td>5</td>\n",
       "      <td>0.0</td>\n",
       "      <td>3</td>\n",
       "      <td>Allen, Mr. William Henry</td>\n",
       "      <td>male</td>\n",
       "      <td>35.0</td>\n",
       "      <td>0</td>\n",
       "      <td>0</td>\n",
       "      <td>373450</td>\n",
       "      <td>8.0500</td>\n",
       "      <td>NaN</td>\n",
       "      <td>S</td>\n",
       "      <td>1.0</td>\n",
       "      <td>Mr</td>\n",
       "    </tr>\n",
       "  </tbody>\n",
       "</table>\n",
       "</div>"
      ],
      "text/plain": [
       "   PassengerId  Survived  Pclass  \\\n",
       "0            1       0.0       3   \n",
       "1            2       1.0       1   \n",
       "2            3       1.0       3   \n",
       "3            4       1.0       1   \n",
       "4            5       0.0       3   \n",
       "\n",
       "                                                Name     Sex   Age  SibSp  \\\n",
       "0                            Braund, Mr. Owen Harris    male  22.0      1   \n",
       "1  Cumings, Mrs. John Bradley (Florence Briggs Th...  female  38.0      1   \n",
       "2                             Heikkinen, Miss. Laina  female  26.0      0   \n",
       "3       Futrelle, Mrs. Jacques Heath (Lily May Peel)  female  35.0      1   \n",
       "4                           Allen, Mr. William Henry    male  35.0      0   \n",
       "\n",
       "   Parch            Ticket     Fare Cabin Embarked  non_survived title  \n",
       "0      0         A/5 21171   7.2500   NaN        S           1.0    Mr  \n",
       "1      0          PC 17599  71.2833   C85        C           0.0   Mrs  \n",
       "2      0  STON/O2. 3101282   7.9250   NaN        S           0.0  Miss  \n",
       "3      0            113803  53.1000  C123        S           0.0   Mrs  \n",
       "4      0            373450   8.0500   NaN        S           1.0    Mr  "
      ]
     },
     "execution_count": 270,
     "metadata": {},
     "output_type": "execute_result"
    }
   ],
   "source": [
    "data['title'] = data['Name'].apply(lambda name: name.split(',')[1].split('.')[0].strip())\n",
    "data.head()"
   ]
  },
  {
   "cell_type": "code",
   "execution_count": 271,
   "metadata": {},
   "outputs": [],
   "source": [
    "Titles = {\n",
    "    \"Capt\": \"Officer\",\"Col\": \"Officer\", \"Major\": \"Officer\",\"Jonkheer\": \"Royalty\", \"Don\": \"Royalty\",\"Sir\" : \"Royalty\",\n",
    "    \"Dr\": \"Officer\",\"Rev\": \"Officer\",\"the Countess\":\"Royalty\", \"Mme\": \"Mrs\",\"Mlle\": \"Miss\",\"Ms\": \"Mrs\",\"Mr\" : \"Mr\",\n",
    "    \"Mrs\" : \"Mrs\",\"Miss\" : \"Miss\",\"Master\" : \"Master\",\"Lady\" : \"Royalty\",\"Dona\": \"Master\"}"
   ]
  },
  {
   "cell_type": "code",
   "execution_count": 272,
   "metadata": {},
   "outputs": [],
   "source": [
    "data['title'] = data.title.apply(lambda x: Titles[x])"
   ]
  },
  {
   "cell_type": "code",
   "execution_count": 273,
   "metadata": {},
   "outputs": [
    {
     "data": {
      "text/plain": [
       "array(['Mr', 'Mrs', 'Miss', 'Master', 'Royalty', 'Officer'], dtype=object)"
      ]
     },
     "execution_count": 273,
     "metadata": {},
     "output_type": "execute_result"
    }
   ],
   "source": [
    "data['title'].unique()"
   ]
  },
  {
   "cell_type": "code",
   "execution_count": 274,
   "metadata": {},
   "outputs": [],
   "source": [
    "Title_map = {'Mr': 0,\n",
    "             'Mrs':1,\n",
    "             'Miss': 2,\n",
    "             'Master':3,\n",
    "             'Royalty':4,\n",
    "             'Officer':5}"
   ]
  },
  {
   "cell_type": "code",
   "execution_count": 275,
   "metadata": {},
   "outputs": [],
   "source": [
    "data['title'] = data.title.apply(lambda x: Title_map[x])"
   ]
  },
  {
   "cell_type": "code",
   "execution_count": 276,
   "metadata": {},
   "outputs": [
    {
     "data": {
      "text/plain": [
       "array([0, 1, 2, 3, 4, 5], dtype=int64)"
      ]
     },
     "execution_count": 276,
     "metadata": {},
     "output_type": "execute_result"
    }
   ],
   "source": [
    "data['title'].unique()"
   ]
  },
  {
   "cell_type": "code",
   "execution_count": 277,
   "metadata": {},
   "outputs": [
    {
     "data": {
      "text/html": [
       "<div>\n",
       "<style scoped>\n",
       "    .dataframe tbody tr th:only-of-type {\n",
       "        vertical-align: middle;\n",
       "    }\n",
       "\n",
       "    .dataframe tbody tr th {\n",
       "        vertical-align: top;\n",
       "    }\n",
       "\n",
       "    .dataframe thead th {\n",
       "        text-align: right;\n",
       "    }\n",
       "</style>\n",
       "<table border=\"1\" class=\"dataframe\">\n",
       "  <thead>\n",
       "    <tr style=\"text-align: right;\">\n",
       "      <th></th>\n",
       "      <th>PassengerId</th>\n",
       "      <th>Survived</th>\n",
       "      <th>Pclass</th>\n",
       "      <th>Name</th>\n",
       "      <th>Sex</th>\n",
       "      <th>Age</th>\n",
       "      <th>SibSp</th>\n",
       "      <th>Parch</th>\n",
       "      <th>Ticket</th>\n",
       "      <th>Fare</th>\n",
       "      <th>Cabin</th>\n",
       "      <th>Embarked</th>\n",
       "      <th>non_survived</th>\n",
       "      <th>title</th>\n",
       "    </tr>\n",
       "  </thead>\n",
       "  <tbody>\n",
       "    <tr>\n",
       "      <th>0</th>\n",
       "      <td>1</td>\n",
       "      <td>0.0</td>\n",
       "      <td>3</td>\n",
       "      <td>Braund, Mr. Owen Harris</td>\n",
       "      <td>male</td>\n",
       "      <td>22.0</td>\n",
       "      <td>1</td>\n",
       "      <td>0</td>\n",
       "      <td>A/5 21171</td>\n",
       "      <td>7.2500</td>\n",
       "      <td>NaN</td>\n",
       "      <td>S</td>\n",
       "      <td>1.0</td>\n",
       "      <td>0</td>\n",
       "    </tr>\n",
       "    <tr>\n",
       "      <th>1</th>\n",
       "      <td>2</td>\n",
       "      <td>1.0</td>\n",
       "      <td>1</td>\n",
       "      <td>Cumings, Mrs. John Bradley (Florence Briggs Th...</td>\n",
       "      <td>female</td>\n",
       "      <td>38.0</td>\n",
       "      <td>1</td>\n",
       "      <td>0</td>\n",
       "      <td>PC 17599</td>\n",
       "      <td>71.2833</td>\n",
       "      <td>C85</td>\n",
       "      <td>C</td>\n",
       "      <td>0.0</td>\n",
       "      <td>1</td>\n",
       "    </tr>\n",
       "    <tr>\n",
       "      <th>2</th>\n",
       "      <td>3</td>\n",
       "      <td>1.0</td>\n",
       "      <td>3</td>\n",
       "      <td>Heikkinen, Miss. Laina</td>\n",
       "      <td>female</td>\n",
       "      <td>26.0</td>\n",
       "      <td>0</td>\n",
       "      <td>0</td>\n",
       "      <td>STON/O2. 3101282</td>\n",
       "      <td>7.9250</td>\n",
       "      <td>NaN</td>\n",
       "      <td>S</td>\n",
       "      <td>0.0</td>\n",
       "      <td>2</td>\n",
       "    </tr>\n",
       "    <tr>\n",
       "      <th>3</th>\n",
       "      <td>4</td>\n",
       "      <td>1.0</td>\n",
       "      <td>1</td>\n",
       "      <td>Futrelle, Mrs. Jacques Heath (Lily May Peel)</td>\n",
       "      <td>female</td>\n",
       "      <td>35.0</td>\n",
       "      <td>1</td>\n",
       "      <td>0</td>\n",
       "      <td>113803</td>\n",
       "      <td>53.1000</td>\n",
       "      <td>C123</td>\n",
       "      <td>S</td>\n",
       "      <td>0.0</td>\n",
       "      <td>1</td>\n",
       "    </tr>\n",
       "    <tr>\n",
       "      <th>4</th>\n",
       "      <td>5</td>\n",
       "      <td>0.0</td>\n",
       "      <td>3</td>\n",
       "      <td>Allen, Mr. William Henry</td>\n",
       "      <td>male</td>\n",
       "      <td>35.0</td>\n",
       "      <td>0</td>\n",
       "      <td>0</td>\n",
       "      <td>373450</td>\n",
       "      <td>8.0500</td>\n",
       "      <td>NaN</td>\n",
       "      <td>S</td>\n",
       "      <td>1.0</td>\n",
       "      <td>0</td>\n",
       "    </tr>\n",
       "  </tbody>\n",
       "</table>\n",
       "</div>"
      ],
      "text/plain": [
       "   PassengerId  Survived  Pclass  \\\n",
       "0            1       0.0       3   \n",
       "1            2       1.0       1   \n",
       "2            3       1.0       3   \n",
       "3            4       1.0       1   \n",
       "4            5       0.0       3   \n",
       "\n",
       "                                                Name     Sex   Age  SibSp  \\\n",
       "0                            Braund, Mr. Owen Harris    male  22.0      1   \n",
       "1  Cumings, Mrs. John Bradley (Florence Briggs Th...  female  38.0      1   \n",
       "2                             Heikkinen, Miss. Laina  female  26.0      0   \n",
       "3       Futrelle, Mrs. Jacques Heath (Lily May Peel)  female  35.0      1   \n",
       "4                           Allen, Mr. William Henry    male  35.0      0   \n",
       "\n",
       "   Parch            Ticket     Fare Cabin Embarked  non_survived  title  \n",
       "0      0         A/5 21171   7.2500   NaN        S           1.0      0  \n",
       "1      0          PC 17599  71.2833   C85        C           0.0      1  \n",
       "2      0  STON/O2. 3101282   7.9250   NaN        S           0.0      2  \n",
       "3      0            113803  53.1000  C123        S           0.0      1  \n",
       "4      0            373450   8.0500   NaN        S           1.0      0  "
      ]
     },
     "execution_count": 277,
     "metadata": {},
     "output_type": "execute_result"
    }
   ],
   "source": [
    "data.head()"
   ]
  },
  {
   "cell_type": "markdown",
   "metadata": {},
   "source": [
    "### Sex feature"
   ]
  },
  {
   "cell_type": "code",
   "execution_count": 278,
   "metadata": {},
   "outputs": [],
   "source": [
    "data['Sex'] = data['Sex'].map( {'female': 1, 'male': 0} ).astype(int)"
   ]
  },
  {
   "cell_type": "markdown",
   "metadata": {},
   "source": [
    "### Age"
   ]
  },
  {
   "cell_type": "code",
   "execution_count": 279,
   "metadata": {},
   "outputs": [],
   "source": [
    "age_mean = data['Age'].mean()"
   ]
  },
  {
   "cell_type": "code",
   "execution_count": 280,
   "metadata": {},
   "outputs": [],
   "source": [
    "data['Age'].fillna(age_mean , inplace = True)"
   ]
  },
  {
   "cell_type": "markdown",
   "metadata": {},
   "source": [
    "### SibSp\tParch"
   ]
  },
  {
   "cell_type": "code",
   "execution_count": 281,
   "metadata": {},
   "outputs": [],
   "source": [
    "data['Family_size'] = data[\"SibSp\"]+data[\"Parch\"] +1"
   ]
  },
  {
   "cell_type": "code",
   "execution_count": 282,
   "metadata": {},
   "outputs": [
    {
     "data": {
      "text/html": [
       "<div>\n",
       "<style scoped>\n",
       "    .dataframe tbody tr th:only-of-type {\n",
       "        vertical-align: middle;\n",
       "    }\n",
       "\n",
       "    .dataframe tbody tr th {\n",
       "        vertical-align: top;\n",
       "    }\n",
       "\n",
       "    .dataframe thead th {\n",
       "        text-align: right;\n",
       "    }\n",
       "</style>\n",
       "<table border=\"1\" class=\"dataframe\">\n",
       "  <thead>\n",
       "    <tr style=\"text-align: right;\">\n",
       "      <th></th>\n",
       "      <th>Family_size</th>\n",
       "      <th>Survived</th>\n",
       "    </tr>\n",
       "  </thead>\n",
       "  <tbody>\n",
       "    <tr>\n",
       "      <th>0</th>\n",
       "      <td>1</td>\n",
       "      <td>0.303538</td>\n",
       "    </tr>\n",
       "    <tr>\n",
       "      <th>1</th>\n",
       "      <td>2</td>\n",
       "      <td>0.552795</td>\n",
       "    </tr>\n",
       "    <tr>\n",
       "      <th>2</th>\n",
       "      <td>3</td>\n",
       "      <td>0.578431</td>\n",
       "    </tr>\n",
       "    <tr>\n",
       "      <th>3</th>\n",
       "      <td>4</td>\n",
       "      <td>0.724138</td>\n",
       "    </tr>\n",
       "    <tr>\n",
       "      <th>4</th>\n",
       "      <td>5</td>\n",
       "      <td>0.200000</td>\n",
       "    </tr>\n",
       "    <tr>\n",
       "      <th>5</th>\n",
       "      <td>6</td>\n",
       "      <td>0.136364</td>\n",
       "    </tr>\n",
       "    <tr>\n",
       "      <th>6</th>\n",
       "      <td>7</td>\n",
       "      <td>0.333333</td>\n",
       "    </tr>\n",
       "    <tr>\n",
       "      <th>7</th>\n",
       "      <td>8</td>\n",
       "      <td>0.000000</td>\n",
       "    </tr>\n",
       "    <tr>\n",
       "      <th>8</th>\n",
       "      <td>11</td>\n",
       "      <td>0.000000</td>\n",
       "    </tr>\n",
       "  </tbody>\n",
       "</table>\n",
       "</div>"
      ],
      "text/plain": [
       "   Family_size  Survived\n",
       "0            1  0.303538\n",
       "1            2  0.552795\n",
       "2            3  0.578431\n",
       "3            4  0.724138\n",
       "4            5  0.200000\n",
       "5            6  0.136364\n",
       "6            7  0.333333\n",
       "7            8  0.000000\n",
       "8           11  0.000000"
      ]
     },
     "execution_count": 282,
     "metadata": {},
     "output_type": "execute_result"
    }
   ],
   "source": [
    "data.groupby(by = ['Family_size'], as_index= False).Survived.mean()"
   ]
  },
  {
   "cell_type": "code",
   "execution_count": 283,
   "metadata": {},
   "outputs": [
    {
     "data": {
      "text/plain": [
       "<matplotlib.axes._subplots.AxesSubplot at 0x19fc3438978>"
      ]
     },
     "execution_count": 283,
     "metadata": {},
     "output_type": "execute_result"
    },
    {
     "data": {
      "image/png": "[encoded data removed]",
      "text/plain": [
       "<Figure size 432x288 with 1 Axes>"
      ]
     },
     "metadata": {
      "needs_background": "light"
     },
     "output_type": "display_data"
    }
   ],
   "source": [
    "data.groupby(by = ['Family_size']).Survived.mean().plot(kind = 'bar')"
   ]
  },
  {
   "cell_type": "markdown",
   "metadata": {},
   "source": [
    "Family size with 2, 3 and 4 member has more survival chance<br>\n",
    "convert family in 3 group\n",
    " * sigleton\n",
    " * smallfamily\n",
    " * largefamily"
   ]
  },
  {
   "cell_type": "code",
   "execution_count": 284,
   "metadata": {},
   "outputs": [],
   "source": [
    "Family = []\n",
    "for FamilySize in data['Family_size']:\n",
    "    if FamilySize==1:\n",
    "        Family.append(0)\n",
    "    elif (2 <= FamilySize <= 4):\n",
    "        Family.append(1)\n",
    "    elif ( 5<=FamilySize):\n",
    "        Family.append(2)\n"
   ]
  },
  {
   "cell_type": "code",
   "execution_count": 285,
   "metadata": {},
   "outputs": [],
   "source": [
    "data[\"Family\"] = pd.Series(Family)"
   ]
  },
  {
   "cell_type": "code",
   "execution_count": 286,
   "metadata": {},
   "outputs": [],
   "source": [
    "data.drop(['SibSp', 'Parch', 'Family_size'], axis = 1, inplace = True)"
   ]
  },
  {
   "cell_type": "markdown",
   "metadata": {},
   "source": [
    "### Fare "
   ]
  },
  {
   "cell_type": "code",
   "execution_count": 287,
   "metadata": {},
   "outputs": [
    {
     "data": {
      "text/plain": [
       "1"
      ]
     },
     "execution_count": 287,
     "metadata": {},
     "output_type": "execute_result"
    }
   ],
   "source": [
    "data.Fare.isnull().sum()"
   ]
  },
  {
   "cell_type": "markdown",
   "metadata": {},
   "source": [
    "One null value is presence in Fare"
   ]
  },
  {
   "cell_type": "code",
   "execution_count": 288,
   "metadata": {},
   "outputs": [],
   "source": [
    "data['Fare'] = data['Fare'].fillna(train['Fare'].median())"
   ]
  },
  {
   "cell_type": "code",
   "execution_count": 289,
   "metadata": {},
   "outputs": [
    {
     "data": {
      "text/plain": [
       "0"
      ]
     },
     "execution_count": 289,
     "metadata": {},
     "output_type": "execute_result"
    }
   ],
   "source": [
    "data.Fare.isnull().sum()"
   ]
  },
  {
   "cell_type": "code",
   "execution_count": 290,
   "metadata": {},
   "outputs": [
    {
     "data": {
      "text/plain": [
       "count    1309.000000\n",
       "mean       33.281086\n",
       "std        51.741500\n",
       "min         0.000000\n",
       "25%         7.895800\n",
       "50%        14.454200\n",
       "75%        31.275000\n",
       "max       512.329200\n",
       "Name: Fare, dtype: float64"
      ]
     },
     "execution_count": 290,
     "metadata": {},
     "output_type": "execute_result"
    }
   ],
   "source": [
    "data['Fare'].describe()"
   ]
  },
  {
   "cell_type": "markdown",
   "metadata": {},
   "source": [
    "Mean value of Fare is  aprox. 33 and 75% of fare is 31.2 <br>\n",
    "convert fare in group\n",
    " * fare <=7.89\n",
    " * 7.89< fare<= 14.5\n",
    " * 14.5< fare <= 31\n",
    " * 31< fare"
   ]
  },
  {
   "cell_type": "code",
   "execution_count": 291,
   "metadata": {},
   "outputs": [
    {
     "data": {
      "text/plain": [
       "dtype('float64')"
      ]
     },
     "execution_count": 291,
     "metadata": {},
     "output_type": "execute_result"
    }
   ],
   "source": [
    "data['Fare'].dtype"
   ]
  },
  {
   "cell_type": "code",
   "execution_count": 292,
   "metadata": {},
   "outputs": [],
   "source": [
    "fare = []\n",
    "for fares in data['Fare']:\n",
    "    if fares<=7.89:\n",
    "        fare.append(0)\n",
    "    elif (7.89 <= fares <= 14.5):\n",
    "        fare.append(1)\n",
    "    elif ( 14.5< fares<=31):\n",
    "        fare.append(2)\n",
    "    elif (31<=fares):\n",
    "        fare.append(3)\n",
    "   "
   ]
  },
  {
   "cell_type": "code",
   "execution_count": 293,
   "metadata": {},
   "outputs": [],
   "source": [
    "data['Fare_data'] = pd.Series(fare)"
   ]
  },
  {
   "cell_type": "code",
   "execution_count": 294,
   "metadata": {},
   "outputs": [
    {
     "data": {
      "text/plain": [
       "array([0, 3, 1, 2], dtype=int64)"
      ]
     },
     "execution_count": 294,
     "metadata": {},
     "output_type": "execute_result"
    }
   ],
   "source": [
    "data['Fare_data'].unique()"
   ]
  },
  {
   "cell_type": "code",
   "execution_count": 295,
   "metadata": {},
   "outputs": [],
   "source": [
    "data.drop('Fare', axis = 1,inplace = True)"
   ]
  },
  {
   "cell_type": "markdown",
   "metadata": {},
   "source": [
    "### Embarked"
   ]
  },
  {
   "cell_type": "code",
   "execution_count": 296,
   "metadata": {},
   "outputs": [
    {
     "data": {
      "text/plain": [
       "count     1307\n",
       "unique       3\n",
       "top          S\n",
       "freq       914\n",
       "Name: Embarked, dtype: object"
      ]
     },
     "execution_count": 296,
     "metadata": {},
     "output_type": "execute_result"
    }
   ],
   "source": [
    "data.Embarked.describe()"
   ]
  },
  {
   "cell_type": "code",
   "execution_count": 297,
   "metadata": {},
   "outputs": [
    {
     "data": {
      "text/plain": [
       "2"
      ]
     },
     "execution_count": 297,
     "metadata": {},
     "output_type": "execute_result"
    }
   ],
   "source": [
    "data.Embarked.isnull().sum()"
   ]
  },
  {
   "cell_type": "code",
   "execution_count": 298,
   "metadata": {},
   "outputs": [
    {
     "data": {
      "text/plain": [
       "array(['S', 'C', 'Q', nan], dtype=object)"
      ]
     },
     "execution_count": 298,
     "metadata": {},
     "output_type": "execute_result"
    }
   ],
   "source": [
    "data['Embarked'].unique()"
   ]
  },
  {
   "cell_type": "markdown",
   "metadata": {},
   "source": [
    "Fill 2 null Embarked value with most frequent valu **S** "
   ]
  },
  {
   "cell_type": "code",
   "execution_count": 299,
   "metadata": {},
   "outputs": [],
   "source": [
    "data['Embarked'].fillna('S', inplace = True)"
   ]
  },
  {
   "cell_type": "code",
   "execution_count": 300,
   "metadata": {},
   "outputs": [],
   "source": [
    "data['Embarked'] = data['Embarked'].map({'S': 0, 'C': 1, 'Q':2})"
   ]
  },
  {
   "cell_type": "code",
   "execution_count": 301,
   "metadata": {},
   "outputs": [
    {
     "data": {
      "text/html": [
       "<div>\n",
       "<style scoped>\n",
       "    .dataframe tbody tr th:only-of-type {\n",
       "        vertical-align: middle;\n",
       "    }\n",
       "\n",
       "    .dataframe tbody tr th {\n",
       "        vertical-align: top;\n",
       "    }\n",
       "\n",
       "    .dataframe thead th {\n",
       "        text-align: right;\n",
       "    }\n",
       "</style>\n",
       "<table border=\"1\" class=\"dataframe\">\n",
       "  <thead>\n",
       "    <tr style=\"text-align: right;\">\n",
       "      <th></th>\n",
       "      <th>PassengerId</th>\n",
       "      <th>Survived</th>\n",
       "      <th>Pclass</th>\n",
       "      <th>Name</th>\n",
       "      <th>Sex</th>\n",
       "      <th>Age</th>\n",
       "      <th>Ticket</th>\n",
       "      <th>Cabin</th>\n",
       "      <th>Embarked</th>\n",
       "      <th>non_survived</th>\n",
       "      <th>title</th>\n",
       "      <th>Family</th>\n",
       "      <th>Fare_data</th>\n",
       "    </tr>\n",
       "  </thead>\n",
       "  <tbody>\n",
       "    <tr>\n",
       "      <th>0</th>\n",
       "      <td>1</td>\n",
       "      <td>0.0</td>\n",
       "      <td>3</td>\n",
       "      <td>Braund, Mr. Owen Harris</td>\n",
       "      <td>0</td>\n",
       "      <td>22.0</td>\n",
       "      <td>A/5 21171</td>\n",
       "      <td>NaN</td>\n",
       "      <td>0</td>\n",
       "      <td>1.0</td>\n",
       "      <td>0</td>\n",
       "      <td>1</td>\n",
       "      <td>0</td>\n",
       "    </tr>\n",
       "    <tr>\n",
       "      <th>1</th>\n",
       "      <td>2</td>\n",
       "      <td>1.0</td>\n",
       "      <td>1</td>\n",
       "      <td>Cumings, Mrs. John Bradley (Florence Briggs Th...</td>\n",
       "      <td>1</td>\n",
       "      <td>38.0</td>\n",
       "      <td>PC 17599</td>\n",
       "      <td>C85</td>\n",
       "      <td>1</td>\n",
       "      <td>0.0</td>\n",
       "      <td>1</td>\n",
       "      <td>1</td>\n",
       "      <td>3</td>\n",
       "    </tr>\n",
       "    <tr>\n",
       "      <th>2</th>\n",
       "      <td>3</td>\n",
       "      <td>1.0</td>\n",
       "      <td>3</td>\n",
       "      <td>Heikkinen, Miss. Laina</td>\n",
       "      <td>1</td>\n",
       "      <td>26.0</td>\n",
       "      <td>STON/O2. 3101282</td>\n",
       "      <td>NaN</td>\n",
       "      <td>0</td>\n",
       "      <td>0.0</td>\n",
       "      <td>2</td>\n",
       "      <td>0</td>\n",
       "      <td>1</td>\n",
       "    </tr>\n",
       "    <tr>\n",
       "      <th>3</th>\n",
       "      <td>4</td>\n",
       "      <td>1.0</td>\n",
       "      <td>1</td>\n",
       "      <td>Futrelle, Mrs. Jacques Heath (Lily May Peel)</td>\n",
       "      <td>1</td>\n",
       "      <td>35.0</td>\n",
       "      <td>113803</td>\n",
       "      <td>C123</td>\n",
       "      <td>0</td>\n",
       "      <td>0.0</td>\n",
       "      <td>1</td>\n",
       "      <td>1</td>\n",
       "      <td>3</td>\n",
       "    </tr>\n",
       "    <tr>\n",
       "      <th>4</th>\n",
       "      <td>5</td>\n",
       "      <td>0.0</td>\n",
       "      <td>3</td>\n",
       "      <td>Allen, Mr. William Henry</td>\n",
       "      <td>0</td>\n",
       "      <td>35.0</td>\n",
       "      <td>373450</td>\n",
       "      <td>NaN</td>\n",
       "      <td>0</td>\n",
       "      <td>1.0</td>\n",
       "      <td>0</td>\n",
       "      <td>0</td>\n",
       "      <td>1</td>\n",
       "    </tr>\n",
       "  </tbody>\n",
       "</table>\n",
       "</div>"
      ],
      "text/plain": [
       "   PassengerId  Survived  Pclass  \\\n",
       "0            1       0.0       3   \n",
       "1            2       1.0       1   \n",
       "2            3       1.0       3   \n",
       "3            4       1.0       1   \n",
       "4            5       0.0       3   \n",
       "\n",
       "                                                Name  Sex   Age  \\\n",
       "0                            Braund, Mr. Owen Harris    0  22.0   \n",
       "1  Cumings, Mrs. John Bradley (Florence Briggs Th...    1  38.0   \n",
       "2                             Heikkinen, Miss. Laina    1  26.0   \n",
       "3       Futrelle, Mrs. Jacques Heath (Lily May Peel)    1  35.0   \n",
       "4                           Allen, Mr. William Henry    0  35.0   \n",
       "\n",
       "             Ticket Cabin  Embarked  non_survived  title  Family  Fare_data  \n",
       "0         A/5 21171   NaN         0           1.0      0       1          0  \n",
       "1          PC 17599   C85         1           0.0      1       1          3  \n",
       "2  STON/O2. 3101282   NaN         0           0.0      2       0          1  \n",
       "3            113803  C123         0           0.0      1       1          3  \n",
       "4            373450   NaN         0           1.0      0       0          1  "
      ]
     },
     "execution_count": 301,
     "metadata": {},
     "output_type": "execute_result"
    }
   ],
   "source": [
    "data.head()"
   ]
  },
  {
   "cell_type": "code",
   "execution_count": 302,
   "metadata": {},
   "outputs": [
    {
     "data": {
      "text/plain": [
       "(1309, 13)"
      ]
     },
     "execution_count": 302,
     "metadata": {},
     "output_type": "execute_result"
    }
   ],
   "source": [
    "data.shape"
   ]
  },
  {
   "cell_type": "markdown",
   "metadata": {},
   "source": [
    "data includes both train and test set, we need to sepereate train and test data. our train data is 891 and rest 418 is test data"
   ]
  },
  {
   "cell_type": "markdown",
   "metadata": {},
   "source": [
    "## Feature selections"
   ]
  },
  {
   "cell_type": "code",
   "execution_count": 303,
   "metadata": {},
   "outputs": [],
   "source": [
    "train_feature = data[:891]"
   ]
  },
  {
   "cell_type": "code",
   "execution_count": 304,
   "metadata": {},
   "outputs": [],
   "source": [
    "test_feature = data[891:]"
   ]
  },
  {
   "cell_type": "code",
   "execution_count": 305,
   "metadata": {},
   "outputs": [
    {
     "data": {
      "text/plain": [
       "((891, 13), (418, 11), (891, 13), (418, 13))"
      ]
     },
     "execution_count": 305,
     "metadata": {},
     "output_type": "execute_result"
    }
   ],
   "source": [
    "train.shape, test.shape, train_feature.shape, test_feature.shape"
   ]
  },
  {
   "cell_type": "code",
   "execution_count": 306,
   "metadata": {},
   "outputs": [
    {
     "data": {
      "text/html": [
       "<div>\n",
       "<style scoped>\n",
       "    .dataframe tbody tr th:only-of-type {\n",
       "        vertical-align: middle;\n",
       "    }\n",
       "\n",
       "    .dataframe tbody tr th {\n",
       "        vertical-align: top;\n",
       "    }\n",
       "\n",
       "    .dataframe thead th {\n",
       "        text-align: right;\n",
       "    }\n",
       "</style>\n",
       "<table border=\"1\" class=\"dataframe\">\n",
       "  <thead>\n",
       "    <tr style=\"text-align: right;\">\n",
       "      <th></th>\n",
       "      <th>PassengerId</th>\n",
       "      <th>Survived</th>\n",
       "      <th>Pclass</th>\n",
       "      <th>Name</th>\n",
       "      <th>Sex</th>\n",
       "      <th>Age</th>\n",
       "      <th>Ticket</th>\n",
       "      <th>Cabin</th>\n",
       "      <th>Embarked</th>\n",
       "      <th>non_survived</th>\n",
       "      <th>title</th>\n",
       "      <th>Family</th>\n",
       "      <th>Fare_data</th>\n",
       "    </tr>\n",
       "  </thead>\n",
       "  <tbody>\n",
       "    <tr>\n",
       "      <th>0</th>\n",
       "      <td>1</td>\n",
       "      <td>0.0</td>\n",
       "      <td>3</td>\n",
       "      <td>Braund, Mr. Owen Harris</td>\n",
       "      <td>0</td>\n",
       "      <td>22.0</td>\n",
       "      <td>A/5 21171</td>\n",
       "      <td>NaN</td>\n",
       "      <td>0</td>\n",
       "      <td>1.0</td>\n",
       "      <td>0</td>\n",
       "      <td>1</td>\n",
       "      <td>0</td>\n",
       "    </tr>\n",
       "    <tr>\n",
       "      <th>1</th>\n",
       "      <td>2</td>\n",
       "      <td>1.0</td>\n",
       "      <td>1</td>\n",
       "      <td>Cumings, Mrs. John Bradley (Florence Briggs Th...</td>\n",
       "      <td>1</td>\n",
       "      <td>38.0</td>\n",
       "      <td>PC 17599</td>\n",
       "      <td>C85</td>\n",
       "      <td>1</td>\n",
       "      <td>0.0</td>\n",
       "      <td>1</td>\n",
       "      <td>1</td>\n",
       "      <td>3</td>\n",
       "    </tr>\n",
       "    <tr>\n",
       "      <th>2</th>\n",
       "      <td>3</td>\n",
       "      <td>1.0</td>\n",
       "      <td>3</td>\n",
       "      <td>Heikkinen, Miss. Laina</td>\n",
       "      <td>1</td>\n",
       "      <td>26.0</td>\n",
       "      <td>STON/O2. 3101282</td>\n",
       "      <td>NaN</td>\n",
       "      <td>0</td>\n",
       "      <td>0.0</td>\n",
       "      <td>2</td>\n",
       "      <td>0</td>\n",
       "      <td>1</td>\n",
       "    </tr>\n",
       "    <tr>\n",
       "      <th>3</th>\n",
       "      <td>4</td>\n",
       "      <td>1.0</td>\n",
       "      <td>1</td>\n",
       "      <td>Futrelle, Mrs. Jacques Heath (Lily May Peel)</td>\n",
       "      <td>1</td>\n",
       "      <td>35.0</td>\n",
       "      <td>113803</td>\n",
       "      <td>C123</td>\n",
       "      <td>0</td>\n",
       "      <td>0.0</td>\n",
       "      <td>1</td>\n",
       "      <td>1</td>\n",
       "      <td>3</td>\n",
       "    </tr>\n",
       "    <tr>\n",
       "      <th>4</th>\n",
       "      <td>5</td>\n",
       "      <td>0.0</td>\n",
       "      <td>3</td>\n",
       "      <td>Allen, Mr. William Henry</td>\n",
       "      <td>0</td>\n",
       "      <td>35.0</td>\n",
       "      <td>373450</td>\n",
       "      <td>NaN</td>\n",
       "      <td>0</td>\n",
       "      <td>1.0</td>\n",
       "      <td>0</td>\n",
       "      <td>0</td>\n",
       "      <td>1</td>\n",
       "    </tr>\n",
       "  </tbody>\n",
       "</table>\n",
       "</div>"
      ],
      "text/plain": [
       "   PassengerId  Survived  Pclass  \\\n",
       "0            1       0.0       3   \n",
       "1            2       1.0       1   \n",
       "2            3       1.0       3   \n",
       "3            4       1.0       1   \n",
       "4            5       0.0       3   \n",
       "\n",
       "                                                Name  Sex   Age  \\\n",
       "0                            Braund, Mr. Owen Harris    0  22.0   \n",
       "1  Cumings, Mrs. John Bradley (Florence Briggs Th...    1  38.0   \n",
       "2                             Heikkinen, Miss. Laina    1  26.0   \n",
       "3       Futrelle, Mrs. Jacques Heath (Lily May Peel)    1  35.0   \n",
       "4                           Allen, Mr. William Henry    0  35.0   \n",
       "\n",
       "             Ticket Cabin  Embarked  non_survived  title  Family  Fare_data  \n",
       "0         A/5 21171   NaN         0           1.0      0       1          0  \n",
       "1          PC 17599   C85         1           0.0      1       1          3  \n",
       "2  STON/O2. 3101282   NaN         0           0.0      2       0          1  \n",
       "3            113803  C123         0           0.0      1       1          3  \n",
       "4            373450   NaN         0           1.0      0       0          1  "
      ]
     },
     "execution_count": 306,
     "metadata": {},
     "output_type": "execute_result"
    }
   ],
   "source": [
    "train_feature.head()"
   ]
  },
  {
   "cell_type": "code",
   "execution_count": 307,
   "metadata": {},
   "outputs": [
    {
     "data": {
      "text/html": [
       "<div>\n",
       "<style scoped>\n",
       "    .dataframe tbody tr th:only-of-type {\n",
       "        vertical-align: middle;\n",
       "    }\n",
       "\n",
       "    .dataframe tbody tr th {\n",
       "        vertical-align: top;\n",
       "    }\n",
       "\n",
       "    .dataframe thead th {\n",
       "        text-align: right;\n",
       "    }\n",
       "</style>\n",
       "<table border=\"1\" class=\"dataframe\">\n",
       "  <thead>\n",
       "    <tr style=\"text-align: right;\">\n",
       "      <th></th>\n",
       "      <th>PassengerId</th>\n",
       "      <th>Survived</th>\n",
       "      <th>Pclass</th>\n",
       "      <th>Name</th>\n",
       "      <th>Sex</th>\n",
       "      <th>Age</th>\n",
       "      <th>Ticket</th>\n",
       "      <th>Cabin</th>\n",
       "      <th>Embarked</th>\n",
       "      <th>non_survived</th>\n",
       "      <th>title</th>\n",
       "      <th>Family</th>\n",
       "      <th>Fare_data</th>\n",
       "    </tr>\n",
       "  </thead>\n",
       "  <tbody>\n",
       "    <tr>\n",
       "      <th>0</th>\n",
       "      <td>892</td>\n",
       "      <td>NaN</td>\n",
       "      <td>3</td>\n",
       "      <td>Kelly, Mr. James</td>\n",
       "      <td>0</td>\n",
       "      <td>34.5</td>\n",
       "      <td>330911</td>\n",
       "      <td>NaN</td>\n",
       "      <td>2</td>\n",
       "      <td>NaN</td>\n",
       "      <td>0</td>\n",
       "      <td>1</td>\n",
       "      <td>0</td>\n",
       "    </tr>\n",
       "    <tr>\n",
       "      <th>1</th>\n",
       "      <td>893</td>\n",
       "      <td>NaN</td>\n",
       "      <td>3</td>\n",
       "      <td>Wilkes, Mrs. James (Ellen Needs)</td>\n",
       "      <td>1</td>\n",
       "      <td>47.0</td>\n",
       "      <td>363272</td>\n",
       "      <td>NaN</td>\n",
       "      <td>0</td>\n",
       "      <td>NaN</td>\n",
       "      <td>1</td>\n",
       "      <td>1</td>\n",
       "      <td>3</td>\n",
       "    </tr>\n",
       "    <tr>\n",
       "      <th>2</th>\n",
       "      <td>894</td>\n",
       "      <td>NaN</td>\n",
       "      <td>2</td>\n",
       "      <td>Myles, Mr. Thomas Francis</td>\n",
       "      <td>0</td>\n",
       "      <td>62.0</td>\n",
       "      <td>240276</td>\n",
       "      <td>NaN</td>\n",
       "      <td>2</td>\n",
       "      <td>NaN</td>\n",
       "      <td>0</td>\n",
       "      <td>0</td>\n",
       "      <td>1</td>\n",
       "    </tr>\n",
       "    <tr>\n",
       "      <th>3</th>\n",
       "      <td>895</td>\n",
       "      <td>NaN</td>\n",
       "      <td>3</td>\n",
       "      <td>Wirz, Mr. Albert</td>\n",
       "      <td>0</td>\n",
       "      <td>27.0</td>\n",
       "      <td>315154</td>\n",
       "      <td>NaN</td>\n",
       "      <td>0</td>\n",
       "      <td>NaN</td>\n",
       "      <td>0</td>\n",
       "      <td>1</td>\n",
       "      <td>3</td>\n",
       "    </tr>\n",
       "    <tr>\n",
       "      <th>4</th>\n",
       "      <td>896</td>\n",
       "      <td>NaN</td>\n",
       "      <td>3</td>\n",
       "      <td>Hirvonen, Mrs. Alexander (Helga E Lindqvist)</td>\n",
       "      <td>1</td>\n",
       "      <td>22.0</td>\n",
       "      <td>3101298</td>\n",
       "      <td>NaN</td>\n",
       "      <td>0</td>\n",
       "      <td>NaN</td>\n",
       "      <td>1</td>\n",
       "      <td>0</td>\n",
       "      <td>1</td>\n",
       "    </tr>\n",
       "  </tbody>\n",
       "</table>\n",
       "</div>"
      ],
      "text/plain": [
       "   PassengerId  Survived  Pclass  \\\n",
       "0          892       NaN       3   \n",
       "1          893       NaN       3   \n",
       "2          894       NaN       2   \n",
       "3          895       NaN       3   \n",
       "4          896       NaN       3   \n",
       "\n",
       "                                           Name  Sex   Age   Ticket Cabin  \\\n",
       "0                              Kelly, Mr. James    0  34.5   330911   NaN   \n",
       "1              Wilkes, Mrs. James (Ellen Needs)    1  47.0   363272   NaN   \n",
       "2                     Myles, Mr. Thomas Francis    0  62.0   240276   NaN   \n",
       "3                              Wirz, Mr. Albert    0  27.0   315154   NaN   \n",
       "4  Hirvonen, Mrs. Alexander (Helga E Lindqvist)    1  22.0  3101298   NaN   \n",
       "\n",
       "   Embarked  non_survived  title  Family  Fare_data  \n",
       "0         2           NaN      0       1          0  \n",
       "1         0           NaN      1       1          3  \n",
       "2         2           NaN      0       0          1  \n",
       "3         0           NaN      0       1          3  \n",
       "4         0           NaN      1       0          1  "
      ]
     },
     "execution_count": 307,
     "metadata": {},
     "output_type": "execute_result"
    }
   ],
   "source": [
    "test_feature.head()"
   ]
  },
  {
   "cell_type": "markdown",
   "metadata": {},
   "source": [
    "#### Train data"
   ]
  },
  {
   "cell_type": "code",
   "execution_count": 308,
   "metadata": {},
   "outputs": [],
   "source": [
    "data = train_feature.drop(['PassengerId','Name','Ticket', 'Cabin','non_survived'], axis = 1)"
   ]
  },
  {
   "cell_type": "code",
   "execution_count": 309,
   "metadata": {},
   "outputs": [
    {
     "data": {
      "text/html": [
       "<div>\n",
       "<style scoped>\n",
       "    .dataframe tbody tr th:only-of-type {\n",
       "        vertical-align: middle;\n",
       "    }\n",
       "\n",
       "    .dataframe tbody tr th {\n",
       "        vertical-align: top;\n",
       "    }\n",
       "\n",
       "    .dataframe thead th {\n",
       "        text-align: right;\n",
       "    }\n",
       "</style>\n",
       "<table border=\"1\" class=\"dataframe\">\n",
       "  <thead>\n",
       "    <tr style=\"text-align: right;\">\n",
       "      <th></th>\n",
       "      <th>Survived</th>\n",
       "      <th>Pclass</th>\n",
       "      <th>Sex</th>\n",
       "      <th>Age</th>\n",
       "      <th>Embarked</th>\n",
       "      <th>title</th>\n",
       "      <th>Family</th>\n",
       "      <th>Fare_data</th>\n",
       "    </tr>\n",
       "  </thead>\n",
       "  <tbody>\n",
       "    <tr>\n",
       "      <th>0</th>\n",
       "      <td>0.0</td>\n",
       "      <td>3</td>\n",
       "      <td>0</td>\n",
       "      <td>22.0</td>\n",
       "      <td>0</td>\n",
       "      <td>0</td>\n",
       "      <td>1</td>\n",
       "      <td>0</td>\n",
       "    </tr>\n",
       "    <tr>\n",
       "      <th>1</th>\n",
       "      <td>1.0</td>\n",
       "      <td>1</td>\n",
       "      <td>1</td>\n",
       "      <td>38.0</td>\n",
       "      <td>1</td>\n",
       "      <td>1</td>\n",
       "      <td>1</td>\n",
       "      <td>3</td>\n",
       "    </tr>\n",
       "    <tr>\n",
       "      <th>2</th>\n",
       "      <td>1.0</td>\n",
       "      <td>3</td>\n",
       "      <td>1</td>\n",
       "      <td>26.0</td>\n",
       "      <td>0</td>\n",
       "      <td>2</td>\n",
       "      <td>0</td>\n",
       "      <td>1</td>\n",
       "    </tr>\n",
       "    <tr>\n",
       "      <th>3</th>\n",
       "      <td>1.0</td>\n",
       "      <td>1</td>\n",
       "      <td>1</td>\n",
       "      <td>35.0</td>\n",
       "      <td>0</td>\n",
       "      <td>1</td>\n",
       "      <td>1</td>\n",
       "      <td>3</td>\n",
       "    </tr>\n",
       "    <tr>\n",
       "      <th>4</th>\n",
       "      <td>0.0</td>\n",
       "      <td>3</td>\n",
       "      <td>0</td>\n",
       "      <td>35.0</td>\n",
       "      <td>0</td>\n",
       "      <td>0</td>\n",
       "      <td>0</td>\n",
       "      <td>1</td>\n",
       "    </tr>\n",
       "  </tbody>\n",
       "</table>\n",
       "</div>"
      ],
      "text/plain": [
       "   Survived  Pclass  Sex   Age  Embarked  title  Family  Fare_data\n",
       "0       0.0       3    0  22.0         0      0       1          0\n",
       "1       1.0       1    1  38.0         1      1       1          3\n",
       "2       1.0       3    1  26.0         0      2       0          1\n",
       "3       1.0       1    1  35.0         0      1       1          3\n",
       "4       0.0       3    0  35.0         0      0       0          1"
      ]
     },
     "execution_count": 309,
     "metadata": {},
     "output_type": "execute_result"
    }
   ],
   "source": [
    "data.head()"
   ]
  },
  {
   "cell_type": "code",
   "execution_count": 310,
   "metadata": {},
   "outputs": [],
   "source": [
    "y = data['Survived']\n",
    "X = data.drop(['Survived'], axis =1)"
   ]
  },
  {
   "cell_type": "code",
   "execution_count": 311,
   "metadata": {},
   "outputs": [
    {
     "data": {
      "text/plain": [
       "((891, 7), (891,))"
      ]
     },
     "execution_count": 311,
     "metadata": {},
     "output_type": "execute_result"
    }
   ],
   "source": [
    "X.shape, y.shape"
   ]
  },
  {
   "cell_type": "code",
   "execution_count": 312,
   "metadata": {},
   "outputs": [
    {
     "data": {
      "text/html": [
       "<div>\n",
       "<style scoped>\n",
       "    .dataframe tbody tr th:only-of-type {\n",
       "        vertical-align: middle;\n",
       "    }\n",
       "\n",
       "    .dataframe tbody tr th {\n",
       "        vertical-align: top;\n",
       "    }\n",
       "\n",
       "    .dataframe thead th {\n",
       "        text-align: right;\n",
       "    }\n",
       "</style>\n",
       "<table border=\"1\" class=\"dataframe\">\n",
       "  <thead>\n",
       "    <tr style=\"text-align: right;\">\n",
       "      <th></th>\n",
       "      <th>Pclass</th>\n",
       "      <th>Sex</th>\n",
       "      <th>Age</th>\n",
       "      <th>Embarked</th>\n",
       "      <th>title</th>\n",
       "      <th>Family</th>\n",
       "      <th>Fare_data</th>\n",
       "    </tr>\n",
       "  </thead>\n",
       "  <tbody>\n",
       "    <tr>\n",
       "      <th>0</th>\n",
       "      <td>3</td>\n",
       "      <td>0</td>\n",
       "      <td>22.0</td>\n",
       "      <td>0</td>\n",
       "      <td>0</td>\n",
       "      <td>1</td>\n",
       "      <td>0</td>\n",
       "    </tr>\n",
       "    <tr>\n",
       "      <th>1</th>\n",
       "      <td>1</td>\n",
       "      <td>1</td>\n",
       "      <td>38.0</td>\n",
       "      <td>1</td>\n",
       "      <td>1</td>\n",
       "      <td>1</td>\n",
       "      <td>3</td>\n",
       "    </tr>\n",
       "    <tr>\n",
       "      <th>2</th>\n",
       "      <td>3</td>\n",
       "      <td>1</td>\n",
       "      <td>26.0</td>\n",
       "      <td>0</td>\n",
       "      <td>2</td>\n",
       "      <td>0</td>\n",
       "      <td>1</td>\n",
       "    </tr>\n",
       "    <tr>\n",
       "      <th>3</th>\n",
       "      <td>1</td>\n",
       "      <td>1</td>\n",
       "      <td>35.0</td>\n",
       "      <td>0</td>\n",
       "      <td>1</td>\n",
       "      <td>1</td>\n",
       "      <td>3</td>\n",
       "    </tr>\n",
       "    <tr>\n",
       "      <th>4</th>\n",
       "      <td>3</td>\n",
       "      <td>0</td>\n",
       "      <td>35.0</td>\n",
       "      <td>0</td>\n",
       "      <td>0</td>\n",
       "      <td>0</td>\n",
       "      <td>1</td>\n",
       "    </tr>\n",
       "  </tbody>\n",
       "</table>\n",
       "</div>"
      ],
      "text/plain": [
       "   Pclass  Sex   Age  Embarked  title  Family  Fare_data\n",
       "0       3    0  22.0         0      0       1          0\n",
       "1       1    1  38.0         1      1       1          3\n",
       "2       3    1  26.0         0      2       0          1\n",
       "3       1    1  35.0         0      1       1          3\n",
       "4       3    0  35.0         0      0       0          1"
      ]
     },
     "execution_count": 312,
     "metadata": {},
     "output_type": "execute_result"
    }
   ],
   "source": [
    "X.head()"
   ]
  },
  {
   "cell_type": "code",
   "execution_count": 313,
   "metadata": {},
   "outputs": [
    {
     "data": {
      "text/plain": [
       "0    0.0\n",
       "1    1.0\n",
       "2    1.0\n",
       "3    1.0\n",
       "4    0.0\n",
       "Name: Survived, dtype: float64"
      ]
     },
     "execution_count": 313,
     "metadata": {},
     "output_type": "execute_result"
    }
   ],
   "source": [
    "y.head()"
   ]
  },
  {
   "cell_type": "markdown",
   "metadata": {},
   "source": [
    "#### Test data"
   ]
  },
  {
   "cell_type": "code",
   "execution_count": 314,
   "metadata": {},
   "outputs": [],
   "source": [
    "test_data = test_feature.drop(['PassengerId','Name','Ticket','Survived', 'Cabin','non_survived'], axis = 1)"
   ]
  },
  {
   "cell_type": "code",
   "execution_count": 315,
   "metadata": {},
   "outputs": [
    {
     "data": {
      "text/plain": [
       "(418, 7)"
      ]
     },
     "execution_count": 315,
     "metadata": {},
     "output_type": "execute_result"
    }
   ],
   "source": [
    "test_data.shape"
   ]
  },
  {
   "cell_type": "code",
   "execution_count": 316,
   "metadata": {},
   "outputs": [
    {
     "data": {
      "text/html": [
       "<div>\n",
       "<style scoped>\n",
       "    .dataframe tbody tr th:only-of-type {\n",
       "        vertical-align: middle;\n",
       "    }\n",
       "\n",
       "    .dataframe tbody tr th {\n",
       "        vertical-align: top;\n",
       "    }\n",
       "\n",
       "    .dataframe thead th {\n",
       "        text-align: right;\n",
       "    }\n",
       "</style>\n",
       "<table border=\"1\" class=\"dataframe\">\n",
       "  <thead>\n",
       "    <tr style=\"text-align: right;\">\n",
       "      <th></th>\n",
       "      <th>Pclass</th>\n",
       "      <th>Sex</th>\n",
       "      <th>Age</th>\n",
       "      <th>Embarked</th>\n",
       "      <th>title</th>\n",
       "      <th>Family</th>\n",
       "      <th>Fare_data</th>\n",
       "    </tr>\n",
       "  </thead>\n",
       "  <tbody>\n",
       "    <tr>\n",
       "      <th>0</th>\n",
       "      <td>3</td>\n",
       "      <td>0</td>\n",
       "      <td>34.5</td>\n",
       "      <td>2</td>\n",
       "      <td>0</td>\n",
       "      <td>1</td>\n",
       "      <td>0</td>\n",
       "    </tr>\n",
       "    <tr>\n",
       "      <th>1</th>\n",
       "      <td>3</td>\n",
       "      <td>1</td>\n",
       "      <td>47.0</td>\n",
       "      <td>0</td>\n",
       "      <td>1</td>\n",
       "      <td>1</td>\n",
       "      <td>3</td>\n",
       "    </tr>\n",
       "    <tr>\n",
       "      <th>2</th>\n",
       "      <td>2</td>\n",
       "      <td>0</td>\n",
       "      <td>62.0</td>\n",
       "      <td>2</td>\n",
       "      <td>0</td>\n",
       "      <td>0</td>\n",
       "      <td>1</td>\n",
       "    </tr>\n",
       "    <tr>\n",
       "      <th>3</th>\n",
       "      <td>3</td>\n",
       "      <td>0</td>\n",
       "      <td>27.0</td>\n",
       "      <td>0</td>\n",
       "      <td>0</td>\n",
       "      <td>1</td>\n",
       "      <td>3</td>\n",
       "    </tr>\n",
       "    <tr>\n",
       "      <th>4</th>\n",
       "      <td>3</td>\n",
       "      <td>1</td>\n",
       "      <td>22.0</td>\n",
       "      <td>0</td>\n",
       "      <td>1</td>\n",
       "      <td>0</td>\n",
       "      <td>1</td>\n",
       "    </tr>\n",
       "  </tbody>\n",
       "</table>\n",
       "</div>"
      ],
      "text/plain": [
       "   Pclass  Sex   Age  Embarked  title  Family  Fare_data\n",
       "0       3    0  34.5         2      0       1          0\n",
       "1       3    1  47.0         0      1       1          3\n",
       "2       2    0  62.0         2      0       0          1\n",
       "3       3    0  27.0         0      0       1          3\n",
       "4       3    1  22.0         0      1       0          1"
      ]
     },
     "execution_count": 316,
     "metadata": {},
     "output_type": "execute_result"
    }
   ],
   "source": [
    "test_data.head()"
   ]
  },
  {
   "cell_type": "markdown",
   "metadata": {},
   "source": [
    "# Modeling "
   ]
  },
  {
   "cell_type": "code",
   "execution_count": 317,
   "metadata": {},
   "outputs": [],
   "source": [
    "from sklearn.svm import SVC\n",
    "from sklearn.model_selection import train_test_split"
   ]
  },
  {
   "cell_type": "code",
   "execution_count": 318,
   "metadata": {},
   "outputs": [],
   "source": [
    "X_train, X_test, y_train, y_test = train_test_split(X,y, test_size = 0.1,random_state=4)"
   ]
  },
  {
   "cell_type": "code",
   "execution_count": 319,
   "metadata": {},
   "outputs": [
    {
     "data": {
      "text/plain": [
       "((801, 7), (90, 7), (801,), (90,))"
      ]
     },
     "execution_count": 319,
     "metadata": {},
     "output_type": "execute_result"
    }
   ],
   "source": [
    "X_train.shape, X_test.shape, y_train.shape, y_test.shape,"
   ]
  },
  {
   "cell_type": "markdown",
   "metadata": {},
   "source": [
    "### SVM "
   ]
  },
  {
   "cell_type": "code",
   "execution_count": 320,
   "metadata": {},
   "outputs": [
    {
     "name": "stderr",
     "output_type": "stream",
     "text": [
      "C:\\Users\\04rit\\Anaconda3\\lib\\site-packages\\sklearn\\svm\\base.py:193: FutureWarning: The default value of gamma will change from 'auto' to 'scale' in version 0.22 to account better for unscaled features. Set gamma explicitly to 'auto' or 'scale' to avoid this warning.\n",
      "  \"avoid this warning.\", FutureWarning)\n"
     ]
    },
    {
     "data": {
      "text/plain": [
       "array([0., 0., 1., 1., 0., 0., 1., 1., 0., 0., 0., 0., 1., 0., 1., 0., 0.,\n",
       "       0., 0., 1., 0., 0., 0., 0., 1., 1., 1., 1., 0., 0., 0., 0., 0., 0.,\n",
       "       0., 0., 0., 0., 0., 0., 1., 0., 1., 0., 0., 0., 0., 1., 0., 0., 0.,\n",
       "       0., 1., 0., 0., 1., 0., 0., 0., 1., 0., 0., 0., 0., 0., 1., 1., 1.,\n",
       "       0., 0., 0., 0., 0., 0., 1., 0., 0., 0., 0., 0., 0., 1., 0., 0., 1.,\n",
       "       0., 0., 0., 1., 1.])"
      ]
     },
     "execution_count": 320,
     "metadata": {},
     "output_type": "execute_result"
    }
   ],
   "source": [
    "svm_clf = SVC(kernel='rbf')\n",
    "svm_clf.fit(X_train, y_train)\n",
    "y_pred_svm= svm_clf.predict(X_test)\n",
    "y_pred_svm"
   ]
  },
  {
   "cell_type": "code",
   "execution_count": 321,
   "metadata": {},
   "outputs": [
    {
     "name": "stdout",
     "output_type": "stream",
     "text": [
      "0.8888888888888888\n"
     ]
    }
   ],
   "source": [
    "acc_svc = svm_clf.score(X_test, y_test) \n",
    "print (acc_svc)"
   ]
  },
  {
   "cell_type": "code",
   "execution_count": 322,
   "metadata": {},
   "outputs": [
    {
     "name": "stdout",
     "output_type": "stream",
     "text": [
      "Accuracy: 0.8888888888888888\n"
     ]
    }
   ],
   "source": [
    "from sklearn.metrics import accuracy_score\n",
    "Accuracy_svm = accuracy_score(y_test,y_pred_svm)\n",
    "print(\"Accuracy:\", Accuracy_svm)"
   ]
  },
  {
   "cell_type": "markdown",
   "metadata": {},
   "source": [
    "## Neural network "
   ]
  },
  {
   "cell_type": "code",
   "execution_count": 323,
   "metadata": {},
   "outputs": [],
   "source": [
    "import tensorflow as tf"
   ]
  },
  {
   "cell_type": "code",
   "execution_count": 324,
   "metadata": {},
   "outputs": [],
   "source": [
    "from keras.models import Sequential\n",
    "from keras.layers import Dense\n",
    "from keras import optimizers\n",
    "from keras import regularizers"
   ]
  },
  {
   "cell_type": "code",
   "execution_count": 325,
   "metadata": {},
   "outputs": [],
   "source": [
    "classifier = Sequential()\n",
    "#First hidden layer\n",
    "classifier.add(Dense(8, activation='relu', kernel_initializer='uniform', input_dim=7))\n",
    "#second hidden layer\n",
    "classifier.add(Dense(8, activation='relu', kernel_initializer='random_normal'))\n",
    "#Output Layer/ third layer\n",
    "classifier.add(Dense(1, activation='sigmoid', kernel_initializer='random_normal'))"
   ]
  },
  {
   "cell_type": "code",
   "execution_count": 326,
   "metadata": {},
   "outputs": [],
   "source": [
    "#Compiling the neural network\n",
    "classifier.compile(optimizer ='adam',loss='binary_crossentropy', metrics =['accuracy'])"
   ]
  },
  {
   "cell_type": "code",
   "execution_count": 327,
   "metadata": {},
   "outputs": [
    {
     "name": "stdout",
     "output_type": "stream",
     "text": [
      "Epoch 1/300\n",
      "801/801 [==============================] - 1s 1ms/step - loss: 0.6864 - acc: 0.6067\n",
      "Epoch 2/300\n",
      "801/801 [==============================] - 0s 175us/step - loss: 0.6710 - acc: 0.6067\n",
      "Epoch 3/300\n",
      "801/801 [==============================] - 0s 154us/step - loss: 0.6600 - acc: 0.6067\n",
      "Epoch 4/300\n",
      "801/801 [==============================] - 0s 160us/step - loss: 0.6537 - acc: 0.6067\n",
      "Epoch 5/300\n",
      "801/801 [==============================] - 0s 180us/step - loss: 0.6469 - acc: 0.6067\n",
      "Epoch 6/300\n",
      "801/801 [==============================] - 0s 177us/step - loss: 0.6355 - acc: 0.6067\n",
      "Epoch 7/300\n",
      "801/801 [==============================] - 0s 170us/step - loss: 0.6204 - acc: 0.6067\n",
      "Epoch 8/300\n",
      "801/801 [==============================] - 0s 165us/step - loss: 0.6034 - acc: 0.6067\n",
      "Epoch 9/300\n",
      "801/801 [==============================] - 0s 190us/step - loss: 0.5866 - acc: 0.6067\n",
      "Epoch 10/300\n",
      "801/801 [==============================] - 0s 194us/step - loss: 0.5742 - acc: 0.6579\n",
      "Epoch 11/300\n",
      "801/801 [==============================] - 0s 175us/step - loss: 0.5629 - acc: 0.7241\n",
      "Epoch 12/300\n",
      "801/801 [==============================] - 0s 194us/step - loss: 0.5540 - acc: 0.7378\n",
      "Epoch 13/300\n",
      "801/801 [==============================] - 0s 220us/step - loss: 0.5463 - acc: 0.7503\n",
      "Epoch 14/300\n",
      "801/801 [==============================] - 0s 180us/step - loss: 0.5398 - acc: 0.7615\n",
      "Epoch 15/300\n",
      "801/801 [==============================] - 0s 163us/step - loss: 0.5350 - acc: 0.7653\n",
      "Epoch 16/300\n",
      "801/801 [==============================] - 0s 210us/step - loss: 0.5296 - acc: 0.7690\n",
      "Epoch 17/300\n",
      "801/801 [==============================] - 0s 175us/step - loss: 0.5260 - acc: 0.7740\n",
      "Epoch 18/300\n",
      "801/801 [==============================] - 0s 187us/step - loss: 0.5252 - acc: 0.7740\n",
      "Epoch 19/300\n",
      "801/801 [==============================] - 0s 178us/step - loss: 0.5234 - acc: 0.7728\n",
      "Epoch 20/300\n",
      "801/801 [==============================] - 0s 185us/step - loss: 0.5194 - acc: 0.7753\n",
      "Epoch 21/300\n",
      "801/801 [==============================] - 0s 179us/step - loss: 0.5176 - acc: 0.7703\n",
      "Epoch 22/300\n",
      "801/801 [==============================] - 0s 195us/step - loss: 0.5155 - acc: 0.7765\n",
      "Epoch 23/300\n",
      "801/801 [==============================] - 0s 160us/step - loss: 0.5155 - acc: 0.7790\n",
      "Epoch 24/300\n",
      "801/801 [==============================] - 0s 180us/step - loss: 0.5121 - acc: 0.7728\n",
      "Epoch 25/300\n",
      "801/801 [==============================] - 0s 190us/step - loss: 0.5108 - acc: 0.7753\n",
      "Epoch 26/300\n",
      "801/801 [==============================] - 0s 185us/step - loss: 0.5100 - acc: 0.7778\n",
      "Epoch 27/300\n",
      "801/801 [==============================] - 0s 180us/step - loss: 0.5129 - acc: 0.7715\n",
      "Epoch 28/300\n",
      "801/801 [==============================] - 0s 165us/step - loss: 0.5091 - acc: 0.7765\n",
      "Epoch 29/300\n",
      "801/801 [==============================] - 0s 185us/step - loss: 0.5070 - acc: 0.7828\n",
      "Epoch 30/300\n",
      "801/801 [==============================] - 0s 144us/step - loss: 0.5054 - acc: 0.7815\n",
      "Epoch 31/300\n",
      "801/801 [==============================] - 0s 176us/step - loss: 0.5048 - acc: 0.7815\n",
      "Epoch 32/300\n",
      "801/801 [==============================] - 0s 175us/step - loss: 0.5037 - acc: 0.7840\n",
      "Epoch 33/300\n",
      "801/801 [==============================] - 0s 160us/step - loss: 0.5038 - acc: 0.7828\n",
      "Epoch 34/300\n",
      "801/801 [==============================] - 0s 190us/step - loss: 0.5028 - acc: 0.7815\n",
      "Epoch 35/300\n",
      "801/801 [==============================] - 0s 146us/step - loss: 0.5053 - acc: 0.7740\n",
      "Epoch 36/300\n",
      "801/801 [==============================] - 0s 163us/step - loss: 0.5023 - acc: 0.7790\n",
      "Epoch 37/300\n",
      "801/801 [==============================] - 0s 215us/step - loss: 0.5016 - acc: 0.7840\n",
      "Epoch 38/300\n",
      "801/801 [==============================] - 0s 180us/step - loss: 0.5013 - acc: 0.7828\n",
      "Epoch 39/300\n",
      "801/801 [==============================] - 0s 175us/step - loss: 0.4994 - acc: 0.7828\n",
      "Epoch 40/300\n",
      "801/801 [==============================] - 0s 205us/step - loss: 0.4992 - acc: 0.7865\n",
      "Epoch 41/300\n",
      "801/801 [==============================] - 0s 185us/step - loss: 0.4998 - acc: 0.7815\n",
      "Epoch 42/300\n",
      "801/801 [==============================] - 0s 180us/step - loss: 0.4982 - acc: 0.7828\n",
      "Epoch 43/300\n",
      "801/801 [==============================] - 0s 180us/step - loss: 0.4984 - acc: 0.7853\n",
      "Epoch 44/300\n",
      "801/801 [==============================] - 0s 215us/step - loss: 0.4974 - acc: 0.7853\n",
      "Epoch 45/300\n",
      "801/801 [==============================] - 0s 195us/step - loss: 0.4976 - acc: 0.7853\n",
      "Epoch 46/300\n",
      "801/801 [==============================] - 0s 175us/step - loss: 0.4986 - acc: 0.7815\n",
      "Epoch 47/300\n",
      "801/801 [==============================] - 0s 170us/step - loss: 0.4977 - acc: 0.7828\n",
      "Epoch 48/300\n",
      "801/801 [==============================] - 0s 344us/step - loss: 0.4965 - acc: 0.7828\n",
      "Epoch 49/300\n",
      "801/801 [==============================] - 0s 275us/step - loss: 0.4956 - acc: 0.7840\n",
      "Epoch 50/300\n",
      "801/801 [==============================] - 0s 195us/step - loss: 0.4926 - acc: 0.7815\n",
      "Epoch 51/300\n",
      "801/801 [==============================] - 0s 255us/step - loss: 0.4903 - acc: 0.7840\n",
      "Epoch 52/300\n",
      "801/801 [==============================] - 0s 205us/step - loss: 0.4890 - acc: 0.7853\n",
      "Epoch 53/300\n",
      "801/801 [==============================] - 0s 215us/step - loss: 0.4874 - acc: 0.7928\n",
      "Epoch 54/300\n",
      "801/801 [==============================] - 0s 220us/step - loss: 0.4868 - acc: 0.7865\n",
      "Epoch 55/300\n",
      "801/801 [==============================] - 0s 159us/step - loss: 0.4852 - acc: 0.7790\n",
      "Epoch 56/300\n",
      "801/801 [==============================] - 0s 159us/step - loss: 0.4853 - acc: 0.7778\n",
      "Epoch 57/300\n",
      "801/801 [==============================] - 0s 164us/step - loss: 0.4837 - acc: 0.7778\n",
      "Epoch 58/300\n",
      "801/801 [==============================] - 0s 169us/step - loss: 0.4826 - acc: 0.7828\n",
      "Epoch 59/300\n",
      "801/801 [==============================] - 0s 149us/step - loss: 0.4827 - acc: 0.7778\n",
      "Epoch 60/300\n",
      "801/801 [==============================] - 0s 158us/step - loss: 0.4853 - acc: 0.7853\n",
      "Epoch 61/300\n",
      "801/801 [==============================] - 0s 175us/step - loss: 0.4781 - acc: 0.7878\n",
      "Epoch 62/300\n",
      "801/801 [==============================] - 0s 179us/step - loss: 0.4832 - acc: 0.7853\n",
      "Epoch 63/300\n",
      "801/801 [==============================] - 0s 169us/step - loss: 0.4817 - acc: 0.7840\n",
      "Epoch 64/300\n",
      "801/801 [==============================] - 0s 149us/step - loss: 0.4844 - acc: 0.7728\n",
      "Epoch 65/300\n",
      "801/801 [==============================] - 0s 163us/step - loss: 0.4787 - acc: 0.7853\n",
      "Epoch 66/300\n",
      "801/801 [==============================] - 0s 173us/step - loss: 0.4794 - acc: 0.7840\n",
      "Epoch 67/300\n",
      "801/801 [==============================] - 0s 154us/step - loss: 0.4800 - acc: 0.7840\n",
      "Epoch 68/300\n",
      "801/801 [==============================] - 0s 149us/step - loss: 0.4787 - acc: 0.7840\n",
      "Epoch 69/300\n",
      "801/801 [==============================] - 0s 185us/step - loss: 0.4790 - acc: 0.7790\n",
      "Epoch 70/300\n",
      "801/801 [==============================] - 0s 160us/step - loss: 0.4796 - acc: 0.7878\n",
      "Epoch 71/300\n",
      "801/801 [==============================] - 0s 160us/step - loss: 0.4787 - acc: 0.7778\n",
      "Epoch 72/300\n",
      "801/801 [==============================] - 0s 160us/step - loss: 0.4784 - acc: 0.7803\n",
      "Epoch 73/300\n",
      "801/801 [==============================] - 0s 160us/step - loss: 0.4781 - acc: 0.7840\n",
      "Epoch 74/300\n",
      "801/801 [==============================] - 0s 155us/step - loss: 0.4778 - acc: 0.7840\n",
      "Epoch 75/300\n",
      "801/801 [==============================] - 0s 154us/step - loss: 0.4757 - acc: 0.7853\n",
      "Epoch 76/300\n",
      "801/801 [==============================] - 0s 169us/step - loss: 0.4758 - acc: 0.7765\n",
      "Epoch 77/300\n",
      "801/801 [==============================] - 0s 159us/step - loss: 0.4745 - acc: 0.7803\n",
      "Epoch 78/300\n",
      "801/801 [==============================] - 0s 182us/step - loss: 0.4744 - acc: 0.7815\n",
      "Epoch 79/300\n",
      "801/801 [==============================] - 0s 159us/step - loss: 0.4731 - acc: 0.7790\n",
      "Epoch 80/300\n",
      "801/801 [==============================] - 0s 158us/step - loss: 0.4722 - acc: 0.7903\n",
      "Epoch 81/300\n",
      "801/801 [==============================] - 0s 168us/step - loss: 0.4752 - acc: 0.7828\n",
      "Epoch 82/300\n",
      "801/801 [==============================] - 0s 159us/step - loss: 0.4738 - acc: 0.7915\n",
      "Epoch 83/300\n"
     ]
    },
    {
     "name": "stdout",
     "output_type": "stream",
     "text": [
      "801/801 [==============================] - 0s 153us/step - loss: 0.4730 - acc: 0.7803\n",
      "Epoch 84/300\n",
      "801/801 [==============================] - 0s 153us/step - loss: 0.4737 - acc: 0.7890\n",
      "Epoch 85/300\n",
      "801/801 [==============================] - 0s 145us/step - loss: 0.4713 - acc: 0.7815\n",
      "Epoch 86/300\n",
      "801/801 [==============================] - 0s 209us/step - loss: 0.4706 - acc: 0.7790\n",
      "Epoch 87/300\n",
      "801/801 [==============================] - 0s 218us/step - loss: 0.4713 - acc: 0.7828\n",
      "Epoch 88/300\n",
      "801/801 [==============================] - 0s 199us/step - loss: 0.4695 - acc: 0.7840\n",
      "Epoch 89/300\n",
      "801/801 [==============================] - 0s 229us/step - loss: 0.4664 - acc: 0.7940\n",
      "Epoch 90/300\n",
      "801/801 [==============================] - 0s 220us/step - loss: 0.4697 - acc: 0.7790\n",
      "Epoch 91/300\n",
      "801/801 [==============================] - 0s 225us/step - loss: 0.4680 - acc: 0.7853\n",
      "Epoch 92/300\n",
      "801/801 [==============================] - 0s 235us/step - loss: 0.4674 - acc: 0.7840\n",
      "Epoch 93/300\n",
      "801/801 [==============================] - 0s 225us/step - loss: 0.4657 - acc: 0.7878\n",
      "Epoch 94/300\n",
      "801/801 [==============================] - 0s 220us/step - loss: 0.4652 - acc: 0.7865\n",
      "Epoch 95/300\n",
      "801/801 [==============================] - 0s 220us/step - loss: 0.4661 - acc: 0.7853\n",
      "Epoch 96/300\n",
      "801/801 [==============================] - 0s 320us/step - loss: 0.4633 - acc: 0.7840 0s - loss: 0.4777 - acc: 0.7\n",
      "Epoch 97/300\n",
      "801/801 [==============================] - 0s 315us/step - loss: 0.4656 - acc: 0.7878\n",
      "Epoch 98/300\n",
      "801/801 [==============================] - 0s 305us/step - loss: 0.4648 - acc: 0.7928\n",
      "Epoch 99/300\n",
      "801/801 [==============================] - 0s 275us/step - loss: 0.4628 - acc: 0.7915\n",
      "Epoch 100/300\n",
      "801/801 [==============================] - 0s 215us/step - loss: 0.4638 - acc: 0.7803\n",
      "Epoch 101/300\n",
      "801/801 [==============================] - 0s 235us/step - loss: 0.4630 - acc: 0.7903\n",
      "Epoch 102/300\n",
      "801/801 [==============================] - 0s 190us/step - loss: 0.4641 - acc: 0.7878\n",
      "Epoch 103/300\n",
      "801/801 [==============================] - 0s 250us/step - loss: 0.4611 - acc: 0.7865\n",
      "Epoch 104/300\n",
      "801/801 [==============================] - 0s 175us/step - loss: 0.4636 - acc: 0.7865\n",
      "Epoch 105/300\n",
      "801/801 [==============================] - 0s 180us/step - loss: 0.4620 - acc: 0.7915\n",
      "Epoch 106/300\n",
      "801/801 [==============================] - 0s 175us/step - loss: 0.4617 - acc: 0.7865\n",
      "Epoch 107/300\n",
      "801/801 [==============================] - 0s 200us/step - loss: 0.4609 - acc: 0.8002\n",
      "Epoch 108/300\n",
      "801/801 [==============================] - 0s 175us/step - loss: 0.4619 - acc: 0.7815\n",
      "Epoch 109/300\n",
      "801/801 [==============================] - 0s 198us/step - loss: 0.4599 - acc: 0.7865\n",
      "Epoch 110/300\n",
      "801/801 [==============================] - 0s 156us/step - loss: 0.4603 - acc: 0.7878\n",
      "Epoch 111/300\n",
      "801/801 [==============================] - 0s 156us/step - loss: 0.4609 - acc: 0.7903\n",
      "Epoch 112/300\n",
      "801/801 [==============================] - 0s 156us/step - loss: 0.4601 - acc: 0.7890\n",
      "Epoch 113/300\n",
      "801/801 [==============================] - 0s 168us/step - loss: 0.4617 - acc: 0.7865\n",
      "Epoch 114/300\n",
      "801/801 [==============================] - 0s 142us/step - loss: 0.4609 - acc: 0.7890\n",
      "Epoch 115/300\n",
      "801/801 [==============================] - 0s 176us/step - loss: 0.4597 - acc: 0.7890\n",
      "Epoch 116/300\n",
      "801/801 [==============================] - 0s 217us/step - loss: 0.4585 - acc: 0.7915\n",
      "Epoch 117/300\n",
      "801/801 [==============================] - 0s 241us/step - loss: 0.4614 - acc: 0.7840\n",
      "Epoch 118/300\n",
      "801/801 [==============================] - 0s 195us/step - loss: 0.4589 - acc: 0.7865\n",
      "Epoch 119/300\n",
      "801/801 [==============================] - 0s 235us/step - loss: 0.4587 - acc: 0.7840\n",
      "Epoch 120/300\n",
      "801/801 [==============================] - 0s 240us/step - loss: 0.4587 - acc: 0.7853\n",
      "Epoch 121/300\n",
      "801/801 [==============================] - 0s 189us/step - loss: 0.4576 - acc: 0.7903\n",
      "Epoch 122/300\n",
      "801/801 [==============================] - 0s 296us/step - loss: 0.4583 - acc: 0.7853\n",
      "Epoch 123/300\n",
      "801/801 [==============================] - 0s 201us/step - loss: 0.4582 - acc: 0.7990\n",
      "Epoch 124/300\n",
      "801/801 [==============================] - 0s 195us/step - loss: 0.4593 - acc: 0.7853\n",
      "Epoch 125/300\n",
      "801/801 [==============================] - 0s 200us/step - loss: 0.4598 - acc: 0.7928\n",
      "Epoch 126/300\n",
      "801/801 [==============================] - 0s 230us/step - loss: 0.4597 - acc: 0.7853\n",
      "Epoch 127/300\n",
      "801/801 [==============================] - 0s 175us/step - loss: 0.4571 - acc: 0.7878\n",
      "Epoch 128/300\n",
      "801/801 [==============================] - 0s 145us/step - loss: 0.4582 - acc: 0.7865\n",
      "Epoch 129/300\n",
      "801/801 [==============================] - 0s 154us/step - loss: 0.4594 - acc: 0.7865\n",
      "Epoch 130/300\n",
      "801/801 [==============================] - 0s 147us/step - loss: 0.4582 - acc: 0.7915\n",
      "Epoch 131/300\n",
      "801/801 [==============================] - 0s 137us/step - loss: 0.4566 - acc: 0.7815\n",
      "Epoch 132/300\n",
      "801/801 [==============================] - 0s 167us/step - loss: 0.4575 - acc: 0.7878\n",
      "Epoch 133/300\n",
      "801/801 [==============================] - 0s 146us/step - loss: 0.4567 - acc: 0.7853\n",
      "Epoch 134/300\n",
      "801/801 [==============================] - 0s 156us/step - loss: 0.4577 - acc: 0.7865\n",
      "Epoch 135/300\n",
      "801/801 [==============================] - 0s 156us/step - loss: 0.4581 - acc: 0.7928\n",
      "Epoch 136/300\n",
      "801/801 [==============================] - 0s 193us/step - loss: 0.4569 - acc: 0.7928\n",
      "Epoch 137/300\n",
      "801/801 [==============================] - 0s 215us/step - loss: 0.4589 - acc: 0.7903\n",
      "Epoch 138/300\n",
      "801/801 [==============================] - 0s 152us/step - loss: 0.4582 - acc: 0.7853\n",
      "Epoch 139/300\n",
      "801/801 [==============================] - 0s 180us/step - loss: 0.4567 - acc: 0.7878\n",
      "Epoch 140/300\n",
      "801/801 [==============================] - 0s 180us/step - loss: 0.4575 - acc: 0.7878\n",
      "Epoch 141/300\n",
      "801/801 [==============================] - 0s 175us/step - loss: 0.4564 - acc: 0.7878\n",
      "Epoch 142/300\n",
      "801/801 [==============================] - 0s 170us/step - loss: 0.4580 - acc: 0.7978\n",
      "Epoch 143/300\n",
      "801/801 [==============================] - 0s 171us/step - loss: 0.4557 - acc: 0.7828\n",
      "Epoch 144/300\n",
      "801/801 [==============================] - 0s 164us/step - loss: 0.4571 - acc: 0.7890\n",
      "Epoch 145/300\n",
      "801/801 [==============================] - 0s 156us/step - loss: 0.4567 - acc: 0.7890\n",
      "Epoch 146/300\n",
      "801/801 [==============================] - 0s 156us/step - loss: 0.4562 - acc: 0.7865\n",
      "Epoch 147/300\n",
      "801/801 [==============================] - 0s 170us/step - loss: 0.4556 - acc: 0.7915\n",
      "Epoch 148/300\n",
      "801/801 [==============================] - 0s 160us/step - loss: 0.4555 - acc: 0.7865\n",
      "Epoch 149/300\n",
      "801/801 [==============================] - 0s 158us/step - loss: 0.4545 - acc: 0.7953\n",
      "Epoch 150/300\n",
      "801/801 [==============================] - 0s 137us/step - loss: 0.4560 - acc: 0.7928\n",
      "Epoch 151/300\n",
      "801/801 [==============================] - 0s 177us/step - loss: 0.4557 - acc: 0.7915\n",
      "Epoch 152/300\n",
      "801/801 [==============================] - 0s 165us/step - loss: 0.4569 - acc: 0.7853\n",
      "Epoch 153/300\n",
      "801/801 [==============================] - 0s 285us/step - loss: 0.4554 - acc: 0.7890\n",
      "Epoch 154/300\n",
      "801/801 [==============================] - 0s 195us/step - loss: 0.4551 - acc: 0.7878\n",
      "Epoch 155/300\n",
      "801/801 [==============================] - 0s 175us/step - loss: 0.4559 - acc: 0.7828\n",
      "Epoch 156/300\n",
      "801/801 [==============================] - 0s 220us/step - loss: 0.4561 - acc: 0.8002\n",
      "Epoch 157/300\n",
      "801/801 [==============================] - 0s 270us/step - loss: 0.4574 - acc: 0.7840\n",
      "Epoch 158/300\n",
      "801/801 [==============================] - 0s 210us/step - loss: 0.4560 - acc: 0.7928\n",
      "Epoch 159/300\n",
      "801/801 [==============================] - 0s 220us/step - loss: 0.4550 - acc: 0.7865\n",
      "Epoch 160/300\n",
      "801/801 [==============================] - 0s 175us/step - loss: 0.4572 - acc: 0.7915\n",
      "Epoch 161/300\n",
      "801/801 [==============================] - 0s 160us/step - loss: 0.4539 - acc: 0.7865\n",
      "Epoch 162/300\n",
      "801/801 [==============================] - 0s 180us/step - loss: 0.4539 - acc: 0.7890\n",
      "Epoch 163/300\n",
      "801/801 [==============================] - 0s 170us/step - loss: 0.4557 - acc: 0.7840\n",
      "Epoch 164/300\n",
      "801/801 [==============================] - 0s 157us/step - loss: 0.4573 - acc: 0.7765\n"
     ]
    },
    {
     "name": "stdout",
     "output_type": "stream",
     "text": [
      "Epoch 165/300\n",
      "801/801 [==============================] - 0s 176us/step - loss: 0.4563 - acc: 0.7828\n",
      "Epoch 166/300\n",
      "801/801 [==============================] - 0s 195us/step - loss: 0.4576 - acc: 0.7915\n",
      "Epoch 167/300\n",
      "801/801 [==============================] - 0s 172us/step - loss: 0.4585 - acc: 0.7815\n",
      "Epoch 168/300\n",
      "801/801 [==============================] - 0s 176us/step - loss: 0.4536 - acc: 0.7840\n",
      "Epoch 169/300\n",
      "801/801 [==============================] - 0s 156us/step - loss: 0.4558 - acc: 0.7840\n",
      "Epoch 170/300\n",
      "801/801 [==============================] - 0s 177us/step - loss: 0.4545 - acc: 0.7878\n",
      "Epoch 171/300\n",
      "801/801 [==============================] - 0s 156us/step - loss: 0.4554 - acc: 0.7815\n",
      "Epoch 172/300\n",
      "801/801 [==============================] - 0s 176us/step - loss: 0.4551 - acc: 0.7840\n",
      "Epoch 173/300\n",
      "801/801 [==============================] - 0s 156us/step - loss: 0.4541 - acc: 0.7890\n",
      "Epoch 174/300\n",
      "801/801 [==============================] - 0s 169us/step - loss: 0.4540 - acc: 0.7840\n",
      "Epoch 175/300\n",
      "801/801 [==============================] - 0s 199us/step - loss: 0.4535 - acc: 0.7890\n",
      "Epoch 176/300\n",
      "801/801 [==============================] - 0s 156us/step - loss: 0.4560 - acc: 0.7828\n",
      "Epoch 177/300\n",
      "801/801 [==============================] - 0s 198us/step - loss: 0.4556 - acc: 0.7840\n",
      "Epoch 178/300\n",
      "801/801 [==============================] - 0s 148us/step - loss: 0.4545 - acc: 0.7890\n",
      "Epoch 179/300\n",
      "801/801 [==============================] - 0s 156us/step - loss: 0.4552 - acc: 0.7815\n",
      "Epoch 180/300\n",
      "801/801 [==============================] - 0s 156us/step - loss: 0.4561 - acc: 0.7803\n",
      "Epoch 181/300\n",
      "801/801 [==============================] - 0s 180us/step - loss: 0.4539 - acc: 0.7878\n",
      "Epoch 182/300\n",
      "801/801 [==============================] - 0s 152us/step - loss: 0.4542 - acc: 0.7865\n",
      "Epoch 183/300\n",
      "801/801 [==============================] - 0s 176us/step - loss: 0.4507 - acc: 0.7965\n",
      "Epoch 184/300\n",
      "801/801 [==============================] - 0s 204us/step - loss: 0.4615 - acc: 0.7790\n",
      "Epoch 185/300\n",
      "801/801 [==============================] - 0s 170us/step - loss: 0.4534 - acc: 0.7928\n",
      "Epoch 186/300\n",
      "801/801 [==============================] - 0s 175us/step - loss: 0.4553 - acc: 0.7940\n",
      "Epoch 187/300\n",
      "801/801 [==============================] - 0s 220us/step - loss: 0.4547 - acc: 0.7878\n",
      "Epoch 188/300\n",
      "801/801 [==============================] - 0s 210us/step - loss: 0.4546 - acc: 0.7803\n",
      "Epoch 189/300\n",
      "801/801 [==============================] - 0s 250us/step - loss: 0.4547 - acc: 0.7965\n",
      "Epoch 190/300\n",
      "801/801 [==============================] - 0s 220us/step - loss: 0.4532 - acc: 0.7853\n",
      "Epoch 191/300\n",
      "801/801 [==============================] - 0s 240us/step - loss: 0.4535 - acc: 0.7890\n",
      "Epoch 192/300\n",
      "801/801 [==============================] - 0s 180us/step - loss: 0.4556 - acc: 0.7865\n",
      "Epoch 193/300\n",
      "801/801 [==============================] - 0s 175us/step - loss: 0.4534 - acc: 0.7865\n",
      "Epoch 194/300\n",
      "801/801 [==============================] - 0s 220us/step - loss: 0.4541 - acc: 0.7878\n",
      "Epoch 195/300\n",
      "801/801 [==============================] - 0s 159us/step - loss: 0.4534 - acc: 0.7890\n",
      "Epoch 196/300\n",
      "801/801 [==============================] - 0s 164us/step - loss: 0.4518 - acc: 0.7878\n",
      "Epoch 197/300\n",
      "801/801 [==============================] - 0s 217us/step - loss: 0.4547 - acc: 0.7828\n",
      "Epoch 198/300\n",
      "801/801 [==============================] - 0s 195us/step - loss: 0.4550 - acc: 0.7915\n",
      "Epoch 199/300\n",
      "801/801 [==============================] - 0s 159us/step - loss: 0.4557 - acc: 0.7840\n",
      "Epoch 200/300\n",
      "801/801 [==============================] - 0s 205us/step - loss: 0.4544 - acc: 0.7878\n",
      "Epoch 201/300\n",
      "801/801 [==============================] - 0s 195us/step - loss: 0.4530 - acc: 0.7815\n",
      "Epoch 202/300\n",
      "801/801 [==============================] - 0s 144us/step - loss: 0.4526 - acc: 0.7828\n",
      "Epoch 203/300\n",
      "801/801 [==============================] - 0s 182us/step - loss: 0.4565 - acc: 0.7815\n",
      "Epoch 204/300\n",
      "801/801 [==============================] - 0s 173us/step - loss: 0.4560 - acc: 0.7840\n",
      "Epoch 205/300\n",
      "801/801 [==============================] - 0s 170us/step - loss: 0.4543 - acc: 0.7865\n",
      "Epoch 206/300\n",
      "801/801 [==============================] - 0s 132us/step - loss: 0.4535 - acc: 0.7878\n",
      "Epoch 207/300\n",
      "801/801 [==============================] - 0s 137us/step - loss: 0.4551 - acc: 0.7803\n",
      "Epoch 208/300\n",
      "801/801 [==============================] - 0s 160us/step - loss: 0.4533 - acc: 0.7878\n",
      "Epoch 209/300\n",
      "801/801 [==============================] - 0s 156us/step - loss: 0.4561 - acc: 0.7865\n",
      "Epoch 210/300\n",
      "801/801 [==============================] - ETA: 0s - loss: 0.4610 - acc: 0.774 - 0s 137us/step - loss: 0.4529 - acc: 0.7853\n",
      "Epoch 211/300\n",
      "801/801 [==============================] - 0s 185us/step - loss: 0.4549 - acc: 0.7828\n",
      "Epoch 212/300\n",
      "801/801 [==============================] - 0s 235us/step - loss: 0.4537 - acc: 0.7853\n",
      "Epoch 213/300\n",
      "801/801 [==============================] - 0s 174us/step - loss: 0.4566 - acc: 0.7903\n",
      "Epoch 214/300\n",
      "801/801 [==============================] - 0s 153us/step - loss: 0.4559 - acc: 0.7878\n",
      "Epoch 215/300\n",
      "801/801 [==============================] - 0s 171us/step - loss: 0.4524 - acc: 0.7865\n",
      "Epoch 216/300\n",
      "801/801 [==============================] - 0s 173us/step - loss: 0.4562 - acc: 0.7840\n",
      "Epoch 217/300\n",
      "801/801 [==============================] - 0s 205us/step - loss: 0.4536 - acc: 0.7853\n",
      "Epoch 218/300\n",
      "801/801 [==============================] - 0s 159us/step - loss: 0.4553 - acc: 0.7915\n",
      "Epoch 219/300\n",
      "801/801 [==============================] - 0s 220us/step - loss: 0.4567 - acc: 0.7853\n",
      "Epoch 220/300\n",
      "801/801 [==============================] - 0s 205us/step - loss: 0.4561 - acc: 0.7853\n",
      "Epoch 221/300\n",
      "801/801 [==============================] - 0s 175us/step - loss: 0.4532 - acc: 0.7853\n",
      "Epoch 222/300\n",
      "801/801 [==============================] - 0s 148us/step - loss: 0.4554 - acc: 0.7878\n",
      "Epoch 223/300\n",
      "801/801 [==============================] - 0s 153us/step - loss: 0.4540 - acc: 0.7865\n",
      "Epoch 224/300\n",
      "801/801 [==============================] - 0s 156us/step - loss: 0.4528 - acc: 0.7903\n",
      "Epoch 225/300\n",
      "801/801 [==============================] - 0s 156us/step - loss: 0.4542 - acc: 0.7840\n",
      "Epoch 226/300\n",
      "801/801 [==============================] - 0s 156us/step - loss: 0.4515 - acc: 0.7828\n",
      "Epoch 227/300\n",
      "801/801 [==============================] - 0s 156us/step - loss: 0.4546 - acc: 0.7815\n",
      "Epoch 228/300\n",
      "801/801 [==============================] - 0s 176us/step - loss: 0.4538 - acc: 0.7903\n",
      "Epoch 229/300\n",
      "801/801 [==============================] - 0s 206us/step - loss: 0.4544 - acc: 0.7878\n",
      "Epoch 230/300\n",
      "801/801 [==============================] - 0s 159us/step - loss: 0.4546 - acc: 0.7803\n",
      "Epoch 231/300\n",
      "801/801 [==============================] - 0s 184us/step - loss: 0.4546 - acc: 0.7940\n",
      "Epoch 232/300\n",
      "801/801 [==============================] - 0s 190us/step - loss: 0.4540 - acc: 0.7865\n",
      "Epoch 233/300\n",
      "801/801 [==============================] - 0s 170us/step - loss: 0.4552 - acc: 0.7940\n",
      "Epoch 234/300\n",
      "801/801 [==============================] - 0s 235us/step - loss: 0.4530 - acc: 0.7928\n",
      "Epoch 235/300\n",
      "801/801 [==============================] - 0s 168us/step - loss: 0.4543 - acc: 0.7890\n",
      "Epoch 236/300\n",
      "801/801 [==============================] - 0s 180us/step - loss: 0.4548 - acc: 0.7890\n",
      "Epoch 237/300\n",
      "801/801 [==============================] - 0s 160us/step - loss: 0.4533 - acc: 0.7903\n",
      "Epoch 238/300\n",
      "801/801 [==============================] - 0s 155us/step - loss: 0.4521 - acc: 0.7853\n",
      "Epoch 239/300\n",
      "801/801 [==============================] - 0s 180us/step - loss: 0.4566 - acc: 0.7965\n",
      "Epoch 240/300\n",
      "801/801 [==============================] - 0s 158us/step - loss: 0.4540 - acc: 0.7853\n",
      "Epoch 241/300\n",
      "801/801 [==============================] - 0s 156us/step - loss: 0.4533 - acc: 0.7915\n",
      "Epoch 242/300\n",
      "801/801 [==============================] - 0s 176us/step - loss: 0.4543 - acc: 0.7878\n",
      "Epoch 243/300\n",
      "801/801 [==============================] - 0s 149us/step - loss: 0.4537 - acc: 0.7953\n",
      "Epoch 244/300\n",
      "801/801 [==============================] - 0s 156us/step - loss: 0.4522 - acc: 0.7940\n",
      "Epoch 245/300\n",
      "801/801 [==============================] - 0s 156us/step - loss: 0.4548 - acc: 0.7915\n",
      "Epoch 246/300\n"
     ]
    },
    {
     "name": "stdout",
     "output_type": "stream",
     "text": [
      "801/801 [==============================] - 0s 156us/step - loss: 0.4547 - acc: 0.7865\n",
      "Epoch 247/300\n",
      "801/801 [==============================] - 0s 156us/step - loss: 0.4547 - acc: 0.7865\n",
      "Epoch 248/300\n",
      "801/801 [==============================] - 0s 137us/step - loss: 0.4519 - acc: 0.7865\n",
      "Epoch 249/300\n",
      "801/801 [==============================] - 0s 156us/step - loss: 0.4552 - acc: 0.7865\n",
      "Epoch 250/300\n",
      "801/801 [==============================] - 0s 176us/step - loss: 0.4536 - acc: 0.7865\n",
      "Epoch 251/300\n",
      "801/801 [==============================] - 0s 159us/step - loss: 0.4523 - acc: 0.7853\n",
      "Epoch 252/300\n",
      "801/801 [==============================] - 0s 155us/step - loss: 0.4546 - acc: 0.7853\n",
      "Epoch 253/300\n",
      "801/801 [==============================] - 0s 155us/step - loss: 0.4554 - acc: 0.7915\n",
      "Epoch 254/300\n",
      "801/801 [==============================] - 0s 150us/step - loss: 0.4504 - acc: 0.7915\n",
      "Epoch 255/300\n",
      "801/801 [==============================] - 0s 155us/step - loss: 0.4592 - acc: 0.7928\n",
      "Epoch 256/300\n",
      "801/801 [==============================] - 0s 144us/step - loss: 0.4565 - acc: 0.7865\n",
      "Epoch 257/300\n",
      "801/801 [==============================] - 0s 156us/step - loss: 0.4563 - acc: 0.7853\n",
      "Epoch 258/300\n",
      "801/801 [==============================] - 0s 156us/step - loss: 0.4520 - acc: 0.7915\n",
      "Epoch 259/300\n",
      "801/801 [==============================] - 0s 176us/step - loss: 0.4523 - acc: 0.7865\n",
      "Epoch 260/300\n",
      "801/801 [==============================] - 0s 156us/step - loss: 0.4539 - acc: 0.7790\n",
      "Epoch 261/300\n",
      "801/801 [==============================] - ETA: 0s - loss: 0.4550 - acc: 0.794 - 0s 137us/step - loss: 0.4531 - acc: 0.7878\n",
      "Epoch 262/300\n",
      "801/801 [==============================] - 0s 137us/step - loss: 0.4498 - acc: 0.7978\n",
      "Epoch 263/300\n",
      "801/801 [==============================] - 0s 137us/step - loss: 0.4590 - acc: 0.7840\n",
      "Epoch 264/300\n",
      "801/801 [==============================] - 0s 156us/step - loss: 0.4528 - acc: 0.7953\n",
      "Epoch 265/300\n",
      "801/801 [==============================] - 0s 156us/step - loss: 0.4534 - acc: 0.7903\n",
      "Epoch 266/300\n",
      "801/801 [==============================] - 0s 156us/step - loss: 0.4530 - acc: 0.7890\n",
      "Epoch 267/300\n",
      "801/801 [==============================] - 0s 173us/step - loss: 0.4531 - acc: 0.7878\n",
      "Epoch 268/300\n",
      "801/801 [==============================] - 0s 156us/step - loss: 0.4534 - acc: 0.7890\n",
      "Epoch 269/300\n",
      "801/801 [==============================] - 0s 156us/step - loss: 0.4533 - acc: 0.7890\n",
      "Epoch 270/300\n",
      "801/801 [==============================] - 0s 156us/step - loss: 0.4525 - acc: 0.7865\n",
      "Epoch 271/300\n",
      "801/801 [==============================] - 0s 137us/step - loss: 0.4531 - acc: 0.7890\n",
      "Epoch 272/300\n",
      "801/801 [==============================] - 0s 156us/step - loss: 0.4537 - acc: 0.7890\n",
      "Epoch 273/300\n",
      "801/801 [==============================] - 0s 179us/step - loss: 0.4533 - acc: 0.7815\n",
      "Epoch 274/300\n",
      "801/801 [==============================] - 0s 170us/step - loss: 0.4539 - acc: 0.7915\n",
      "Epoch 275/300\n",
      "801/801 [==============================] - 0s 230us/step - loss: 0.4526 - acc: 0.7903\n",
      "Epoch 276/300\n",
      "801/801 [==============================] - 0s 133us/step - loss: 0.4525 - acc: 0.7903\n",
      "Epoch 277/300\n",
      "801/801 [==============================] - 0s 168us/step - loss: 0.4536 - acc: 0.7840\n",
      "Epoch 278/300\n",
      "801/801 [==============================] - 0s 200us/step - loss: 0.4535 - acc: 0.7928\n",
      "Epoch 279/300\n",
      "801/801 [==============================] - 0s 154us/step - loss: 0.4545 - acc: 0.7815\n",
      "Epoch 280/300\n",
      "801/801 [==============================] - 0s 180us/step - loss: 0.4504 - acc: 0.8040\n",
      "Epoch 281/300\n",
      "801/801 [==============================] - 0s 200us/step - loss: 0.4565 - acc: 0.7828\n",
      "Epoch 282/300\n",
      "801/801 [==============================] - 0s 155us/step - loss: 0.4520 - acc: 0.7890\n",
      "Epoch 283/300\n",
      "801/801 [==============================] - 0s 156us/step - loss: 0.4535 - acc: 0.7953\n",
      "Epoch 284/300\n",
      "801/801 [==============================] - 0s 173us/step - loss: 0.4529 - acc: 0.7853\n",
      "Epoch 285/300\n",
      "801/801 [==============================] - 0s 167us/step - loss: 0.4542 - acc: 0.7953\n",
      "Epoch 286/300\n",
      "801/801 [==============================] - 0s 200us/step - loss: 0.4537 - acc: 0.7815\n",
      "Epoch 287/300\n",
      "801/801 [==============================] - 0s 200us/step - loss: 0.4529 - acc: 0.7878\n",
      "Epoch 288/300\n",
      "801/801 [==============================] - 0s 205us/step - loss: 0.4542 - acc: 0.7828\n",
      "Epoch 289/300\n",
      "801/801 [==============================] - 0s 229us/step - loss: 0.4539 - acc: 0.7853\n",
      "Epoch 290/300\n",
      "801/801 [==============================] - 0s 176us/step - loss: 0.4529 - acc: 0.7853\n",
      "Epoch 291/300\n",
      "801/801 [==============================] - 0s 163us/step - loss: 0.4507 - acc: 0.7840\n",
      "Epoch 292/300\n",
      "801/801 [==============================] - 0s 156us/step - loss: 0.4541 - acc: 0.7915\n",
      "Epoch 293/300\n",
      "801/801 [==============================] - 0s 156us/step - loss: 0.4541 - acc: 0.7890\n",
      "Epoch 294/300\n",
      "801/801 [==============================] - 0s 206us/step - loss: 0.4536 - acc: 0.7928\n",
      "Epoch 295/300\n",
      "801/801 [==============================] - 0s 156us/step - loss: 0.4543 - acc: 0.7840\n",
      "Epoch 296/300\n",
      "801/801 [==============================] - 0s 164us/step - loss: 0.4540 - acc: 0.7940\n",
      "Epoch 297/300\n",
      "801/801 [==============================] - 0s 156us/step - loss: 0.4554 - acc: 0.7815\n",
      "Epoch 298/300\n",
      "801/801 [==============================] - 0s 176us/step - loss: 0.4518 - acc: 0.7928\n",
      "Epoch 299/300\n",
      "801/801 [==============================] - 0s 137us/step - loss: 0.4544 - acc: 0.7853\n",
      "Epoch 300/300\n",
      "801/801 [==============================] - 0s 156us/step - loss: 0.4539 - acc: 0.7890\n"
     ]
    },
    {
     "data": {
      "text/plain": [
       "<keras.callbacks.History at 0x19fc38414e0>"
      ]
     },
     "execution_count": 327,
     "metadata": {},
     "output_type": "execute_result"
    }
   ],
   "source": [
    "classifier.fit(X_train, y_train, batch_size=10, epochs=300)"
   ]
  },
  {
   "cell_type": "code",
   "execution_count": 328,
   "metadata": {},
   "outputs": [
    {
     "name": "stdout",
     "output_type": "stream",
     "text": [
      "801/801 [==============================] - 0s 182us/step\n"
     ]
    },
    {
     "data": {
      "text/plain": [
       "[0.45129998383599423, 0.7852684144818977]"
      ]
     },
     "execution_count": 328,
     "metadata": {},
     "output_type": "execute_result"
    }
   ],
   "source": [
    "classifier.evaluate(X_train, y_train)"
   ]
  },
  {
   "cell_type": "code",
   "execution_count": 329,
   "metadata": {},
   "outputs": [],
   "source": [
    "y_pred= classifier.predict(X_test)\n",
    "y_pred_NN = (y_pred>0.5).astype(int).reshape(X_test.shape[0])"
   ]
  },
  {
   "cell_type": "code",
   "execution_count": 330,
   "metadata": {},
   "outputs": [
    {
     "data": {
      "text/plain": [
       "array([0, 0, 1, 1, 0, 1, 1, 1, 0, 0, 0, 0, 1, 0, 1, 0, 0, 1, 0, 1, 0, 0,\n",
       "       0, 0, 1, 1, 1, 1, 0, 0, 0, 0, 0, 0, 0, 0, 0, 0, 0, 0, 1, 0, 1, 0,\n",
       "       0, 0, 0, 1, 0, 0, 0, 0, 1, 0, 0, 1, 0, 0, 0, 1, 0, 0, 0, 0, 0, 1,\n",
       "       1, 0, 0, 0, 1, 0, 0, 0, 0, 0, 0, 0, 0, 0, 0, 0, 0, 0, 1, 0, 0, 0,\n",
       "       0, 1])"
      ]
     },
     "execution_count": 330,
     "metadata": {},
     "output_type": "execute_result"
    }
   ],
   "source": [
    "y_pred_NN"
   ]
  },
  {
   "cell_type": "code",
   "execution_count": 331,
   "metadata": {},
   "outputs": [
    {
     "data": {
      "text/html": [
       "<div>\n",
       "<style scoped>\n",
       "    .dataframe tbody tr th:only-of-type {\n",
       "        vertical-align: middle;\n",
       "    }\n",
       "\n",
       "    .dataframe tbody tr th {\n",
       "        vertical-align: top;\n",
       "    }\n",
       "\n",
       "    .dataframe thead th {\n",
       "        text-align: right;\n",
       "    }\n",
       "</style>\n",
       "<table border=\"1\" class=\"dataframe\">\n",
       "  <thead>\n",
       "    <tr style=\"text-align: right;\">\n",
       "      <th></th>\n",
       "      <th>Actual_survived</th>\n",
       "      <th>Predicted_survived</th>\n",
       "    </tr>\n",
       "  </thead>\n",
       "  <tbody>\n",
       "    <tr>\n",
       "      <th>646</th>\n",
       "      <td>0.0</td>\n",
       "      <td>0</td>\n",
       "    </tr>\n",
       "    <tr>\n",
       "      <th>876</th>\n",
       "      <td>0.0</td>\n",
       "      <td>0</td>\n",
       "    </tr>\n",
       "    <tr>\n",
       "      <th>359</th>\n",
       "      <td>1.0</td>\n",
       "      <td>1</td>\n",
       "    </tr>\n",
       "    <tr>\n",
       "      <th>194</th>\n",
       "      <td>1.0</td>\n",
       "      <td>1</td>\n",
       "    </tr>\n",
       "    <tr>\n",
       "      <th>819</th>\n",
       "      <td>0.0</td>\n",
       "      <td>0</td>\n",
       "    </tr>\n",
       "  </tbody>\n",
       "</table>\n",
       "</div>"
      ],
      "text/plain": [
       "     Actual_survived  Predicted_survived\n",
       "646              0.0                   0\n",
       "876              0.0                   0\n",
       "359              1.0                   1\n",
       "194              1.0                   1\n",
       "819              0.0                   0"
      ]
     },
     "execution_count": 331,
     "metadata": {},
     "output_type": "execute_result"
    }
   ],
   "source": [
    "pd.DataFrame({'Actual_survived': y_test, 'Predicted_survived':y_pred_NN }).head()"
   ]
  },
  {
   "cell_type": "code",
   "execution_count": 332,
   "metadata": {},
   "outputs": [
    {
     "name": "stdout",
     "output_type": "stream",
     "text": [
      "90/90 [==============================] - 0s 174us/step\n"
     ]
    },
    {
     "data": {
      "text/plain": [
       "[0.354386262761222, 0.8777777724795871]"
      ]
     },
     "execution_count": 332,
     "metadata": {},
     "output_type": "execute_result"
    }
   ],
   "source": [
    "classifier.evaluate(X_test, y_test)"
   ]
  },
  {
   "cell_type": "code",
   "execution_count": 333,
   "metadata": {},
   "outputs": [
    {
     "name": "stdout",
     "output_type": "stream",
     "text": [
      "Accuracy: 0.8777777777777778\n"
     ]
    }
   ],
   "source": [
    "from sklearn.metrics import accuracy_score\n",
    "Accuracy = accuracy_score(y_test,y_pred_NN)\n",
    "print(\"Accuracy:\", Accuracy)"
   ]
  },
  {
   "cell_type": "code",
   "execution_count": 334,
   "metadata": {},
   "outputs": [
    {
     "name": "stdout",
     "output_type": "stream",
     "text": [
      "Accuracy: 0.8777777777777778\n"
     ]
    }
   ],
   "source": [
    "print(\"Accuracy:\",accuracy_score(y_test, y_pred_NN))"
   ]
  },
  {
   "cell_type": "markdown",
   "metadata": {},
   "source": [
    "Accuracy obtained from Nural Network is higher than accuracy obtained from Support Vector Machine"
   ]
  },
  {
   "cell_type": "markdown",
   "metadata": {},
   "source": [
    "three layer nural network is better than SVM  in this dataset"
   ]
  }
 ],
 "metadata": {
  "kernelspec": {
   "display_name": "Python 3",
   "language": "python",
   "name": "python3"
  },
  "language_info": {
   "codemirror_mode": {
    "name": "ipython",
    "version": 3
   },
   "file_extension": ".py",
   "mimetype": "text/x-python",
   "name": "python",
   "nbconvert_exporter": "python",
   "pygments_lexer": "ipython3",
   "version": "3.7.3"
  }
 },
 "nbformat": 4,
 "nbformat_minor": 2
}
