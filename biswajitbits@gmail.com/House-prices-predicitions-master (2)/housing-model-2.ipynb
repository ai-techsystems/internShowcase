{
 "cells": [
  {
   "cell_type": "code",
   "execution_count": 8,
   "metadata": {},
   "outputs": [
    {
     "data": {
      "image/png": "[encoded data removed]",
      "text/plain": [
       "<Figure size 432x288 with 1 Axes>"
      ]
     },
     "metadata": {
      "needs_background": "light"
     },
     "output_type": "display_data"
    }
   ],
   "source": [
    "import numpy as np\n",
    "import pandas as pd\n",
    "from keras.layers import Dense,Dropout\n",
    "from sklearn.model_selection import train_test_split\n",
    "from keras.layers.normalization import BatchNormalization\n",
    "from sklearn.preprocessing import StandardScaler\n",
    "from keras.models import Sequential\n",
    "from keras.optimizers import RMSprop\n",
    "import matplotlib.pyplot as plt\n",
    "\n",
    "\n",
    "def rmse(predictions, targets):\n",
    "    return np.sqrt(((predictions - targets) ** 2).mean())\n",
    "\n",
    "train = pd.read_csv(\"train.csv\")\n",
    "test = pd.read_csv(\"test.csv\")\n",
    "\n",
    "\n",
    "fig, ax = plt.subplots()\n",
    "ax.scatter(x = train['GrLivArea'], y = train['SalePrice'])\n",
    "plt.ylabel('SalePrice', fontsize=13)\n",
    "plt.xlabel('GrLivArea', fontsize=13)\n",
    "plt.show()"
   ]
  },
  {
   "cell_type": "code",
   "execution_count": 9,
   "metadata": {},
   "outputs": [
    {
     "name": "stdout",
     "output_type": "stream",
     "text": [
      "SalePrice    180921.19589\n",
      "dtype: float64\n",
      "SalePrice    12.024057\n",
      "dtype: float64\n",
      "12.024057394918371\n"
     ]
    },
    {
     "data": {
      "text/plain": [
       "(365, 288)"
      ]
     },
     "execution_count": 9,
     "metadata": {},
     "output_type": "execute_result"
    }
   ],
   "source": [
    "print(train[['SalePrice']].mean())\n",
    "y = np.log1p(train[['SalePrice']])\n",
    "print(y.mean())\n",
    "y = y.SalePrice\n",
    "print(y.mean())\n",
    "\n",
    "total = pd.concat((train.loc[:,'MSSubClass':'SaleCondition'],\n",
    "                    test.loc[:,'MSSubClass':'SaleCondition']))\n",
    "\n",
    "total = pd.get_dummies(total)\n",
    "total = total.fillna(total.mean())\n",
    "x_train = np.array(total[:train.shape[0]])\n",
    "x_test = np.array(total[test.shape[0]+1:])\n",
    "x_train = StandardScaler().fit_transform(x_train)\n",
    "X_tr, X_val, y_tr, y_val = train_test_split(x_train, y)\n",
    "\n",
    "X_val.shape"
   ]
  },
  {
   "cell_type": "code",
   "execution_count": 10,
   "metadata": {},
   "outputs": [
    {
     "name": "stderr",
     "output_type": "stream",
     "text": [
      "C:\\Users\\biswa\\Anaconda3\\lib\\site-packages\\ipykernel_launcher.py:22: UserWarning: The `nb_epoch` argument in `fit` has been renamed `epochs`.\n"
     ]
    },
    {
     "name": "stdout",
     "output_type": "stream",
     "text": [
      "Train on 1095 samples, validate on 365 samples\n",
      "Epoch 1/20\n",
      " - 1s - loss: 41.8222 - mean_squared_error: 41.8222 - val_loss: 10.7198 - val_mean_squared_error: 10.7198\n",
      "Epoch 2/20\n",
      " - 0s - loss: 7.1471 - mean_squared_error: 7.1471 - val_loss: 2.7072 - val_mean_squared_error: 2.7072\n",
      "Epoch 3/20\n",
      " - 0s - loss: 1.7779 - mean_squared_error: 1.7779 - val_loss: 1.4468 - val_mean_squared_error: 1.4468\n",
      "Epoch 4/20\n",
      " - 0s - loss: 0.7985 - mean_squared_error: 0.7985 - val_loss: 1.0650 - val_mean_squared_error: 1.0650\n",
      "Epoch 5/20\n",
      " - 0s - loss: 0.3595 - mean_squared_error: 0.3595 - val_loss: 0.9026 - val_mean_squared_error: 0.9026\n",
      "Epoch 6/20\n",
      " - 0s - loss: 0.2166 - mean_squared_error: 0.2166 - val_loss: 0.7732 - val_mean_squared_error: 0.7732\n",
      "Epoch 7/20\n",
      " - 0s - loss: 0.1194 - mean_squared_error: 0.1194 - val_loss: 0.7230 - val_mean_squared_error: 0.7230\n",
      "Epoch 8/20\n",
      " - 0s - loss: 0.0707 - mean_squared_error: 0.0707 - val_loss: 0.7255 - val_mean_squared_error: 0.7255\n",
      "Epoch 9/20\n",
      " - 0s - loss: 0.0438 - mean_squared_error: 0.0438 - val_loss: 0.6904 - val_mean_squared_error: 0.6904\n",
      "Epoch 10/20\n",
      " - 0s - loss: 0.0289 - mean_squared_error: 0.0289 - val_loss: 0.6849 - val_mean_squared_error: 0.6849\n",
      "Epoch 11/20\n",
      " - 0s - loss: 0.0207 - mean_squared_error: 0.0207 - val_loss: 0.6806 - val_mean_squared_error: 0.6806\n",
      "Epoch 12/20\n",
      " - 0s - loss: 0.0162 - mean_squared_error: 0.0162 - val_loss: 0.6844 - val_mean_squared_error: 0.6844\n",
      "Epoch 13/20\n",
      " - 0s - loss: 0.0150 - mean_squared_error: 0.0150 - val_loss: 0.6699 - val_mean_squared_error: 0.6699\n",
      "Epoch 14/20\n",
      " - 0s - loss: 0.0133 - mean_squared_error: 0.0133 - val_loss: 0.6666 - val_mean_squared_error: 0.6666\n",
      "Epoch 15/20\n",
      " - 0s - loss: 0.0099 - mean_squared_error: 0.0099 - val_loss: 0.6656 - val_mean_squared_error: 0.6656\n",
      "Epoch 16/20\n",
      " - 0s - loss: 0.0068 - mean_squared_error: 0.0068 - val_loss: 0.6655 - val_mean_squared_error: 0.6655\n",
      "Epoch 17/20\n",
      " - 0s - loss: 0.0053 - mean_squared_error: 0.0053 - val_loss: 0.6675 - val_mean_squared_error: 0.6675\n",
      "Epoch 18/20\n",
      " - 0s - loss: 0.0042 - mean_squared_error: 0.0042 - val_loss: 0.6646 - val_mean_squared_error: 0.6646\n",
      "Epoch 19/20\n",
      " - 0s - loss: 0.0040 - mean_squared_error: 0.0040 - val_loss: 0.6694 - val_mean_squared_error: 0.6694\n",
      "Epoch 20/20\n",
      " - 0s - loss: 0.0035 - mean_squared_error: 0.0035 - val_loss: 0.6585 - val_mean_squared_error: 0.6585\n",
      "_________________________________________________________________\n",
      "Layer (type)                 Output Shape              Param #   \n",
      "=================================================================\n",
      "dense_5 (Dense)              (None, 1024)              295936    \n",
      "_________________________________________________________________\n",
      "dense_6 (Dense)              (None, 512)               524800    \n",
      "_________________________________________________________________\n",
      "dense_7 (Dense)              (None, 256)               131328    \n",
      "_________________________________________________________________\n",
      "dense_8 (Dense)              (None, 512)               131584    \n",
      "_________________________________________________________________\n",
      "dense_9 (Dense)              (None, 512)               262656    \n",
      "_________________________________________________________________\n",
      "dense_10 (Dense)             (None, 1)                 513       \n",
      "=================================================================\n",
      "Total params: 1,346,817\n",
      "Trainable params: 1,346,817\n",
      "Non-trainable params: 0\n",
      "_________________________________________________________________\n"
     ]
    }
   ],
   "source": [
    "model = Sequential()\n",
    "BatchNormalization()\n",
    "model.add(Dense(1024,input_dim=288,activation='relu', kernel_initializer='normal'))\n",
    "BatchNormalization()\n",
    "Dropout(0.5)\n",
    "model.add(Dense(512,input_dim=1024,activation='relu', kernel_initializer='normal'))\n",
    "BatchNormalization()\n",
    "Dropout(0.5)\n",
    "model.add(Dense(256,activation='relu', kernel_initializer='normal'))\n",
    "BatchNormalization()\n",
    "Dropout(0.5)\n",
    "model.add(Dense(512,activation='relu', kernel_initializer='normal'))\n",
    "BatchNormalization()\n",
    "Dropout(0.5)\n",
    "model.add(Dense(512,activation='relu', kernel_initializer='normal'))\n",
    "BatchNormalization()\n",
    "Dropout(0.5)\n",
    "model.add(Dense(1))\n",
    "model.compile( optimizer='adam',loss='mse',metrics=['mean_squared_error'])\n",
    "\n",
    "\n",
    "model.fit(X_tr,y_tr,validation_data=(X_val,y_val),nb_epoch=20,batch_size=100,verbose=2)\n",
    "\n",
    "model.summary()\n"
   ]
  },
  {
   "cell_type": "code",
   "execution_count": 11,
   "metadata": {},
   "outputs": [
    {
     "name": "stdout",
     "output_type": "stream",
     "text": [
      "(365, 1)\n",
      "(365, 288)\n",
      "(365,)\n",
      "12.037329871662253\n",
      "11.9475355\n",
      "0.5100022267627761\n",
      "SalePrice    6489.761162\n",
      "dtype: float64\n",
      "SalePrice    inf\n",
      "dtype: float64\n",
      "<bound method NDFrame.to_csv of         Id  SalePrice\n",
      "0     1461        inf\n",
      "1     1462        inf\n",
      "2     1463        inf\n",
      "3     1464        inf\n",
      "4     1465        inf\n",
      "5     1466        inf\n",
      "6     1467        inf\n",
      "7     1468        inf\n",
      "8     1469        inf\n",
      "9     1470        inf\n",
      "10    1471        inf\n",
      "11    1472        inf\n",
      "12    1473        inf\n",
      "13    1474        inf\n",
      "14    1475        inf\n",
      "15    1476        inf\n",
      "16    1477        inf\n",
      "17    1478        inf\n",
      "18    1479        inf\n",
      "19    1480        inf\n",
      "20    1481        inf\n",
      "21    1482        inf\n",
      "22    1483        inf\n",
      "23    1484        inf\n",
      "24    1485        inf\n",
      "25    1486        inf\n",
      "26    1487        inf\n",
      "27    1488        inf\n",
      "28    1489        inf\n",
      "29    1490        inf\n",
      "...    ...        ...\n",
      "1429  2890        inf\n",
      "1430  2891        inf\n",
      "1431  2892        inf\n",
      "1432  2893        inf\n",
      "1433  2894        inf\n",
      "1434  2895        inf\n",
      "1435  2896        inf\n",
      "1436  2897        inf\n",
      "1437  2898        inf\n",
      "1438  2899        inf\n",
      "1439  2900        inf\n",
      "1440  2901        inf\n",
      "1441  2902        inf\n",
      "1442  2903        inf\n",
      "1443  2904        inf\n",
      "1444  2905        inf\n",
      "1445  2906        inf\n",
      "1446  2907        inf\n",
      "1447  2908        inf\n",
      "1448  2909        inf\n",
      "1449  2910        inf\n",
      "1450  2911        inf\n",
      "1451  2912        inf\n",
      "1452  2913        inf\n",
      "1453  2914        inf\n",
      "1454  2915        inf\n",
      "1455  2916        inf\n",
      "1456  2917        inf\n",
      "1457  2918        inf\n",
      "1458  2919        inf\n",
      "\n",
      "[1459 rows x 2 columns]>\n"
     ]
    },
    {
     "name": "stderr",
     "output_type": "stream",
     "text": [
      "C:\\Users\\biswa\\Anaconda3\\lib\\site-packages\\ipykernel_launcher.py:17: RuntimeWarning: overflow encountered in expm1\n"
     ]
    }
   ],
   "source": [
    "preds = model.predict(np.array(X_val))\n",
    "print(preds.shape)\n",
    "print(X_val.shape)\n",
    "print(y_val.shape)\n",
    "\n",
    "\n",
    "print(y_val.mean())\n",
    "print(preds.mean())\n",
    "print(rmse(preds[0],y_val))\n",
    "\n",
    "preds = model.predict(np.array(x_test))\n",
    "\n",
    "sub = pd.read_csv(\"./sample_submission.csv\")\n",
    "\n",
    "sub.iloc[:,1] = np.array(model.predict(np.array(x_test)))\n",
    "print(sub[['SalePrice']].mean())\n",
    "sub['SalePrice'] = np.expm1(sub[['SalePrice']])\n",
    "print(sub[['SalePrice']].mean())\n",
    "sub.to_csv('kerassubmission9.csv', index=None)\n",
    "print(sub.to_csv)\n"
   ]
  }
 ],
 "metadata": {
  "kernelspec": {
   "display_name": "Python 3",
   "language": "python",
   "name": "python3"
  },
  "language_info": {
   "codemirror_mode": {
    "name": "ipython",
    "version": 3
   },
   "file_extension": ".py",
   "mimetype": "text/x-python",
   "name": "python",
   "nbconvert_exporter": "python",
   "pygments_lexer": "ipython3",
   "version": "3.6.8"
  }
 },
 "nbformat": 4,
 "nbformat_minor": 2
}
