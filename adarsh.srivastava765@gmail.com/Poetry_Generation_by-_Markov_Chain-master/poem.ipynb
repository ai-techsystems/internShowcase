{
  "nbformat": 4,
  "nbformat_minor": 0,
  "metadata": {
    "colab": {
      "name": "poem",
      "version": "0.3.2",
      "provenance": [],
      "collapsed_sections": []
    },
    "kernelspec": {
      "name": "python3",
      "display_name": "Python 3"
    }
  },
  "cells": [
    {
      "cell_type": "code",
      "metadata": {
        "id": "75vJW0Ytwz-W",
        "colab_type": "code",
        "colab": {}
      },
      "source": [
        "import pandas as pd\n",
        "import numpy as np\n"
      ],
      "execution_count": 0,
      "outputs": []
    },
    {
      "cell_type": "code",
      "metadata": {
        "id": "4xtyU1-RxDvD",
        "colab_type": "code",
        "outputId": "8e1e9185-ee68-4597-c074-1c0f82413801",
        "colab": {
          "base_uri": "https://localhost:8080/",
          "height": 195
        }
      },
      "source": [
        "data = pd.read_csv('/content/PoetryFoundationData.csv')\n",
        "\n",
        "data.head()"
      ],
      "execution_count": 31,
      "outputs": [
        {
          "output_type": "execute_result",
          "data": {
            "text/html": [
              "<div>\n",
              "<style scoped>\n",
              "    .dataframe tbody tr th:only-of-type {\n",
              "        vertical-align: middle;\n",
              "    }\n",
              "\n",
              "    .dataframe tbody tr th {\n",
              "        vertical-align: top;\n",
              "    }\n",
              "\n",
              "    .dataframe thead th {\n",
              "        text-align: right;\n",
              "    }\n",
              "</style>\n",
              "<table border=\"1\" class=\"dataframe\">\n",
              "  <thead>\n",
              "    <tr style=\"text-align: right;\">\n",
              "      <th></th>\n",
              "      <th>Unnamed: 0</th>\n",
              "      <th>Title</th>\n",
              "      <th>Poem</th>\n",
              "      <th>Poet</th>\n",
              "      <th>Tags</th>\n",
              "    </tr>\n",
              "  </thead>\n",
              "  <tbody>\n",
              "    <tr>\n",
              "      <th>0</th>\n",
              "      <td>0</td>\n",
              "      <td>\\r\\r\\n                    Objects Used to Prop...</td>\n",
              "      <td>\\r\\r\\nDog bone, stapler,\\r\\r\\ncribbage board, ...</td>\n",
              "      <td>Michelle Menting</td>\n",
              "      <td>NaN</td>\n",
              "    </tr>\n",
              "    <tr>\n",
              "      <th>1</th>\n",
              "      <td>1</td>\n",
              "      <td>\\r\\r\\n                    The New Church\\r\\r\\n...</td>\n",
              "      <td>\\r\\r\\nThe old cupola glinted above the clouds,...</td>\n",
              "      <td>Lucia Cherciu</td>\n",
              "      <td>NaN</td>\n",
              "    </tr>\n",
              "    <tr>\n",
              "      <th>2</th>\n",
              "      <td>2</td>\n",
              "      <td>\\r\\r\\n                    Look for Me\\r\\r\\n   ...</td>\n",
              "      <td>\\r\\r\\nLook for me under the hood\\r\\r\\nof that ...</td>\n",
              "      <td>Ted Kooser</td>\n",
              "      <td>NaN</td>\n",
              "    </tr>\n",
              "    <tr>\n",
              "      <th>3</th>\n",
              "      <td>3</td>\n",
              "      <td>\\r\\r\\n                    Wild Life\\r\\r\\n     ...</td>\n",
              "      <td>\\r\\r\\nBehind the silo, the Mother Rabbit\\r\\r\\n...</td>\n",
              "      <td>Grace Cavalieri</td>\n",
              "      <td>NaN</td>\n",
              "    </tr>\n",
              "    <tr>\n",
              "      <th>4</th>\n",
              "      <td>4</td>\n",
              "      <td>\\r\\r\\n                    Umbrella\\r\\r\\n      ...</td>\n",
              "      <td>\\r\\r\\nWhen I push your button\\r\\r\\nyou fly off...</td>\n",
              "      <td>Connie Wanek</td>\n",
              "      <td>NaN</td>\n",
              "    </tr>\n",
              "  </tbody>\n",
              "</table>\n",
              "</div>"
            ],
            "text/plain": [
              "   Unnamed: 0  ... Tags\n",
              "0           0  ...  NaN\n",
              "1           1  ...  NaN\n",
              "2           2  ...  NaN\n",
              "3           3  ...  NaN\n",
              "4           4  ...  NaN\n",
              "\n",
              "[5 rows x 5 columns]"
            ]
          },
          "metadata": {
            "tags": []
          },
          "execution_count": 31
        }
      ]
    },
    {
      "cell_type": "code",
      "metadata": {
        "id": "gm_qqLW2xGg2",
        "colab_type": "code",
        "colab": {}
      },
      "source": [
        "data.drop(['Unnamed: 0'],axis=1,inplace=True)"
      ],
      "execution_count": 0,
      "outputs": []
    },
    {
      "cell_type": "code",
      "metadata": {
        "id": "WjYyZWr1xiSd",
        "colab_type": "code",
        "colab": {}
      },
      "source": [
        "data.dropna(inplace=True)\n",
        "data['Poem'] = data['Poem'].str.strip()\n",
        "data['Title'] = data['Title'].str.strip()"
      ],
      "execution_count": 0,
      "outputs": []
    },
    {
      "cell_type": "code",
      "metadata": {
        "id": "b-xrZjpy096V",
        "colab_type": "code",
        "colab": {}
      },
      "source": [
        "data.shape\n",
        "da=data[0:100]"
      ],
      "execution_count": 0,
      "outputs": []
    },
    {
      "cell_type": "code",
      "metadata": {
        "id": "QqJUzOV33eZv",
        "colab_type": "code",
        "outputId": "36342c94-5dad-42cf-c1e7-1959d52d829b",
        "colab": {
          "base_uri": "https://localhost:8080/",
          "height": 34
        }
      },
      "source": [
        "da.shape"
      ],
      "execution_count": 9,
      "outputs": [
        {
          "output_type": "execute_result",
          "data": {
            "text/plain": [
              "(100, 4)"
            ]
          },
          "metadata": {
            "tags": []
          },
          "execution_count": 9
        }
      ]
    },
    {
      "cell_type": "code",
      "metadata": {
        "id": "4eTqdZP6xmwv",
        "colab_type": "code",
        "outputId": "bf9e0c2d-dec5-4d7e-dde9-48ed300456b6",
        "colab": {
          "base_uri": "https://localhost:8080/",
          "height": 70
        }
      },
      "source": [
        "df = da['Poem']\n",
        "df.to_csv(r'poem.txt', header=None, index=None, sep=' ', mode='a')"
      ],
      "execution_count": 10,
      "outputs": [
        {
          "output_type": "stream",
          "text": [
            "/usr/local/lib/python3.6/dist-packages/ipykernel_launcher.py:2: FutureWarning: The signature of `Series.to_csv` was aligned to that of `DataFrame.to_csv`, and argument 'header' will change its default value from False to True: please pass an explicit value to suppress this warning.\n",
            "  \n"
          ],
          "name": "stderr"
        }
      ]
    },
    {
      "cell_type": "code",
      "metadata": {
        "id": "DGPxdWzZ3EpJ",
        "colab_type": "code",
        "colab": {}
      },
      "source": [
        ""
      ],
      "execution_count": 0,
      "outputs": []
    },
    {
      "cell_type": "code",
      "metadata": {
        "id": "cZKyDg_Bxs1_",
        "colab_type": "code",
        "colab": {}
      },
      "source": [
        "\n",
        "# load ascii text and covert to lowercase\n",
        "filename = \"poem.txt\"\n",
        "raw_text = open(filename).read()\n",
        "raw_text = raw_text.lower()"
      ],
      "execution_count": 0,
      "outputs": []
    },
    {
      "cell_type": "code",
      "metadata": {
        "id": "a87B8wwgED09",
        "colab_type": "code",
        "colab": {}
      },
      "source": [
        "corpus = raw_text.split()"
      ],
      "execution_count": 0,
      "outputs": []
    },
    {
      "cell_type": "code",
      "metadata": {
        "id": "X8uEvdvBKAXT",
        "colab_type": "code",
        "colab": {}
      },
      "source": [
        "def make_pairs(corpus):\n",
        "    for i in range(len(corpus)-1):\n",
        "        yield (corpus[i], corpus[i+1])\n",
        "        \n",
        "pairs = make_pairs(corpus)"
      ],
      "execution_count": 0,
      "outputs": []
    },
    {
      "cell_type": "code",
      "metadata": {
        "id": "Lzda_audKETo",
        "colab_type": "code",
        "colab": {}
      },
      "source": [
        "word_dict = {}\n",
        "for word_1, word_2 in pairs:\n",
        "    if word_1 in word_dict.keys():\n",
        "        word_dict[word_1].append(word_2)\n",
        "    else:\n",
        "        word_dict[word_1] = [word_2]"
      ],
      "execution_count": 0,
      "outputs": []
    },
    {
      "cell_type": "code",
      "metadata": {
        "id": "zaO16f0bKHaI",
        "colab_type": "code",
        "colab": {
          "base_uri": "https://localhost:8080/",
          "height": 50
        },
        "outputId": "05b1704d-3501-470c-c00b-71121cd9f27f"
      },
      "source": [
        "first_word = input()\n",
        "chain = [first_word]\n",
        "n_words = 100\n",
        "print(chain)"
      ],
      "execution_count": 40,
      "outputs": [
        {
          "output_type": "stream",
          "text": [
            "tear\n",
            "['tear']\n"
          ],
          "name": "stdout"
        }
      ]
    },
    {
      "cell_type": "code",
      "metadata": {
        "id": "x9JSSep4KL1p",
        "colab_type": "code",
        "colab": {}
      },
      "source": [
        "for i in range(n_words):\n",
        "    chain.append(np.random.choice(word_dict[chain[-1]]))"
      ],
      "execution_count": 0,
      "outputs": []
    },
    {
      "cell_type": "code",
      "metadata": {
        "id": "iAYZkT0DKO5l",
        "colab_type": "code",
        "colab": {}
      },
      "source": [
        "poem=' '.join(chain)"
      ],
      "execution_count": 0,
      "outputs": []
    },
    {
      "cell_type": "code",
      "metadata": {
        "id": "i7RgXOPCKRyy",
        "colab_type": "code",
        "colab": {
          "base_uri": "https://localhost:8080/",
          "height": 54
        },
        "outputId": "3b0e52ec-51f3-41f0-c584-0b09d614324f"
      },
      "source": [
        "poem\n"
      ],
      "execution_count": 43,
      "outputs": [
        {
          "output_type": "execute_result",
          "data": {
            "text/plain": [
              "'tear itself, not significant, except the street. wild-eyed, he went to remain light moving box at a school desk, my heat, (that’s the sea as angry knuckles if unequal in the boys laughed, said that her to touch you, you clearly. like a house too carried in black breeze; the warmth left as lovers climb, against heart of pause and all memory and restless response from them.\" \"on the memory and the brain. however, with the whole, snowy world to maintain and her hair. they zipped the bird suddenly stunned by an anticipation crossed with my favorite novel a hard-boiled egg'"
            ]
          },
          "metadata": {
            "tags": []
          },
          "execution_count": 43
        }
      ]
    },
    {
      "cell_type": "code",
      "metadata": {
        "id": "2yDGzJUdK9vq",
        "colab_type": "code",
        "colab": {}
      },
      "source": [
        ""
      ],
      "execution_count": 0,
      "outputs": []
    }
  ]
}