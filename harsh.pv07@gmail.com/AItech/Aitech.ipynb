{
  "nbformat": 4,
  "nbformat_minor": 0,
  "metadata": {
    "colab": {
      "name": "Aitech.ipynb",
      "version": "0.3.2",
      "provenance": [],
      "collapsed_sections": []
    },
    "kernelspec": {
      "name": "python3",
      "display_name": "Python 3"
    },
    "accelerator": "GPU"
  },
  "cells": [
    {
      "cell_type": "code",
      "metadata": {
        "id": "uHUWnHs5hhBR",
        "colab_type": "code",
        "colab": {}
      },
      "source": [
        "import numpy\n",
        "from keras.datasets import mnist\n",
        "from keras.models import Sequential\n",
        "from keras.layers import Dense\n",
        "from keras.layers import Dropout\n",
        "from keras.layers import Flatten\n",
        "from keras.layers.convolutional import Conv2D\n",
        "from keras.layers.convolutional import MaxPooling2D\n",
        "from keras.utils import np_utils\n",
        "from keras import backend as K\n",
        "K.set_image_dim_ordering('th')"
      ],
      "execution_count": 0,
      "outputs": []
    },
    {
      "cell_type": "code",
      "metadata": {
        "id": "gbXkMBcAhlVJ",
        "colab_type": "code",
        "colab": {}
      },
      "source": [
        "seed = 7\n",
        "numpy.random.seed(seed)\n",
        "(X_train, y_train), (X_test, y_test) = mnist.load_data()\n",
        "X_train = X_train.reshape(X_train.shape[0], 1, 28, 28).astype('float32')\n",
        "X_test = X_test.reshape(X_test.shape[0], 1, 28, 28).astype('float32')\n",
        "X_train = X_train / 255\n",
        "X_test = X_test / 255\n",
        "y_train = np_utils.to_categorical(y_train)\n",
        "y_test = np_utils.to_categorical(y_test)\n",
        "num_classes = y_test.shape[1]\n",
        "\n"
      ],
      "execution_count": 0,
      "outputs": []
    },
    {
      "cell_type": "code",
      "metadata": {
        "id": "nab9ivn9iexH",
        "colab_type": "code",
        "outputId": "fb4cf6b6-7087-4d08-a1b0-ed8cb10e0c5c",
        "colab": {
          "base_uri": "https://localhost:8080/",
          "height": 391
        }
      },
      "source": [
        "def baseline_model():\n",
        "\tmodel = Sequential()\n",
        "\tmodel.add(Conv2D(32, (5, 5), input_shape=(1, 28, 28), activation='relu'))\n",
        "\tmodel.add(MaxPooling2D(pool_size=(2, 2)))\n",
        "\tmodel.add(Dropout(0.2))\n",
        "\tmodel.add(Flatten())\n",
        "\tmodel.add(Dense(128, activation='relu'))\n",
        "\tmodel.add(Dense(num_classes, activation='softmax'))\n",
        "\tmodel.compile(loss='categorical_crossentropy', optimizer='AdaGrad', metrics=['accuracy'])\n",
        "\treturn model\n",
        "model = baseline_model()\n",
        "history = model.fit(X_train, y_train, validation_data=(X_test, y_test), epochs=10, batch_size=200, verbose=2)\n",
        "scores = model.evaluate(X_test, y_test, verbose=0)\n",
        "print(\"CNN Error: %.2f%%\" % (100-scores[1]*100))"
      ],
      "execution_count": 0,
      "outputs": [
        {
          "output_type": "stream",
          "text": [
            "Train on 60000 samples, validate on 10000 samples\n",
            "Epoch 1/10\n",
            " - 4s - loss: 0.1801 - acc: 0.9463 - val_loss: 0.0683 - val_acc: 0.9786\n",
            "Epoch 2/10\n",
            " - 3s - loss: 0.0675 - acc: 0.9803 - val_loss: 0.0476 - val_acc: 0.9846\n",
            "Epoch 3/10\n",
            " - 3s - loss: 0.0523 - acc: 0.9844 - val_loss: 0.0434 - val_acc: 0.9860\n",
            "Epoch 4/10\n",
            " - 3s - loss: 0.0432 - acc: 0.9872 - val_loss: 0.0407 - val_acc: 0.9858\n",
            "Epoch 5/10\n",
            " - 3s - loss: 0.0381 - acc: 0.9883 - val_loss: 0.0372 - val_acc: 0.9872\n",
            "Epoch 6/10\n",
            " - 3s - loss: 0.0338 - acc: 0.9904 - val_loss: 0.0373 - val_acc: 0.9879\n",
            "Epoch 7/10\n",
            " - 3s - loss: 0.0310 - acc: 0.9908 - val_loss: 0.0368 - val_acc: 0.9873\n",
            "Epoch 8/10\n",
            " - 3s - loss: 0.0285 - acc: 0.9912 - val_loss: 0.0326 - val_acc: 0.9881\n",
            "Epoch 9/10\n",
            " - 3s - loss: 0.0259 - acc: 0.9922 - val_loss: 0.0315 - val_acc: 0.9887\n",
            "Epoch 10/10\n",
            " - 3s - loss: 0.0244 - acc: 0.9928 - val_loss: 0.0314 - val_acc: 0.9897\n",
            "CNN Error: 1.03%\n"
          ],
          "name": "stdout"
        }
      ]
    },
    {
      "cell_type": "code",
      "metadata": {
        "id": "zkrI00qUj9sp",
        "colab_type": "code",
        "outputId": "c7824b9c-6c43-420f-a263-5afb71a98f19",
        "colab": {
          "base_uri": "https://localhost:8080/",
          "height": 295
        }
      },
      "source": [
        "from matplotlib import pyplot as plt\n",
        "plt.plot(history.history['acc'])\n",
        "plt.plot(history.history['val_acc'])\n",
        "plt.title('model accuracy')\n",
        "plt.ylabel('accuracy')\n",
        "plt.xlabel('epoch')\n",
        "plt.legend(['train', 'val'], loc='upper left')\n",
        "plt.show()"
      ],
      "execution_count": 0,
      "outputs": [
        {
          "output_type": "display_data",
          "data": {
            "image/png": "[encoded data removed]",
            "text/plain": [
              "<Figure size 432x288 with 1 Axes>"
            ]
          },
          "metadata": {
            "tags": []
          }
        }
      ]
    },
    {
      "cell_type": "code",
      "metadata": {
        "id": "hT7GTV44Fzdx",
        "colab_type": "code",
        "colab": {}
      },
      "source": [
        ""
      ],
      "execution_count": 0,
      "outputs": []
    }
  ]
}