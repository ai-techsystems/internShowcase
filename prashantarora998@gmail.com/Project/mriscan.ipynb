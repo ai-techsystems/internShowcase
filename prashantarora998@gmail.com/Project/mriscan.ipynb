{
  "nbformat": 4,
  "nbformat_minor": 0,
  "metadata": {
    "colab": {
      "name": "augment_data_mri.ipynb",
      "version": "0.3.2",
      "provenance": [],
      "collapsed_sections": []
    },
    "kernelspec": {
      "name": "python3",
      "display_name": "Python 3"
    },
    "accelerator": "GPU"
  },
  "cells": [
    {
      "cell_type": "markdown",
      "metadata": {
        "id": "18k2a3MXKr6l",
        "colab_type": "text"
      },
      "source": [
        "**Affiliation with AI technology and Systems.\n",
        "www.ai-techsystems.**"
      ]
    },
    {
      "cell_type": "code",
      "metadata": {
        "id": "XuRS1dIHHuhd",
        "colab_type": "code",
        "outputId": "c9ad82d8-a015-43f9-9b14-aab9df040868",
        "colab": {
          "base_uri": "https://localhost:8080/",
          "height": 50
        }
      },
      "source": [
        "import os\n",
        "from numpy import expand_dims\n",
        "from keras.preprocessing.image import load_img\n",
        "from keras.preprocessing.image import img_to_array\n",
        "from keras.preprocessing.image import ImageDataGenerator\n",
        "from matplotlib import pyplot\n",
        "from tqdm import tqdm\n",
        "import cv2\n",
        "\n",
        "if not os.path.exists(\"images/validation/no\"):\n",
        "  os.makedirs(\"images/validation/no\")\n",
        "  \n",
        "if not os.path.exists(\"images/validation/yes\"):\n",
        "  os.makedirs(\"images/validation/yes\")\n",
        "\n",
        "path = \"images/train/\"\n",
        "  \n",
        "for root,folders,files in os.walk(path):\n",
        "  for images_folder in folders:\n",
        "    \n",
        "    if not os.path.isdir(os.path.join(path,images_folder)):\n",
        "      continue\n",
        "      \n",
        "      \n",
        "    for image in tqdm(os.listdir(os.path.join(path,images_folder))):\n",
        "      \n",
        "      temp_path = os.path.join(path , images_folder , image)\n",
        "      \n",
        "      if not os.path.isfile(temp_path):\n",
        "        continue\n",
        "      \n",
        "      img = load_img(temp_path)\n",
        "\n",
        "      data = img_to_array(img)\n",
        "      \n",
        "      samples = expand_dims(data, 0)\n",
        "      \n",
        "      datagen = ImageDataGenerator( \n",
        "          rotation_range = 15 , \n",
        "          width_shift_range=0.1,\n",
        "          height_shift_range = 0.1,\n",
        "          brightness_range=[0.75,1.5],\n",
        "          horizontal_flip=True,\n",
        "          vertical_flip = True\n",
        "      )\n",
        "      \n",
        "      it = datagen.flow(samples, batch_size=1)\n",
        "      \n",
        "      for i in range(2):\n",
        "        batch = it.next()\n",
        "        img = batch[0].astype('uint8')\n",
        "#         pyplot.imshow(img)\n",
        "        save_path = \"images/train/\" + str(images_folder) +\"/\"+str(image)+\"_\"+str(i)+\".png\"\n",
        "        cv2.imwrite(save_path,img)"
      ],
      "execution_count": 0,
      "outputs": [
        {
          "output_type": "stream",
          "text": [
            "100%|██████████| 712/712 [00:25<00:00, 27.78it/s]\n",
            "100%|██████████| 1080/1080 [00:39<00:00, 27.37it/s]\n"
          ],
          "name": "stderr"
        }
      ]
    },
    {
      "cell_type": "code",
      "metadata": {
        "id": "nKoLZbRUXIIM",
        "colab_type": "code",
        "outputId": "25e30c35-c352-4646-e75c-02c05a936763",
        "colab": {
          "base_uri": "https://localhost:8080/",
          "height": 67
        }
      },
      "source": [
        "path = \"images/train\"\n",
        "\n",
        "train_data =[]\n",
        "train_keys=[]\n",
        "\n",
        "from tqdm import tqdm\n",
        "import numpy as np\n",
        "import cv2\n",
        "\n",
        "for root,folders,files in os.walk(path):\n",
        "  for i in tqdm(folders):\n",
        "    if i == \"yes\":\n",
        "      key=1\n",
        "    if i == \"no\":\n",
        "      key = 0\n",
        "    \n",
        "    new_path = os.path.join(root,i)\n",
        "    for images in os.listdir(new_path):\n",
        "      image = cv2.imread(new_path+\"/\"+images)\n",
        "      image = np.array(image)\n",
        "      \n",
        "      train_data.append(image)\n",
        "      train_keys.append(key)\n",
        "      "
      ],
      "execution_count": 0,
      "outputs": [
        {
          "output_type": "stream",
          "text": [
            "100%|██████████| 2/2 [00:07<00:00,  3.40s/it]\n",
            "0it [00:00, ?it/s]\n",
            "0it [00:00, ?it/s]\n"
          ],
          "name": "stderr"
        }
      ]
    },
    {
      "cell_type": "code",
      "metadata": {
        "id": "I11K7f6rgysx",
        "colab_type": "code",
        "outputId": "f40f744b-f6d1-4ce6-dee5-d5c4330c8dfd",
        "colab": {
          "base_uri": "https://localhost:8080/",
          "height": 67
        }
      },
      "source": [
        "path = \"images/validation\"\n",
        "\n",
        "val_data =[]\n",
        "val_keys=[]\n",
        "\n",
        "from tqdm import tqdm\n",
        "import numpy as np\n",
        "import cv2\n",
        "\n",
        "for root,folders,files in os.walk(path):\n",
        "  for i in tqdm(folders):\n",
        "    if i == \"yes\":\n",
        "      key=1\n",
        "    if i == \"no\":\n",
        "      key = 0\n",
        "    \n",
        "    new_path = os.path.join(root,i)\n",
        "    for images in os.listdir(new_path):\n",
        "      image = cv2.imread(new_path+\"/\"+images)\n",
        "      image = np.array(image)\n",
        "      \n",
        "      val_data.append(image)\n",
        "      val_keys.append(key)\n",
        "      "
      ],
      "execution_count": 0,
      "outputs": [
        {
          "output_type": "stream",
          "text": [
            "100%|██████████| 2/2 [00:01<00:00,  2.34it/s]\n",
            "0it [00:00, ?it/s]\n",
            "0it [00:00, ?it/s]\n"
          ],
          "name": "stderr"
        }
      ]
    },
    {
      "cell_type": "code",
      "metadata": {
        "id": "lfKXL1phZptX",
        "colab_type": "code",
        "colab": {}
      },
      "source": [
        "from keras.utils import to_categorical"
      ],
      "execution_count": 0,
      "outputs": []
    },
    {
      "cell_type": "code",
      "metadata": {
        "id": "SO-S6yIV-Xer",
        "colab_type": "code",
        "colab": {}
      },
      "source": [
        "for i in train_data:\n",
        "  if i.shape != (228,228,3):\n",
        "    print(i.shape)"
      ],
      "execution_count": 0,
      "outputs": []
    },
    {
      "cell_type": "code",
      "metadata": {
        "id": "NaPjN-nWZW5M",
        "colab_type": "code",
        "outputId": "6ccf23e8-7215-4fd0-f255-4653173d042a",
        "colab": {
          "base_uri": "https://localhost:8080/",
          "height": 84
        }
      },
      "source": [
        "train_data = np.array(train_data)\n",
        "print(train_data.shape)\n",
        "train_keys = to_categorical(np.array(train_keys),num_classes=2)\n",
        "print(train_keys.shape)\n",
        "\n",
        "val_data = np.array(val_data)\n",
        "print(val_data.shape)\n",
        "val_keys = to_categorical(np.array(val_keys),num_classes=2)\n",
        "val_keys.shape\n"
      ],
      "execution_count": 0,
      "outputs": [
        {
          "output_type": "stream",
          "text": [
            "(5376, 228, 228, 3)\n",
            "(5376, 2)\n",
            "(729, 228, 228, 3)\n"
          ],
          "name": "stdout"
        },
        {
          "output_type": "execute_result",
          "data": {
            "text/plain": [
              "(729, 2)"
            ]
          },
          "metadata": {
            "tags": []
          },
          "execution_count": 131
        }
      ]
    },
    {
      "cell_type": "code",
      "metadata": {
        "id": "xjWSl2CrZl6i",
        "colab_type": "code",
        "colab": {}
      },
      "source": [
        "from keras.layers import Dense,Dropout, Conv2D ,MaxPooling2D , Input , Activation , Flatten\n",
        "from keras.models import Model\n"
      ],
      "execution_count": 0,
      "outputs": []
    },
    {
      "cell_type": "code",
      "metadata": {
        "id": "bkuetcjXdBOc",
        "colab_type": "code",
        "outputId": "9bafa499-d011-4af8-b040-df48396dde48",
        "colab": {
          "base_uri": "https://localhost:8080/",
          "height": 289
        }
      },
      "source": [
        "from keras.applications.vgg16 import VGG16,preprocess_input\n",
        "base_model = VGG16(weights='imagenet'\n",
        "                  ,include_top=False\n",
        "                  ,input_shape=(228,228,3))"
      ],
      "execution_count": 0,
      "outputs": [
        {
          "output_type": "stream",
          "text": [
            "WARNING: Logging before flag parsing goes to stderr.\n",
            "W0805 10:20:34.378188 140654380124032 deprecation_wrapper.py:119] From /usr/local/lib/python3.6/dist-packages/keras/backend/tensorflow_backend.py:74: The name tf.get_default_graph is deprecated. Please use tf.compat.v1.get_default_graph instead.\n",
            "\n",
            "W0805 10:20:34.434328 140654380124032 deprecation_wrapper.py:119] From /usr/local/lib/python3.6/dist-packages/keras/backend/tensorflow_backend.py:517: The name tf.placeholder is deprecated. Please use tf.compat.v1.placeholder instead.\n",
            "\n",
            "W0805 10:20:34.446808 140654380124032 deprecation_wrapper.py:119] From /usr/local/lib/python3.6/dist-packages/keras/backend/tensorflow_backend.py:4138: The name tf.random_uniform is deprecated. Please use tf.random.uniform instead.\n",
            "\n",
            "W0805 10:20:34.501749 140654380124032 deprecation_wrapper.py:119] From /usr/local/lib/python3.6/dist-packages/keras/backend/tensorflow_backend.py:3976: The name tf.nn.max_pool is deprecated. Please use tf.nn.max_pool2d instead.\n",
            "\n"
          ],
          "name": "stderr"
        },
        {
          "output_type": "stream",
          "text": [
            "Downloading data from https://github.com/fchollet/deep-learning-models/releases/download/v0.1/vgg16_weights_tf_dim_ordering_tf_kernels_notop.h5\n",
            "58892288/58889256 [==============================] - 3s 0us/step\n"
          ],
          "name": "stdout"
        },
        {
          "output_type": "stream",
          "text": [
            "W0805 10:20:38.154100 140654380124032 deprecation_wrapper.py:119] From /usr/local/lib/python3.6/dist-packages/keras/backend/tensorflow_backend.py:174: The name tf.get_default_session is deprecated. Please use tf.compat.v1.get_default_session instead.\n",
            "\n",
            "W0805 10:20:38.155678 140654380124032 deprecation_wrapper.py:119] From /usr/local/lib/python3.6/dist-packages/keras/backend/tensorflow_backend.py:181: The name tf.ConfigProto is deprecated. Please use tf.compat.v1.ConfigProto instead.\n",
            "\n"
          ],
          "name": "stderr"
        }
      ]
    },
    {
      "cell_type": "code",
      "metadata": {
        "id": "xzkl2pnRZ8c3",
        "colab_type": "code",
        "outputId": "148387b7-df09-47b2-ed2e-f13a48e015c0",
        "colab": {
          "base_uri": "https://localhost:8080/",
          "height": 87
        }
      },
      "source": [
        "input = Input(shape=(228,228,3,))\n",
        "output = base_model(input)\n",
        "output = Flatten()(output)\n",
        "output = Dropout(0.2)(output)\n",
        "output = Dense(2,activation=\"sigmoid\")(output)"
      ],
      "execution_count": 0,
      "outputs": [
        {
          "output_type": "stream",
          "text": [
            "W0805 10:20:53.436625 140654380124032 deprecation.py:506] From /usr/local/lib/python3.6/dist-packages/keras/backend/tensorflow_backend.py:3445: calling dropout (from tensorflow.python.ops.nn_ops) with keep_prob is deprecated and will be removed in a future version.\n",
            "Instructions for updating:\n",
            "Please use `rate` instead of `keep_prob`. Rate should be set to `rate = 1 - keep_prob`.\n"
          ],
          "name": "stderr"
        }
      ]
    },
    {
      "cell_type": "code",
      "metadata": {
        "id": "plf5DEnDalvh",
        "colab_type": "code",
        "outputId": "1420fc7f-fb0c-4ce4-898e-7cdcd0da2182",
        "colab": {
          "base_uri": "https://localhost:8080/",
          "height": 302
        }
      },
      "source": [
        "model = Model(input , output)\n",
        "model.layers[1].trainable=False\n",
        "model.summary()"
      ],
      "execution_count": 0,
      "outputs": [
        {
          "output_type": "stream",
          "text": [
            "_________________________________________________________________\n",
            "Layer (type)                 Output Shape              Param #   \n",
            "=================================================================\n",
            "input_2 (InputLayer)         (None, 228, 228, 3)       0         \n",
            "_________________________________________________________________\n",
            "vgg16 (Model)                (None, 7, 7, 512)         14714688  \n",
            "_________________________________________________________________\n",
            "flatten_1 (Flatten)          (None, 25088)             0         \n",
            "_________________________________________________________________\n",
            "dropout_1 (Dropout)          (None, 25088)             0         \n",
            "_________________________________________________________________\n",
            "dense_1 (Dense)              (None, 2)                 50178     \n",
            "=================================================================\n",
            "Total params: 14,764,866\n",
            "Trainable params: 50,178\n",
            "Non-trainable params: 14,714,688\n",
            "_________________________________________________________________\n"
          ],
          "name": "stdout"
        }
      ]
    },
    {
      "cell_type": "code",
      "metadata": {
        "id": "oirPpDGwbf9h",
        "colab_type": "code",
        "outputId": "1c454c18-c674-4bcd-c129-254d1406bba0",
        "colab": {
          "base_uri": "https://localhost:8080/",
          "height": 538
        }
      },
      "source": [
        "model.compile(loss=\"binary_crossentropy\",optimizer=\"adam\",metrics=[\"acc\"])\n",
        "\n",
        "history = model.fit(train_data , train_keys , shuffle=True,epochs = 15 ,validation_data=[val_data,val_keys], batch_size=32 , verbose=1)"
      ],
      "execution_count": 0,
      "outputs": [
        {
          "output_type": "stream",
          "text": [
            "Train on 5376 samples, validate on 729 samples\n",
            "Epoch 1/15\n",
            "5376/5376 [==============================] - 59s 11ms/step - loss: 0.2045 - acc: 0.9855 - val_loss: 0.7889 - val_acc: 0.9479\n",
            "Epoch 2/15\n",
            "5376/5376 [==============================] - 58s 11ms/step - loss: 0.2201 - acc: 0.9840 - val_loss: 0.8184 - val_acc: 0.9451\n",
            "Epoch 3/15\n",
            "5376/5376 [==============================] - 58s 11ms/step - loss: 0.1778 - acc: 0.9870 - val_loss: 0.9026 - val_acc: 0.9383\n",
            "Epoch 4/15\n",
            "5376/5376 [==============================] - 58s 11ms/step - loss: 0.1762 - acc: 0.9880 - val_loss: 1.0566 - val_acc: 0.9287\n",
            "Epoch 5/15\n",
            "5376/5376 [==============================] - 58s 11ms/step - loss: 0.1787 - acc: 0.9865 - val_loss: 0.6865 - val_acc: 0.9554\n",
            "Epoch 6/15\n",
            "5376/5376 [==============================] - 58s 11ms/step - loss: 0.1753 - acc: 0.9874 - val_loss: 0.8613 - val_acc: 0.9410\n",
            "Epoch 7/15\n",
            "5376/5376 [==============================] - 58s 11ms/step - loss: 0.1326 - acc: 0.9902 - val_loss: 0.7273 - val_acc: 0.9506\n",
            "Epoch 8/15\n",
            "5376/5376 [==============================] - 58s 11ms/step - loss: 0.1529 - acc: 0.9888 - val_loss: 0.8348 - val_acc: 0.9444\n",
            "Epoch 9/15\n",
            "5376/5376 [==============================] - 58s 11ms/step - loss: 0.1299 - acc: 0.9906 - val_loss: 0.7579 - val_acc: 0.9492\n",
            "Epoch 10/15\n",
            "5376/5376 [==============================] - 58s 11ms/step - loss: 0.1488 - acc: 0.9893 - val_loss: 0.7238 - val_acc: 0.9513\n",
            "Epoch 11/15\n",
            "5376/5376 [==============================] - 58s 11ms/step - loss: 0.1417 - acc: 0.9900 - val_loss: 0.7645 - val_acc: 0.9472\n",
            "Epoch 12/15\n",
            "5376/5376 [==============================] - 58s 11ms/step - loss: 0.1796 - acc: 0.9876 - val_loss: 0.7617 - val_acc: 0.9479\n",
            "Epoch 13/15\n",
            "5376/5376 [==============================] - 58s 11ms/step - loss: 0.1284 - acc: 0.9913 - val_loss: 0.6889 - val_acc: 0.9540\n",
            "Epoch 14/15\n",
            "5376/5376 [==============================] - 58s 11ms/step - loss: 0.1406 - acc: 0.9900 - val_loss: 0.8327 - val_acc: 0.9444\n",
            "Epoch 15/15\n",
            "5376/5376 [==============================] - 58s 11ms/step - loss: 0.1235 - acc: 0.9911 - val_loss: 0.7468 - val_acc: 0.9506\n"
          ],
          "name": "stdout"
        }
      ]
    },
    {
      "cell_type": "code",
      "metadata": {
        "id": "khxJKwksjdvX",
        "colab_type": "code",
        "colab": {}
      },
      "source": [
        "def predicted(path):\n",
        "  image = [cv2.imread(path)]\n",
        "  image = np.array(image)\n",
        "  prediction = model.prex`dict(image)\n",
        "  z = np.argmax(prediction[0])\n",
        "  return z"
      ],
      "execution_count": 0,
      "outputs": []
    },
    {
      "cell_type": "code",
      "metadata": {
        "id": "PhUaQwuFdqIi",
        "colab_type": "code",
        "colab": {}
      },
      "source": [
        "predicted(path)"
      ],
      "execution_count": 0,
      "outputs": []
    },
    {
      "cell_type": "code",
      "metadata": {
        "colab_type": "code",
        "id": "jOv4vLZeJX4R",
        "colab": {}
      },
      "source": [
        "\n",
        "true_test=[]\n",
        "for root,folders,files in os.walk(\"data/test\"):\n",
        "  for i in folders:\n",
        "    for file in os.listdir(os.path.join(root,i)):\n",
        "      if i==\"no\":\n",
        "        l = 0\n",
        "      else:\n",
        "        l = 1\n",
        "        \n",
        "      true_test.append(l)\n",
        "      predicted_test.append(predicted(\"data/test/\"+i+\"/\"+file))"
      ],
      "execution_count": 0,
      "outputs": []
    },
    {
      "cell_type": "code",
      "metadata": {
        "colab_type": "code",
        "id": "JlQRXV30JXOJ",
        "colab": {}
      },
      "source": [
        "\n",
        "score = f1_score(true_test , predicted_test)"
      ],
      "execution_count": 0,
      "outputs": []
    }
  ]
}