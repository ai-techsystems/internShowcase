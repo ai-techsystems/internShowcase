{
  "nbformat": 4,
  "nbformat_minor": 0,
  "metadata": {
    "colab": {
      "name": "DIGITRECOGNITION1.ipynb",
      "version": "0.3.2",
      "provenance": [],
      "collapsed_sections": []
    },
    "kernelspec": {
      "name": "python3",
      "display_name": "Python 3"
    }
  },
  "cells": [
    {
      "cell_type": "code",
      "metadata": {
        "id": "DfXJ-P8J5kkg",
        "colab_type": "code",
        "colab": {}
      },
      "source": [
        "import numpy as np\n",
        "import matplotlib.pyplot as plt\n",
        "from keras.models import Sequential\n",
        "from keras.layers.core import Dense, Activation, Dropout\n",
        "from keras.datasets import mnist\n",
        "from keras.utils import np_utils"
      ],
      "execution_count": 0,
      "outputs": []
    },
    {
      "cell_type": "code",
      "metadata": {
        "id": "Okj_GbrI8dMT",
        "colab_type": "code",
        "colab": {}
      },
      "source": [
        "# fix a random seed for reproducibility\n",
        "np.random.seed(9)\n",
        "\n",
        "# user inputs\n",
        "nb_epoch = 5\n",
        "num_classes = 10\n",
        "batch_size = 128\n",
        "train_size = 60000\n",
        "test_size = 10000\n",
        "v_length = 784"
      ],
      "execution_count": 0,
      "outputs": []
    },
    {
      "cell_type": "code",
      "metadata": {
        "id": "lWnAlmKp5mGA",
        "colab_type": "code",
        "outputId": "f6f73946-5b36-43bb-f9e8-c233fc4464b8",
        "colab": {
          "base_uri": "https://localhost:8080/",
          "height": 85
        }
      },
      "source": [
        "# split the mnist data into train and test\n",
        "(trainData, trainLabels), (testData, testLabels) = mnist.load_data()\n",
        "print(\"[INFO] train data shape: {}\".format(trainData.shape))\n",
        "print(\"[INFO] test data shape: {}\".format(testData.shape))\n",
        "print(\"[INFO] train samples: {}\".format(trainData.shape[0]))\n",
        "print(\"[INFO] test samples: {}\".format(testData.shape[0]))"
      ],
      "execution_count": 16,
      "outputs": [
        {
          "output_type": "stream",
          "text": [
            "[INFO] train data shape: (60000, 28, 28)\n",
            "[INFO] test data shape: (10000, 28, 28)\n",
            "[INFO] train samples: 60000\n",
            "[INFO] test samples: 10000\n"
          ],
          "name": "stdout"
        }
      ]
    },
    {
      "cell_type": "code",
      "metadata": {
        "id": "HReUjD1r5sSu",
        "colab_type": "code",
        "colab": {}
      },
      "source": [
        "# reshape the dataset\n",
        "trainData = trainData.reshape(train_size, v_length)\n",
        "testData = testData.reshape(test_size, v_length)\n",
        "trainData = trainData.astype(\"float32\")\n",
        "testData = testData.astype(\"float32\")\n",
        "trainData /= 255\n",
        "testData /= 255"
      ],
      "execution_count": 0,
      "outputs": []
    },
    {
      "cell_type": "code",
      "metadata": {
        "id": "yy_95wrU5vv1",
        "colab_type": "code",
        "outputId": "68be73ff-d02a-45d1-a3bb-558a734a281c",
        "colab": {
          "base_uri": "https://localhost:8080/",
          "height": 85
        }
      },
      "source": [
        "print(\"[INFO] train data shape: {}\".format(trainData.shape))\n",
        "print(\"[INFO] test data shape: {}\".format(testData.shape))\n",
        "print(\"[INFO] train samples: {}\".format(trainData.shape[0]))\n",
        "print(\"[INFO] test samples: {}\".format(testData.shape[0]))"
      ],
      "execution_count": 18,
      "outputs": [
        {
          "output_type": "stream",
          "text": [
            "[INFO] train data shape: (60000, 784)\n",
            "[INFO] test data shape: (10000, 784)\n",
            "[INFO] train samples: 60000\n",
            "[INFO] test samples: 10000\n"
          ],
          "name": "stdout"
        }
      ]
    },
    {
      "cell_type": "code",
      "metadata": {
        "id": "7Bs67JZO5y-l",
        "colab_type": "code",
        "colab": {}
      },
      "source": [
        "#  one-hot encoding\n",
        "mTrainLabels = np_utils.to_categorical(trainLabels, num_classes)\n",
        "mTestLabels = np_utils.to_categorical(testLabels, num_classes)"
      ],
      "execution_count": 0,
      "outputs": []
    },
    {
      "cell_type": "code",
      "metadata": {
        "id": "ejkDEb-w52vL",
        "colab_type": "code",
        "colab": {}
      },
      "source": [
        "# create the model\n",
        "model = Sequential()\n",
        "model.add(Dense(512, input_shape=(784,)))\n",
        "model.add(Activation(\"relu\"))\n",
        "model.add(Dropout(0.2))\n",
        "model.add(Dense(256))\n",
        "model.add(Activation(\"relu\"))\n",
        "model.add(Dropout(0.2))\n",
        "model.add(Dense(num_classes))\n",
        "model.add(Activation(\"softmax\"))"
      ],
      "execution_count": 0,
      "outputs": []
    },
    {
      "cell_type": "code",
      "metadata": {
        "id": "kAovgCrC58aW",
        "colab_type": "code",
        "outputId": "ed98833e-0a48-4604-bcab-b791a6c15bc6",
        "colab": {
          "base_uri": "https://localhost:8080/",
          "height": 646
        }
      },
      "source": [
        "# summarize the model\n",
        "model.summary()\n",
        "\n",
        "# compile the model\n",
        "model.compile(loss=\"categorical_crossentropy\", optimizer=\"adadelta\", metrics=[\"accuracy\"])\n",
        "\n",
        "# fit the model\n",
        "history = model.fit(trainData, mTrainLabels, validation_data=(testData, mTestLabels), batch_size=batch_size, nb_epoch=nb_epoch, verbose=2)\n",
        "\n",
        "# print the history keys\n",
        "print(history.history.keys())\n",
        "\n",
        "# evaluate the model\n",
        "scores = model.evaluate(testData, mTestLabels, verbose=0)"
      ],
      "execution_count": 21,
      "outputs": [
        {
          "output_type": "stream",
          "text": [
            "_________________________________________________________________\n",
            "Layer (type)                 Output Shape              Param #   \n",
            "=================================================================\n",
            "dense_4 (Dense)              (None, 512)               401920    \n",
            "_________________________________________________________________\n",
            "activation_4 (Activation)    (None, 512)               0         \n",
            "_________________________________________________________________\n",
            "dropout_3 (Dropout)          (None, 512)               0         \n",
            "_________________________________________________________________\n",
            "dense_5 (Dense)              (None, 256)               131328    \n",
            "_________________________________________________________________\n",
            "activation_5 (Activation)    (None, 256)               0         \n",
            "_________________________________________________________________\n",
            "dropout_4 (Dropout)          (None, 256)               0         \n",
            "_________________________________________________________________\n",
            "dense_6 (Dense)              (None, 10)                2570      \n",
            "_________________________________________________________________\n",
            "activation_6 (Activation)    (None, 10)                0         \n",
            "=================================================================\n",
            "Total params: 535,818\n",
            "Trainable params: 535,818\n",
            "Non-trainable params: 0\n",
            "_________________________________________________________________\n"
          ],
          "name": "stdout"
        },
        {
          "output_type": "stream",
          "text": [
            "/usr/local/lib/python3.6/dist-packages/ipykernel_launcher.py:7: UserWarning: The `nb_epoch` argument in `fit` has been renamed `epochs`.\n",
            "  import sys\n"
          ],
          "name": "stderr"
        },
        {
          "output_type": "stream",
          "text": [
            "Train on 60000 samples, validate on 10000 samples\n",
            "Epoch 1/5\n",
            " - 9s - loss: 0.2963 - acc: 0.9098 - val_loss: 0.1293 - val_acc: 0.9624\n",
            "Epoch 2/5\n",
            " - 9s - loss: 0.1199 - acc: 0.9637 - val_loss: 0.0856 - val_acc: 0.9733\n",
            "Epoch 3/5\n",
            " - 9s - loss: 0.0859 - acc: 0.9734 - val_loss: 0.0728 - val_acc: 0.9760\n",
            "Epoch 4/5\n",
            " - 9s - loss: 0.0660 - acc: 0.9793 - val_loss: 0.0642 - val_acc: 0.9802\n",
            "Epoch 5/5\n",
            " - 9s - loss: 0.0537 - acc: 0.9835 - val_loss: 0.0580 - val_acc: 0.9827\n",
            "dict_keys(['val_loss', 'val_acc', 'loss', 'acc'])\n"
          ],
          "name": "stdout"
        }
      ]
    },
    {
      "cell_type": "code",
      "metadata": {
        "id": "_FBfj2Mw6CmK",
        "colab_type": "code",
        "outputId": "084a5d55-c29d-4f8d-c744-866ec6b3c9df",
        "colab": {
          "base_uri": "https://localhost:8080/",
          "height": 295
        }
      },
      "source": [
        "# history plot for accuracy\n",
        "plt.plot(history.history[\"acc\"])\n",
        "plt.plot(history.history[\"val_acc\"])\n",
        "plt.title(\"Model Accuracy\")\n",
        "plt.xlabel(\"Epoch\")\n",
        "plt.ylabel(\"Accuracy\")\n",
        "plt.legend([\"train\", \"test\"], loc=\"upper left\")\n",
        "plt.show()"
      ],
      "execution_count": 22,
      "outputs": [
        {
          "output_type": "display_data",
          "data": {
            "image/png": "[encoded data removed]",
            "text/plain": [
              "<Figure size 432x288 with 1 Axes>"
            ]
          },
          "metadata": {
            "tags": []
          }
        }
      ]
    },
    {
      "cell_type": "code",
      "metadata": {
        "id": "DsRVY-vT6F8-",
        "colab_type": "code",
        "outputId": "82008665-edff-480a-9cb5-d7e806fe1049",
        "colab": {
          "base_uri": "https://localhost:8080/",
          "height": 295
        }
      },
      "source": [
        "# history plot for accuracy\n",
        "plt.plot(history.history[\"loss\"])\n",
        "plt.plot(history.history[\"val_loss\"])\n",
        "plt.title(\"Model Loss\")\n",
        "plt.xlabel(\"Epoch\")\n",
        "plt.ylabel(\"Loss\")\n",
        "plt.legend([\"train\", \"test\"], loc=\"upper left\")\n",
        "plt.show()"
      ],
      "execution_count": 23,
      "outputs": [
        {
          "output_type": "display_data",
          "data": {
            "image/png": "[encoded data removed]",
            "text/plain": [
              "<Figure size 432x288 with 1 Axes>"
            ]
          },
          "metadata": {
            "tags": []
          }
        }
      ]
    },
    {
      "cell_type": "code",
      "metadata": {
        "id": "xTtF7Bq76M3P",
        "colab_type": "code",
        "outputId": "c40189b5-d863-4521-e295-39fad547b4a0",
        "colab": {
          "base_uri": "https://localhost:8080/",
          "height": 51
        }
      },
      "source": [
        "# print the results\n",
        "print(\"[INFO] test score - {}\".format(scores[0]))\n",
        "print(\"[INFO] test accuracy - {}\".format(scores[1]))"
      ],
      "execution_count": 11,
      "outputs": [
        {
          "output_type": "stream",
          "text": [
            "[INFO] test score - 0.06015691574427765\n",
            "[INFO] test accuracy - 0.9799\n"
          ],
          "name": "stdout"
        }
      ]
    },
    {
      "cell_type": "code",
      "metadata": {
        "id": "qcjjDT346bEN",
        "colab_type": "code",
        "outputId": "72d1602e-37b8-4b46-ff7d-16517c435231",
        "colab": {
          "base_uri": "https://localhost:8080/",
          "height": 34
        }
      },
      "source": [
        "# grab some test images from the test data\n",
        "test_images = testData[1:5]\n",
        "\n",
        "# reshape the test images to standard 28x28 format\n",
        "test_images = test_images.reshape(test_images.shape[0], 28, 28)\n",
        "print(\"[INFO] test images shape - {}\".format(test_images.shape))"
      ],
      "execution_count": 12,
      "outputs": [
        {
          "output_type": "stream",
          "text": [
            "[INFO] test images shape - (4, 28, 28)\n"
          ],
          "name": "stdout"
        }
      ]
    },
    {
      "cell_type": "code",
      "metadata": {
        "id": "BRwpWUEf6gd3",
        "colab_type": "code",
        "outputId": "d81cf60e-3396-4a7f-8457-9d15337e9fac",
        "colab": {
          "base_uri": "https://localhost:8080/",
          "height": 269
        }
      },
      "source": [
        "# loop over each of the test images\n",
        "for i, test_image in enumerate(test_images, start=1):\n",
        "\t# grab a copy of test image for viewing\n",
        "\torg_image = test_image\n",
        "\t\n",
        "\t# reshape the test image to [1x784] format so that our model understands\n",
        "\ttest_image = test_image.reshape(1,784)\n",
        "\t\n",
        "\t# make prediction on test image using our trained model\n",
        "\tprediction = model.predict_classes(test_image, verbose=0)\n",
        "\t\n",
        "\t# display the prediction and image\n",
        "\t\"\"\"\"print(\"[INFO] I think the digit is - {}\".format(prediction[0]))\"\"\"\n",
        "\tplt.subplot(220+i)\n",
        "\tplt.imshow(org_image, cmap=plt.get_cmap('Blues_r'))\n",
        "\n",
        "plt.show()"
      ],
      "execution_count": 13,
      "outputs": [
        {
          "output_type": "display_data",
          "data": {
            "image/png": "[encoded data removed]",
            "text/plain": [
              "<Figure size 432x288 with 4 Axes>"
            ]
          },
          "metadata": {
            "tags": []
          }
        }
      ]
    },
    {
      "cell_type": "code",
      "metadata": {
        "id": "7E0mcXKa937q",
        "colab_type": "code",
        "colab": {}
      },
      "source": [
        ""
      ],
      "execution_count": 0,
      "outputs": []
    },
    {
      "cell_type": "code",
      "metadata": {
        "id": "V5LOlpif6nnl",
        "colab_type": "code",
        "colab": {}
      },
      "source": [
        ""
      ],
      "execution_count": 0,
      "outputs": []
    }
  ]
}