{
 "cells": [
  {
   "cell_type": "markdown",
   "metadata": {},
   "source": [
    "# PERFORMING PRINCIPAL COMPONENT ANALYSIS ON ASTEROID DATA"
   ]
  },
  {
   "cell_type": "markdown",
   "metadata": {},
   "source": [
    "<p>AASHISH UPADHYAY</p>\n",
    "<p>AUTHOR , AI TECH SYSTEMS</p>\n",
    "<a href=https://ai-techsystems.com>AI TECH SYSTEMS</a>\n",
    "<p>e-mail : aashish31f@gmail.com</p>"
   ]
  },
  {
   "cell_type": "code",
   "execution_count": 135,
   "metadata": {},
   "outputs": [],
   "source": [
    "# IMPORTING LIBRARIES\n",
    "import numpy as np\n",
    "import pandas as pd\n",
    "import time\n",
    "import matplotlib.pyplot as plt\n",
    "import seaborn as sea\n",
    "sea.set()"
   ]
  },
  {
   "cell_type": "code",
   "execution_count": 169,
   "metadata": {},
   "outputs": [],
   "source": [
    "font = {'family': 'serif',\n",
    "        'color':  'darkred',\n",
    "        'weight': 'normal',\n",
    "        'size': 24,\n",
    "        }"
   ]
  },
  {
   "cell_type": "code",
   "execution_count": 2,
   "metadata": {},
   "outputs": [],
   "source": [
    "# IMPORTING DATASET\n",
    "dataset = pd.read_csv(\"nasa.csv\")"
   ]
  },
  {
   "cell_type": "code",
   "execution_count": 3,
   "metadata": {},
   "outputs": [
    {
     "data": {
      "text/plain": [
       "Index(['Neo Reference ID', 'Name', 'Absolute Magnitude', 'Est Dia in KM(min)',\n",
       "       'Est Dia in KM(max)', 'Est Dia in M(min)', 'Est Dia in M(max)',\n",
       "       'Est Dia in Miles(min)', 'Est Dia in Miles(max)',\n",
       "       'Est Dia in Feet(min)', 'Est Dia in Feet(max)', 'Close Approach Date',\n",
       "       'Epoch Date Close Approach', 'Relative Velocity km per sec',\n",
       "       'Relative Velocity km per hr', 'Miles per hour',\n",
       "       'Miss Dist.(Astronomical)', 'Miss Dist.(lunar)',\n",
       "       'Miss Dist.(kilometers)', 'Miss Dist.(miles)', 'Orbiting Body',\n",
       "       'Orbit ID', 'Orbit Determination Date', 'Orbit Uncertainity',\n",
       "       'Minimum Orbit Intersection', 'Jupiter Tisserand Invariant',\n",
       "       'Epoch Osculation', 'Eccentricity', 'Semi Major Axis', 'Inclination',\n",
       "       'Asc Node Longitude', 'Orbital Period', 'Perihelion Distance',\n",
       "       'Perihelion Arg', 'Aphelion Dist', 'Perihelion Time', 'Mean Anomaly',\n",
       "       'Mean Motion', 'Equinox', 'Hazardous'],\n",
       "      dtype='object')"
      ]
     },
     "execution_count": 3,
     "metadata": {},
     "output_type": "execute_result"
    }
   ],
   "source": [
    "dataset.columns"
   ]
  },
  {
   "cell_type": "code",
   "execution_count": 4,
   "metadata": {},
   "outputs": [
    {
     "data": {
      "text/html": [
       "<div>\n",
       "<style scoped>\n",
       "    .dataframe tbody tr th:only-of-type {\n",
       "        vertical-align: middle;\n",
       "    }\n",
       "\n",
       "    .dataframe tbody tr th {\n",
       "        vertical-align: top;\n",
       "    }\n",
       "\n",
       "    .dataframe thead th {\n",
       "        text-align: right;\n",
       "    }\n",
       "</style>\n",
       "<table border=\"1\" class=\"dataframe\">\n",
       "  <thead>\n",
       "    <tr style=\"text-align: right;\">\n",
       "      <th></th>\n",
       "      <th>Neo Reference ID</th>\n",
       "      <th>Name</th>\n",
       "      <th>Absolute Magnitude</th>\n",
       "      <th>Est Dia in KM(min)</th>\n",
       "      <th>Est Dia in KM(max)</th>\n",
       "      <th>Est Dia in M(min)</th>\n",
       "      <th>Est Dia in M(max)</th>\n",
       "      <th>Est Dia in Miles(min)</th>\n",
       "      <th>Est Dia in Miles(max)</th>\n",
       "      <th>Est Dia in Feet(min)</th>\n",
       "      <th>...</th>\n",
       "      <th>Asc Node Longitude</th>\n",
       "      <th>Orbital Period</th>\n",
       "      <th>Perihelion Distance</th>\n",
       "      <th>Perihelion Arg</th>\n",
       "      <th>Aphelion Dist</th>\n",
       "      <th>Perihelion Time</th>\n",
       "      <th>Mean Anomaly</th>\n",
       "      <th>Mean Motion</th>\n",
       "      <th>Equinox</th>\n",
       "      <th>Hazardous</th>\n",
       "    </tr>\n",
       "  </thead>\n",
       "  <tbody>\n",
       "    <tr>\n",
       "      <th>0</th>\n",
       "      <td>3703080</td>\n",
       "      <td>3703080</td>\n",
       "      <td>21.6</td>\n",
       "      <td>0.127220</td>\n",
       "      <td>0.284472</td>\n",
       "      <td>127.219879</td>\n",
       "      <td>284.472297</td>\n",
       "      <td>0.079051</td>\n",
       "      <td>0.176763</td>\n",
       "      <td>417.388066</td>\n",
       "      <td>...</td>\n",
       "      <td>314.373913</td>\n",
       "      <td>609.599786</td>\n",
       "      <td>0.808259</td>\n",
       "      <td>57.257470</td>\n",
       "      <td>2.005764</td>\n",
       "      <td>2.458162e+06</td>\n",
       "      <td>264.837533</td>\n",
       "      <td>0.590551</td>\n",
       "      <td>J2000</td>\n",
       "      <td>True</td>\n",
       "    </tr>\n",
       "    <tr>\n",
       "      <th>1</th>\n",
       "      <td>3723955</td>\n",
       "      <td>3723955</td>\n",
       "      <td>21.3</td>\n",
       "      <td>0.146068</td>\n",
       "      <td>0.326618</td>\n",
       "      <td>146.067964</td>\n",
       "      <td>326.617897</td>\n",
       "      <td>0.090762</td>\n",
       "      <td>0.202951</td>\n",
       "      <td>479.225620</td>\n",
       "      <td>...</td>\n",
       "      <td>136.717242</td>\n",
       "      <td>425.869294</td>\n",
       "      <td>0.718200</td>\n",
       "      <td>313.091975</td>\n",
       "      <td>1.497352</td>\n",
       "      <td>2.457795e+06</td>\n",
       "      <td>173.741112</td>\n",
       "      <td>0.845330</td>\n",
       "      <td>J2000</td>\n",
       "      <td>False</td>\n",
       "    </tr>\n",
       "    <tr>\n",
       "      <th>2</th>\n",
       "      <td>2446862</td>\n",
       "      <td>2446862</td>\n",
       "      <td>20.3</td>\n",
       "      <td>0.231502</td>\n",
       "      <td>0.517654</td>\n",
       "      <td>231.502122</td>\n",
       "      <td>517.654482</td>\n",
       "      <td>0.143849</td>\n",
       "      <td>0.321655</td>\n",
       "      <td>759.521423</td>\n",
       "      <td>...</td>\n",
       "      <td>259.475979</td>\n",
       "      <td>643.580228</td>\n",
       "      <td>0.950791</td>\n",
       "      <td>248.415038</td>\n",
       "      <td>1.966857</td>\n",
       "      <td>2.458120e+06</td>\n",
       "      <td>292.893654</td>\n",
       "      <td>0.559371</td>\n",
       "      <td>J2000</td>\n",
       "      <td>True</td>\n",
       "    </tr>\n",
       "    <tr>\n",
       "      <th>3</th>\n",
       "      <td>3092506</td>\n",
       "      <td>3092506</td>\n",
       "      <td>27.4</td>\n",
       "      <td>0.008801</td>\n",
       "      <td>0.019681</td>\n",
       "      <td>8.801465</td>\n",
       "      <td>19.680675</td>\n",
       "      <td>0.005469</td>\n",
       "      <td>0.012229</td>\n",
       "      <td>28.876199</td>\n",
       "      <td>...</td>\n",
       "      <td>57.173266</td>\n",
       "      <td>514.082140</td>\n",
       "      <td>0.983902</td>\n",
       "      <td>18.707701</td>\n",
       "      <td>1.527904</td>\n",
       "      <td>2.457902e+06</td>\n",
       "      <td>68.741007</td>\n",
       "      <td>0.700277</td>\n",
       "      <td>J2000</td>\n",
       "      <td>False</td>\n",
       "    </tr>\n",
       "    <tr>\n",
       "      <th>4</th>\n",
       "      <td>3514799</td>\n",
       "      <td>3514799</td>\n",
       "      <td>21.6</td>\n",
       "      <td>0.127220</td>\n",
       "      <td>0.284472</td>\n",
       "      <td>127.219879</td>\n",
       "      <td>284.472297</td>\n",
       "      <td>0.079051</td>\n",
       "      <td>0.176763</td>\n",
       "      <td>417.388066</td>\n",
       "      <td>...</td>\n",
       "      <td>84.629307</td>\n",
       "      <td>495.597821</td>\n",
       "      <td>0.967687</td>\n",
       "      <td>158.263596</td>\n",
       "      <td>1.483543</td>\n",
       "      <td>2.457814e+06</td>\n",
       "      <td>135.142133</td>\n",
       "      <td>0.726395</td>\n",
       "      <td>J2000</td>\n",
       "      <td>True</td>\n",
       "    </tr>\n",
       "  </tbody>\n",
       "</table>\n",
       "<p>5 rows × 40 columns</p>\n",
       "</div>"
      ],
      "text/plain": [
       "   Neo Reference ID     Name  Absolute Magnitude  Est Dia in KM(min)  \\\n",
       "0           3703080  3703080                21.6            0.127220   \n",
       "1           3723955  3723955                21.3            0.146068   \n",
       "2           2446862  2446862                20.3            0.231502   \n",
       "3           3092506  3092506                27.4            0.008801   \n",
       "4           3514799  3514799                21.6            0.127220   \n",
       "\n",
       "   Est Dia in KM(max)  Est Dia in M(min)  Est Dia in M(max)  \\\n",
       "0            0.284472         127.219879         284.472297   \n",
       "1            0.326618         146.067964         326.617897   \n",
       "2            0.517654         231.502122         517.654482   \n",
       "3            0.019681           8.801465          19.680675   \n",
       "4            0.284472         127.219879         284.472297   \n",
       "\n",
       "   Est Dia in Miles(min)  Est Dia in Miles(max)  Est Dia in Feet(min)  ...  \\\n",
       "0               0.079051               0.176763            417.388066  ...   \n",
       "1               0.090762               0.202951            479.225620  ...   \n",
       "2               0.143849               0.321655            759.521423  ...   \n",
       "3               0.005469               0.012229             28.876199  ...   \n",
       "4               0.079051               0.176763            417.388066  ...   \n",
       "\n",
       "   Asc Node Longitude Orbital Period  Perihelion Distance  Perihelion Arg  \\\n",
       "0          314.373913     609.599786             0.808259       57.257470   \n",
       "1          136.717242     425.869294             0.718200      313.091975   \n",
       "2          259.475979     643.580228             0.950791      248.415038   \n",
       "3           57.173266     514.082140             0.983902       18.707701   \n",
       "4           84.629307     495.597821             0.967687      158.263596   \n",
       "\n",
       "   Aphelion Dist  Perihelion Time  Mean Anomaly  Mean Motion  Equinox  \\\n",
       "0       2.005764     2.458162e+06    264.837533     0.590551    J2000   \n",
       "1       1.497352     2.457795e+06    173.741112     0.845330    J2000   \n",
       "2       1.966857     2.458120e+06    292.893654     0.559371    J2000   \n",
       "3       1.527904     2.457902e+06     68.741007     0.700277    J2000   \n",
       "4       1.483543     2.457814e+06    135.142133     0.726395    J2000   \n",
       "\n",
       "   Hazardous  \n",
       "0       True  \n",
       "1      False  \n",
       "2       True  \n",
       "3      False  \n",
       "4       True  \n",
       "\n",
       "[5 rows x 40 columns]"
      ]
     },
     "execution_count": 4,
     "metadata": {},
     "output_type": "execute_result"
    }
   ],
   "source": [
    "dataset.head()"
   ]
  },
  {
   "cell_type": "code",
   "execution_count": 18,
   "metadata": {},
   "outputs": [],
   "source": [
    "# REMOVING SOME LESS IMPORTANT FEATURES LIKE 'Neo Reference ID', 'Name', 'Equinox', 'Orbit Determination Date', 'Close Approach Date' , 'Orbiting Body' , 'Orbit ID'\n",
    "\n",
    "x = dataset.iloc[:,[2,3,4,5,6,7,8,9,10,12,13,14,15,16,17,18,19,23,24,25,26,27,28,29,30,31,32,33,34,35,36,37]].values\n",
    "y = dataset.iloc[:,-1].values"
   ]
  },
  {
   "cell_type": "code",
   "execution_count": 34,
   "metadata": {},
   "outputs": [
    {
     "data": {
      "text/plain": [
       "(4687, 32)"
      ]
     },
     "execution_count": 34,
     "metadata": {},
     "output_type": "execute_result"
    }
   ],
   "source": [
    "x.shape"
   ]
  },
  {
   "cell_type": "code",
   "execution_count": 35,
   "metadata": {},
   "outputs": [
    {
     "data": {
      "text/plain": [
       "(4687,)"
      ]
     },
     "execution_count": 35,
     "metadata": {},
     "output_type": "execute_result"
    }
   ],
   "source": [
    "y.shape"
   ]
  },
  {
   "cell_type": "markdown",
   "metadata": {},
   "source": [
    "### THE LOGISTIC REGRESSION FUNCTION"
   ]
  },
  {
   "cell_type": "code",
   "execution_count": 163,
   "metadata": {},
   "outputs": [],
   "source": [
    "# MODEL TRAINING\n",
    "\n",
    "def log_reg(x_pass,y_pass,learning_rate=0.5,epochs=3000,print_cost=True):\n",
    "    x = x_pass.T\n",
    "    y = y_pass.reshape(1,x.shape[1])\n",
    "    m = x.shape[1]\n",
    "    w = np.zeros((x.shape[0],1))\n",
    "    b = 0.0\n",
    "    for i in range(epochs+1):\n",
    "        z = np.dot(w.T,x)+b\n",
    "        a = 1/(1+np.exp(-1*z))\n",
    "        loss = -np.mean((y*np.log(a))+((1-y)*np.log(1-a)))\n",
    "        dz = a-y\n",
    "        dw = (1/m)*np.dot(x,dz.T)\n",
    "        db = np.mean(dz)\n",
    "        w = w - (learning_rate*dw)\n",
    "        b = b - (learning_rate*db)\n",
    "        if print_cost==True:\n",
    "            if i%400==0:\n",
    "                print(\"epoch\",i,\"  cost :\",loss)\n",
    "    return w,b   "
   ]
  },
  {
   "cell_type": "code",
   "execution_count": 130,
   "metadata": {},
   "outputs": [],
   "source": [
    "# PREDICTING VALUES\n",
    "\n",
    "def predict(x_pass,w,b):\n",
    "    x = x_pass.T\n",
    "    z = np.dot(w.T,x)+b\n",
    "    a = np.zeros(x.shape[1])\n",
    "    sigmoid = 1/(1+np.exp(-1*z))\n",
    "    for i in range(x.shape[1]):\n",
    "        if sigmoid[0,i]>=0.5:\n",
    "            a[i]=1\n",
    "        elif sigmoid[0,i]<0.5:\n",
    "            a[i]=0\n",
    "    return a\n",
    "        \n",
    "    "
   ]
  },
  {
   "cell_type": "markdown",
   "metadata": {},
   "source": [
    "### NORMALIZING THE DATASET"
   ]
  },
  {
   "cell_type": "code",
   "execution_count": 51,
   "metadata": {},
   "outputs": [],
   "source": [
    "def normalize(x_pass):\n",
    "    mean = np.mean(x_pass,axis=0).reshape(1,x_pass.shape[1])\n",
    "    x = x_pass - mean\n",
    "    x_std = np.std(x,axis=0).reshape(1,x_pass.shape[1])\n",
    "    x_norm = x/x_std\n",
    "    return x_norm    "
   ]
  },
  {
   "cell_type": "markdown",
   "metadata": {},
   "source": [
    "### APPLYING PCA "
   ]
  },
  {
   "cell_type": "code",
   "execution_count": 171,
   "metadata": {},
   "outputs": [],
   "source": [
    "def pca(x_pass,n_comp=None):\n",
    "    x_norm = normalize(x_pass)\n",
    "    cov = (1/x_pass.shape[1])*(x_norm.T).dot(x_norm)\n",
    "    u,s,v = np.linalg.svd(cov)\n",
    "    if n_comp==None:\n",
    "        pres_var = np.cumsum(s)/np.sum(s)\n",
    "        for i in range(1,x_pass.shape[1]):\n",
    "            print(\"for\",i,\"components information preserved is :\",pres_var[i-1]*100,\"%\")\n",
    "            plt.figure(num=2,figsize=(18,13.5))\n",
    "            plt.scatter(i,pres_var[i]*100)\n",
    "            plt.annotate(str(i),(i,pres_var[i]*100))\n",
    "        plt.xlabel('no. of components',fontdict=font)\n",
    "        plt.ylabel(\"% of preserved information\",fontdict=font)\n",
    "        plt.show()\n",
    "    else:\n",
    "        x_red = (u[:,:n_comp].T).dot(x_norm.T).T\n",
    "        return x_red   "
   ]
  },
  {
   "cell_type": "markdown",
   "metadata": {},
   "source": [
    "### APPLYING LOGISTIC REGRESSION TO ORIGINAL FEATURES"
   ]
  },
  {
   "cell_type": "code",
   "execution_count": 58,
   "metadata": {},
   "outputs": [],
   "source": [
    "x_norm = normalize(x)                             # mean normalizing dataset"
   ]
  },
  {
   "cell_type": "code",
   "execution_count": 109,
   "metadata": {},
   "outputs": [],
   "source": [
    "# Splitting datset into training and test sets\n",
    "\n",
    "from sklearn.model_selection import train_test_split\n",
    "x_train,x_test,y_train,y_test = train_test_split(x_norm ,y ,test_size=0.25 ,random_state=5)"
   ]
  },
  {
   "cell_type": "code",
   "execution_count": 136,
   "metadata": {},
   "outputs": [
    {
     "name": "stdout",
     "output_type": "stream",
     "text": [
      "epoch 0   cost : 0.6931471805599454\n",
      "epoch 400   cost : 0.15719381071487445\n",
      "epoch 800   cost : 0.1340609287824133\n",
      "epoch 1200   cost : 0.12371088706192476\n",
      "epoch 1600   cost : 0.11770509224177896\n",
      "epoch 2000   cost : 0.11376397264563516\n",
      "epoch 2400   cost : 0.11098191757636612\n",
      "epoch 2800   cost : 0.10892010336514292\n",
      "epoch 3200   cost : 0.10733779177872937\n",
      "epoch 3600   cost : 0.1060910913693676\n",
      "epoch 4000   cost : 0.10508839803487761\n",
      "epoch 4400   cost : 0.10426849896821626\n",
      "epoch 4800   cost : 0.10358888593195968\n",
      "epoch 5200   cost : 0.10301910148702471\n",
      "epoch 5600   cost : 0.10253674859956054\n",
      "epoch 6000   cost : 0.10212499287506455\n",
      "epoch 6400   cost : 0.10177094195001248\n",
      "epoch 6800   cost : 0.10146456136996312\n",
      "epoch 7200   cost : 0.10119792999123269\n",
      "epoch 7600   cost : 0.1009647166963955\n",
      "epoch 8000   cost : 0.10075980514254167\n",
      "epoch 8400   cost : 0.10057901980553337\n",
      "epoch 8800   cost : 0.10041892275545125\n",
      "epoch 9200   cost : 0.10027666072286918\n",
      "epoch 9600   cost : 0.10014984850979422\n",
      "epoch 10000   cost : 0.10003647905656571\n",
      "epoch 10400   cost : 0.09993485332262882\n",
      "epoch 10800   cost : 0.09984352507674933\n",
      "epoch 11200   cost : 0.0997612570328615\n",
      "epoch 11600   cost : 0.09968698570925598\n",
      "epoch 12000   cost : 0.09961979305918499\n",
      "epoch 12400   cost : 0.09955888340436439\n",
      "epoch 12800   cost : 0.09950356455554481\n",
      "epoch 13200   cost : 0.09945323226447042\n",
      "epoch 13600   cost : 0.09940735734538358\n",
      "epoch 14000   cost : 0.0993654749500388\n",
      "epoch 14400   cost : 0.09932717559084174\n",
      "epoch 14800   cost : 0.09929209759139837\n",
      "epoch 15200   cost : 0.09925992070906091\n",
      "epoch 15600   cost : 0.09923036072478379\n",
      "epoch 16000   cost : 0.09920316483528938\n",
      "the training time is : 21.33051371574402\n"
     ]
    }
   ],
   "source": [
    "tic = time.time()\n",
    "w,b = log_reg(x_train,y_train,learning_rate=0.3,epochs=16000)\n",
    "toc = time.time()\n",
    "train_time = toc - tic\n",
    "print(\"the training time is :\",train_time)"
   ]
  },
  {
   "cell_type": "code",
   "execution_count": 137,
   "metadata": {},
   "outputs": [],
   "source": [
    "y_pred = predict(x_test,w,b)"
   ]
  },
  {
   "cell_type": "code",
   "execution_count": 138,
   "metadata": {},
   "outputs": [
    {
     "name": "stdout",
     "output_type": "stream",
     "text": [
      "the accuracy is : 0.9496587030716723\n"
     ]
    }
   ],
   "source": [
    "# Computing the accuracy of the model\n",
    "\n",
    "from sklearn.metrics import confusion_matrix\n",
    "cm = confusion_matrix(y_test,y_pred)\n",
    "accuracy = (cm[0][0]+cm[1][1])/(cm[0][0]+cm[1][1]+cm[1][0]+cm[0][1])\n",
    "print(\"the accuracy is :\",accuracy)"
   ]
  },
  {
   "cell_type": "markdown",
   "metadata": {},
   "source": [
    "#### FOR ORIGINAL DATASET :\n",
    "\n",
    "- TRAINING TIME : 21.33051371574402 s \n",
    "- ACCURACY      : 94.96587030716723 %"
   ]
  },
  {
   "cell_type": "markdown",
   "metadata": {},
   "source": [
    "### APPLYING LOGISTIC REGRESSION TO PRINCIPAL COMPONENTS"
   ]
  },
  {
   "cell_type": "code",
   "execution_count": 172,
   "metadata": {},
   "outputs": [
    {
     "name": "stdout",
     "output_type": "stream",
     "text": [
      "for 1 components information preserved is : 31.157393578536798 %\n",
      "for 2 components information preserved is : 48.807922965336004 %\n",
      "for 3 components information preserved is : 61.7658150515288 %\n",
      "for 4 components information preserved is : 71.12839170550475 %\n",
      "for 5 components information preserved is : 77.06430665149496 %\n",
      "for 6 components information preserved is : 81.00980371343763 %\n",
      "for 7 components information preserved is : 84.3781490999543 %\n",
      "for 8 components information preserved is : 87.57935425259407 %\n",
      "for 9 components information preserved is : 90.62325350145363 %\n",
      "for 10 components information preserved is : 93.61176244511944 %\n",
      "for 11 components information preserved is : 96.0476400824742 %\n",
      "for 12 components information preserved is : 97.79608757943822 %\n",
      "for 13 components information preserved is : 98.6964690795885 %\n",
      "for 14 components information preserved is : 99.31719141905354 %\n",
      "for 15 components information preserved is : 99.83859230846248 %\n",
      "for 16 components information preserved is : 99.9383098866187 %\n",
      "for 17 components information preserved is : 99.99538692029346 %\n",
      "for 18 components information preserved is : 99.99899110039907 %\n",
      "for 19 components information preserved is : 99.99999999999974 %\n",
      "for 20 components information preserved is : 99.99999999999982 %\n",
      "for 21 components information preserved is : 99.99999999999987 %\n",
      "for 22 components information preserved is : 99.9999999999999 %\n",
      "for 23 components information preserved is : 99.99999999999993 %\n",
      "for 24 components information preserved is : 99.99999999999994 %\n",
      "for 25 components information preserved is : 99.99999999999997 %\n",
      "for 26 components information preserved is : 99.99999999999997 %\n",
      "for 27 components information preserved is : 99.99999999999997 %\n",
      "for 28 components information preserved is : 99.99999999999997 %\n",
      "for 29 components information preserved is : 99.99999999999997 %\n",
      "for 30 components information preserved is : 99.99999999999997 %\n",
      "for 31 components information preserved is : 99.99999999999997 %\n"
     ]
    },
    {
     "data": {
      "image/png": "[encoded data removed]",
      "text/plain": [
       "<Figure size 1296x972 with 1 Axes>"
      ]
     },
     "metadata": {},
     "output_type": "display_data"
    }
   ],
   "source": [
    "pca(x)                              # CHECKING THE PRESERVED INFORMATION ON NO. OF COMPONENTS"
   ]
  },
  {
   "cell_type": "code",
   "execution_count": 170,
   "metadata": {},
   "outputs": [
    {
     "name": "stdout",
     "output_type": "stream",
     "text": [
      "for 1 components accuracy of model is : 82.33788395904436 %\n",
      "for 2 components accuracy of model is : 82.16723549488054 %\n",
      "for 3 components accuracy of model is : 82.08191126279864 %\n",
      "for 4 components accuracy of model is : 82.5938566552901 %\n",
      "for 5 components accuracy of model is : 82.5085324232082 %\n",
      "for 6 components accuracy of model is : 82.42320819112628 %\n",
      "for 7 components accuracy of model is : 83.53242320819113 %\n",
      "for 8 components accuracy of model is : 83.53242320819113 %\n",
      "for 9 components accuracy of model is : 83.44709897610922 %\n",
      "for 10 components accuracy of model is : 83.3617747440273 %\n",
      "for 11 components accuracy of model is : 83.3617747440273 %\n",
      "for 12 components accuracy of model is : 88.31058020477815 %\n",
      "for 13 components accuracy of model is : 92.4061433447099 %\n",
      "for 14 components accuracy of model is : 94.19795221843003 %\n",
      "for 15 components accuracy of model is : 95.05119453924915 %\n",
      "for 16 components accuracy of model is : 95.05119453924915 %\n",
      "for 17 components accuracy of model is : 94.96587030716724 %\n",
      "for 18 components accuracy of model is : 94.96587030716724 %\n",
      "for 19 components accuracy of model is : 94.96587030716724 %\n",
      "for 20 components accuracy of model is : 94.96587030716724 %\n",
      "for 21 components accuracy of model is : 94.96587030716724 %\n",
      "for 22 components accuracy of model is : 94.96587030716724 %\n",
      "for 23 components accuracy of model is : 94.96587030716724 %\n",
      "for 24 components accuracy of model is : 94.96587030716724 %\n",
      "for 25 components accuracy of model is : 94.96587030716724 %\n",
      "for 26 components accuracy of model is : 94.96587030716724 %\n",
      "for 27 components accuracy of model is : 94.96587030716724 %\n",
      "for 28 components accuracy of model is : 94.96587030716724 %\n",
      "for 29 components accuracy of model is : 94.96587030716724 %\n",
      "for 30 components accuracy of model is : 94.96587030716724 %\n",
      "for 31 components accuracy of model is : 94.96587030716724 %\n"
     ]
    },
    {
     "data": {
      "image/png": "[encoded data removed]",
      "text/plain": [
       "<Figure size 1296x972 with 1 Axes>"
      ]
     },
     "metadata": {},
     "output_type": "display_data"
    }
   ],
   "source": [
    "# CHECKING THE ACCURACY OF MODEL ON NO. OF PRINCIPAL COMPONENTS\n",
    "\n",
    "for i in range(1,32):\n",
    "    x_red = pca(x,i)\n",
    "    x_red_train , x_red_test , y_train , y_test = train_test_split(x_red,y,test_size=0.25,random_state=5)\n",
    "    w_red , b_red = log_reg(x_red_train,y_train,learning_rate=0.3,epochs=16000,print_cost=False)\n",
    "    y_red_pred = predict(x_red_test,w_red,b_red)\n",
    "    cm_red = confusion_matrix(y_test,y_red_pred)\n",
    "    acc = (cm_red[0][0]+cm_red[1][1])/(cm_red[0][0]+cm_red[1][1]+cm_red[1][0]+cm_red[0][1])\n",
    "    print(\"for\",i,\"components accuracy of model is :\",acc*100,\"%\")\n",
    "    plt.figure(num=2,figsize=(18,13.5))\n",
    "    plt.scatter(i,acc*100)\n",
    "    plt.annotate(str(i),(i,acc*100))\n",
    "plt.xlabel(\"no. of components\",fontdict=font)\n",
    "plt.ylabel(\"Accuracy of model\",fontdict=font)\n",
    "plt.show()"
   ]
  },
  {
   "cell_type": "code",
   "execution_count": 173,
   "metadata": {
    "scrolled": false
   },
   "outputs": [
    {
     "name": "stdout",
     "output_type": "stream",
     "text": [
      "for 1 components training time of model is : 6.705126047134399 s\n",
      "for 2 components training time of model is : 8.108497381210327 s\n",
      "for 3 components training time of model is : 7.677842617034912 s\n",
      "for 4 components training time of model is : 5.588250398635864 s\n",
      "for 5 components training time of model is : 5.87372088432312 s\n",
      "for 6 components training time of model is : 6.239620208740234 s\n",
      "for 7 components training time of model is : 6.905743598937988 s\n",
      "for 8 components training time of model is : 6.571740627288818 s\n",
      "for 9 components training time of model is : 7.004460573196411 s\n",
      "for 10 components training time of model is : 6.752665281295776 s\n",
      "for 11 components training time of model is : 7.062261581420898 s\n",
      "for 12 components training time of model is : 7.254809617996216 s\n",
      "for 13 components training time of model is : 7.442986011505127 s\n",
      "for 14 components training time of model is : 7.929995536804199 s\n",
      "for 15 components training time of model is : 8.768172979354858 s\n",
      "for 16 components training time of model is : 10.716922521591187 s\n",
      "for 17 components training time of model is : 9.050803661346436 s\n",
      "for 18 components training time of model is : 8.70180368423462 s\n",
      "for 19 components training time of model is : 9.225482702255249 s\n",
      "for 20 components training time of model is : 9.569566249847412 s\n",
      "for 21 components training time of model is : 12.020801782608032 s\n",
      "for 22 components training time of model is : 10.354511499404907 s\n",
      "for 23 components training time of model is : 10.679635524749756 s\n",
      "for 24 components training time of model is : 11.163479089736938 s\n",
      "for 25 components training time of model is : 11.754928588867188 s\n",
      "for 26 components training time of model is : 12.388617277145386 s\n",
      "for 27 components training time of model is : 14.316374778747559 s\n",
      "for 28 components training time of model is : 16.364429712295532 s\n",
      "for 29 components training time of model is : 13.837416172027588 s\n",
      "for 30 components training time of model is : 14.848315000534058 s\n",
      "for 31 components training time of model is : 14.207343339920044 s\n"
     ]
    }
   ],
   "source": [
    "# EVALUATING TRAINING TIME FOR MODELS WITH DIFFERENT NO. OF PRINCIPAL COMPONENTS\n",
    "\n",
    "for i in range(1,32):\n",
    "    x_red = pca(x,i)\n",
    "    x_red_train , x_red_test , y_train , y_test = train_test_split(x_red,y,test_size=0.25,random_state=5)\n",
    "    tice = time.time()\n",
    "    w_red , b_red = log_reg(x_red_train,y_train,learning_rate=0.3,epochs=16000,print_cost=False)\n",
    "    toce = time.time()\n",
    "    training_time = toce-tice \n",
    "    print(\"for\",i,\"components training time of model is :\",training_time,\"s\")"
   ]
  },
  {
   "cell_type": "markdown",
   "metadata": {},
   "source": [
    "#### 90% INFORMATION PRESERVATION\n",
    "- NO. OF PRINCIPAL COMPONENTS REQUIRED : 9\n",
    "- ACCURACY OF THE MODEL : 83.44709897610922 %\n",
    "- TRAINING TIME : 7.004460573196411 s"
   ]
  },
  {
   "cell_type": "markdown",
   "metadata": {},
   "source": [
    "#### 50% INFORMATION PRESERVATION\n",
    "- NO. OF PRINCIPAL COMPONENTS REQUIRED : 3\n",
    "- ACCURACY OF THE MODEL : 82.08191126279864 %\n",
    "- TRAINING TIME : 7.677842617034912 s"
   ]
  },
  {
   "cell_type": "markdown",
   "metadata": {},
   "source": [
    "### MAX ACCURACY(95.05119453924915 %) IS ACHIEVED WHEN NO. OF PRINCIPAL COMPONENTS IS : 15"
   ]
  },
  {
   "cell_type": "code",
   "execution_count": null,
   "metadata": {},
   "outputs": [],
   "source": []
  }
 ],
 "metadata": {
  "kernelspec": {
   "display_name": "Python 3",
   "language": "python",
   "name": "python3"
  },
  "language_info": {
   "codemirror_mode": {
    "name": "ipython",
    "version": 3
   },
   "file_extension": ".py",
   "mimetype": "text/x-python",
   "name": "python",
   "nbconvert_exporter": "python",
   "pygments_lexer": "ipython3",
   "version": "3.7.3"
  }
 },
 "nbformat": 4,
 "nbformat_minor": 2
}
