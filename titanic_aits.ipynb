{
  "nbformat": 4,
  "nbformat_minor": 0,
  "metadata": {
    "colab": {
      "name": "titanic_aits.ipynb",
      "version": "0.3.2",
      "provenance": [],
      "collapsed_sections": []
    },
    "kernelspec": {
      "name": "python3",
      "display_name": "Python 3"
    }
  },
  "cells": [
    {
      "cell_type": "markdown",
      "metadata": {
        "id": "TIbDxVHyM4Hg",
        "colab_type": "text"
      },
      "source": [
        "# Assignment 3: Compare Support Vector Machines to a 3 layer Neural Networks on the titanic dataset "
      ]
    },
    {
      "cell_type": "code",
      "metadata": {
        "id": "vVtnpGQeBDq0",
        "colab_type": "code",
        "colab": {}
      },
      "source": [
        "import pandas as pd\n"
      ],
      "execution_count": 0,
      "outputs": []
    },
    {
      "cell_type": "markdown",
      "metadata": {
        "id": "IaWFHOk6Nd5s",
        "colab_type": "text"
      },
      "source": [
        "### Downloading the dataset "
      ]
    },
    {
      "cell_type": "code",
      "metadata": {
        "id": "1zdBWt0DBK_L",
        "colab_type": "code",
        "colab": {}
      },
      "source": [
        "data=pd.read_csv('/content/train.csv')\n",
        "test=pd.read_csv('/content/test.csv')"
      ],
      "execution_count": 0,
      "outputs": []
    },
    {
      "cell_type": "markdown",
      "metadata": {
        "id": "pn905hJ8NrTh",
        "colab_type": "text"
      },
      "source": [
        "### Data analysis"
      ]
    },
    {
      "cell_type": "code",
      "metadata": {
        "id": "Pyp5I8nwEcNg",
        "colab_type": "code",
        "outputId": "f82852b9-9a51-4729-d95d-39ebff524a6d",
        "colab": {
          "base_uri": "https://localhost:8080/",
          "height": 194
        }
      },
      "source": [
        "test.head()"
      ],
      "execution_count": 4,
      "outputs": [
        {
          "output_type": "execute_result",
          "data": {
            "text/html": [
              "<div>\n",
              "<style scoped>\n",
              "    .dataframe tbody tr th:only-of-type {\n",
              "        vertical-align: middle;\n",
              "    }\n",
              "\n",
              "    .dataframe tbody tr th {\n",
              "        vertical-align: top;\n",
              "    }\n",
              "\n",
              "    .dataframe thead th {\n",
              "        text-align: right;\n",
              "    }\n",
              "</style>\n",
              "<table border=\"1\" class=\"dataframe\">\n",
              "  <thead>\n",
              "    <tr style=\"text-align: right;\">\n",
              "      <th></th>\n",
              "      <th>PassengerId</th>\n",
              "      <th>Pclass</th>\n",
              "      <th>Name</th>\n",
              "      <th>Sex</th>\n",
              "      <th>Age</th>\n",
              "      <th>SibSp</th>\n",
              "      <th>Parch</th>\n",
              "      <th>Ticket</th>\n",
              "      <th>Fare</th>\n",
              "      <th>Cabin</th>\n",
              "      <th>Embarked</th>\n",
              "    </tr>\n",
              "  </thead>\n",
              "  <tbody>\n",
              "    <tr>\n",
              "      <th>0</th>\n",
              "      <td>892</td>\n",
              "      <td>3</td>\n",
              "      <td>Kelly, Mr. James</td>\n",
              "      <td>male</td>\n",
              "      <td>34.5</td>\n",
              "      <td>0</td>\n",
              "      <td>0</td>\n",
              "      <td>330911</td>\n",
              "      <td>7.8292</td>\n",
              "      <td>NaN</td>\n",
              "      <td>Q</td>\n",
              "    </tr>\n",
              "    <tr>\n",
              "      <th>1</th>\n",
              "      <td>893</td>\n",
              "      <td>3</td>\n",
              "      <td>Wilkes, Mrs. James (Ellen Needs)</td>\n",
              "      <td>female</td>\n",
              "      <td>47.0</td>\n",
              "      <td>1</td>\n",
              "      <td>0</td>\n",
              "      <td>363272</td>\n",
              "      <td>7.0000</td>\n",
              "      <td>NaN</td>\n",
              "      <td>S</td>\n",
              "    </tr>\n",
              "    <tr>\n",
              "      <th>2</th>\n",
              "      <td>894</td>\n",
              "      <td>2</td>\n",
              "      <td>Myles, Mr. Thomas Francis</td>\n",
              "      <td>male</td>\n",
              "      <td>62.0</td>\n",
              "      <td>0</td>\n",
              "      <td>0</td>\n",
              "      <td>240276</td>\n",
              "      <td>9.6875</td>\n",
              "      <td>NaN</td>\n",
              "      <td>Q</td>\n",
              "    </tr>\n",
              "    <tr>\n",
              "      <th>3</th>\n",
              "      <td>895</td>\n",
              "      <td>3</td>\n",
              "      <td>Wirz, Mr. Albert</td>\n",
              "      <td>male</td>\n",
              "      <td>27.0</td>\n",
              "      <td>0</td>\n",
              "      <td>0</td>\n",
              "      <td>315154</td>\n",
              "      <td>8.6625</td>\n",
              "      <td>NaN</td>\n",
              "      <td>S</td>\n",
              "    </tr>\n",
              "    <tr>\n",
              "      <th>4</th>\n",
              "      <td>896</td>\n",
              "      <td>3</td>\n",
              "      <td>Hirvonen, Mrs. Alexander (Helga E Lindqvist)</td>\n",
              "      <td>female</td>\n",
              "      <td>22.0</td>\n",
              "      <td>1</td>\n",
              "      <td>1</td>\n",
              "      <td>3101298</td>\n",
              "      <td>12.2875</td>\n",
              "      <td>NaN</td>\n",
              "      <td>S</td>\n",
              "    </tr>\n",
              "  </tbody>\n",
              "</table>\n",
              "</div>"
            ],
            "text/plain": [
              "   PassengerId  Pclass  ... Cabin Embarked\n",
              "0          892       3  ...   NaN        Q\n",
              "1          893       3  ...   NaN        S\n",
              "2          894       2  ...   NaN        Q\n",
              "3          895       3  ...   NaN        S\n",
              "4          896       3  ...   NaN        S\n",
              "\n",
              "[5 rows x 11 columns]"
            ]
          },
          "metadata": {
            "tags": []
          },
          "execution_count": 4
        }
      ]
    },
    {
      "cell_type": "code",
      "metadata": {
        "id": "5SUdEHf0BWf6",
        "colab_type": "code",
        "outputId": "d87b8403-7423-4986-bd53-79f0a59cff36",
        "colab": {
          "base_uri": "https://localhost:8080/",
          "height": 194
        }
      },
      "source": [
        "data.head()"
      ],
      "execution_count": 5,
      "outputs": [
        {
          "output_type": "execute_result",
          "data": {
            "text/html": [
              "<div>\n",
              "<style scoped>\n",
              "    .dataframe tbody tr th:only-of-type {\n",
              "        vertical-align: middle;\n",
              "    }\n",
              "\n",
              "    .dataframe tbody tr th {\n",
              "        vertical-align: top;\n",
              "    }\n",
              "\n",
              "    .dataframe thead th {\n",
              "        text-align: right;\n",
              "    }\n",
              "</style>\n",
              "<table border=\"1\" class=\"dataframe\">\n",
              "  <thead>\n",
              "    <tr style=\"text-align: right;\">\n",
              "      <th></th>\n",
              "      <th>PassengerId</th>\n",
              "      <th>Survived</th>\n",
              "      <th>Pclass</th>\n",
              "      <th>Name</th>\n",
              "      <th>Sex</th>\n",
              "      <th>Age</th>\n",
              "      <th>SibSp</th>\n",
              "      <th>Parch</th>\n",
              "      <th>Ticket</th>\n",
              "      <th>Fare</th>\n",
              "      <th>Cabin</th>\n",
              "      <th>Embarked</th>\n",
              "    </tr>\n",
              "  </thead>\n",
              "  <tbody>\n",
              "    <tr>\n",
              "      <th>0</th>\n",
              "      <td>1</td>\n",
              "      <td>0</td>\n",
              "      <td>3</td>\n",
              "      <td>Braund, Mr. Owen Harris</td>\n",
              "      <td>male</td>\n",
              "      <td>22.0</td>\n",
              "      <td>1</td>\n",
              "      <td>0</td>\n",
              "      <td>A/5 21171</td>\n",
              "      <td>7.2500</td>\n",
              "      <td>NaN</td>\n",
              "      <td>S</td>\n",
              "    </tr>\n",
              "    <tr>\n",
              "      <th>1</th>\n",
              "      <td>2</td>\n",
              "      <td>1</td>\n",
              "      <td>1</td>\n",
              "      <td>Cumings, Mrs. John Bradley (Florence Briggs Th...</td>\n",
              "      <td>female</td>\n",
              "      <td>38.0</td>\n",
              "      <td>1</td>\n",
              "      <td>0</td>\n",
              "      <td>PC 17599</td>\n",
              "      <td>71.2833</td>\n",
              "      <td>C85</td>\n",
              "      <td>C</td>\n",
              "    </tr>\n",
              "    <tr>\n",
              "      <th>2</th>\n",
              "      <td>3</td>\n",
              "      <td>1</td>\n",
              "      <td>3</td>\n",
              "      <td>Heikkinen, Miss. Laina</td>\n",
              "      <td>female</td>\n",
              "      <td>26.0</td>\n",
              "      <td>0</td>\n",
              "      <td>0</td>\n",
              "      <td>STON/O2. 3101282</td>\n",
              "      <td>7.9250</td>\n",
              "      <td>NaN</td>\n",
              "      <td>S</td>\n",
              "    </tr>\n",
              "    <tr>\n",
              "      <th>3</th>\n",
              "      <td>4</td>\n",
              "      <td>1</td>\n",
              "      <td>1</td>\n",
              "      <td>Futrelle, Mrs. Jacques Heath (Lily May Peel)</td>\n",
              "      <td>female</td>\n",
              "      <td>35.0</td>\n",
              "      <td>1</td>\n",
              "      <td>0</td>\n",
              "      <td>113803</td>\n",
              "      <td>53.1000</td>\n",
              "      <td>C123</td>\n",
              "      <td>S</td>\n",
              "    </tr>\n",
              "    <tr>\n",
              "      <th>4</th>\n",
              "      <td>5</td>\n",
              "      <td>0</td>\n",
              "      <td>3</td>\n",
              "      <td>Allen, Mr. William Henry</td>\n",
              "      <td>male</td>\n",
              "      <td>35.0</td>\n",
              "      <td>0</td>\n",
              "      <td>0</td>\n",
              "      <td>373450</td>\n",
              "      <td>8.0500</td>\n",
              "      <td>NaN</td>\n",
              "      <td>S</td>\n",
              "    </tr>\n",
              "  </tbody>\n",
              "</table>\n",
              "</div>"
            ],
            "text/plain": [
              "   PassengerId  Survived  Pclass  ...     Fare Cabin  Embarked\n",
              "0            1         0       3  ...   7.2500   NaN         S\n",
              "1            2         1       1  ...  71.2833   C85         C\n",
              "2            3         1       3  ...   7.9250   NaN         S\n",
              "3            4         1       1  ...  53.1000  C123         S\n",
              "4            5         0       3  ...   8.0500   NaN         S\n",
              "\n",
              "[5 rows x 12 columns]"
            ]
          },
          "metadata": {
            "tags": []
          },
          "execution_count": 5
        }
      ]
    },
    {
      "cell_type": "code",
      "metadata": {
        "id": "ZMzOMpE_BetK",
        "colab_type": "code",
        "outputId": "600de056-1982-41f9-f5cb-b1e9d802349d",
        "colab": {
          "base_uri": "https://localhost:8080/",
          "height": 319
        }
      },
      "source": [
        "data.info()"
      ],
      "execution_count": 6,
      "outputs": [
        {
          "output_type": "stream",
          "text": [
            "<class 'pandas.core.frame.DataFrame'>\n",
            "RangeIndex: 891 entries, 0 to 890\n",
            "Data columns (total 12 columns):\n",
            "PassengerId    891 non-null int64\n",
            "Survived       891 non-null int64\n",
            "Pclass         891 non-null int64\n",
            "Name           891 non-null object\n",
            "Sex            891 non-null object\n",
            "Age            714 non-null float64\n",
            "SibSp          891 non-null int64\n",
            "Parch          891 non-null int64\n",
            "Ticket         891 non-null object\n",
            "Fare           891 non-null float64\n",
            "Cabin          204 non-null object\n",
            "Embarked       889 non-null object\n",
            "dtypes: float64(2), int64(5), object(5)\n",
            "memory usage: 83.6+ KB\n"
          ],
          "name": "stdout"
        }
      ]
    },
    {
      "cell_type": "code",
      "metadata": {
        "id": "ENgFEzgXNi06",
        "colab_type": "code",
        "outputId": "7e4fd26b-16e0-4aba-a2dd-dc7c20c56290",
        "colab": {
          "base_uri": "https://localhost:8080/",
          "height": 282
        }
      },
      "source": [
        "data.describe()"
      ],
      "execution_count": 7,
      "outputs": [
        {
          "output_type": "execute_result",
          "data": {
            "text/html": [
              "<div>\n",
              "<style scoped>\n",
              "    .dataframe tbody tr th:only-of-type {\n",
              "        vertical-align: middle;\n",
              "    }\n",
              "\n",
              "    .dataframe tbody tr th {\n",
              "        vertical-align: top;\n",
              "    }\n",
              "\n",
              "    .dataframe thead th {\n",
              "        text-align: right;\n",
              "    }\n",
              "</style>\n",
              "<table border=\"1\" class=\"dataframe\">\n",
              "  <thead>\n",
              "    <tr style=\"text-align: right;\">\n",
              "      <th></th>\n",
              "      <th>PassengerId</th>\n",
              "      <th>Survived</th>\n",
              "      <th>Pclass</th>\n",
              "      <th>Age</th>\n",
              "      <th>SibSp</th>\n",
              "      <th>Parch</th>\n",
              "      <th>Fare</th>\n",
              "    </tr>\n",
              "  </thead>\n",
              "  <tbody>\n",
              "    <tr>\n",
              "      <th>count</th>\n",
              "      <td>891.000000</td>\n",
              "      <td>891.000000</td>\n",
              "      <td>891.000000</td>\n",
              "      <td>714.000000</td>\n",
              "      <td>891.000000</td>\n",
              "      <td>891.000000</td>\n",
              "      <td>891.000000</td>\n",
              "    </tr>\n",
              "    <tr>\n",
              "      <th>mean</th>\n",
              "      <td>446.000000</td>\n",
              "      <td>0.383838</td>\n",
              "      <td>2.308642</td>\n",
              "      <td>29.699118</td>\n",
              "      <td>0.523008</td>\n",
              "      <td>0.381594</td>\n",
              "      <td>32.204208</td>\n",
              "    </tr>\n",
              "    <tr>\n",
              "      <th>std</th>\n",
              "      <td>257.353842</td>\n",
              "      <td>0.486592</td>\n",
              "      <td>0.836071</td>\n",
              "      <td>14.526497</td>\n",
              "      <td>1.102743</td>\n",
              "      <td>0.806057</td>\n",
              "      <td>49.693429</td>\n",
              "    </tr>\n",
              "    <tr>\n",
              "      <th>min</th>\n",
              "      <td>1.000000</td>\n",
              "      <td>0.000000</td>\n",
              "      <td>1.000000</td>\n",
              "      <td>0.420000</td>\n",
              "      <td>0.000000</td>\n",
              "      <td>0.000000</td>\n",
              "      <td>0.000000</td>\n",
              "    </tr>\n",
              "    <tr>\n",
              "      <th>25%</th>\n",
              "      <td>223.500000</td>\n",
              "      <td>0.000000</td>\n",
              "      <td>2.000000</td>\n",
              "      <td>20.125000</td>\n",
              "      <td>0.000000</td>\n",
              "      <td>0.000000</td>\n",
              "      <td>7.910400</td>\n",
              "    </tr>\n",
              "    <tr>\n",
              "      <th>50%</th>\n",
              "      <td>446.000000</td>\n",
              "      <td>0.000000</td>\n",
              "      <td>3.000000</td>\n",
              "      <td>28.000000</td>\n",
              "      <td>0.000000</td>\n",
              "      <td>0.000000</td>\n",
              "      <td>14.454200</td>\n",
              "    </tr>\n",
              "    <tr>\n",
              "      <th>75%</th>\n",
              "      <td>668.500000</td>\n",
              "      <td>1.000000</td>\n",
              "      <td>3.000000</td>\n",
              "      <td>38.000000</td>\n",
              "      <td>1.000000</td>\n",
              "      <td>0.000000</td>\n",
              "      <td>31.000000</td>\n",
              "    </tr>\n",
              "    <tr>\n",
              "      <th>max</th>\n",
              "      <td>891.000000</td>\n",
              "      <td>1.000000</td>\n",
              "      <td>3.000000</td>\n",
              "      <td>80.000000</td>\n",
              "      <td>8.000000</td>\n",
              "      <td>6.000000</td>\n",
              "      <td>512.329200</td>\n",
              "    </tr>\n",
              "  </tbody>\n",
              "</table>\n",
              "</div>"
            ],
            "text/plain": [
              "       PassengerId    Survived      Pclass  ...       SibSp       Parch        Fare\n",
              "count   891.000000  891.000000  891.000000  ...  891.000000  891.000000  891.000000\n",
              "mean    446.000000    0.383838    2.308642  ...    0.523008    0.381594   32.204208\n",
              "std     257.353842    0.486592    0.836071  ...    1.102743    0.806057   49.693429\n",
              "min       1.000000    0.000000    1.000000  ...    0.000000    0.000000    0.000000\n",
              "25%     223.500000    0.000000    2.000000  ...    0.000000    0.000000    7.910400\n",
              "50%     446.000000    0.000000    3.000000  ...    0.000000    0.000000   14.454200\n",
              "75%     668.500000    1.000000    3.000000  ...    1.000000    0.000000   31.000000\n",
              "max     891.000000    1.000000    3.000000  ...    8.000000    6.000000  512.329200\n",
              "\n",
              "[8 rows x 7 columns]"
            ]
          },
          "metadata": {
            "tags": []
          },
          "execution_count": 7
        }
      ]
    },
    {
      "cell_type": "code",
      "metadata": {
        "id": "sHqORZv3Og04",
        "colab_type": "code",
        "outputId": "c56cc662-a37b-4d0f-b733-4ff0ea053c9d",
        "colab": {
          "base_uri": "https://localhost:8080/",
          "height": 627
        }
      },
      "source": [
        "import matplotlib.pyplot as plt\n",
        "import seaborn as sns\n",
        "surv = data['Survived'] == 1\n",
        "die = data['Survived'] == 0\n",
        "plt.figure(figsize=[12,10])\n",
        "plt.subplot(321)\n",
        "sns.barplot('Sex','Survived',data = data)\n",
        "plt.subplot(322)\n",
        "sns.barplot('Pclass','Survived',data = data)\n",
        "plt.subplot(323)\n",
        "sns.barplot('Age','Survived',data = data)\n",
        "plt.subplot(324)\n",
        "sns.distplot(data[surv]['Age'].dropna().values, bins=range(0, 81, 1), kde=False, color='blue')\n",
        "sns.distplot(data[die]['Age'].dropna().values, bins=range(0, 81, 1), kde=False, color='red')\n",
        "plt.subplot(325)\n",
        "sns.barplot('SibSp','Survived',data = data)\n",
        "plt.subplot(326)\n",
        "sns.barplot('Parch','Survived',data = data)"
      ],
      "execution_count": 13,
      "outputs": [
        {
          "output_type": "execute_result",
          "data": {
            "text/plain": [
              "<matplotlib.axes._subplots.AxesSubplot at 0x7f9d56232d30>"
            ]
          },
          "metadata": {
            "tags": []
          },
          "execution_count": 13
        },
        {
          "output_type": "display_data",
          "data": {
            "image/png": "[encoded data removed]",
            "text/plain": [
              "<Figure size 864x720 with 6 Axes>"
            ]
          },
          "metadata": {
            "tags": []
          }
        }
      ]
    },
    {
      "cell_type": "markdown",
      "metadata": {
        "id": "dkmhe1IjPEl4",
        "colab_type": "text"
      },
      "source": [
        "## Data preprocessing\n",
        "### We need to convert all the non-numeric data into numeric data so that we can work on it."
      ]
    },
    {
      "cell_type": "markdown",
      "metadata": {
        "id": "ZIwB4edJO4Nu",
        "colab_type": "text"
      },
      "source": [
        "#### Let us calculate how many NaN vaues are there in our dataset"
      ]
    },
    {
      "cell_type": "code",
      "metadata": {
        "id": "PSQ7j9_PBkiI",
        "colab_type": "code",
        "outputId": "66bd9511-0cf9-4885-db50-d6e18019317d",
        "colab": {
          "base_uri": "https://localhost:8080/",
          "height": 194
        }
      },
      "source": [
        "total = data.isnull().sum().sort_values(ascending=False)\n",
        "percent_1 = data.isnull().sum()/data.isnull().count()*100\n",
        "percent_2 = (round(percent_1, 1)).sort_values(ascending=False)\n",
        "missing_data = pd.concat([total, percent_2], axis=1, keys=['Total', '%'])\n",
        "missing_data.head(5)"
      ],
      "execution_count": 14,
      "outputs": [
        {
          "output_type": "execute_result",
          "data": {
            "text/html": [
              "<div>\n",
              "<style scoped>\n",
              "    .dataframe tbody tr th:only-of-type {\n",
              "        vertical-align: middle;\n",
              "    }\n",
              "\n",
              "    .dataframe tbody tr th {\n",
              "        vertical-align: top;\n",
              "    }\n",
              "\n",
              "    .dataframe thead th {\n",
              "        text-align: right;\n",
              "    }\n",
              "</style>\n",
              "<table border=\"1\" class=\"dataframe\">\n",
              "  <thead>\n",
              "    <tr style=\"text-align: right;\">\n",
              "      <th></th>\n",
              "      <th>Total</th>\n",
              "      <th>%</th>\n",
              "    </tr>\n",
              "  </thead>\n",
              "  <tbody>\n",
              "    <tr>\n",
              "      <th>Cabin</th>\n",
              "      <td>687</td>\n",
              "      <td>77.1</td>\n",
              "    </tr>\n",
              "    <tr>\n",
              "      <th>Age</th>\n",
              "      <td>177</td>\n",
              "      <td>19.9</td>\n",
              "    </tr>\n",
              "    <tr>\n",
              "      <th>Embarked</th>\n",
              "      <td>2</td>\n",
              "      <td>0.2</td>\n",
              "    </tr>\n",
              "    <tr>\n",
              "      <th>Fare</th>\n",
              "      <td>0</td>\n",
              "      <td>0.0</td>\n",
              "    </tr>\n",
              "    <tr>\n",
              "      <th>Ticket</th>\n",
              "      <td>0</td>\n",
              "      <td>0.0</td>\n",
              "    </tr>\n",
              "  </tbody>\n",
              "</table>\n",
              "</div>"
            ],
            "text/plain": [
              "          Total     %\n",
              "Cabin       687  77.1\n",
              "Age         177  19.9\n",
              "Embarked      2   0.2\n",
              "Fare          0   0.0\n",
              "Ticket        0   0.0"
            ]
          },
          "metadata": {
            "tags": []
          },
          "execution_count": 14
        }
      ]
    },
    {
      "cell_type": "code",
      "metadata": {
        "id": "8bITFG2LC5DB",
        "colab_type": "code",
        "colab": {}
      },
      "source": [
        "data[\"Fare\"]=data[\"Fare\"].fillna(data[\"Fare\"].dropna().median())\n",
        "data[\"Age\"]=data[\"Age\"].fillna(data[\"Age\"].dropna().median())\n",
        "\n",
        "\n",
        "        ## converting sex data into numeric data: male=0,female=1\n",
        "data.loc[data[\"Sex\"]==\"male\",\"Sex\"]=0\n",
        "data.loc[data[\"Sex\"]==\"female\",\"Sex\"]=1\n",
        "\n",
        "\n",
        "        ### converion embarking data to 0 for 'S', 1 for 'C',3 for 'Q'\n",
        "data.loc[data[\"Embarked\"]==\"S\",\"Embarked\"]=0\n",
        "data.loc[data[\"Embarked\"]==\"C\",\"Embarked\"]=1\n",
        "data.loc[data[\"Embarked\"]==\"Q\",\"Embarked\"]=2\n",
        "\n",
        "data['Embarked']=data['Embarked'].fillna(data['Embarked'].dropna().median())\n",
        "\n"
      ],
      "execution_count": 0,
      "outputs": []
    },
    {
      "cell_type": "code",
      "metadata": {
        "id": "lsPUpisgE1Di",
        "colab_type": "code",
        "outputId": "61b24c3a-dc25-494b-f9f6-dfe8810b192c",
        "colab": {
          "base_uri": "https://localhost:8080/",
          "height": 194
        }
      },
      "source": [
        "total = data.isnull().sum().sort_values(ascending=False)\n",
        "percent_1 = data.isnull().sum()/data.isnull().count()*100\n",
        "percent_2 = (round(percent_1, 1)).sort_values(ascending=False)\n",
        "missing_data = pd.concat([total, percent_2], axis=1, keys=['Total', '%'])\n",
        "missing_data.head(5)"
      ],
      "execution_count": 16,
      "outputs": [
        {
          "output_type": "execute_result",
          "data": {
            "text/html": [
              "<div>\n",
              "<style scoped>\n",
              "    .dataframe tbody tr th:only-of-type {\n",
              "        vertical-align: middle;\n",
              "    }\n",
              "\n",
              "    .dataframe tbody tr th {\n",
              "        vertical-align: top;\n",
              "    }\n",
              "\n",
              "    .dataframe thead th {\n",
              "        text-align: right;\n",
              "    }\n",
              "</style>\n",
              "<table border=\"1\" class=\"dataframe\">\n",
              "  <thead>\n",
              "    <tr style=\"text-align: right;\">\n",
              "      <th></th>\n",
              "      <th>Total</th>\n",
              "      <th>%</th>\n",
              "    </tr>\n",
              "  </thead>\n",
              "  <tbody>\n",
              "    <tr>\n",
              "      <th>Cabin</th>\n",
              "      <td>687</td>\n",
              "      <td>77.1</td>\n",
              "    </tr>\n",
              "    <tr>\n",
              "      <th>Embarked</th>\n",
              "      <td>0</td>\n",
              "      <td>0.0</td>\n",
              "    </tr>\n",
              "    <tr>\n",
              "      <th>Fare</th>\n",
              "      <td>0</td>\n",
              "      <td>0.0</td>\n",
              "    </tr>\n",
              "    <tr>\n",
              "      <th>Ticket</th>\n",
              "      <td>0</td>\n",
              "      <td>0.0</td>\n",
              "    </tr>\n",
              "    <tr>\n",
              "      <th>Parch</th>\n",
              "      <td>0</td>\n",
              "      <td>0.0</td>\n",
              "    </tr>\n",
              "  </tbody>\n",
              "</table>\n",
              "</div>"
            ],
            "text/plain": [
              "          Total     %\n",
              "Cabin       687  77.1\n",
              "Embarked      0   0.0\n",
              "Fare          0   0.0\n",
              "Ticket        0   0.0\n",
              "Parch         0   0.0"
            ]
          },
          "metadata": {
            "tags": []
          },
          "execution_count": 16
        }
      ]
    },
    {
      "cell_type": "code",
      "metadata": {
        "id": "yF3HUI6Z125e",
        "colab_type": "code",
        "outputId": "db2af8c1-7a3e-4325-a0df-a92f1d09f85b",
        "colab": {
          "base_uri": "https://localhost:8080/",
          "height": 52
        }
      },
      "source": [
        "test[\"Fare\"]=data[\"Fare\"].fillna(data[\"Fare\"].dropna().median())\n",
        "test[\"Age\"]=data[\"Age\"].fillna(data[\"Age\"].dropna().median())\n",
        "\n",
        "\n",
        "        ## converting sex data into numeric data: male=0,female=1\n",
        "test.loc[test[\"Sex\"]==\"male\",\"Sex\"]=0\n",
        "test.loc[test[\"Sex\"]==\"female\",\"Sex\"]=1\n",
        "\n",
        "\n",
        "        ### converion embarking data to 0 for 'S', 1 for 'C',3 for 'Q'\n",
        "test.loc[data[\"Embarked\"]==\"S\",\"Embarked\"]=0\n",
        "test.loc[data[\"Embarked\"]==\"C\",\"Embarked\"]=1\n",
        "test.loc[data[\"Embarked\"]==\"Q\",\"Embarked\"]=2\n",
        "\n",
        "test['Embarked']=data['Embarked'].fillna(data['Embarked'].dropna().median())"
      ],
      "execution_count": 17,
      "outputs": [
        {
          "output_type": "stream",
          "text": [
            "/usr/local/lib/python3.6/dist-packages/pandas/core/ops.py:1649: FutureWarning: elementwise comparison failed; returning scalar instead, but in the future will perform elementwise comparison\n",
            "  result = method(y)\n"
          ],
          "name": "stderr"
        }
      ]
    },
    {
      "cell_type": "code",
      "metadata": {
        "id": "3OOCM0V4FEjA",
        "colab_type": "code",
        "colab": {}
      },
      "source": [
        "X=data.drop(columns=['PassengerId', 'Cabin', 'Fare', 'Ticket', 'Name', 'Survived'])\n",
        "y=data[['Survived']]\n"
      ],
      "execution_count": 0,
      "outputs": []
    },
    {
      "cell_type": "code",
      "metadata": {
        "id": "KgKGrK0iN31J",
        "colab_type": "code",
        "outputId": "d59e56ec-0c78-41a0-da90-f502f5feb10d",
        "colab": {
          "base_uri": "https://localhost:8080/",
          "height": 618
        }
      },
      "source": [
        "import matplotlib.pyplot as plt\n",
        "import seaborn as sns\n",
        "\n",
        "f, ax = plt.subplots(figsize=(12, 10))\n",
        "plt.title('Pearson Correlation of Movie Features')\n",
        "# Draw the heatmap using seaborn\n",
        "sns.heatmap(X.astype(float).corr(),linewidths=0.25,vmax=1.0, square=True, cmap=\"YlGnBu\", linecolor='black', annot=True)"
      ],
      "execution_count": 19,
      "outputs": [
        {
          "output_type": "execute_result",
          "data": {
            "text/plain": [
              "<matplotlib.axes._subplots.AxesSubplot at 0x7f9d51998b38>"
            ]
          },
          "metadata": {
            "tags": []
          },
          "execution_count": 19
        },
        {
          "output_type": "display_data",
          "data": {
            "image/png": "[encoded data removed]",
            "text/plain": [
              "<Figure size 864x720 with 2 Axes>"
            ]
          },
          "metadata": {
            "tags": []
          }
        }
      ]
    },
    {
      "cell_type": "code",
      "metadata": {
        "id": "tSTB-JgX2bal",
        "colab_type": "code",
        "colab": {}
      },
      "source": [
        "test=test.drop(columns=['PassengerId', 'Cabin', 'Fare', 'Ticket', 'Name'])"
      ],
      "execution_count": 0,
      "outputs": []
    },
    {
      "cell_type": "markdown",
      "metadata": {
        "id": "SHWFEwZC4eE0",
        "colab_type": "text"
      },
      "source": [
        "# SVM\n",
        "### A Support Vector Machine (SVM) is a discriminative classifier formally defined by a separating hyperplane. In other words, given labeled training data (supervised learning), the algorithm outputs an optimal hyperplane which categorizes new examples. In two dimentional space this hyperplane is a line dividing a plane in two parts where in each class lay in either side."
      ]
    },
    {
      "cell_type": "code",
      "metadata": {
        "id": "Sn0npje0F2db",
        "colab_type": "code",
        "outputId": "78761c2e-3f11-413d-9e19-7fe6815a7764",
        "colab": {
          "base_uri": "https://localhost:8080/",
          "height": 88
        }
      },
      "source": [
        "from sklearn.svm import SVC, LinearSVC\n",
        "from sklearn.model_selection import cross_val_score\n",
        "\n",
        "import warnings; warnings.simplefilter('ignore')\n",
        "\n",
        "svc = SVC(C = 30, gamma = 0.01)\n",
        "svc.fit(X,y) \n"
      ],
      "execution_count": 32,
      "outputs": [
        {
          "output_type": "execute_result",
          "data": {
            "text/plain": [
              "SVC(C=30, cache_size=200, class_weight=None, coef0=0.0,\n",
              "    decision_function_shape='ovr', degree=3, gamma=0.01, kernel='rbf',\n",
              "    max_iter=-1, probability=False, random_state=None, shrinking=True,\n",
              "    tol=0.001, verbose=False)"
            ]
          },
          "metadata": {
            "tags": []
          },
          "execution_count": 32
        }
      ]
    },
    {
      "cell_type": "code",
      "metadata": {
        "id": "SEpYHNT-Ek--",
        "colab_type": "code",
        "outputId": "6fab494c-6d5d-4d09-e95f-77d532f7f415",
        "colab": {
          "base_uri": "https://localhost:8080/",
          "height": 230
        }
      },
      "source": [
        "predictions = svc.predict(test)\n",
        "print(predictions)"
      ],
      "execution_count": 33,
      "outputs": [
        {
          "output_type": "stream",
          "text": [
            "[0 1 0 0 1 0 1 1 1 0 1 0 1 0 1 1 1 0 1 1 0 0 1 0 1 0 1 0 0 0 0 0 1 1 0 0 1\n",
            " 1 0 0 0 0 0 1 1 0 0 0 1 1 1 0 1 1 0 0 0 0 1 1 0 0 0 1 0 1 1 0 0 1 1 0 1 0\n",
            " 1 0 0 1 1 1 0 0 0 0 0 0 1 1 1 0 1 0 1 0 0 0 0 0 1 0 1 0 0 0 1 0 0 0 0 0 0\n",
            " 1 1 1 1 0 0 1 0 1 1 0 1 0 0 1 0 1 0 0 0 0 0 0 0 0 0 0 1 0 0 1 0 0 0 0 0 1\n",
            " 0 0 1 0 0 1 0 0 1 1 0 1 1 0 1 0 1 1 0 0 1 1 0 1 1 0 0 1 1 0 1 1 0 0 1 1 1\n",
            " 0 1 0 1 0 0 0 0 1 0 0 0 1 0 1 1 0 0 1 0 1 1 0 1 0 0 0 0 1 1 0 1 0 1 0 1 0\n",
            " 1 0 1 1 0 1 0 0 0 1 0 1 0 0 0 1 1 1 1 1 0 0 0 0 1 0 1 1 1 0 0 0 0 0 0 0 1\n",
            " 0 0 1 1 1 0 0 0 0 1 0 0 0 1 1 0 1 0 0 1 0 1 0 1 1 1 0 0 0 0 0 0 1 0 0 0 0\n",
            " 1 1 0 0 0 0 0 0 1 1 0 0 0 1 0 0 0 1 1 1 0 0 0 0 0 0 0 0 1 0 1 0 0 0 1 0 0\n",
            " 1 0 0 0 0 0 0 1 0 0 1 0 1 0 1 1 1 1 0 0 0 1 0 1 0 0 1 0 1 1 0 1 0 0 1 1 0\n",
            " 0 1 0 0 1 1 1 0 0 0 0 1 1 1 0 1 1 0 0 0 0 1 0 0 0 1 0 1 0 0 1 0 1 0 0 0 0\n",
            " 1 1 1 1 1 1 0 1 0 0 0]\n"
          ],
          "name": "stdout"
        }
      ]
    },
    {
      "cell_type": "markdown",
      "metadata": {
        "id": "vubh3lsouMHz",
        "colab_type": "text"
      },
      "source": [
        "# 3 LAYER NEURAL NETWORK\n"
      ]
    },
    {
      "cell_type": "code",
      "metadata": {
        "id": "ptvuXfnSONrl",
        "colab_type": "code",
        "colab": {
          "base_uri": "https://localhost:8080/",
          "height": 35
        },
        "outputId": "90c98743-94a9-4729-d5cd-6884604cfd00"
      },
      "source": [
        "from keras.models import Sequential\n",
        "from keras.layers import Dense\n"
      ],
      "execution_count": 23,
      "outputs": [
        {
          "output_type": "stream",
          "text": [
            "Using TensorFlow backend.\n"
          ],
          "name": "stderr"
        }
      ]
    },
    {
      "cell_type": "code",
      "metadata": {
        "id": "_ENsvhVWvV5a",
        "colab_type": "code",
        "outputId": "73163ef1-7b83-4ab4-d39d-089357e5ec6f",
        "colab": {
          "base_uri": "https://localhost:8080/",
          "height": 35
        }
      },
      "source": [
        "n_cols=x_train.shape[1]\n",
        "n_cols"
      ],
      "execution_count": 25,
      "outputs": [
        {
          "output_type": "execute_result",
          "data": {
            "text/plain": [
              "6"
            ]
          },
          "metadata": {
            "tags": []
          },
          "execution_count": 25
        }
      ]
    },
    {
      "cell_type": "code",
      "metadata": {
        "id": "MXJRAAk9tOV0",
        "colab_type": "code",
        "outputId": "67bb0467-c656-49eb-83ec-56abd0f17e03",
        "colab": {
          "base_uri": "https://localhost:8080/",
          "height": 1000
        }
      },
      "source": [
        "from keras.utils import to_categorical\n",
        "\n",
        "model=Sequential()\n",
        "\n",
        "y_test= to_categorical(y_test)\n",
        "\n",
        "model.add(Dense(6, activation='relu', input_shape=(n_cols,), use_bias=True))\n",
        "model.add(Dense(10, activation='relu'))\n",
        "model.add(Dense(1, activation='sigmoid'))\n",
        "\n",
        "model.compile(optimizer ='adam',loss='binary_crossentropy', metrics =['accuracy'])\n",
        "model.fit(X, y, validation_split=0.33, epochs=100, batch_size=10)\n",
        "\n",
        "\n",
        "\n"
      ],
      "execution_count": 27,
      "outputs": [
        {
          "output_type": "stream",
          "text": [
            "Train on 596 samples, validate on 295 samples\n",
            "Epoch 1/100\n",
            "596/596 [==============================] - 0s 570us/step - loss: 3.3175 - acc: 0.6174 - val_loss: 1.9811 - val_acc: 0.6576\n",
            "Epoch 2/100\n",
            "596/596 [==============================] - 0s 145us/step - loss: 1.3255 - acc: 0.6208 - val_loss: 0.7588 - val_acc: 0.6542\n",
            "Epoch 3/100\n",
            "596/596 [==============================] - 0s 150us/step - loss: 0.6853 - acc: 0.6225 - val_loss: 0.6819 - val_acc: 0.5831\n",
            "Epoch 4/100\n",
            "596/596 [==============================] - 0s 148us/step - loss: 0.6715 - acc: 0.6107 - val_loss: 0.6659 - val_acc: 0.6475\n",
            "Epoch 5/100\n",
            "596/596 [==============================] - 0s 151us/step - loss: 0.6666 - acc: 0.6275 - val_loss: 0.6623 - val_acc: 0.6780\n",
            "Epoch 6/100\n",
            "596/596 [==============================] - 0s 142us/step - loss: 0.6629 - acc: 0.6342 - val_loss: 0.6595 - val_acc: 0.6780\n",
            "Epoch 7/100\n",
            "596/596 [==============================] - 0s 144us/step - loss: 0.6598 - acc: 0.6376 - val_loss: 0.6560 - val_acc: 0.6814\n",
            "Epoch 8/100\n",
            "596/596 [==============================] - 0s 148us/step - loss: 0.6533 - acc: 0.6510 - val_loss: 0.6447 - val_acc: 0.6915\n",
            "Epoch 9/100\n",
            "596/596 [==============================] - 0s 149us/step - loss: 0.6368 - acc: 0.6594 - val_loss: 0.6163 - val_acc: 0.6949\n",
            "Epoch 10/100\n",
            "596/596 [==============================] - 0s 142us/step - loss: 0.6192 - acc: 0.6862 - val_loss: 0.6007 - val_acc: 0.7322\n",
            "Epoch 11/100\n",
            "596/596 [==============================] - 0s 144us/step - loss: 0.6048 - acc: 0.6779 - val_loss: 0.5806 - val_acc: 0.6983\n",
            "Epoch 12/100\n",
            "596/596 [==============================] - 0s 144us/step - loss: 0.5828 - acc: 0.6862 - val_loss: 0.5963 - val_acc: 0.7763\n",
            "Epoch 13/100\n",
            "596/596 [==============================] - 0s 141us/step - loss: 0.5755 - acc: 0.7383 - val_loss: 0.5544 - val_acc: 0.7966\n",
            "Epoch 14/100\n",
            "596/596 [==============================] - 0s 143us/step - loss: 0.5602 - acc: 0.7466 - val_loss: 0.5388 - val_acc: 0.7288\n",
            "Epoch 15/100\n",
            "596/596 [==============================] - 0s 145us/step - loss: 0.5434 - acc: 0.7768 - val_loss: 0.5216 - val_acc: 0.8034\n",
            "Epoch 16/100\n",
            "596/596 [==============================] - 0s 148us/step - loss: 0.5303 - acc: 0.7617 - val_loss: 0.5257 - val_acc: 0.7254\n",
            "Epoch 17/100\n",
            "596/596 [==============================] - 0s 146us/step - loss: 0.5199 - acc: 0.7903 - val_loss: 0.4999 - val_acc: 0.8068\n",
            "Epoch 18/100\n",
            "596/596 [==============================] - 0s 142us/step - loss: 0.5133 - acc: 0.8121 - val_loss: 0.4903 - val_acc: 0.8034\n",
            "Epoch 19/100\n",
            "596/596 [==============================] - 0s 144us/step - loss: 0.5049 - acc: 0.7987 - val_loss: 0.4858 - val_acc: 0.8034\n",
            "Epoch 20/100\n",
            "596/596 [==============================] - 0s 146us/step - loss: 0.4984 - acc: 0.7970 - val_loss: 0.4836 - val_acc: 0.7898\n",
            "Epoch 21/100\n",
            "596/596 [==============================] - 0s 141us/step - loss: 0.4939 - acc: 0.8054 - val_loss: 0.4795 - val_acc: 0.7898\n",
            "Epoch 22/100\n",
            "596/596 [==============================] - 0s 137us/step - loss: 0.4819 - acc: 0.8121 - val_loss: 0.4630 - val_acc: 0.8000\n",
            "Epoch 23/100\n",
            "596/596 [==============================] - 0s 142us/step - loss: 0.4795 - acc: 0.8104 - val_loss: 0.4678 - val_acc: 0.8102\n",
            "Epoch 24/100\n",
            "596/596 [==============================] - 0s 146us/step - loss: 0.4788 - acc: 0.8138 - val_loss: 0.4582 - val_acc: 0.7898\n",
            "Epoch 25/100\n",
            "596/596 [==============================] - 0s 133us/step - loss: 0.4710 - acc: 0.8020 - val_loss: 0.4614 - val_acc: 0.8102\n",
            "Epoch 26/100\n",
            "596/596 [==============================] - 0s 131us/step - loss: 0.4661 - acc: 0.8104 - val_loss: 0.4527 - val_acc: 0.7932\n",
            "Epoch 27/100\n",
            "596/596 [==============================] - 0s 119us/step - loss: 0.4639 - acc: 0.8138 - val_loss: 0.4466 - val_acc: 0.7932\n",
            "Epoch 28/100\n",
            "596/596 [==============================] - 0s 126us/step - loss: 0.4681 - acc: 0.8020 - val_loss: 0.4476 - val_acc: 0.7932\n",
            "Epoch 29/100\n",
            "596/596 [==============================] - 0s 127us/step - loss: 0.4627 - acc: 0.8070 - val_loss: 0.4415 - val_acc: 0.8000\n",
            "Epoch 30/100\n",
            "596/596 [==============================] - 0s 128us/step - loss: 0.4571 - acc: 0.8037 - val_loss: 0.4595 - val_acc: 0.8102\n",
            "Epoch 31/100\n",
            "596/596 [==============================] - 0s 127us/step - loss: 0.4638 - acc: 0.7987 - val_loss: 0.4383 - val_acc: 0.8034\n",
            "Epoch 32/100\n",
            "596/596 [==============================] - 0s 134us/step - loss: 0.4611 - acc: 0.8121 - val_loss: 0.4342 - val_acc: 0.7932\n",
            "Epoch 33/100\n",
            "596/596 [==============================] - 0s 131us/step - loss: 0.4587 - acc: 0.8087 - val_loss: 0.4399 - val_acc: 0.7932\n",
            "Epoch 34/100\n",
            "596/596 [==============================] - 0s 130us/step - loss: 0.4552 - acc: 0.8138 - val_loss: 0.4337 - val_acc: 0.7932\n",
            "Epoch 35/100\n",
            "596/596 [==============================] - 0s 125us/step - loss: 0.4561 - acc: 0.8070 - val_loss: 0.4524 - val_acc: 0.8102\n",
            "Epoch 36/100\n",
            "596/596 [==============================] - 0s 124us/step - loss: 0.4632 - acc: 0.8070 - val_loss: 0.4407 - val_acc: 0.8068\n",
            "Epoch 37/100\n",
            "596/596 [==============================] - 0s 125us/step - loss: 0.4477 - acc: 0.8070 - val_loss: 0.4496 - val_acc: 0.8136\n",
            "Epoch 38/100\n",
            "596/596 [==============================] - 0s 127us/step - loss: 0.4591 - acc: 0.8087 - val_loss: 0.4315 - val_acc: 0.8000\n",
            "Epoch 39/100\n",
            "596/596 [==============================] - 0s 147us/step - loss: 0.4541 - acc: 0.8138 - val_loss: 0.4303 - val_acc: 0.7966\n",
            "Epoch 40/100\n",
            "596/596 [==============================] - 0s 127us/step - loss: 0.4525 - acc: 0.8104 - val_loss: 0.4392 - val_acc: 0.8203\n",
            "Epoch 41/100\n",
            "596/596 [==============================] - 0s 125us/step - loss: 0.4549 - acc: 0.8138 - val_loss: 0.4399 - val_acc: 0.8169\n",
            "Epoch 42/100\n",
            "596/596 [==============================] - 0s 122us/step - loss: 0.4533 - acc: 0.8037 - val_loss: 0.4305 - val_acc: 0.8102\n",
            "Epoch 43/100\n",
            "596/596 [==============================] - 0s 124us/step - loss: 0.4549 - acc: 0.8070 - val_loss: 0.4304 - val_acc: 0.8136\n",
            "Epoch 44/100\n",
            "596/596 [==============================] - 0s 129us/step - loss: 0.4504 - acc: 0.8087 - val_loss: 0.4263 - val_acc: 0.8034\n",
            "Epoch 45/100\n",
            "596/596 [==============================] - 0s 127us/step - loss: 0.4514 - acc: 0.8104 - val_loss: 0.4298 - val_acc: 0.8136\n",
            "Epoch 46/100\n",
            "596/596 [==============================] - 0s 128us/step - loss: 0.4498 - acc: 0.8138 - val_loss: 0.4286 - val_acc: 0.8034\n",
            "Epoch 47/100\n",
            "596/596 [==============================] - 0s 122us/step - loss: 0.4505 - acc: 0.8154 - val_loss: 0.4244 - val_acc: 0.8102\n",
            "Epoch 48/100\n",
            "596/596 [==============================] - 0s 119us/step - loss: 0.4516 - acc: 0.8087 - val_loss: 0.4230 - val_acc: 0.8034\n",
            "Epoch 49/100\n",
            "596/596 [==============================] - 0s 125us/step - loss: 0.4581 - acc: 0.8070 - val_loss: 0.4240 - val_acc: 0.8034\n",
            "Epoch 50/100\n",
            "596/596 [==============================] - 0s 142us/step - loss: 0.4511 - acc: 0.8121 - val_loss: 0.4290 - val_acc: 0.8136\n",
            "Epoch 51/100\n",
            "596/596 [==============================] - 0s 131us/step - loss: 0.4469 - acc: 0.8087 - val_loss: 0.4442 - val_acc: 0.8136\n",
            "Epoch 52/100\n",
            "596/596 [==============================] - 0s 130us/step - loss: 0.4562 - acc: 0.8054 - val_loss: 0.4401 - val_acc: 0.8237\n",
            "Epoch 53/100\n",
            "596/596 [==============================] - 0s 130us/step - loss: 0.4502 - acc: 0.8054 - val_loss: 0.4238 - val_acc: 0.8136\n",
            "Epoch 54/100\n",
            "596/596 [==============================] - 0s 130us/step - loss: 0.4477 - acc: 0.8054 - val_loss: 0.4226 - val_acc: 0.8136\n",
            "Epoch 55/100\n",
            "596/596 [==============================] - 0s 123us/step - loss: 0.4506 - acc: 0.8154 - val_loss: 0.4207 - val_acc: 0.8034\n",
            "Epoch 56/100\n",
            "596/596 [==============================] - 0s 128us/step - loss: 0.4526 - acc: 0.8070 - val_loss: 0.4214 - val_acc: 0.8136\n",
            "Epoch 57/100\n",
            "596/596 [==============================] - 0s 130us/step - loss: 0.4478 - acc: 0.8121 - val_loss: 0.4217 - val_acc: 0.8034\n",
            "Epoch 58/100\n",
            "596/596 [==============================] - 0s 138us/step - loss: 0.4472 - acc: 0.8138 - val_loss: 0.4207 - val_acc: 0.8034\n",
            "Epoch 59/100\n",
            "596/596 [==============================] - 0s 128us/step - loss: 0.4466 - acc: 0.8037 - val_loss: 0.4226 - val_acc: 0.8034\n",
            "Epoch 60/100\n",
            "596/596 [==============================] - 0s 130us/step - loss: 0.4518 - acc: 0.8003 - val_loss: 0.4221 - val_acc: 0.8136\n",
            "Epoch 61/100\n",
            "596/596 [==============================] - 0s 125us/step - loss: 0.4586 - acc: 0.8121 - val_loss: 0.4224 - val_acc: 0.8034\n",
            "Epoch 62/100\n",
            "596/596 [==============================] - 0s 131us/step - loss: 0.4475 - acc: 0.8037 - val_loss: 0.4521 - val_acc: 0.8000\n",
            "Epoch 63/100\n",
            "596/596 [==============================] - 0s 130us/step - loss: 0.4613 - acc: 0.8037 - val_loss: 0.4196 - val_acc: 0.8136\n",
            "Epoch 64/100\n",
            "596/596 [==============================] - 0s 127us/step - loss: 0.4469 - acc: 0.8104 - val_loss: 0.4187 - val_acc: 0.8136\n",
            "Epoch 65/100\n",
            "596/596 [==============================] - 0s 132us/step - loss: 0.4537 - acc: 0.8121 - val_loss: 0.4181 - val_acc: 0.8034\n",
            "Epoch 66/100\n",
            "596/596 [==============================] - 0s 125us/step - loss: 0.4542 - acc: 0.8037 - val_loss: 0.4247 - val_acc: 0.8102\n",
            "Epoch 67/100\n",
            "596/596 [==============================] - 0s 126us/step - loss: 0.4584 - acc: 0.8087 - val_loss: 0.4204 - val_acc: 0.8034\n",
            "Epoch 68/100\n",
            "596/596 [==============================] - 0s 126us/step - loss: 0.4457 - acc: 0.8138 - val_loss: 0.4232 - val_acc: 0.8169\n",
            "Epoch 69/100\n",
            "596/596 [==============================] - 0s 124us/step - loss: 0.4497 - acc: 0.8020 - val_loss: 0.4167 - val_acc: 0.8102\n",
            "Epoch 70/100\n",
            "596/596 [==============================] - 0s 124us/step - loss: 0.4495 - acc: 0.8121 - val_loss: 0.4198 - val_acc: 0.8136\n",
            "Epoch 71/100\n",
            "596/596 [==============================] - 0s 128us/step - loss: 0.4476 - acc: 0.8087 - val_loss: 0.4220 - val_acc: 0.8237\n",
            "Epoch 72/100\n",
            "596/596 [==============================] - 0s 128us/step - loss: 0.4508 - acc: 0.8087 - val_loss: 0.4162 - val_acc: 0.8136\n",
            "Epoch 73/100\n",
            "596/596 [==============================] - 0s 131us/step - loss: 0.4498 - acc: 0.8104 - val_loss: 0.4259 - val_acc: 0.8237\n",
            "Epoch 74/100\n",
            "596/596 [==============================] - 0s 125us/step - loss: 0.4487 - acc: 0.8154 - val_loss: 0.4166 - val_acc: 0.8034\n",
            "Epoch 75/100\n",
            "596/596 [==============================] - 0s 124us/step - loss: 0.4447 - acc: 0.8070 - val_loss: 0.4160 - val_acc: 0.8068\n",
            "Epoch 76/100\n",
            "596/596 [==============================] - 0s 125us/step - loss: 0.4530 - acc: 0.8037 - val_loss: 0.4206 - val_acc: 0.8237\n",
            "Epoch 77/100\n",
            "596/596 [==============================] - 0s 165us/step - loss: 0.4521 - acc: 0.8154 - val_loss: 0.4141 - val_acc: 0.8102\n",
            "Epoch 78/100\n",
            "596/596 [==============================] - 0s 127us/step - loss: 0.4609 - acc: 0.8087 - val_loss: 0.4433 - val_acc: 0.8237\n",
            "Epoch 79/100\n",
            "596/596 [==============================] - 0s 139us/step - loss: 0.4474 - acc: 0.8154 - val_loss: 0.4165 - val_acc: 0.8136\n",
            "Epoch 80/100\n",
            "596/596 [==============================] - 0s 131us/step - loss: 0.4485 - acc: 0.8104 - val_loss: 0.4196 - val_acc: 0.8169\n",
            "Epoch 81/100\n",
            "596/596 [==============================] - 0s 123us/step - loss: 0.4467 - acc: 0.8121 - val_loss: 0.4134 - val_acc: 0.8136\n",
            "Epoch 82/100\n",
            "596/596 [==============================] - 0s 126us/step - loss: 0.4492 - acc: 0.8121 - val_loss: 0.4221 - val_acc: 0.8169\n",
            "Epoch 83/100\n",
            "596/596 [==============================] - 0s 121us/step - loss: 0.4485 - acc: 0.8087 - val_loss: 0.4134 - val_acc: 0.8136\n",
            "Epoch 84/100\n",
            "596/596 [==============================] - 0s 129us/step - loss: 0.4438 - acc: 0.8121 - val_loss: 0.4145 - val_acc: 0.8034\n",
            "Epoch 85/100\n",
            "596/596 [==============================] - 0s 129us/step - loss: 0.4425 - acc: 0.8138 - val_loss: 0.4128 - val_acc: 0.8136\n",
            "Epoch 86/100\n",
            "596/596 [==============================] - 0s 128us/step - loss: 0.4549 - acc: 0.8087 - val_loss: 0.4232 - val_acc: 0.8203\n",
            "Epoch 87/100\n",
            "596/596 [==============================] - 0s 125us/step - loss: 0.4522 - acc: 0.8154 - val_loss: 0.4166 - val_acc: 0.8169\n",
            "Epoch 88/100\n",
            "596/596 [==============================] - 0s 126us/step - loss: 0.4475 - acc: 0.8205 - val_loss: 0.4130 - val_acc: 0.8068\n",
            "Epoch 89/100\n",
            "596/596 [==============================] - 0s 125us/step - loss: 0.4487 - acc: 0.8087 - val_loss: 0.4226 - val_acc: 0.8169\n",
            "Epoch 90/100\n",
            "596/596 [==============================] - 0s 127us/step - loss: 0.4447 - acc: 0.8104 - val_loss: 0.4316 - val_acc: 0.8000\n",
            "Epoch 91/100\n",
            "596/596 [==============================] - 0s 128us/step - loss: 0.4510 - acc: 0.8087 - val_loss: 0.4138 - val_acc: 0.8034\n",
            "Epoch 92/100\n",
            "596/596 [==============================] - 0s 133us/step - loss: 0.4447 - acc: 0.8104 - val_loss: 0.4425 - val_acc: 0.8000\n",
            "Epoch 93/100\n",
            "596/596 [==============================] - 0s 132us/step - loss: 0.4491 - acc: 0.8087 - val_loss: 0.4347 - val_acc: 0.8203\n",
            "Epoch 94/100\n",
            "596/596 [==============================] - 0s 133us/step - loss: 0.4456 - acc: 0.8188 - val_loss: 0.4119 - val_acc: 0.8136\n",
            "Epoch 95/100\n",
            "596/596 [==============================] - 0s 131us/step - loss: 0.4460 - acc: 0.8054 - val_loss: 0.4132 - val_acc: 0.8169\n",
            "Epoch 96/100\n",
            "596/596 [==============================] - 0s 130us/step - loss: 0.4487 - acc: 0.8188 - val_loss: 0.4105 - val_acc: 0.8136\n",
            "Epoch 97/100\n",
            "596/596 [==============================] - 0s 129us/step - loss: 0.4456 - acc: 0.8121 - val_loss: 0.4156 - val_acc: 0.8102\n",
            "Epoch 98/100\n",
            "596/596 [==============================] - 0s 122us/step - loss: 0.4502 - acc: 0.8087 - val_loss: 0.4283 - val_acc: 0.8169\n",
            "Epoch 99/100\n",
            "596/596 [==============================] - 0s 131us/step - loss: 0.4514 - acc: 0.8121 - val_loss: 0.4147 - val_acc: 0.8203\n",
            "Epoch 100/100\n",
            "596/596 [==============================] - 0s 132us/step - loss: 0.4522 - acc: 0.8104 - val_loss: 0.4176 - val_acc: 0.8169\n"
          ],
          "name": "stdout"
        },
        {
          "output_type": "execute_result",
          "data": {
            "text/plain": [
              "<keras.callbacks.History at 0x7f9d3738c8d0>"
            ]
          },
          "metadata": {
            "tags": []
          },
          "execution_count": 27
        }
      ]
    },
    {
      "cell_type": "markdown",
      "metadata": {
        "id": "2mrCsC811Cf0",
        "colab_type": "text"
      },
      "source": [
        "### Now we will be training whoe of the data to both SVM and Neural network"
      ]
    },
    {
      "cell_type": "code",
      "metadata": {
        "id": "_cee1Z_d3af8",
        "colab_type": "code",
        "outputId": "f86fd68b-bfba-4d71-8ca3-da59485da3ae",
        "colab": {
          "base_uri": "https://localhost:8080/",
          "height": 230
        }
      },
      "source": [
        "import numpy as np\n",
        "NN=[]\n",
        "for i in model.predict(test):\n",
        "  if i>0.5:\n",
        "    NN.append(1)\n",
        "  else:\n",
        "    NN.append(0)\n",
        "print(np.array(NN))"
      ],
      "execution_count": 30,
      "outputs": [
        {
          "output_type": "stream",
          "text": [
            "[0 1 0 0 1 0 1 1 1 0 0 0 1 0 1 1 1 0 1 1 0 0 1 0 1 0 1 0 1 0 0 0 1 1 0 0 1\n",
            " 1 0 0 0 0 0 1 1 0 1 0 1 1 0 0 1 1 0 0 0 0 0 1 0 0 0 1 0 1 1 0 0 1 1 0 1 1\n",
            " 1 0 0 1 1 1 0 0 1 0 0 0 1 1 1 0 1 0 1 0 0 0 1 0 1 0 1 0 0 0 1 0 0 0 0 0 0\n",
            " 1 1 1 1 0 0 1 1 1 1 0 1 0 0 1 0 1 0 0 0 0 1 0 0 0 0 0 1 0 0 1 0 0 0 0 0 0\n",
            " 0 0 1 0 0 1 0 0 1 1 0 1 1 0 1 0 1 1 0 0 1 1 0 1 1 0 0 1 1 0 1 1 0 0 1 1 1\n",
            " 0 1 0 0 0 0 0 0 0 0 0 1 1 0 1 1 0 0 1 0 1 1 0 1 0 0 0 0 1 0 1 1 0 1 0 1 0\n",
            " 1 0 1 1 0 1 0 0 0 1 0 0 0 0 0 0 1 1 1 1 0 0 0 0 1 0 1 1 1 0 0 0 0 0 0 0 1\n",
            " 0 0 0 1 1 0 0 0 0 1 0 0 0 1 1 0 1 0 0 0 0 1 0 1 1 1 0 0 0 0 0 0 1 0 0 0 0\n",
            " 1 0 0 0 0 0 0 0 1 1 0 0 0 1 0 0 0 1 1 1 0 0 0 0 0 0 0 0 1 0 1 0 0 0 1 0 0\n",
            " 1 0 0 0 0 0 0 1 0 0 1 0 1 0 1 0 1 1 0 0 0 1 0 1 0 0 1 0 1 1 0 1 0 0 1 1 0\n",
            " 0 1 0 0 1 1 1 0 1 0 0 1 1 1 0 1 1 0 0 0 0 1 0 0 0 1 0 1 0 0 1 0 1 0 0 0 0\n",
            " 1 1 1 1 1 1 0 1 0 0 0]\n"
          ],
          "name": "stdout"
        }
      ]
    },
    {
      "cell_type": "code",
      "metadata": {
        "id": "0ya1GP03GkAJ",
        "colab_type": "code",
        "colab": {}
      },
      "source": [
        ""
      ],
      "execution_count": 0,
      "outputs": []
    }
  ]
}